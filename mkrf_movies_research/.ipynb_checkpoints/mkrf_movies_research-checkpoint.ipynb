{
 "cells": [
  {
   "cell_type": "markdown",
   "metadata": {
    "id": "sIfNaMOxgFyK"
   },
   "source": [
    "## Исследование данных о российском кинопрокате\n",
    "\n"
   ]
  },
  {
   "cell_type": "markdown",
   "metadata": {},
   "source": [
    "<div class=\"alert-info\" style=\"padding: 20px; border-radius: 10px\">\n",
    "\n",
    "<b>### Цель исследования v2</b>\n",
    "\n",
    "Главная цель данного исследования - анализ рынка российского кинопроката с упором на фильмы, получившие государственную поддержку. Исследование направлено на выявление текущих трендов кинопроката, понимание предпочтений аудитории, а также оценку эффективности государственного финансирования в сфере кинематографа. На основе анализа данных Министерство культуры РФ сможет более точно планировать политику в области кинопроизводства и проката, а также разрабатывать меры по поддержке отечественного кино.\n",
    "\n",
    "### Описание данных\n",
    "\n",
    "В распоряжении исследования находятся два набора данных, предоставленных Министерством культуры РФ и собранных с портала открытых данных:\n",
    "\n",
    "1. mkrf_movies.csv: данные о прокатных удостоверениях, включая информацию о названиях фильмов, их возрастных ограничениях, годах производства, странах-производителях и другие сведения, касающиеся легального показа фильмов в кинотеатрах.\n",
    "   \n",
    "2. mkrf_shows.csv: данные о прокате в российских кинотеатрах, информация о датах начала проката, прокатных сборах, количестве зрителей и государственной поддержке.\n",
    "\n",
    "### План работы\n",
    "\n",
    "Процесс исследования будет включать следующие этапы:\n",
    "\n",
    "1. **Предобработка данных**: проверка данных на наличие пропусков, дубликатов, несоответствий и их обработка. Подготовка данных к аналитическому процессу.\n",
    "\n",
    "2. **Исследовательский анализ данных (EDA)**:\n",
    "    - Анализ распределения числа фильмов, вышедших в прокат ежегодно.\n",
    "    - Вычисление доли фильмов с информацией о прокате и ее изменение по годам.\n",
    "    - Оценка динамики проката по годам, определение годов с минимальными и максимальными сборами.\n",
    "    - Создание сводных таблиц для анализа средних и медианных сборов по годам.\n",
    "    - Изучение влияния возрастного ограничения на финансовый успех фильмов в период с 2015 по 2019 год.\n",
    "\n",
    "3. **Анализ фильмов с государственной поддержкой**:\n",
    "    - Оценка объемов государственного финансирования кино.\n",
    "    - Анализ окупаемости фильмов, получивших господдержку.\n",
    "    - Исследование рейтингов популярности таких фильмов.\n",
    "\n",
    "</div>"
   ]
  },
  {
   "cell_type": "markdown",
   "metadata": {},
   "source": [
    "<div class=\"alert-success\" style=\"border-radius: 10px; padding: 20px\">\n",
    "<b>Комментарий ревьюера V2 ✔️</b>\n",
    "\n",
    "Отличная вводная часть! 👍</div>"
   ]
  },
  {
   "cell_type": "markdown",
   "metadata": {
    "id": "3bSlkCsbgFyL"
   },
   "source": [
    "### Шаг 1. Откройте файлы с данными и объедините их в один датафрейм. \n",
    "\n",
    "Объедините данные таким образом, чтобы все объекты из датасета `mkrf_movies` обязательно вошли в получившийся датафрейм. \n",
    "\n",
    "<div id=\"accordion\">\n",
    "    <div class=\"card\">\n",
    "        <div class=\"card-header\" id=\"headingThree\">\n",
    "            <button class=\"btn btn-link collapsed\" data-toggle=\"collapse\" data-target=\"#collapseHint_0\" aria-expanded=\"false\" aria-controls=\"collapseHint_0\">Подсказка</button>\n",
    "        </div>\n",
    "        <div id=\"collapseHint_0\" class=\"collapse\" aria-labelledby=\"headingThree\" data-parent=\"#accordion\">\n",
    "            <div class=\"card-body\">\n",
    "Обратите внимание на тип данных столбца, по которому будете соединять датафреймы. Тип данных этих столбцов должен быть одинаковым в обоих датафреймах.\n",
    "            </div>\n",
    "        </div>\n",
    "    </div>\n",
    "</div>"
   ]
  },
  {
   "cell_type": "markdown",
   "metadata": {},
   "source": [
    "<div class=\"alert-warning\" style=\"padding: 20px; border-radius: 10px\">\n",
    "<b>Комментарий ревьюера ⚠️</b>\n",
    "    \n",
    "<s>Общее замечание ко всем разделам проекта.\n",
    "\n",
    "Лучше разъединять код на смысловые блоки, Jupyter Notebook предназначен как раз для этого, чтобы сразу был виден результат исполнения кода в ячейке. Так твою работу будет легче проверять и при необходимости дорабатывать.\n",
    "\n",
    "Здесь можно разделить код на блоки:\n",
    "- загрузка библиотек\n",
    "- загрузка датасетов\n",
    "- вывод первых строк и общей информации\n",
    "- объединение данных\n",
    "- промежуточный вывод по разделу"
   ]
  },
  {
   "cell_type": "markdown",
   "metadata": {},
   "source": [
    "<div class=\"alert-info\" style=\"padding: 20px; border-radius: 10px\">\n",
    "**v2 Загрузка библиотек и датасетов**\n",
    "    </div>"
   ]
  },
  {
   "cell_type": "code",
   "execution_count": 1,
   "metadata": {},
   "outputs": [],
   "source": [
    "import pandas as pd\n",
    "import seaborn as sns\n",
    "import matplotlib.pyplot as plt\n",
    "import numpy as np\n",
    "from IPython.display import display\n",
    "\n",
    "movies = pd.read_csv('/datasets/mkrf_movies.csv')\n",
    "shows =  pd.read_csv('/datasets/mkrf_shows.csv')"
   ]
  },
  {
   "cell_type": "markdown",
   "metadata": {},
   "source": [
    "**Вывод общей информации**"
   ]
  },
  {
   "cell_type": "code",
   "execution_count": 2,
   "metadata": {},
   "outputs": [],
   "source": [
    "#movies.info()\n",
    "#shows.info()"
   ]
  },
  {
   "cell_type": "markdown",
   "metadata": {},
   "source": [
    "**Объединение данных**\n"
   ]
  },
  {
   "cell_type": "code",
   "execution_count": 3,
   "metadata": {},
   "outputs": [
    {
     "name": "stdout",
     "output_type": "stream",
     "text": [
      "<class 'pandas.core.frame.DataFrame'>\n",
      "Int64Index: 7486 entries, 0 to 7485\n",
      "Data columns (total 16 columns):\n",
      " #   Column                 Non-Null Count  Dtype  \n",
      "---  ------                 --------------  -----  \n",
      " 0   title                  7486 non-null   object \n",
      " 1   puNumber               7486 non-null   Int64  \n",
      " 2   show_start_date        7486 non-null   object \n",
      " 3   type                   7486 non-null   object \n",
      " 4   film_studio            7468 non-null   object \n",
      " 5   production_country     7484 non-null   object \n",
      " 6   director               7477 non-null   object \n",
      " 7   producer               6918 non-null   object \n",
      " 8   age_restriction        7486 non-null   object \n",
      " 9   refundable_support     332 non-null    float64\n",
      " 10  nonrefundable_support  332 non-null    float64\n",
      " 11  budget                 332 non-null    float64\n",
      " 12  financing_source       332 non-null    object \n",
      " 13  ratings                6519 non-null   object \n",
      " 14  genres                 6510 non-null   object \n",
      " 15  box_office             3158 non-null   float64\n",
      "dtypes: Int64(1), float64(4), object(11)\n",
      "memory usage: 1001.5+ KB\n"
     ]
    }
   ],
   "source": [
    "#переводим в числовой тип столбец puNumber и убираем \"нет\" и еще пробел перед номером\n",
    "movies['puNumber'].replace('нет', 0, inplace=True)\n",
    "movies['puNumber'] = movies['puNumber'].astype(str).str.strip()\n",
    "movies['puNumber'] = pd.to_numeric(movies['puNumber'], errors='coerce')\n",
    "\n",
    "#клеим таблицы, чтобы все осталось из первой. Проверяем.\n",
    "mkrf = pd.merge(movies, shows, on='puNumber',how='left')\n",
    "mkrf['puNumber'] = mkrf['puNumber'].round().astype('Int64')\n",
    "\n",
    "mkrf.info()"
   ]
  },
  {
   "cell_type": "markdown",
   "metadata": {},
   "source": [
    "**v2 Вывод по разделу**\n",
    "\n",
    "1. Была проведена очистка и типизация данных в столбце puNumber таблицы movies. Все значения \"нет\" были заменены на 0, а пробельные символы — удалены. После обработки данный столбец был приведен к числовому типу, что позволяет использовать его для последующего объединения таблиц.\n",
    "\n",
    "2. Осуществлено объединение таблиц movies и shows с помощью метода merge по ключу puNumber, при этом использовалось левостороннее (left) слияние, чтобы сохранить все записи из таблицы movies.\n",
    "\n",
    "3. В результате слияния получена таблица mkrf с индексами от 0 до 7485, включающая в себя 7486 строк и 16 столбцов различных типов данных (object, Int64, float64).\n",
    "4. Значительное количество пропущенных данных наблюдается в столбцах refundable_support, nonrefundable_support, budget и financing_source, что может свидетельствовать о том, что большинство фильмов в таблице не получали государственной поддержки, либо данные об этом отсутствуют.\n",
    "\n",
    "5. Поля ratings, genres и box_office также содержат пропуски. Отсутствие данных в столбце box_office в большей части строк (почти две трети от общего числа) снижает возможности анализа коммерческой успешности фильмов в прокате.\n",
    "\n",
    "6. Тип данных столбца ratings определён как object, что может указывать на наличие нечисловых значений, необходимо проверить данные и привести их к числовому формату для возможности проведения аналитических расчетов.\n"
   ]
  },
  {
   "cell_type": "markdown",
   "metadata": {},
   "source": [
    "<div class=\"alert-success\" style=\"padding: 20px; border-radius: 10px\">\n",
    "<b>Комментарий ревьюера ✔️</b>\n",
    "\n",
    "Данные загружены и объединены верно. 🚀</div>"
   ]
  },
  {
   "cell_type": "markdown",
   "metadata": {
    "id": "KLDGpPG0gFyM"
   },
   "source": [
    "### Шаг 2. Предобработка данных"
   ]
  },
  {
   "cell_type": "code",
   "execution_count": null,
   "metadata": {},
   "outputs": [],
   "source": []
  },
  {
   "cell_type": "markdown",
   "metadata": {
    "id": "ssWwKXsxgFyO"
   },
   "source": [
    "#### Шаг 2.1. Проверьте типы данных\n",
    "\n",
    "- Проверьте типы данных в датафрейме и преобразуйте их там, где это необходимо."
   ]
  },
  {
   "cell_type": "markdown",
   "metadata": {},
   "source": [
    "<div class=\"alert-warning\" style=\"padding: 20px; border-radius: 10px\">\n",
    "<b>Комментарий ревьюера ⚠️</b>\n",
    "\n",
    "И еще один важный момент. Попробуй писать, пожалуйста, все комментарии, которые не относятся к коду, в ячейках Markdown. Это сильно повысит читаемость исследований.\n",
    "\n",
    "Через # обычно пишут пояснение к технической работе кода или описание переменных, но не описание исследования.\n",
    "</div>"
   ]
  },
  {
   "cell_type": "code",
   "execution_count": 4,
   "metadata": {
    "id": "kVGSplJOgFyO"
   },
   "outputs": [
    {
     "name": "stdout",
     "output_type": "stream",
     "text": [
      "<class 'pandas.core.frame.DataFrame'>\n",
      "Int64Index: 7486 entries, 0 to 7485\n",
      "Data columns (total 16 columns):\n",
      " #   Column                 Non-Null Count  Dtype              \n",
      "---  ------                 --------------  -----              \n",
      " 0   title                  7486 non-null   object             \n",
      " 1   puNumber               7486 non-null   Int64              \n",
      " 2   show_start_date        7486 non-null   datetime64[ns, UTC]\n",
      " 3   type                   7486 non-null   object             \n",
      " 4   film_studio            7468 non-null   object             \n",
      " 5   production_country     7484 non-null   object             \n",
      " 6   director               7477 non-null   object             \n",
      " 7   producer               6918 non-null   object             \n",
      " 8   age_restriction        7486 non-null   object             \n",
      " 9   refundable_support     332 non-null    float64            \n",
      " 10  nonrefundable_support  332 non-null    float64            \n",
      " 11  budget                 332 non-null    float64            \n",
      " 12  financing_source       332 non-null    object             \n",
      " 13  ratings                6519 non-null   float64            \n",
      " 14  genres                 6510 non-null   object             \n",
      " 15  box_office             3158 non-null   float64            \n",
      "dtypes: Int64(1), datetime64[ns, UTC](1), float64(5), object(9)\n",
      "memory usage: 1001.5+ KB\n"
     ]
    }
   ],
   "source": [
    "#правим дату и округлим до дней, без часов и минут\n",
    "mkrf['show_start_date'] = pd.to_datetime(mkrf['show_start_date'])\n",
    "\n",
    "#правим рейтинги. Нашлись ошибки в виде процентов и nan. Уберём в конце % и поделим на 10. Преобразуем в числовой тип.\n",
    "def process_rating(value):\n",
    "    if isinstance(value, str) and value.endswith('%'):\n",
    "        return float(value.strip('%')) / 10\n",
    "    else:\n",
    "        return pd.to_numeric(value, errors='coerce')\n",
    "mkrf['ratings'] = mkrf['ratings'].apply(process_rating)\n",
    "\n",
    "mkrf['show_start_date'] = mkrf['show_start_date'].dt.normalize()\n",
    "\n",
    "\n",
    "mkrf.info()"
   ]
  },
  {
   "cell_type": "markdown",
   "metadata": {},
   "source": [
    "<div class=\"alert-success\" style=\"padding: 20px; border-radius: 10px\">\n",
    "<b>Комментарий ревьюера ✔️</b>\n",
    "\n",
    "Данные приведены к нужным типам правильно,здорово, что разобрался с аномальными значениями рейтинга.</div>"
   ]
  },
  {
   "cell_type": "markdown",
   "metadata": {
    "id": "i0MOLbF-gFyP"
   },
   "source": [
    "#### Шаг 2.2. Изучите пропуски в датафрейме\n",
    "\n",
    "- Объясните, почему заполнили пропуски определённым образом или почему не стали этого делать."
   ]
  },
  {
   "cell_type": "code",
   "execution_count": 5,
   "metadata": {
    "id": "8MJD_lkngFyP"
   },
   "outputs": [],
   "source": [
    "# director, pruducer - не заполняем, так как не влияет на задачу\n",
    "# Страну не заполняем, не так много значений\n",
    "# Refund_support, non_refund_support, budget, financing_source имеют большие потери данных.\n",
    "# ratings имеют среднюю долю пропусков.\n",
    "# box_office - больше половины пропусков.\n"
   ]
  },
  {
   "cell_type": "markdown",
   "metadata": {},
   "source": [
    "<div class=\"alert-warning\" style=\"padding: 20px; border-radius: 10px\">\n",
    "<b>Комментарий ревьюера ⚠️</b>\n",
    "\n",
    "<s>Пропуски в столбцах, содержащие строковые данные, например 'director', 'producer', 'genres' можно заменить на какую-то заглушку типа \"Unknown\".\n",
    "</div>"
   ]
  },
  {
   "cell_type": "markdown",
   "metadata": {},
   "source": [
    "<div class=\"alert-info\" style=\"padding: 20px; border-radius: 10px\">\n",
    "v2 Добавляю заглушку\n",
    "    </div>"
   ]
  },
  {
   "cell_type": "code",
   "execution_count": 6,
   "metadata": {},
   "outputs": [],
   "source": [
    "\n",
    "mkrf['director'].fillna('Unknown', inplace=True)\n",
    "mkrf['producer'].fillna('Unknown', inplace=True)\n",
    "mkrf['genres'].fillna('Unknown', inplace=True)\n"
   ]
  },
  {
   "cell_type": "markdown",
   "metadata": {},
   "source": [
    "<div class=\"alert-success\" style=\"border-radius: 10px; padding: 20px\">\n",
    "<b>Комментарий ревьюера V2 ✔️</b>\n",
    "\n",
    "Супер, здесь можно использовать цикл."
   ]
  },
  {
   "cell_type": "markdown",
   "metadata": {
    "id": "4c6k1t9ygFyQ"
   },
   "source": [
    "#### Шаг 2.3. Изучите дубликаты в датафрейме\n",
    "- Проверьте, есть ли в данных дубликаты. Опишите причины, которые могли повлиять на появление дублей."
   ]
  },
  {
   "cell_type": "markdown",
   "metadata": {},
   "source": [
    "<div class=\"alert-info\" style=\"padding: 20px; border-radius: 10px\">\n",
    "v2 Вывожу дубликаты на экран.И проверяю по номеру проактного удостоверения\n",
    "    </div>"
   ]
  },
  {
   "cell_type": "code",
   "execution_count": 7,
   "metadata": {
    "scrolled": true
   },
   "outputs": [
    {
     "data": {
      "text/html": [
       "<div>\n",
       "<style scoped>\n",
       "    .dataframe tbody tr th:only-of-type {\n",
       "        vertical-align: middle;\n",
       "    }\n",
       "\n",
       "    .dataframe tbody tr th {\n",
       "        vertical-align: top;\n",
       "    }\n",
       "\n",
       "    .dataframe thead th {\n",
       "        text-align: right;\n",
       "    }\n",
       "</style>\n",
       "<table border=\"1\" class=\"dataframe\">\n",
       "  <thead>\n",
       "    <tr style=\"text-align: right;\">\n",
       "      <th></th>\n",
       "      <th>title</th>\n",
       "      <th>puNumber</th>\n",
       "      <th>show_start_date</th>\n",
       "      <th>type</th>\n",
       "      <th>film_studio</th>\n",
       "      <th>production_country</th>\n",
       "      <th>director</th>\n",
       "      <th>producer</th>\n",
       "      <th>age_restriction</th>\n",
       "      <th>refundable_support</th>\n",
       "      <th>nonrefundable_support</th>\n",
       "      <th>budget</th>\n",
       "      <th>financing_source</th>\n",
       "      <th>ratings</th>\n",
       "      <th>genres</th>\n",
       "      <th>box_office</th>\n",
       "    </tr>\n",
       "  </thead>\n",
       "  <tbody>\n",
       "    <tr>\n",
       "      <th>4638</th>\n",
       "      <td>Как жениться и остаться холостым</td>\n",
       "      <td>221154310</td>\n",
       "      <td>2010-12-17 00:00:00+00:00</td>\n",
       "      <td>Художественный</td>\n",
       "      <td>Ше Вам, Скрипт Ассосье, Тэ Фэ 1 Фильм Продюксь...</td>\n",
       "      <td>Франция</td>\n",
       "      <td>Эрик Лартиго</td>\n",
       "      <td>Амандин Било, Алан Шаба</td>\n",
       "      <td>«16+» - для детей старше 16 лет</td>\n",
       "      <td>NaN</td>\n",
       "      <td>NaN</td>\n",
       "      <td>NaN</td>\n",
       "      <td>NaN</td>\n",
       "      <td>7.0</td>\n",
       "      <td>мелодрама,комедия</td>\n",
       "      <td>NaN</td>\n",
       "    </tr>\n",
       "    <tr>\n",
       "      <th>4639</th>\n",
       "      <td>Иоанна - женщина на папском престоле /По роман...</td>\n",
       "      <td>221154310</td>\n",
       "      <td>2010-12-17 00:00:00+00:00</td>\n",
       "      <td>Художественный</td>\n",
       "      <td>Константин Фильм, А Эр Ди Дегето Фильм, Дюне ...</td>\n",
       "      <td>Германия - Великобритания - Италия - Испания</td>\n",
       "      <td>Зенке Вортманн</td>\n",
       "      <td>Оливер Бербен, Дорис Д.Хайнце, Фарук Элтан</td>\n",
       "      <td>«16+» - для детей старше 16 лет</td>\n",
       "      <td>NaN</td>\n",
       "      <td>NaN</td>\n",
       "      <td>NaN</td>\n",
       "      <td>NaN</td>\n",
       "      <td>7.6</td>\n",
       "      <td>драма,мелодрама,история</td>\n",
       "      <td>NaN</td>\n",
       "    </tr>\n",
       "    <tr>\n",
       "      <th>5067</th>\n",
       "      <td>Анализируй это!</td>\n",
       "      <td>221054410</td>\n",
       "      <td>2010-05-25 00:00:00+00:00</td>\n",
       "      <td>Художественный</td>\n",
       "      <td>Уорнер Бразерс, Вилладж Роудшоу Филмз ЛТД</td>\n",
       "      <td>США-Австралия</td>\n",
       "      <td>ХЭрольд Рэмис</td>\n",
       "      <td>Джейн Розенталь, Пола Уейнстейн</td>\n",
       "      <td>«16+» - для детей старше 16 лет</td>\n",
       "      <td>NaN</td>\n",
       "      <td>NaN</td>\n",
       "      <td>NaN</td>\n",
       "      <td>NaN</td>\n",
       "      <td>7.4</td>\n",
       "      <td>комедия,криминал</td>\n",
       "      <td>NaN</td>\n",
       "    </tr>\n",
       "    <tr>\n",
       "      <th>5068</th>\n",
       "      <td>Анализируй то!</td>\n",
       "      <td>221054410</td>\n",
       "      <td>2010-05-25 00:00:00+00:00</td>\n",
       "      <td>Художественный</td>\n",
       "      <td>Уорнер Бразерс, Виллидж Роадшоу Пикчерз, Эн-Пи...</td>\n",
       "      <td>США</td>\n",
       "      <td>Гарольд Реймис</td>\n",
       "      <td>Джейн Розенталь, Паул Уэйнстейн</td>\n",
       "      <td>«12+» - для детей старше 12 лет</td>\n",
       "      <td>NaN</td>\n",
       "      <td>NaN</td>\n",
       "      <td>NaN</td>\n",
       "      <td>NaN</td>\n",
       "      <td>6.8</td>\n",
       "      <td>комедия,криминал</td>\n",
       "      <td>NaN</td>\n",
       "    </tr>\n",
       "  </tbody>\n",
       "</table>\n",
       "</div>"
      ],
      "text/plain": [
       "                                                  title   puNumber  \\\n",
       "4638                   Как жениться и остаться холостым  221154310   \n",
       "4639  Иоанна - женщина на папском престоле /По роман...  221154310   \n",
       "5067                                    Анализируй это!  221054410   \n",
       "5068                                     Анализируй то!  221054410   \n",
       "\n",
       "               show_start_date            type  \\\n",
       "4638 2010-12-17 00:00:00+00:00  Художественный   \n",
       "4639 2010-12-17 00:00:00+00:00  Художественный   \n",
       "5067 2010-05-25 00:00:00+00:00  Художественный   \n",
       "5068 2010-05-25 00:00:00+00:00  Художественный   \n",
       "\n",
       "                                            film_studio  \\\n",
       "4638  Ше Вам, Скрипт Ассосье, Тэ Фэ 1 Фильм Продюксь...   \n",
       "4639   Константин Фильм, А Эр Ди Дегето Фильм, Дюне ...   \n",
       "5067          Уорнер Бразерс, Вилладж Роудшоу Филмз ЛТД   \n",
       "5068  Уорнер Бразерс, Виллидж Роадшоу Пикчерз, Эн-Пи...   \n",
       "\n",
       "                                production_country        director  \\\n",
       "4638                                       Франция    Эрик Лартиго   \n",
       "4639  Германия - Великобритания - Италия - Испания  Зенке Вортманн   \n",
       "5067                                 США-Австралия   ХЭрольд Рэмис   \n",
       "5068                                           США  Гарольд Реймис   \n",
       "\n",
       "                                        producer  \\\n",
       "4638                     Амандин Било, Алан Шаба   \n",
       "4639  Оливер Бербен, Дорис Д.Хайнце, Фарук Элтан   \n",
       "5067             Джейн Розенталь, Пола Уейнстейн   \n",
       "5068             Джейн Розенталь, Паул Уэйнстейн   \n",
       "\n",
       "                      age_restriction  refundable_support  \\\n",
       "4638  «16+» - для детей старше 16 лет                 NaN   \n",
       "4639  «16+» - для детей старше 16 лет                 NaN   \n",
       "5067  «16+» - для детей старше 16 лет                 NaN   \n",
       "5068  «12+» - для детей старше 12 лет                 NaN   \n",
       "\n",
       "      nonrefundable_support  budget financing_source  ratings  \\\n",
       "4638                    NaN     NaN              NaN      7.0   \n",
       "4639                    NaN     NaN              NaN      7.6   \n",
       "5067                    NaN     NaN              NaN      7.4   \n",
       "5068                    NaN     NaN              NaN      6.8   \n",
       "\n",
       "                       genres  box_office  \n",
       "4638        мелодрама,комедия         NaN  \n",
       "4639  драма,мелодрама,история         NaN  \n",
       "5067         комедия,криминал         NaN  \n",
       "5068         комедия,криминал         NaN  "
      ]
     },
     "metadata": {},
     "output_type": "display_data"
    }
   ],
   "source": [
    "duplicates_puNumber = mkrf[mkrf.duplicated(subset='puNumber', keep=False)]\n",
    "\n",
    "if not duplicates_puNumber.empty:\n",
    "    display(duplicates_puNumber)\n",
    "else:\n",
    "    print(\"Дубликаты не найдены.\")\n"
   ]
  },
  {
   "cell_type": "markdown",
   "metadata": {},
   "source": [
    "<div class=\"alert-info\" style=\"padding: 20px; border-radius: 10px\">\n",
    "v2 фильм Анализируй то! отличается в основном возрастной категорией. Можно оставить первую строку. Фильмы под номером 221154310 разные. Не имеют данных по прокату в РФ. Так как цель исследования проанализировать фильмы с гос поддержкой и те, у которых есть доход с проката. Предлагаю оставить только первый фильм. \n",
    "    </div>"
   ]
  },
  {
   "cell_type": "code",
   "execution_count": 8,
   "metadata": {},
   "outputs": [],
   "source": [
    "mkrf = mkrf.drop_duplicates(subset=['puNumber'], keep='first')"
   ]
  },
  {
   "cell_type": "code",
   "execution_count": 9,
   "metadata": {
    "id": "aKck8RIdgFyQ",
    "scrolled": false
   },
   "outputs": [
    {
     "name": "stdout",
     "output_type": "stream",
     "text": [
      "                  title   puNumber           show_start_date            type  \\\n",
      "0      Открытый простор  221048915 2015-11-27 00:00:00+00:00  Художественный   \n",
      "1  Особо важное задание  111013716 2016-09-13 00:00:00+00:00  Художественный   \n",
      "2          Особо опасен  221038416 2016-10-10 00:00:00+00:00  Художественный   \n",
      "5     Остановился поезд  111013816 2016-09-13 00:00:00+00:00  Художественный   \n",
      "6       Любовь и голуби  111007013 2013-10-18 00:00:00+00:00  Художественный   \n",
      "\n",
      "                                         film_studio production_country  \\\n",
      "0  Тачстоун Пикчерз, Кобальт Пикчерз, Бикон Пикче...                США   \n",
      "1                              Киностудия \"Мосфильм\"               СССР   \n",
      "2  Юниверсал Пикчерз, Кикстарт Продакшнз, Марк Пл...                США   \n",
      "5                              Киностудия \"Мосфильм\"               СССР   \n",
      "6                              Киностудия \"Мосфильм\"               СССР   \n",
      "\n",
      "            director                                           producer  \\\n",
      "0      Кевин Костнер          Дэвид Валдес, Кевин Костнер, Джейк Эбертс   \n",
      "1          Е.Матвеев                                            Unknown   \n",
      "2  Тимур Бекмамбетов  Джим Лемли, Джейсон Нетер, Марк Е.Платт, Яйн Смит   \n",
      "5       В.Абдрашитов                                            Unknown   \n",
      "6          В.Меньшов                                            Unknown   \n",
      "\n",
      "                   age_restriction  refundable_support  nonrefundable_support  \\\n",
      "0      «18+» - запрещено для детей                 NaN                    NaN   \n",
      "1    «6+» - для детей старше 6 лет                 NaN                    NaN   \n",
      "2      «18+» - запрещено для детей                 NaN                    NaN   \n",
      "5    «6+» - для детей старше 6 лет                 NaN                    NaN   \n",
      "6  «12+» - для детей старше 12 лет                 NaN                    NaN   \n",
      "\n",
      "   budget financing_source  ratings                     genres  box_office  \n",
      "0     NaN              NaN      7.2     боевик,драма,мелодрама         NaN  \n",
      "1     NaN              NaN      6.6              драма,военный         NaN  \n",
      "2     NaN              NaN      6.8  фантастика,боевик,триллер         NaN  \n",
      "5     NaN              NaN      7.7                      драма         NaN  \n",
      "6     NaN              NaN      8.3          мелодрама,комедия      2700.0  \n"
     ]
    }
   ],
   "source": [
    "# проблема с дубликатами в title. Удалим дубликаты, если совпадают название.\n",
    "# один и тот же фильм могу выйти несколько раз, Например фильм \"особо опасен\".\n",
    "\n",
    "mkrf = mkrf.drop_duplicates(subset=['title'], keep='first')\n",
    "print(mkrf.head())\n",
    "# было 7486 названий → стало после удаления 6772. Разница примерно 10% — ок.\n",
    "\n",
    "\n"
   ]
  },
  {
   "cell_type": "markdown",
   "metadata": {},
   "source": [
    "<div class=\"alert-danger\" style=\"padding: 20px; border-radius: 10px\">\n",
    "<b>Комментарий ревьюера ❌</b></h5>\n",
    "\n",
    "<s>Перед удалением, стоит все же вывести дубликаты на экран, чтобы убедиться в целесообразности удаления.\n",
    "\n",
    "Кроме того, важный признак, по которому стоит проверить наличие дубликатов - номер прокатного удостоверения. Также, стоит вывести дубликаты на экран и принять решение что с ними делать."
   ]
  },
  {
   "cell_type": "markdown",
   "metadata": {},
   "source": [
    "<div class=\"alert-warning\" style=\"padding: 20px; border-radius: 10px\">\n",
    "<b>Комментарий ревьюера ⚠️</b>\n",
    "\n",
    "Основные два столбца, где стоит проверить дубликаты: `title` и `puNumber`. Как ты правильно заметил они содержат дубликаты. Вероятно несколько фильмов могли получать разные прокатные удостоверения, а таже одно прокатное удостоверение было выдано нескольким фильмам. Удалять их не стоит, а вот в рекомендации заказчику можно записать проверку этих столбцов на уникальность.</div>"
   ]
  },
  {
   "cell_type": "markdown",
   "metadata": {
    "id": "52fOPrEBgFyQ"
   },
   "source": [
    "#### Шаг 2.4. Изучите категориальные значения\n",
    "\n",
    "- Посмотрите, какая общая проблема встречается почти во всех категориальных столбцах;\n",
    "- Исправьте проблемные значения в поле `type`.\n",
    "\n",
    "<div id=\"accordion\">\n",
    "    <div class=\"card\">\n",
    "        <div class=\"card-header\" id=\"headingThree\">\n",
    "            <button class=\"btn btn-link collapsed\" data-toggle=\"collapse\" data-target=\"#collapseHint_1\" aria-expanded=\"false\" aria-controls=\"collapseHint_1\">Подсказка</button>\n",
    "        </div>\n",
    "        <div id=\"collapseHint_1\" class=\"collapse\" aria-labelledby=\"headingThree\" data-parent=\"#accordion\">\n",
    "            <div class=\"card-body\">\n",
    "В поле <code>type</code> есть несколько значений, у которых появился пробел в начале строки. Самый простой способ их «починить» -- использовать метод <a href=\"https://pandas.pydata.org/docs/reference/api/pandas.Series.str.strip.html#pandas.Series.str.strip\">.str.strip</a>. Этот метод удаляет все пробелы, которые встречаются в начале и в конце строки. Применяют его таким образом:<br>\n",
    "<code>df['type'].str.strip()</code>\n",
    "            </div>\n",
    "        </div>\n",
    "    </div>\n",
    "</div>"
   ]
  },
  {
   "cell_type": "code",
   "execution_count": 10,
   "metadata": {
    "id": "PnXKIVdFgFyR",
    "scrolled": true
   },
   "outputs": [
    {
     "name": "stdout",
     "output_type": "stream",
     "text": [
      "                  title   puNumber           show_start_date            type  \\\n",
      "0      Открытый простор  221048915 2015-11-27 00:00:00+00:00  Художественный   \n",
      "1  Особо важное задание  111013716 2016-09-13 00:00:00+00:00  Художественный   \n",
      "2          Особо опасен  221038416 2016-10-10 00:00:00+00:00  Художественный   \n",
      "5     Остановился поезд  111013816 2016-09-13 00:00:00+00:00  Художественный   \n",
      "6       Любовь и голуби  111007013 2013-10-18 00:00:00+00:00  Художественный   \n",
      "\n",
      "                                         film_studio production_country  \\\n",
      "0  Тачстоун Пикчерз, Кобальт Пикчерз, Бикон Пикче...                США   \n",
      "1                              Киностудия \"Мосфильм\"               СССР   \n",
      "2  Юниверсал Пикчерз, Кикстарт Продакшнз, Марк Пл...                США   \n",
      "5                              Киностудия \"Мосфильм\"               СССР   \n",
      "6                              Киностудия \"Мосфильм\"               СССР   \n",
      "\n",
      "            director                                           producer  \\\n",
      "0      Кевин Костнер          Дэвид Валдес, Кевин Костнер, Джейк Эбертс   \n",
      "1          Е.Матвеев                                            Unknown   \n",
      "2  Тимур Бекмамбетов  Джим Лемли, Джейсон Нетер, Марк Е.Платт, Яйн Смит   \n",
      "5       В.Абдрашитов                                            Unknown   \n",
      "6          В.Меньшов                                            Unknown   \n",
      "\n",
      "                   age_restriction  refundable_support  nonrefundable_support  \\\n",
      "0      «18+» - запрещено для детей                 NaN                    NaN   \n",
      "1    «6+» - для детей старше 6 лет                 NaN                    NaN   \n",
      "2      «18+» - запрещено для детей                 NaN                    NaN   \n",
      "5    «6+» - для детей старше 6 лет                 NaN                    NaN   \n",
      "6  «12+» - для детей старше 12 лет                 NaN                    NaN   \n",
      "\n",
      "   budget financing_source  ratings                       genres  box_office  \n",
      "0     NaN              NaN      7.2     боевик, драма, мелодрама         NaN  \n",
      "1     NaN              NaN      6.6               драма, военный         NaN  \n",
      "2     NaN              NaN      6.8  фантастика, боевик, триллер         NaN  \n",
      "5     NaN              NaN      7.7                        драма         NaN  \n",
      "6     NaN              NaN      8.3           мелодрама, комедия      2700.0  \n"
     ]
    }
   ],
   "source": [
    "# поле type с пробелами в начале строки. Почистим\n",
    "mkrf['type']= mkrf['type'].str.strip()\n",
    "\n",
    "#в странах разделители разные, где-то запятые, где-то - c пробелами, где-то без.\n",
    "# заменим через регулярное выражение\n",
    "mkrf['production_country'] = mkrf['production_country'].str.replace(r'\\s*[-,]\\s*', ', ', regex=True)\n",
    "\n",
    "mkrf['genres'] = mkrf['genres'].str.replace(r',\\s*', ', ', regex=True)\n",
    "#print(mkrf['genres'].unique())\n",
    "\n",
    "print(mkrf.head())"
   ]
  },
  {
   "cell_type": "raw",
   "metadata": {},
   "source": [
    "Общая проблема с категориальными переменными:\n",
    "1. NaN: film_studio, production_country, director, producer, financing_source\n",
    "2. В столбце genres между жанрами используются запятые без пробелов"
   ]
  },
  {
   "cell_type": "markdown",
   "metadata": {},
   "source": [
    "<div class=\"alert-success\" style=\"padding: 20px; border-radius: 10px\">\n",
    "<b>Комментарий ревьюера ✔️</b>\n",
    "\n",
    "К проблемам в категориальных столбцах можно также отнести несколько значений в одном поле, что как раз и затрудняет категоризацию.\n",
    "</div>"
   ]
  },
  {
   "cell_type": "markdown",
   "metadata": {
    "id": "XFSN5lrEgFyR"
   },
   "source": [
    "#### Шаг 2.5. Проверьте количественные значения\n",
    "\n",
    "- Проверьте, обнаружились ли в таких столбцах подозрительные данные. Как с такими данными лучше поступить?\n",
    "\n",
    "<div id=\"accordion\">\n",
    "    <div class=\"card\">\n",
    "        <div class=\"card-header\" id=\"headingThree\">\n",
    "            <button class=\"btn btn-link collapsed\" data-toggle=\"collapse\" data-target=\"#collapseHint_budget\" aria-expanded=\"false\" aria-controls=\"collapseHint_budget\">Подсказка</button>\n",
    "        </div>\n",
    "        <div id=\"collapseHint_budget\" class=\"collapse\" aria-labelledby=\"headingThree\" data-parent=\"#accordion\">\n",
    "            <div class=\"card-body\">\n",
    "Обратите внимание на описание столбца <code>budget</code>. Как этот столбец соотносится с двумя другими: <code>refundable_support</code> и <code>nonrefundable_support</code>?\n",
    "            </div>\n",
    "        </div>\n",
    "    </div>\n",
    "</div>"
   ]
  },
  {
   "cell_type": "markdown",
   "metadata": {},
   "source": [
    "Cтолбец budget уже включает в себя полный объём государственной поддержки. Данные в этом столбце указаны только для тех фильмов, которые получили государственную поддержку. \n",
    "\n",
    "\n",
    "1. Если в строке есть значения в столбцах refundable_support и nonrefundable_support, то столбец budget должен отражать их сумму.\n",
    "\n",
    "2. Если в строке для столбцов refundable_support и nonrefundable_support стоят значения NaN, это означает, что для данного фильма не было государственной поддержки, и поэтому в столбце budget также указано NaN.\n",
    "\n"
   ]
  },
  {
   "cell_type": "code",
   "execution_count": 11,
   "metadata": {
    "id": "YbzClBxagFyS",
    "scrolled": false
   },
   "outputs": [
    {
     "data": {
      "text/html": [
       "<div>\n",
       "<style scoped>\n",
       "    .dataframe tbody tr th:only-of-type {\n",
       "        vertical-align: middle;\n",
       "    }\n",
       "\n",
       "    .dataframe tbody tr th {\n",
       "        vertical-align: top;\n",
       "    }\n",
       "\n",
       "    .dataframe thead th {\n",
       "        text-align: right;\n",
       "    }\n",
       "</style>\n",
       "<table border=\"1\" class=\"dataframe\">\n",
       "  <thead>\n",
       "    <tr style=\"text-align: right;\">\n",
       "      <th></th>\n",
       "      <th>title</th>\n",
       "      <th>refundable_support</th>\n",
       "      <th>nonrefundable_support</th>\n",
       "      <th>budget</th>\n",
       "      <th>calculated_budget</th>\n",
       "    </tr>\n",
       "  </thead>\n",
       "  <tbody>\n",
       "    <tr>\n",
       "      <th>1281</th>\n",
       "      <td>Пока еще жива</td>\n",
       "      <td>0.0</td>\n",
       "      <td>26500000.0</td>\n",
       "      <td>79411900.0</td>\n",
       "      <td>26500000.0</td>\n",
       "    </tr>\n",
       "    <tr>\n",
       "      <th>1448</th>\n",
       "      <td>Бесславные придурки</td>\n",
       "      <td>0.0</td>\n",
       "      <td>26000000.0</td>\n",
       "      <td>37142857.0</td>\n",
       "      <td>26000000.0</td>\n",
       "    </tr>\n",
       "    <tr>\n",
       "      <th>1498</th>\n",
       "      <td>Невидимки</td>\n",
       "      <td>0.0</td>\n",
       "      <td>107847945.0</td>\n",
       "      <td>176023490.0</td>\n",
       "      <td>107847945.0</td>\n",
       "    </tr>\n",
       "    <tr>\n",
       "      <th>1524</th>\n",
       "      <td>БЕРЦЫ</td>\n",
       "      <td>0.0</td>\n",
       "      <td>28000000.0</td>\n",
       "      <td>40574140.0</td>\n",
       "      <td>28000000.0</td>\n",
       "    </tr>\n",
       "    <tr>\n",
       "      <th>1792</th>\n",
       "      <td>Братья Ч</td>\n",
       "      <td>0.0</td>\n",
       "      <td>25000000.0</td>\n",
       "      <td>40015122.0</td>\n",
       "      <td>25000000.0</td>\n",
       "    </tr>\n",
       "    <tr>\n",
       "      <th>...</th>\n",
       "      <td>...</td>\n",
       "      <td>...</td>\n",
       "      <td>...</td>\n",
       "      <td>...</td>\n",
       "      <td>...</td>\n",
       "    </tr>\n",
       "    <tr>\n",
       "      <th>7456</th>\n",
       "      <td>Холоп</td>\n",
       "      <td>25000000.0</td>\n",
       "      <td>35000000.0</td>\n",
       "      <td>160000000.0</td>\n",
       "      <td>60000000.0</td>\n",
       "    </tr>\n",
       "    <tr>\n",
       "      <th>7464</th>\n",
       "      <td>Союз спасения</td>\n",
       "      <td>100000000.0</td>\n",
       "      <td>400000000.0</td>\n",
       "      <td>980000000.0</td>\n",
       "      <td>500000000.0</td>\n",
       "    </tr>\n",
       "    <tr>\n",
       "      <th>7466</th>\n",
       "      <td>Иван Царевич и Серый Волк 4</td>\n",
       "      <td>100000000.0</td>\n",
       "      <td>0.0</td>\n",
       "      <td>190000000.0</td>\n",
       "      <td>100000000.0</td>\n",
       "    </tr>\n",
       "    <tr>\n",
       "      <th>7476</th>\n",
       "      <td>Я свободен</td>\n",
       "      <td>0.0</td>\n",
       "      <td>30000000.0</td>\n",
       "      <td>46154000.0</td>\n",
       "      <td>30000000.0</td>\n",
       "    </tr>\n",
       "    <tr>\n",
       "      <th>7478</th>\n",
       "      <td>(Не)идеальный мужчина</td>\n",
       "      <td>40000000.0</td>\n",
       "      <td>60000000.0</td>\n",
       "      <td>150147502.0</td>\n",
       "      <td>100000000.0</td>\n",
       "    </tr>\n",
       "  </tbody>\n",
       "</table>\n",
       "<p>329 rows × 5 columns</p>\n",
       "</div>"
      ],
      "text/plain": [
       "                            title  refundable_support  nonrefundable_support  \\\n",
       "1281                Пока еще жива                 0.0             26500000.0   \n",
       "1448          Бесславные придурки                 0.0             26000000.0   \n",
       "1498                    Невидимки                 0.0            107847945.0   \n",
       "1524                        БЕРЦЫ                 0.0             28000000.0   \n",
       "1792                     Братья Ч                 0.0             25000000.0   \n",
       "...                           ...                 ...                    ...   \n",
       "7456                        Холоп          25000000.0             35000000.0   \n",
       "7464                Союз спасения         100000000.0            400000000.0   \n",
       "7466  Иван Царевич и Серый Волк 4         100000000.0                    0.0   \n",
       "7476                   Я свободен                 0.0             30000000.0   \n",
       "7478        (Не)идеальный мужчина          40000000.0             60000000.0   \n",
       "\n",
       "           budget  calculated_budget  \n",
       "1281   79411900.0         26500000.0  \n",
       "1448   37142857.0         26000000.0  \n",
       "1498  176023490.0        107847945.0  \n",
       "1524   40574140.0         28000000.0  \n",
       "1792   40015122.0         25000000.0  \n",
       "...           ...                ...  \n",
       "7456  160000000.0         60000000.0  \n",
       "7464  980000000.0        500000000.0  \n",
       "7466  190000000.0        100000000.0  \n",
       "7476   46154000.0         30000000.0  \n",
       "7478  150147502.0        100000000.0  \n",
       "\n",
       "[329 rows x 5 columns]"
      ]
     },
     "metadata": {},
     "output_type": "display_data"
    }
   ],
   "source": [
    "mkrf['refundable_support'] = mkrf['refundable_support'].fillna(0)\n",
    "mkrf['nonrefundable_support'] = mkrf['nonrefundable_support'].fillna(0)\n",
    "mkrf['calculated_budget'] = mkrf['refundable_support'] + mkrf['nonrefundable_support']\n",
    "\n",
    "# Сравниваем несоответствия между рассчитанным бюджетом и указанным\n",
    "mismatch_mask = (mkrf['calculated_budget'] != mkrf['budget']) & (mkrf['calculated_budget'] != 0)\n",
    "mismatches = mkrf[mismatch_mask]\n",
    "\n",
    "display(mismatches[['title', 'refundable_support', 'nonrefundable_support', 'budget', 'calculated_budget']])\n",
    "\n",
    "\n",
    "\n"
   ]
  },
  {
   "cell_type": "markdown",
   "metadata": {},
   "source": [
    "Например, \n",
    "- Для фильма «Пока еще жива» полный бюджет составляет 79,411,900 руб., тогда как невозвратная государственная поддержка равна 26,500,000 руб.\n",
    "- Для фильма «Холоп» полный бюджет составляет 160,000,000 руб., в то время как государственная поддержка (сумма возвратной и невозвратной) равна 60,000,000 руб.\n",
    "\n",
    "Есди столбец budget включает в себя не только государственную поддержку, но и дополнительные источники финансирования, такие как частные инвестиции, спонсорские средства, кредиты и т.д. Это объясняет, почему значения в столбце budget превышают значения в столбце calculated_budget, который является простой суммой двух других столбцов господдержки.\n"
   ]
  },
  {
   "cell_type": "markdown",
   "metadata": {},
   "source": [
    "<div class=\"alert-info\" style=\"padding: 20px; border-radius: 10px\">\n",
    "v2 поправил на display\n",
    "    </div>"
   ]
  },
  {
   "cell_type": "markdown",
   "metadata": {},
   "source": [
    "<div class=\"alert-warning\" style=\"padding: 20px; border-radius: 10px\">\n",
    "<b>Комментарий ревьюера ⚠️</b>\n",
    "\n",
    "Для вывода таблиц в Jupyter Notebook, стоит использовать функцию `display()` вместо `print()`.\n",
    "\n",
    "А если вывод таблицы в последней строке ячейки Jupyter Notebook, можно вообще эти функции не использовать.</div>"
   ]
  },
  {
   "cell_type": "markdown",
   "metadata": {},
   "source": [
    "<div class=\"alert-danger\" style=\"padding: 20px; border-radius: 10px\">\n",
    "<b>Комментарий ревьюера ❌</b></h5>\n",
    "\n",
    "<s>В количественных столбцах есть еще проблема: при наличии господдержки, бюджет некоторых фильмов составляет 0. Нужно как-то исправить. 👇"
   ]
  },
  {
   "cell_type": "code",
   "execution_count": 12,
   "metadata": {},
   "outputs": [
    {
     "data": {
      "text/html": [
       "<div>\n",
       "<style scoped>\n",
       "    .dataframe tbody tr th:only-of-type {\n",
       "        vertical-align: middle;\n",
       "    }\n",
       "\n",
       "    .dataframe tbody tr th {\n",
       "        vertical-align: top;\n",
       "    }\n",
       "\n",
       "    .dataframe thead th {\n",
       "        text-align: right;\n",
       "    }\n",
       "</style>\n",
       "<table border=\"1\" class=\"dataframe\">\n",
       "  <thead>\n",
       "    <tr style=\"text-align: right;\">\n",
       "      <th></th>\n",
       "      <th>refundable_support</th>\n",
       "      <th>nonrefundable_support</th>\n",
       "      <th>budget</th>\n",
       "    </tr>\n",
       "  </thead>\n",
       "  <tbody>\n",
       "    <tr>\n",
       "      <th>2053</th>\n",
       "      <td>0.0</td>\n",
       "      <td>23000000.0</td>\n",
       "      <td>0.0</td>\n",
       "    </tr>\n",
       "    <tr>\n",
       "      <th>2058</th>\n",
       "      <td>0.0</td>\n",
       "      <td>75000000.0</td>\n",
       "      <td>0.0</td>\n",
       "    </tr>\n",
       "    <tr>\n",
       "      <th>2472</th>\n",
       "      <td>10000000.0</td>\n",
       "      <td>70000000.0</td>\n",
       "      <td>0.0</td>\n",
       "    </tr>\n",
       "    <tr>\n",
       "      <th>2615</th>\n",
       "      <td>60000000.0</td>\n",
       "      <td>100000000.0</td>\n",
       "      <td>0.0</td>\n",
       "    </tr>\n",
       "    <tr>\n",
       "      <th>2684</th>\n",
       "      <td>0.0</td>\n",
       "      <td>59000000.0</td>\n",
       "      <td>0.0</td>\n",
       "    </tr>\n",
       "    <tr>\n",
       "      <th>2788</th>\n",
       "      <td>0.0</td>\n",
       "      <td>35000000.0</td>\n",
       "      <td>0.0</td>\n",
       "    </tr>\n",
       "    <tr>\n",
       "      <th>2874</th>\n",
       "      <td>0.0</td>\n",
       "      <td>6000000.0</td>\n",
       "      <td>0.0</td>\n",
       "    </tr>\n",
       "    <tr>\n",
       "      <th>3047</th>\n",
       "      <td>19000000.0</td>\n",
       "      <td>51000000.0</td>\n",
       "      <td>0.0</td>\n",
       "    </tr>\n",
       "    <tr>\n",
       "      <th>3565</th>\n",
       "      <td>0.0</td>\n",
       "      <td>250000000.0</td>\n",
       "      <td>0.0</td>\n",
       "    </tr>\n",
       "    <tr>\n",
       "      <th>3675</th>\n",
       "      <td>20000000.0</td>\n",
       "      <td>20000000.0</td>\n",
       "      <td>0.0</td>\n",
       "    </tr>\n",
       "    <tr>\n",
       "      <th>3739</th>\n",
       "      <td>25000000.0</td>\n",
       "      <td>20000000.0</td>\n",
       "      <td>0.0</td>\n",
       "    </tr>\n",
       "    <tr>\n",
       "      <th>5673</th>\n",
       "      <td>20000000.0</td>\n",
       "      <td>40000000.0</td>\n",
       "      <td>0.0</td>\n",
       "    </tr>\n",
       "    <tr>\n",
       "      <th>5806</th>\n",
       "      <td>10000000.0</td>\n",
       "      <td>60000000.0</td>\n",
       "      <td>0.0</td>\n",
       "    </tr>\n",
       "    <tr>\n",
       "      <th>6008</th>\n",
       "      <td>40000000.0</td>\n",
       "      <td>40000000.0</td>\n",
       "      <td>0.0</td>\n",
       "    </tr>\n",
       "    <tr>\n",
       "      <th>6323</th>\n",
       "      <td>0.0</td>\n",
       "      <td>138969465.0</td>\n",
       "      <td>0.0</td>\n",
       "    </tr>\n",
       "    <tr>\n",
       "      <th>6823</th>\n",
       "      <td>60000000.0</td>\n",
       "      <td>120000000.0</td>\n",
       "      <td>0.0</td>\n",
       "    </tr>\n",
       "  </tbody>\n",
       "</table>\n",
       "</div>"
      ],
      "text/plain": [
       "      refundable_support  nonrefundable_support  budget\n",
       "2053                 0.0             23000000.0     0.0\n",
       "2058                 0.0             75000000.0     0.0\n",
       "2472          10000000.0             70000000.0     0.0\n",
       "2615          60000000.0            100000000.0     0.0\n",
       "2684                 0.0             59000000.0     0.0\n",
       "2788                 0.0             35000000.0     0.0\n",
       "2874                 0.0              6000000.0     0.0\n",
       "3047          19000000.0             51000000.0     0.0\n",
       "3565                 0.0            250000000.0     0.0\n",
       "3675          20000000.0             20000000.0     0.0\n",
       "3739          25000000.0             20000000.0     0.0\n",
       "5673          20000000.0             40000000.0     0.0\n",
       "5806          10000000.0             60000000.0     0.0\n",
       "6008          40000000.0             40000000.0     0.0\n",
       "6323                 0.0            138969465.0     0.0\n",
       "6823          60000000.0            120000000.0     0.0"
      ]
     },
     "execution_count": 12,
     "metadata": {},
     "output_type": "execute_result"
    }
   ],
   "source": [
    "#Код ревьюера\n",
    "mkrf.query('nonrefundable_support > budget')[['refundable_support', 'nonrefundable_support', 'budget']]"
   ]
  },
  {
   "cell_type": "markdown",
   "metadata": {},
   "source": [
    "<div class=\"alert-info\" style=\"padding: 20px; border-radius: 10px\">\n",
    "v2 где нули, просуммирую. Проверяю через query\n",
    "    </div>"
   ]
  },
  {
   "cell_type": "code",
   "execution_count": 13,
   "metadata": {},
   "outputs": [
    {
     "data": {
      "text/html": [
       "<div>\n",
       "<style scoped>\n",
       "    .dataframe tbody tr th:only-of-type {\n",
       "        vertical-align: middle;\n",
       "    }\n",
       "\n",
       "    .dataframe tbody tr th {\n",
       "        vertical-align: top;\n",
       "    }\n",
       "\n",
       "    .dataframe thead th {\n",
       "        text-align: right;\n",
       "    }\n",
       "</style>\n",
       "<table border=\"1\" class=\"dataframe\">\n",
       "  <thead>\n",
       "    <tr style=\"text-align: right;\">\n",
       "      <th></th>\n",
       "      <th>refundable_support</th>\n",
       "      <th>nonrefundable_support</th>\n",
       "      <th>budget</th>\n",
       "    </tr>\n",
       "  </thead>\n",
       "  <tbody>\n",
       "  </tbody>\n",
       "</table>\n",
       "</div>"
      ],
      "text/plain": [
       "Empty DataFrame\n",
       "Columns: [refundable_support, nonrefundable_support, budget]\n",
       "Index: []"
      ]
     },
     "execution_count": 13,
     "metadata": {},
     "output_type": "execute_result"
    }
   ],
   "source": [
    "mkrf['budget'] = mkrf[['refundable_support', 'nonrefundable_support']].sum(axis=1)\n",
    "mkrf.query('nonrefundable_support > budget')[['refundable_support', 'nonrefundable_support', 'budget']]"
   ]
  },
  {
   "cell_type": "markdown",
   "metadata": {},
   "source": [
    "<div class=\"alert-success\" style=\"padding: 20px; border-radius: 10px\">\n",
    "<b>Комментарий ревьюера V2 ✔️</b>\n",
    "\n",
    "Да, такая замена возможна."
   ]
  },
  {
   "cell_type": "markdown",
   "metadata": {
    "id": "Eu6oWp2CgFyS"
   },
   "source": [
    "#### Шаг 2.6. Добавьте новые столбцы\n",
    "\n",
    "\n",
    "\n"
   ]
  },
  {
   "cell_type": "markdown",
   "metadata": {
    "id": "7GgW-UpAgFyS"
   },
   "source": [
    "- Создайте столбец с информацией о годе проката. Выделите год из даты премьеры фильма."
   ]
  },
  {
   "cell_type": "code",
   "execution_count": 14,
   "metadata": {
    "id": "I-yd1DkWgFyT"
   },
   "outputs": [
    {
     "name": "stdout",
     "output_type": "stream",
     "text": [
      "                  title   puNumber           show_start_date            type  \\\n",
      "0      Открытый простор  221048915 2015-11-27 00:00:00+00:00  Художественный   \n",
      "1  Особо важное задание  111013716 2016-09-13 00:00:00+00:00  Художественный   \n",
      "2          Особо опасен  221038416 2016-10-10 00:00:00+00:00  Художественный   \n",
      "5     Остановился поезд  111013816 2016-09-13 00:00:00+00:00  Художественный   \n",
      "6       Любовь и голуби  111007013 2013-10-18 00:00:00+00:00  Художественный   \n",
      "\n",
      "                                         film_studio production_country  \\\n",
      "0  Тачстоун Пикчерз, Кобальт Пикчерз, Бикон Пикче...                США   \n",
      "1                              Киностудия \"Мосфильм\"               СССР   \n",
      "2  Юниверсал Пикчерз, Кикстарт Продакшнз, Марк Пл...                США   \n",
      "5                              Киностудия \"Мосфильм\"               СССР   \n",
      "6                              Киностудия \"Мосфильм\"               СССР   \n",
      "\n",
      "            director                                           producer  \\\n",
      "0      Кевин Костнер          Дэвид Валдес, Кевин Костнер, Джейк Эбертс   \n",
      "1          Е.Матвеев                                            Unknown   \n",
      "2  Тимур Бекмамбетов  Джим Лемли, Джейсон Нетер, Марк Е.Платт, Яйн Смит   \n",
      "5       В.Абдрашитов                                            Unknown   \n",
      "6          В.Меньшов                                            Unknown   \n",
      "\n",
      "                   age_restriction  refundable_support  nonrefundable_support  \\\n",
      "0      «18+» - запрещено для детей                 0.0                    0.0   \n",
      "1    «6+» - для детей старше 6 лет                 0.0                    0.0   \n",
      "2      «18+» - запрещено для детей                 0.0                    0.0   \n",
      "5    «6+» - для детей старше 6 лет                 0.0                    0.0   \n",
      "6  «12+» - для детей старше 12 лет                 0.0                    0.0   \n",
      "\n",
      "   budget financing_source  ratings                       genres  box_office  \\\n",
      "0     0.0              NaN      7.2     боевик, драма, мелодрама         NaN   \n",
      "1     0.0              NaN      6.6               драма, военный         NaN   \n",
      "2     0.0              NaN      6.8  фантастика, боевик, триллер         NaN   \n",
      "5     0.0              NaN      7.7                        драма         NaN   \n",
      "6     0.0              NaN      8.3           мелодрама, комедия      2700.0   \n",
      "\n",
      "   calculated_budget  year  \n",
      "0                0.0  2015  \n",
      "1                0.0  2016  \n",
      "2                0.0  2016  \n",
      "5                0.0  2016  \n",
      "6                0.0  2013  \n"
     ]
    }
   ],
   "source": [
    "mkrf['year'] = mkrf['show_start_date'].dt.year\n",
    "print(mkrf.head())"
   ]
  },
  {
   "cell_type": "markdown",
   "metadata": {
    "id": "nFTDLDYOgFyT"
   },
   "source": [
    "- Создайте два столбца: с именем и фамилией главного режиссёра и основным жанром фильма. В столбцы войдут первые значения из списка режиссёров и жанров соответственно.\n",
    "\n",
    "<div id=\"accordion\">\n",
    "    <div class=\"card\">\n",
    "        <div class=\"card-header\" id=\"headingThree\">\n",
    "            <button class=\"btn btn-link collapsed\" data-toggle=\"collapse\" data-target=\"#collapseHint_2\" aria-expanded=\"false\" aria-controls=\"collapseHint_2\">Подсказка</button>\n",
    "        </div>\n",
    "        <div id=\"collapseHint_2\" class=\"collapse\" aria-labelledby=\"headingThree\" data-parent=\"#accordion\">\n",
    "            <div class=\"card-body\">\n",
    "Чтобы создать такие столбцы, лучше всего использовать собственную функцию. Эту функцию можно применить к двум столбцам сразу. \n",
    "            </div>\n",
    "        </div>\n",
    "    </div>\n",
    "</div>"
   ]
  },
  {
   "cell_type": "code",
   "execution_count": 15,
   "metadata": {
    "id": "LSbRZKbMgFyU"
   },
   "outputs": [
    {
     "data": {
      "text/html": [
       "<div>\n",
       "<style scoped>\n",
       "    .dataframe tbody tr th:only-of-type {\n",
       "        vertical-align: middle;\n",
       "    }\n",
       "\n",
       "    .dataframe tbody tr th {\n",
       "        vertical-align: top;\n",
       "    }\n",
       "\n",
       "    .dataframe thead th {\n",
       "        text-align: right;\n",
       "    }\n",
       "</style>\n",
       "<table border=\"1\" class=\"dataframe\">\n",
       "  <thead>\n",
       "    <tr style=\"text-align: right;\">\n",
       "      <th></th>\n",
       "      <th>title</th>\n",
       "      <th>puNumber</th>\n",
       "      <th>show_start_date</th>\n",
       "      <th>type</th>\n",
       "      <th>film_studio</th>\n",
       "      <th>production_country</th>\n",
       "      <th>director</th>\n",
       "      <th>producer</th>\n",
       "      <th>age_restriction</th>\n",
       "      <th>refundable_support</th>\n",
       "      <th>...</th>\n",
       "      <th>budget</th>\n",
       "      <th>financing_source</th>\n",
       "      <th>ratings</th>\n",
       "      <th>genres</th>\n",
       "      <th>box_office</th>\n",
       "      <th>calculated_budget</th>\n",
       "      <th>year</th>\n",
       "      <th>main_director_first_name</th>\n",
       "      <th>main_director_last_name</th>\n",
       "      <th>main_genre</th>\n",
       "    </tr>\n",
       "  </thead>\n",
       "  <tbody>\n",
       "    <tr>\n",
       "      <th>0</th>\n",
       "      <td>Открытый простор</td>\n",
       "      <td>221048915</td>\n",
       "      <td>2015-11-27 00:00:00+00:00</td>\n",
       "      <td>Художественный</td>\n",
       "      <td>Тачстоун Пикчерз, Кобальт Пикчерз, Бикон Пикче...</td>\n",
       "      <td>США</td>\n",
       "      <td>Кевин Костнер</td>\n",
       "      <td>Дэвид Валдес, Кевин Костнер, Джейк Эбертс</td>\n",
       "      <td>«18+» - запрещено для детей</td>\n",
       "      <td>0.0</td>\n",
       "      <td>...</td>\n",
       "      <td>0.0</td>\n",
       "      <td>NaN</td>\n",
       "      <td>7.2</td>\n",
       "      <td>боевик, драма, мелодрама</td>\n",
       "      <td>NaN</td>\n",
       "      <td>0.0</td>\n",
       "      <td>2015</td>\n",
       "      <td>Кевин</td>\n",
       "      <td>Костнер</td>\n",
       "      <td>боевик</td>\n",
       "    </tr>\n",
       "    <tr>\n",
       "      <th>1</th>\n",
       "      <td>Особо важное задание</td>\n",
       "      <td>111013716</td>\n",
       "      <td>2016-09-13 00:00:00+00:00</td>\n",
       "      <td>Художественный</td>\n",
       "      <td>Киностудия \"Мосфильм\"</td>\n",
       "      <td>СССР</td>\n",
       "      <td>Е.Матвеев</td>\n",
       "      <td>Unknown</td>\n",
       "      <td>«6+» - для детей старше 6 лет</td>\n",
       "      <td>0.0</td>\n",
       "      <td>...</td>\n",
       "      <td>0.0</td>\n",
       "      <td>NaN</td>\n",
       "      <td>6.6</td>\n",
       "      <td>драма, военный</td>\n",
       "      <td>NaN</td>\n",
       "      <td>0.0</td>\n",
       "      <td>2016</td>\n",
       "      <td>Е.Матвеев</td>\n",
       "      <td>Е.Матвеев</td>\n",
       "      <td>драма</td>\n",
       "    </tr>\n",
       "    <tr>\n",
       "      <th>2</th>\n",
       "      <td>Особо опасен</td>\n",
       "      <td>221038416</td>\n",
       "      <td>2016-10-10 00:00:00+00:00</td>\n",
       "      <td>Художественный</td>\n",
       "      <td>Юниверсал Пикчерз, Кикстарт Продакшнз, Марк Пл...</td>\n",
       "      <td>США</td>\n",
       "      <td>Тимур Бекмамбетов</td>\n",
       "      <td>Джим Лемли, Джейсон Нетер, Марк Е.Платт, Яйн Смит</td>\n",
       "      <td>«18+» - запрещено для детей</td>\n",
       "      <td>0.0</td>\n",
       "      <td>...</td>\n",
       "      <td>0.0</td>\n",
       "      <td>NaN</td>\n",
       "      <td>6.8</td>\n",
       "      <td>фантастика, боевик, триллер</td>\n",
       "      <td>NaN</td>\n",
       "      <td>0.0</td>\n",
       "      <td>2016</td>\n",
       "      <td>Тимур</td>\n",
       "      <td>Бекмамбетов</td>\n",
       "      <td>фантастика</td>\n",
       "    </tr>\n",
       "    <tr>\n",
       "      <th>5</th>\n",
       "      <td>Остановился поезд</td>\n",
       "      <td>111013816</td>\n",
       "      <td>2016-09-13 00:00:00+00:00</td>\n",
       "      <td>Художественный</td>\n",
       "      <td>Киностудия \"Мосфильм\"</td>\n",
       "      <td>СССР</td>\n",
       "      <td>В.Абдрашитов</td>\n",
       "      <td>Unknown</td>\n",
       "      <td>«6+» - для детей старше 6 лет</td>\n",
       "      <td>0.0</td>\n",
       "      <td>...</td>\n",
       "      <td>0.0</td>\n",
       "      <td>NaN</td>\n",
       "      <td>7.7</td>\n",
       "      <td>драма</td>\n",
       "      <td>NaN</td>\n",
       "      <td>0.0</td>\n",
       "      <td>2016</td>\n",
       "      <td>В.Абдрашитов</td>\n",
       "      <td>В.Абдрашитов</td>\n",
       "      <td>драма</td>\n",
       "    </tr>\n",
       "    <tr>\n",
       "      <th>6</th>\n",
       "      <td>Любовь и голуби</td>\n",
       "      <td>111007013</td>\n",
       "      <td>2013-10-18 00:00:00+00:00</td>\n",
       "      <td>Художественный</td>\n",
       "      <td>Киностудия \"Мосфильм\"</td>\n",
       "      <td>СССР</td>\n",
       "      <td>В.Меньшов</td>\n",
       "      <td>Unknown</td>\n",
       "      <td>«12+» - для детей старше 12 лет</td>\n",
       "      <td>0.0</td>\n",
       "      <td>...</td>\n",
       "      <td>0.0</td>\n",
       "      <td>NaN</td>\n",
       "      <td>8.3</td>\n",
       "      <td>мелодрама, комедия</td>\n",
       "      <td>2700.0</td>\n",
       "      <td>0.0</td>\n",
       "      <td>2013</td>\n",
       "      <td>В.Меньшов</td>\n",
       "      <td>В.Меньшов</td>\n",
       "      <td>мелодрама</td>\n",
       "    </tr>\n",
       "  </tbody>\n",
       "</table>\n",
       "<p>5 rows × 21 columns</p>\n",
       "</div>"
      ],
      "text/plain": [
       "                  title   puNumber           show_start_date            type  \\\n",
       "0      Открытый простор  221048915 2015-11-27 00:00:00+00:00  Художественный   \n",
       "1  Особо важное задание  111013716 2016-09-13 00:00:00+00:00  Художественный   \n",
       "2          Особо опасен  221038416 2016-10-10 00:00:00+00:00  Художественный   \n",
       "5     Остановился поезд  111013816 2016-09-13 00:00:00+00:00  Художественный   \n",
       "6       Любовь и голуби  111007013 2013-10-18 00:00:00+00:00  Художественный   \n",
       "\n",
       "                                         film_studio production_country  \\\n",
       "0  Тачстоун Пикчерз, Кобальт Пикчерз, Бикон Пикче...                США   \n",
       "1                              Киностудия \"Мосфильм\"               СССР   \n",
       "2  Юниверсал Пикчерз, Кикстарт Продакшнз, Марк Пл...                США   \n",
       "5                              Киностудия \"Мосфильм\"               СССР   \n",
       "6                              Киностудия \"Мосфильм\"               СССР   \n",
       "\n",
       "            director                                           producer  \\\n",
       "0      Кевин Костнер          Дэвид Валдес, Кевин Костнер, Джейк Эбертс   \n",
       "1          Е.Матвеев                                            Unknown   \n",
       "2  Тимур Бекмамбетов  Джим Лемли, Джейсон Нетер, Марк Е.Платт, Яйн Смит   \n",
       "5       В.Абдрашитов                                            Unknown   \n",
       "6          В.Меньшов                                            Unknown   \n",
       "\n",
       "                   age_restriction  refundable_support  ...  budget  \\\n",
       "0      «18+» - запрещено для детей                 0.0  ...     0.0   \n",
       "1    «6+» - для детей старше 6 лет                 0.0  ...     0.0   \n",
       "2      «18+» - запрещено для детей                 0.0  ...     0.0   \n",
       "5    «6+» - для детей старше 6 лет                 0.0  ...     0.0   \n",
       "6  «12+» - для детей старше 12 лет                 0.0  ...     0.0   \n",
       "\n",
       "   financing_source ratings                       genres box_office  \\\n",
       "0               NaN     7.2     боевик, драма, мелодрама        NaN   \n",
       "1               NaN     6.6               драма, военный        NaN   \n",
       "2               NaN     6.8  фантастика, боевик, триллер        NaN   \n",
       "5               NaN     7.7                        драма        NaN   \n",
       "6               NaN     8.3           мелодрама, комедия     2700.0   \n",
       "\n",
       "   calculated_budget  year  main_director_first_name main_director_last_name  \\\n",
       "0                0.0  2015                     Кевин                 Костнер   \n",
       "1                0.0  2016                 Е.Матвеев               Е.Матвеев   \n",
       "2                0.0  2016                     Тимур             Бекмамбетов   \n",
       "5                0.0  2016              В.Абдрашитов            В.Абдрашитов   \n",
       "6                0.0  2013                 В.Меньшов               В.Меньшов   \n",
       "\n",
       "   main_genre  \n",
       "0      боевик  \n",
       "1       драма  \n",
       "2  фантастика  \n",
       "5       драма  \n",
       "6   мелодрама  \n",
       "\n",
       "[5 rows x 21 columns]"
      ]
     },
     "metadata": {},
     "output_type": "display_data"
    }
   ],
   "source": [
    "# Функция для извлечения имени и фамилии главного режиссёра и основного жанра\n",
    "def extract_first_name_and_genre(row):\n",
    "    if pd.notnull(row['director']):\n",
    "        director_name_parts = row['director'].split(' ')\n",
    "        first_name = director_name_parts[0].strip()\n",
    "        last_name = director_name_parts[-1].strip() if len(director_name_parts) > 1 else first_name\n",
    "    else:\n",
    "        first_name, last_name = None, None\n",
    "    \n",
    "    main_genre = row['genres'].split(',')[0].strip() if pd.notnull(row['genres']) else None\n",
    "    \n",
    "    return pd.Series([first_name, last_name, main_genre])\n",
    "\n",
    "mkrf[['main_director_first_name', 'main_director_last_name', 'main_genre']] = mkrf.apply(extract_first_name_and_genre, axis=1)\n",
    "\n",
    "display(mkrf.head())\n"
   ]
  },
  {
   "cell_type": "markdown",
   "metadata": {},
   "source": [
    "<div class=\"alert-danger\" style=\"padding: 20px; border-radius: 10px\">\n",
    "<b>Комментарий ревьюера ❌</b></h5>\n",
    "\n",
    "<s>Почему ты применил функцию к датафрейму `movies`? Если мы работаем с объединенным датафреймом `mkrf`?"
   ]
  },
  {
   "cell_type": "markdown",
   "metadata": {},
   "source": [
    "<div class=\"alert-info\" style=\"padding: 20px; border-radius: 10px\">\n",
    "v2 поправил\n",
    "    </div>"
   ]
  },
  {
   "cell_type": "markdown",
   "metadata": {},
   "source": [
    "<div class=\"alert-success\" style=\"padding: 20px; border-radius: 10px\">\n",
    "<b>Комментарий ревьюера V2 ✔️</b>\n",
    "\n",
    "👍</div>"
   ]
  },
  {
   "cell_type": "markdown",
   "metadata": {
    "id": "1FsCXHwdgFyU"
   },
   "source": [
    "- Посчитайте, какую долю от общего бюджета фильма составляет государственная поддержка."
   ]
  },
  {
   "cell_type": "code",
   "execution_count": 16,
   "metadata": {
    "id": "LV6qFuZLgFyV"
   },
   "outputs": [
    {
     "name": "stdout",
     "output_type": "stream",
     "text": [
      "                  title   puNumber           show_start_date            type  \\\n",
      "0      Открытый простор  221048915 2015-11-27 00:00:00+00:00  Художественный   \n",
      "1  Особо важное задание  111013716 2016-09-13 00:00:00+00:00  Художественный   \n",
      "2          Особо опасен  221038416 2016-10-10 00:00:00+00:00  Художественный   \n",
      "5     Остановился поезд  111013816 2016-09-13 00:00:00+00:00  Художественный   \n",
      "6       Любовь и голуби  111007013 2013-10-18 00:00:00+00:00  Художественный   \n",
      "\n",
      "                                         film_studio production_country  \\\n",
      "0  Тачстоун Пикчерз, Кобальт Пикчерз, Бикон Пикче...                США   \n",
      "1                              Киностудия \"Мосфильм\"               СССР   \n",
      "2  Юниверсал Пикчерз, Кикстарт Продакшнз, Марк Пл...                США   \n",
      "5                              Киностудия \"Мосфильм\"               СССР   \n",
      "6                              Киностудия \"Мосфильм\"               СССР   \n",
      "\n",
      "            director                                           producer  \\\n",
      "0      Кевин Костнер          Дэвид Валдес, Кевин Костнер, Джейк Эбертс   \n",
      "1          Е.Матвеев                                            Unknown   \n",
      "2  Тимур Бекмамбетов  Джим Лемли, Джейсон Нетер, Марк Е.Платт, Яйн Смит   \n",
      "5       В.Абдрашитов                                            Unknown   \n",
      "6          В.Меньшов                                            Unknown   \n",
      "\n",
      "                   age_restriction  refundable_support  ...  ratings  \\\n",
      "0      «18+» - запрещено для детей                 0.0  ...      7.2   \n",
      "1    «6+» - для детей старше 6 лет                 0.0  ...      6.6   \n",
      "2      «18+» - запрещено для детей                 0.0  ...      6.8   \n",
      "5    «6+» - для детей старше 6 лет                 0.0  ...      7.7   \n",
      "6  «12+» - для детей старше 12 лет                 0.0  ...      8.3   \n",
      "\n",
      "                        genres box_office  calculated_budget  year  \\\n",
      "0     боевик, драма, мелодрама        NaN                0.0  2015   \n",
      "1               драма, военный        NaN                0.0  2016   \n",
      "2  фантастика, боевик, триллер        NaN                0.0  2016   \n",
      "5                        драма        NaN                0.0  2016   \n",
      "6           мелодрама, комедия     2700.0                0.0  2013   \n",
      "\n",
      "   main_director_first_name  main_director_last_name  main_genre  \\\n",
      "0                     Кевин                  Костнер      боевик   \n",
      "1                 Е.Матвеев                Е.Матвеев       драма   \n",
      "2                     Тимур              Бекмамбетов  фантастика   \n",
      "5              В.Абдрашитов             В.Абдрашитов       драма   \n",
      "6                 В.Меньшов                В.Меньшов   мелодрама   \n",
      "\n",
      "  total_support gov_support_share  \n",
      "0           0.0               NaN  \n",
      "1           0.0               NaN  \n",
      "2           0.0               NaN  \n",
      "5           0.0               NaN  \n",
      "6           0.0               NaN  \n",
      "\n",
      "[5 rows x 23 columns]\n"
     ]
    }
   ],
   "source": [
    "mkrf['refundable_support'] = mkrf['refundable_support'].fillna(0)\n",
    "mkrf['nonrefundable_support'] = mkrf['nonrefundable_support'].fillna(0)\n",
    "mkrf['total_support'] = mkrf['nonrefundable_support'] + mkrf['refundable_support']\n",
    "\n",
    "mkrf['gov_support_share'] = (mkrf['total_support'] / mkrf['budget'])\n",
    "\n",
    "mkrf['gov_support_share'] = mkrf.apply(\n",
    "    lambda row: (row['total_support'] / row['budget']) * 100 if row['budget'] > 0 else None, axis=1)\n",
    "\n",
    "print(mkrf.head())\n"
   ]
  },
  {
   "cell_type": "markdown",
   "metadata": {},
   "source": [
    "<div class=\"alert-warning\" style=\"padding: 20px; border-radius: 10px\">\n",
    "<b>Комментарий ревьюера ⚠️</b>\n",
    "\n",
    "<s>Шаг предобработки данных стоит закончить промежуточным выводом о проделанной работе. </div>"
   ]
  },
  {
   "cell_type": "markdown",
   "metadata": {},
   "source": [
    "<div class=\"alert-info\" style=\"padding: 20px; border-radius: 10px\">\n",
    "v2 \n",
    "\n",
    "**Обработка пропущенных значений**: Значения NaN в строковых полях ('director', 'producer', 'genres') заменены на \"Unknown\", чтобы улучшить возможности анализа и избежать ошибок при выполнении операций\n",
    "    \n",
    "    \n",
    "**Удаление дубликатов**: Идентифицированы и удалены дублирующиеся записи, проверка проведена по уникальному идентификатору puNumber.\n",
    "    \n",
    "**Новые признаки**: Из столбца 'director' извлечены имена и фамилии режиссёров, а из 'genres' — основные жанры фильмов, что обеспечило дополнительные возможности для анализа.\n",
    "\n",
    "**Качество данных**: В результате предобработки улучшено качество данных для последующего анализа. Общее количество записей в наборе данных сократилось на 10% после удаления дубликатов, количество столбцов увеличилось с 16 до 19.Было 7486 названий → стало после удаления 6772. Разница примерно 10%\n",
    "    </div>"
   ]
  },
  {
   "cell_type": "markdown",
   "metadata": {},
   "source": [
    "<div class=\"alert-success\" style=\"padding: 20px; border-radius: 10px\">\n",
    "<b>Комментарий ревьюера V2 ✔️</b>\n",
    "\n",
    "Очень хороший промежуточный вывод!"
   ]
  },
  {
   "cell_type": "markdown",
   "metadata": {
    "id": "6t4EukPLgFyV"
   },
   "source": [
    "### Шаг 3. Проведите исследовательский анализ данных\n"
   ]
  },
  {
   "cell_type": "markdown",
   "metadata": {
    "id": "vAH8WCzugFyV"
   },
   "source": [
    "- Посмотрите, сколько фильмов выходило в прокат каждый год. Обратите внимание, что данные о прокате в кинотеатрах известны не для всех фильмов. Посчитайте, какую долю составляют фильмы с указанной информацией о прокате в кинотеатрах. Проанализируйте, как эта доля менялась по годам. Сделайте вывод о том, какой период полнее всего представлен в данных."
   ]
  },
  {
   "cell_type": "code",
   "execution_count": 17,
   "metadata": {
    "id": "ABeV47y7gFyW"
   },
   "outputs": [
    {
     "name": "stdout",
     "output_type": "stream",
     "text": [
      "      total_films  films_in_theatres  theatres_ratio\n",
      "year                                                \n",
      "2010          761                 84        0.110381\n",
      "2011          477                 98        0.205451\n",
      "2012          517                111        0.214700\n",
      "2013          590                171        0.289831\n",
      "2014          730                251        0.343836\n",
      "2015          661                428        0.647504\n",
      "2016          771                500        0.648508\n",
      "2017          498                356        0.714859\n",
      "2018          875                472        0.539429\n",
      "2019          891                522        0.585859\n"
     ]
    },
    {
     "data": {
      "image/png": "[encoded data removed]",
      "text/plain": [
       "<Figure size 432x288 with 1 Axes>"
      ]
     },
     "metadata": {
      "needs_background": "light"
     },
     "output_type": "display_data"
    }
   ],
   "source": [
    "mkrf['in_theatres'] = mkrf['box_office'].notna() & (mkrf['box_office'] > 0)\n",
    "pivot_table = mkrf.pivot_table(index='year', values='in_theatres', aggfunc=['count','sum'])\n",
    "\n",
    "\n",
    "pivot_table.columns=['total_films', 'films_in_theatres']\n",
    "\n",
    "\n",
    "pivot_table['theatres_ratio'] = pivot_table['films_in_theatres'] / pivot_table['total_films']\n",
    "\n",
    "\n",
    "print(pivot_table)\n",
    "\n",
    "\n",
    "fig, ax = plt.subplots()\n",
    "pivot_table['theatres_ratio'].plot(kind='bar', color='skyblue', ax=ax)\n",
    "\n",
    "\n",
    "ax.set_title('Доля фильмов, вышедших в прокат по годам')\n",
    "ax.set_xlabel('Год')  \n",
    "ax.set_ylabel('Доля фильмов в прокате')\n",
    "plt.xticks(rotation=45)  \n",
    "plt.show()  \n"
   ]
  },
  {
   "cell_type": "markdown",
   "metadata": {},
   "source": [
    "<div class=\"alert-success\" style=\"padding: 20px; border-radius: 10px\">\n",
    "<b>Комментарий ревьюера V2 ✔️</b>\n",
    "\n",
    "График оформлен правильно. Можно увеличить его размер. Например использовать (12, 5)"
   ]
  },
  {
   "cell_type": "markdown",
   "metadata": {},
   "source": [
    "<div class=\"alert-info\" style=\"padding: 20px; border-radius: 10px\">\n",
    "v2 График демонстрирует увеличение доли фильмов, вышедших в прокат по годам, начиная с 2010 и достигающее пика в 2017 году с долей в 71.49%. \n",
    "После 2017 года наблюдается небольшое снижение этого показателя. Это может быть связано с различными факторами, включая увеличение общего количества выпущенных фильмов при одновременном уменьшении числа фильмов, показанных в кинотеатрах. \n",
    "    </div>"
   ]
  },
  {
   "cell_type": "markdown",
   "metadata": {},
   "source": [
    "<div class=\"alert-danger\" style=\"padding: 20px; border-radius: 10px\">\n",
    "<b>Комментарий ревьюера ❌</b></h5>\n",
    "\n",
    "<s>Проверь пожалуйста, чтобы все графики проекта были правильно оформлены:\n",
    "\n",
    "- есть название\n",
    "- подписаны оси X и Y\n",
    "- отсутствует техническая надпись `<AxesSubplot:>`\n",
    "- график прокомментирован"
   ]
  },
  {
   "cell_type": "markdown",
   "metadata": {},
   "source": [
    "<div class=\"alert-success\" style=\"padding: 20px; border-radius: 10px\">\n",
    "<b>Комментарий ревьюера ✔️</b>\n",
    "\n",
    "Доля фильмов с информацией о сборах по годам рассчитана верно.\n",
    "\n",
    "</div>"
   ]
  },
  {
   "cell_type": "markdown",
   "metadata": {
    "id": "BEOdcIrIgFyW"
   },
   "source": [
    "- Изучите, как менялась динамика проката по годам. В каком году сумма сборов была минимальной? А максимальной?"
   ]
  },
  {
   "cell_type": "markdown",
   "metadata": {},
   "source": [
    "**Вывод**: Наиболее полно представленным периодом в данных, судя по доле фильмов с прокатом в кинотеатрах, является 2017 год. С 2015 по 2017 год видно увеличение этой доли, что указывает на возможное улучшение качества данных, большее количество фильмов, вышедших в прокат, или лучший сбор информации о кассовых сборах."
   ]
  },
  {
   "cell_type": "markdown",
   "metadata": {},
   "source": [
    "<div class=\"alert-danger\" style=\"padding: 20px; border-radius: 10px\">\n",
    "<b>Комментарий ревьюера ❌</b></h5>\n",
    "\n",
    "<s>Выведи пожалуйста таблицу с суммарными сборами по годам, также стоит сопроводить таблицу графиком."
   ]
  },
  {
   "cell_type": "markdown",
   "metadata": {},
   "source": [
    "<div class=\"alert-info\" style=\"padding: 20px; border-radius: 10px\">\n",
    "v2 Видим значительный рост кассовых сборов начиная с 2014 года. Если сопоставить эти данные с предыдущими годами (2010-2013), то разница в объёмах кассовых сборов достигает порядка в сотни раз\n",
    "    </div>"
   ]
  },
  {
   "cell_type": "code",
   "execution_count": 18,
   "metadata": {},
   "outputs": [
    {
     "data": {
      "text/html": [
       "<div>\n",
       "<style scoped>\n",
       "    .dataframe tbody tr th:only-of-type {\n",
       "        vertical-align: middle;\n",
       "    }\n",
       "\n",
       "    .dataframe tbody tr th {\n",
       "        vertical-align: top;\n",
       "    }\n",
       "\n",
       "    .dataframe thead th {\n",
       "        text-align: right;\n",
       "    }\n",
       "</style>\n",
       "<table border=\"1\" class=\"dataframe\">\n",
       "  <thead>\n",
       "    <tr style=\"text-align: right;\">\n",
       "      <th></th>\n",
       "      <th>formatted_box_office</th>\n",
       "    </tr>\n",
       "    <tr>\n",
       "      <th>year</th>\n",
       "      <th></th>\n",
       "    </tr>\n",
       "  </thead>\n",
       "  <tbody>\n",
       "    <tr>\n",
       "      <th>2010</th>\n",
       "      <td>2,374,340</td>\n",
       "    </tr>\n",
       "    <tr>\n",
       "      <th>2011</th>\n",
       "      <td>13,944,390</td>\n",
       "    </tr>\n",
       "    <tr>\n",
       "      <th>2012</th>\n",
       "      <td>6,465,111</td>\n",
       "    </tr>\n",
       "    <tr>\n",
       "      <th>2013</th>\n",
       "      <td>29,768,531</td>\n",
       "    </tr>\n",
       "    <tr>\n",
       "      <th>2014</th>\n",
       "      <td>7,372,598,572</td>\n",
       "    </tr>\n",
       "    <tr>\n",
       "      <th>2015</th>\n",
       "      <td>32,084,649,858</td>\n",
       "    </tr>\n",
       "    <tr>\n",
       "      <th>2016</th>\n",
       "      <td>43,731,444,689</td>\n",
       "    </tr>\n",
       "    <tr>\n",
       "      <th>2017</th>\n",
       "      <td>48,561,554,267</td>\n",
       "    </tr>\n",
       "    <tr>\n",
       "      <th>2018</th>\n",
       "      <td>47,970,993,536</td>\n",
       "    </tr>\n",
       "    <tr>\n",
       "      <th>2019</th>\n",
       "      <td>48,409,400,347</td>\n",
       "    </tr>\n",
       "  </tbody>\n",
       "</table>\n",
       "</div>"
      ],
      "text/plain": [
       "     formatted_box_office\n",
       "year                     \n",
       "2010            2,374,340\n",
       "2011           13,944,390\n",
       "2012            6,465,111\n",
       "2013           29,768,531\n",
       "2014        7,372,598,572\n",
       "2015       32,084,649,858\n",
       "2016       43,731,444,689\n",
       "2017       48,561,554,267\n",
       "2018       47,970,993,536\n",
       "2019       48,409,400,347"
      ]
     },
     "metadata": {},
     "output_type": "display_data"
    },
    {
     "data": {
      "image/png": "[encoded data removed]",
      "text/plain": [
       "<Figure size 576x288 with 1 Axes>"
      ]
     },
     "metadata": {
      "needs_background": "light"
     },
     "output_type": "display_data"
    }
   ],
   "source": [
    "\n",
    "box_office_by_year = mkrf.groupby('year')['box_office'].sum()\n",
    "box_office_by_year_df = box_office_by_year.reset_index()\n",
    "box_office_by_year_df['formatted_box_office'] = box_office_by_year_df['box_office'].apply(lambda x: '{:,.0f}'.format(x))\n",
    "\n",
    "\n",
    "\n",
    "box_office_by_year_df.set_index('year', inplace=True)\n",
    "display(box_office_by_year_df[['formatted_box_office']])\n",
    "\n",
    "plt.figure(figsize=(8, 4))  \n",
    "plt.bar(box_office_by_year_df.index, box_office_by_year_df['box_office'], color='skyblue')\n",
    "\n",
    "\n",
    "plt.title('Суммарные кассовые сборы по годам')\n",
    "plt.xlabel('Год')  \n",
    "plt.ylabel('Кассовые сборы')\n",
    "plt.xticks(rotation=45)\n",
    "plt.gca().yaxis.set_major_formatter(plt.FuncFormatter(lambda x, p: format(int(x), ',')))\n",
    "\n",
    "\n",
    "plt.show()"
   ]
  },
  {
   "cell_type": "markdown",
   "metadata": {},
   "source": [
    "<div class=\"alert-success\" style=\"padding: 20px; border-radius: 10px\">\n",
    "<b>Комментарий ревьюера V2 ✔️</b>\n",
    "\n",
    "Все верно!"
   ]
  },
  {
   "cell_type": "markdown",
   "metadata": {
    "id": "G-7qS-N-gFyY"
   },
   "source": [
    "- С помощью сводной таблицы посчитайте среднюю и медианную сумму сборов для каждого года."
   ]
  },
  {
   "cell_type": "code",
   "execution_count": 19,
   "metadata": {
    "id": "jmp-rgg9gFyY"
   },
   "outputs": [
    {
     "data": {
      "text/html": [
       "<div>\n",
       "<style scoped>\n",
       "    .dataframe tbody tr th:only-of-type {\n",
       "        vertical-align: middle;\n",
       "    }\n",
       "\n",
       "    .dataframe tbody tr th {\n",
       "        vertical-align: top;\n",
       "    }\n",
       "\n",
       "    .dataframe thead th {\n",
       "        text-align: right;\n",
       "    }\n",
       "</style>\n",
       "<table border=\"1\" class=\"dataframe\">\n",
       "  <thead>\n",
       "    <tr style=\"text-align: right;\">\n",
       "      <th></th>\n",
       "      <th>mean_box_office</th>\n",
       "      <th>median_box_office</th>\n",
       "    </tr>\n",
       "    <tr>\n",
       "      <th>year</th>\n",
       "      <th></th>\n",
       "      <th></th>\n",
       "    </tr>\n",
       "  </thead>\n",
       "  <tbody>\n",
       "    <tr>\n",
       "      <th>2010</th>\n",
       "      <td>2.698114e+04</td>\n",
       "      <td>1868.00</td>\n",
       "    </tr>\n",
       "    <tr>\n",
       "      <th>2011</th>\n",
       "      <td>1.422897e+05</td>\n",
       "      <td>3042.50</td>\n",
       "    </tr>\n",
       "    <tr>\n",
       "      <th>2012</th>\n",
       "      <td>5.573372e+04</td>\n",
       "      <td>6692.50</td>\n",
       "    </tr>\n",
       "    <tr>\n",
       "      <th>2013</th>\n",
       "      <td>1.691394e+05</td>\n",
       "      <td>3565.00</td>\n",
       "    </tr>\n",
       "    <tr>\n",
       "      <th>2014</th>\n",
       "      <td>2.868715e+07</td>\n",
       "      <td>22490.00</td>\n",
       "    </tr>\n",
       "    <tr>\n",
       "      <th>2015</th>\n",
       "      <td>7.444234e+07</td>\n",
       "      <td>4327265.70</td>\n",
       "    </tr>\n",
       "    <tr>\n",
       "      <th>2016</th>\n",
       "      <td>8.728831e+07</td>\n",
       "      <td>3640802.30</td>\n",
       "    </tr>\n",
       "    <tr>\n",
       "      <th>2017</th>\n",
       "      <td>1.364089e+08</td>\n",
       "      <td>10177833.50</td>\n",
       "    </tr>\n",
       "    <tr>\n",
       "      <th>2018</th>\n",
       "      <td>1.016335e+08</td>\n",
       "      <td>8821498.98</td>\n",
       "    </tr>\n",
       "    <tr>\n",
       "      <th>2019</th>\n",
       "      <td>9.273831e+07</td>\n",
       "      <td>4774520.50</td>\n",
       "    </tr>\n",
       "  </tbody>\n",
       "</table>\n",
       "</div>"
      ],
      "text/plain": [
       "      mean_box_office  median_box_office\n",
       "year                                    \n",
       "2010     2.698114e+04            1868.00\n",
       "2011     1.422897e+05            3042.50\n",
       "2012     5.573372e+04            6692.50\n",
       "2013     1.691394e+05            3565.00\n",
       "2014     2.868715e+07           22490.00\n",
       "2015     7.444234e+07         4327265.70\n",
       "2016     8.728831e+07         3640802.30\n",
       "2017     1.364089e+08        10177833.50\n",
       "2018     1.016335e+08         8821498.98\n",
       "2019     9.273831e+07         4774520.50"
      ]
     },
     "metadata": {},
     "output_type": "display_data"
    },
    {
     "data": {
      "image/png": "[encoded data removed]",
      "text/plain": [
       "<Figure size 576x216 with 1 Axes>"
      ]
     },
     "metadata": {
      "needs_background": "light"
     },
     "output_type": "display_data"
    }
   ],
   "source": [
    "pivot_table_2 = mkrf.pivot_table(index='year', values='box_office', aggfunc=['mean', 'median'])\n",
    "\n",
    "pivot_table_2[('mean', 'box_office')] = pivot_table_2[('mean', 'box_office')].apply(lambda x: round(x, 2))\n",
    "pivot_table_2[('median', 'box_office')] = pivot_table_2[('median', 'box_office')].apply(lambda x: round(x, 2))\n",
    "\n",
    "\n",
    "pivot_table_2.columns = ['mean_box_office', 'median_box_office']\n",
    "\n",
    "\n",
    "display(pivot_table_2) \n",
    "\n",
    "\n",
    "years = pivot_table_2.index.astype(str)\n",
    "mean_values = pivot_table_2['mean_box_office'].values\n",
    "median_values = pivot_table_2['median_box_office'].values\n",
    "\n",
    "\n",
    "positions = np.arange(len(years))\n",
    "\n",
    "plt.figure(figsize=(8, 3))\n",
    "plt.bar(positions - 0.15, mean_values, width=0.3, label='Средний сбор')\n",
    "plt.bar(positions + 0.15, median_values, width=0.3, label='Медианный сбор')\n",
    "\n",
    "\n",
    "plt.xticks(positions, years) \n",
    "plt.xlabel('Год')\n",
    "plt.ylabel('Кассовые сборы')\n",
    "plt.title('Средние и медианные кассовые сборы по годам')\n",
    "plt.legend()\n",
    "\n",
    "plt.show()"
   ]
  },
  {
   "cell_type": "markdown",
   "metadata": {},
   "source": [
    "<div class=\"alert-success\" style=\"padding: 20px; border-radius: 10px\">\n",
    "<b>Комментарий ревьюера ✔️</b>\n",
    "\n",
    "Средние и медианные сборы по годам посчитаны верно.\n",
    "\n",
    "Как можно прокомментировать такой разброс между медианой и средним значением?</div>"
   ]
  },
  {
   "cell_type": "markdown",
   "metadata": {},
   "source": [
    "<div class=\"alert-warning\" style=\"padding: 20px; border-radius: 10px\">\n",
    "<b>Комментарий ревьюера ⚠️</b>\n",
    "\n",
    "<s>Хорошо бы и здесь добавить визуализацию."
   ]
  },
  {
   "cell_type": "markdown",
   "metadata": {},
   "source": [
    "<div class=\"alert-info\" style=\"padding: 20px; border-radius: 10px\">\n",
    "v2 добавил визуализацию\n",
    "    </div>"
   ]
  },
  {
   "cell_type": "markdown",
   "metadata": {},
   "source": [
    "<div class=\"alert-success\" style=\"padding: 20px; border-radius: 10px\">\n",
    "<b>Комментарий ревьюера V2 ✔️</b>\n",
    "\n",
    "Такой разброс между медианой и средним может говорить о большом количестве фильмов-середнячков и нескольких удачных проектах."
   ]
  },
  {
   "cell_type": "markdown",
   "metadata": {
    "id": "Ok89WFwJgFyZ"
   },
   "source": [
    "- Определите, влияет ли возрастное ограничение аудитории («6+», «12+», «16+», «18+» и т. д.) на сборы фильма в прокате в период с 2015 по 2019 год? Фильмы с каким возрастным ограничением собрали больше всего денег в прокате? Меняется ли картина в зависимости от года? Если да, предположите, с чем это может быть связано."
   ]
  },
  {
   "cell_type": "code",
   "execution_count": 20,
   "metadata": {
    "id": "jsSbEqfjgFya"
   },
   "outputs": [
    {
     "name": "stdout",
     "output_type": "stream",
     "text": [
      "                           age_restriction  year         box_office\n",
      "12         «16+» - для детей старше 16 лет  2017  18,742,889,949.06\n",
      "13         «16+» - для детей старше 16 лет  2018  14,820,922,307.93\n",
      "11         «16+» - для детей старше 16 лет  2016  14,359,349,614.80\n",
      "8          «12+» - для детей старше 12 лет  2018  14,267,291,660.69\n",
      "24           «6+» - для детей старше 6 лет  2019  12,852,548,650.86\n",
      "14         «16+» - для детей старше 16 лет  2019  12,748,542,668.10\n",
      "9          «12+» - для детей старше 12 лет  2019  12,676,553,693.67\n",
      "6          «12+» - для детей старше 12 лет  2016  12,178,337,053.01\n",
      "22           «6+» - для детей старше 6 лет  2017  12,086,142,145.76\n",
      "21           «6+» - для детей старше 6 лет  2016  12,053,144,408.24\n",
      "5          «12+» - для детей старше 12 лет  2015  11,957,220,583.41\n",
      "19             «18+» - запрещено для детей  2019  10,114,009,267.16\n",
      "23           «6+» - для детей старше 6 лет  2018  10,104,974,623.41\n",
      "17             «18+» - запрещено для детей  2017   9,651,495,581.02\n",
      "18             «18+» - запрещено для детей  2018   8,745,355,942.14\n",
      "20           «6+» - для детей старше 6 лет  2015   8,395,710,375.31\n",
      "10         «16+» - для детей старше 16 лет  2015   8,274,253,188.89\n",
      "7          «12+» - для детей старше 12 лет  2017   7,851,427,660.67\n",
      "16             «18+» - запрещено для детей  2016   4,990,430,064.62\n",
      "15             «18+» - запрещено для детей  2015   3,184,097,942.98\n",
      "0   «0+» - для любой зрительской аудитории  2015     273,367,767.78\n",
      "2   «0+» - для любой зрительской аудитории  2017     229,598,930.00\n",
      "1   «0+» - для любой зрительской аудитории  2016     150,183,548.67\n",
      "3   «0+» - для любой зрительской аудитории  2018      32,449,002.11\n",
      "4   «0+» - для любой зрительской аудитории  2019      17,746,066.82\n"
     ]
    },
    {
     "data": {
      "image/png": "[encoded data removed]",
      "text/plain": [
       "<Figure size 1008x504 with 1 Axes>"
      ]
     },
     "metadata": {
      "needs_background": "light"
     },
     "output_type": "display_data"
    },
    {
     "name": "stdout",
     "output_type": "stream",
     "text": [
      "Год: 2015\n",
      "                           age_restriction  year    box_office\n",
      "5          «12+» - для детей старше 12 лет  2015  1.195722e+10\n",
      "20           «6+» - для детей старше 6 лет  2015  8.395710e+09\n",
      "10         «16+» - для детей старше 16 лет  2015  8.274253e+09\n",
      "15             «18+» - запрещено для детей  2015  3.184098e+09\n",
      "0   «0+» - для любой зрительской аудитории  2015  2.733678e+08\n",
      "\n",
      "\n",
      "Год: 2016\n",
      "                           age_restriction  year    box_office\n",
      "11         «16+» - для детей старше 16 лет  2016  1.435935e+10\n",
      "6          «12+» - для детей старше 12 лет  2016  1.217834e+10\n",
      "21           «6+» - для детей старше 6 лет  2016  1.205314e+10\n",
      "16             «18+» - запрещено для детей  2016  4.990430e+09\n",
      "1   «0+» - для любой зрительской аудитории  2016  1.501835e+08\n",
      "\n",
      "\n",
      "Год: 2017\n",
      "                           age_restriction  year    box_office\n",
      "12         «16+» - для детей старше 16 лет  2017  1.874289e+10\n",
      "22           «6+» - для детей старше 6 лет  2017  1.208614e+10\n",
      "17             «18+» - запрещено для детей  2017  9.651496e+09\n",
      "7          «12+» - для детей старше 12 лет  2017  7.851428e+09\n",
      "2   «0+» - для любой зрительской аудитории  2017  2.295989e+08\n",
      "\n",
      "\n",
      "Год: 2018\n",
      "                           age_restriction  year    box_office\n",
      "13         «16+» - для детей старше 16 лет  2018  1.482092e+10\n",
      "8          «12+» - для детей старше 12 лет  2018  1.426729e+10\n",
      "23           «6+» - для детей старше 6 лет  2018  1.010497e+10\n",
      "18             «18+» - запрещено для детей  2018  8.745356e+09\n",
      "3   «0+» - для любой зрительской аудитории  2018  3.244900e+07\n",
      "\n",
      "\n",
      "Год: 2019\n",
      "                           age_restriction  year    box_office\n",
      "24           «6+» - для детей старше 6 лет  2019  1.285255e+10\n",
      "14         «16+» - для детей старше 16 лет  2019  1.274854e+10\n",
      "9          «12+» - для детей старше 12 лет  2019  1.267655e+10\n",
      "19             «18+» - запрещено для детей  2019  1.011401e+10\n",
      "4   «0+» - для любой зрительской аудитории  2019  1.774607e+07\n",
      "\n",
      "\n"
     ]
    }
   ],
   "source": [
    "filtered_df = mkrf[(mkrf['year']>= 2015) & (mkrf['year']<= 2019)]\n",
    "grouped_df = filtered_df.groupby(['age_restriction','year'])['box_office'].sum().reset_index()\n",
    "\n",
    "\n",
    "\n",
    "sorted_df = grouped_df.sort_values(by='box_office', ascending=False)\n",
    "sorted_df['box_office'] = sorted_df['box_office'].apply(lambda x: f\"{x:,.2f}\")\n",
    "print(sorted_df)\n",
    "\n",
    "\n",
    "plt.figure(figsize=(14,7))\n",
    "sns.barplot(x='year', y='box_office', hue='age_restriction', data=grouped_df, palette='viridis')\n",
    "plt.show()\n",
    "\n",
    "for year in range(2015, 2020):\n",
    "    print(f\"Год: {year}\")\n",
    "    year_df = grouped_df[grouped_df['year'] == year].sort_values(by='box_office', ascending=False)\n",
    "    print(year_df)\n",
    "    print(\"\\n\")"
   ]
  },
  {
   "cell_type": "markdown",
   "metadata": {},
   "source": [
    "**Влияение возрастного ограничения**\n",
    "Фильмы с рейтингами «12+», «16+» и «6+» преимущественно показывают высокие сборы, что может быть связано с более широким кругом потенциальных зрителей, доступностью этих фильмов для семейных походов в кинотеатр, а также большей вероятностью выпуска крупнобюджетных фильмов и блокбастеров для подростков и взрослых.\n",
    "\n",
    "**Фильмы с каким возрастным ограничением собрали больше всего денег в прокате?**\n",
    "В 2015 и 2016 годах лидируют фильмы с возрастным ограничением «12+», однако начиная с 2017 года больше всего в прокате собирают фильмы с рейтингом «16+». Рейтинг «6+» также показывает хорошие результаты, особенно в 2019 году, где он занимает первое место по сборам.\n",
    "\n",
    "**Изменение картины по годам**: Да, картина меняется от года к году. В начале рассматриваемого периода «12+» являются лидерами, но затем «16+» выходят на первое место, и в 2019 году первое место занимают фильмы «6+».\n",
    "\n",
    "**Потенциальные причины изменений**: Изменения могут быть связаны с множеством факторов: смена популярности жанров, смена количества и качества популярных киноновинок\n",
    "\n",
    "**В итоге** возрастные ограничения влияют на сборы"
   ]
  },
  {
   "cell_type": "markdown",
   "metadata": {},
   "source": [
    "<div class=\"alert-warning\" style=\"padding: 20px; border-radius: 10px\">\n",
    "<b>Комментарий ревьюера ⚠️</b>\n",
    "\n",
    "Динамика суммарных сборов по годам показана верно, но также стоит вывести график и таблицу по суммарным сборам за весь рассматриваемый период (в разрезе возрастных категорий).\n",
    "    \n",
    ">Фильмы с каким возрастным ограничением собрали больше всего денег в прокате?"
   ]
  },
  {
   "cell_type": "markdown",
   "metadata": {},
   "source": [
    "фильмы с возрастным ограничением «16+» - для детей старше 16 лет"
   ]
  },
  {
   "cell_type": "markdown",
   "metadata": {},
   "source": [
    "<div class=\"alert-warning\" style=\"padding: 20px; border-radius: 10px\">\n",
    "<b>Комментарий ревьюера ⚠️</b>\n",
    "\n",
    "Шаг исследовательского анализа стоит подитожить кратким выводом по рассмотренным параметрам фильмов. </div>"
   ]
  },
  {
   "cell_type": "markdown",
   "metadata": {
    "id": "l_Kg6Ku4gFya"
   },
   "source": [
    "### Шаг 4. Исследуйте фильмы, которые получили государственную поддержку\n",
    "\n",
    "На этом этапе нет конкретных инструкций и заданий — поищите интересные закономерности в данных. Посмотрите, сколько выделяют средств на поддержку кино. Проверьте, хорошо ли окупаются такие фильмы, какой у них рейтинг."
   ]
  },
  {
   "cell_type": "markdown",
   "metadata": {},
   "source": [
    "<div class=\"alert-info\" style=\"padding: 20px; border-radius: 10px\">\n",
    "v2 полностью переписал. Шаги↓\n",
    "Выделяю российские фильмы с господдержкой и без неё\n",
    "Средний рейтинг российских фильмов с господдержкой\n",
    "Средний рейтинг российских фильмов без господдержки\n",
    "Суммарные сборы российских фильмов с господдержкой\n",
    "Суммарные сборы российских фильмов без господдержки\n",
    "Топ режиссёров и жанров по объёму господдержки\n",
    "Сравниваю успешность этих фильмов (например, через коэффициент возврата и рейтинги)\n",
    "\n",
    "    </div>"
   ]
  },
  {
   "cell_type": "code",
   "execution_count": 21,
   "metadata": {
    "id": "W9QKpjUdgFyb"
   },
   "outputs": [
    {
     "name": "stdout",
     "output_type": "stream",
     "text": [
      "Средний рейтинг российских фильмов с гос. поддержкой: 6.007382550335571\n",
      "Средний рейтинг российских фильмов без гос. поддержки: 6.169846153846154\n",
      "Суммарные сборы российских фильмов с гос. поддержкой: 40920116445.27\n",
      "Суммарные сборы российских фильмов без гос. поддержки: 8406239138.06\n",
      "Топ режиссёров по объёму господдержки:\n"
     ]
    },
    {
     "data": {
      "text/html": [
       "<div>\n",
       "<style scoped>\n",
       "    .dataframe tbody tr th:only-of-type {\n",
       "        vertical-align: middle;\n",
       "    }\n",
       "\n",
       "    .dataframe tbody tr th {\n",
       "        vertical-align: top;\n",
       "    }\n",
       "\n",
       "    .dataframe thead th {\n",
       "        text-align: right;\n",
       "    }\n",
       "</style>\n",
       "<table border=\"1\" class=\"dataframe\">\n",
       "  <thead>\n",
       "    <tr style=\"text-align: right;\">\n",
       "      <th></th>\n",
       "      <th>refundable_support</th>\n",
       "      <th>nonrefundable_support</th>\n",
       "    </tr>\n",
       "    <tr>\n",
       "      <th>director</th>\n",
       "      <th></th>\n",
       "      <th></th>\n",
       "    </tr>\n",
       "  </thead>\n",
       "  <tbody>\n",
       "    <tr>\n",
       "      <th>Д.Дьяченко</th>\n",
       "      <td>171000000.0</td>\n",
       "      <td>180000000.0</td>\n",
       "    </tr>\n",
       "    <tr>\n",
       "      <th>А.Мизгирев</th>\n",
       "      <td>150000000.0</td>\n",
       "      <td>300000000.0</td>\n",
       "    </tr>\n",
       "    <tr>\n",
       "      <th>Н.Хомерики</th>\n",
       "      <td>120000000.0</td>\n",
       "      <td>540000000.0</td>\n",
       "    </tr>\n",
       "    <tr>\n",
       "      <th>К.Бронзит</th>\n",
       "      <td>115000000.0</td>\n",
       "      <td>0.0</td>\n",
       "    </tr>\n",
       "    <tr>\n",
       "      <th>А.Учитель</th>\n",
       "      <td>110000000.0</td>\n",
       "      <td>190000000.0</td>\n",
       "    </tr>\n",
       "  </tbody>\n",
       "</table>\n",
       "</div>"
      ],
      "text/plain": [
       "            refundable_support  nonrefundable_support\n",
       "director                                             \n",
       "Д.Дьяченко         171000000.0            180000000.0\n",
       "А.Мизгирев         150000000.0            300000000.0\n",
       "Н.Хомерики         120000000.0            540000000.0\n",
       "К.Бронзит          115000000.0                    0.0\n",
       "А.Учитель          110000000.0            190000000.0"
      ]
     },
     "metadata": {},
     "output_type": "display_data"
    },
    {
     "name": "stdout",
     "output_type": "stream",
     "text": [
      "\n",
      "Топ жанров по объёму господдержки:\n"
     ]
    },
    {
     "data": {
      "text/html": [
       "<div>\n",
       "<style scoped>\n",
       "    .dataframe tbody tr th:only-of-type {\n",
       "        vertical-align: middle;\n",
       "    }\n",
       "\n",
       "    .dataframe tbody tr th {\n",
       "        vertical-align: top;\n",
       "    }\n",
       "\n",
       "    .dataframe thead th {\n",
       "        text-align: right;\n",
       "    }\n",
       "</style>\n",
       "<table border=\"1\" class=\"dataframe\">\n",
       "  <thead>\n",
       "    <tr style=\"text-align: right;\">\n",
       "      <th></th>\n",
       "      <th>refundable_support</th>\n",
       "      <th>nonrefundable_support</th>\n",
       "    </tr>\n",
       "    <tr>\n",
       "      <th>genres</th>\n",
       "      <th></th>\n",
       "      <th></th>\n",
       "    </tr>\n",
       "  </thead>\n",
       "  <tbody>\n",
       "    <tr>\n",
       "      <th>комедия</th>\n",
       "      <td>349500000.0</td>\n",
       "      <td>8.802490e+08</td>\n",
       "    </tr>\n",
       "    <tr>\n",
       "      <th>драма</th>\n",
       "      <td>288346881.0</td>\n",
       "      <td>1.792100e+09</td>\n",
       "    </tr>\n",
       "    <tr>\n",
       "      <th>мультфильм, приключения, семейный</th>\n",
       "      <td>265000000.0</td>\n",
       "      <td>4.000000e+07</td>\n",
       "    </tr>\n",
       "    <tr>\n",
       "      <th>мультфильм, комедия, приключения</th>\n",
       "      <td>225000000.0</td>\n",
       "      <td>3.350000e+08</td>\n",
       "    </tr>\n",
       "    <tr>\n",
       "      <th>комедия, мелодрама</th>\n",
       "      <td>173000000.0</td>\n",
       "      <td>5.312000e+08</td>\n",
       "    </tr>\n",
       "  </tbody>\n",
       "</table>\n",
       "</div>"
      ],
      "text/plain": [
       "                                   refundable_support  nonrefundable_support\n",
       "genres                                                                      \n",
       "комедия                                   349500000.0           8.802490e+08\n",
       "драма                                     288346881.0           1.792100e+09\n",
       "мультфильм, приключения, семейный         265000000.0           4.000000e+07\n",
       "мультфильм, комедия, приключения          225000000.0           3.350000e+08\n",
       "комедия, мелодрама                        173000000.0           5.312000e+08"
      ]
     },
     "metadata": {},
     "output_type": "display_data"
    },
    {
     "name": "stdout",
     "output_type": "stream",
     "text": [
      "Средний коэф возврата инвестиций: 1.8818558997658466\n"
     ]
    }
   ],
   "source": [
    "russian_supported_films = mkrf[(mkrf['production_country'] == 'Россия') & \n",
    "                               ((mkrf['refundable_support']>0) | \n",
    "                                (mkrf['nonrefundable_support'] > 0))].copy()\n",
    "\n",
    "russian_unsupported_films = mkrf[(mkrf['production_country'] == 'Россия') & \n",
    "                                 (mkrf['refundable_support'].isnull() | \n",
    "                                  mkrf['refundable_support'] == 0) &\n",
    "                                 (mkrf['nonrefundable_support'].isnull() | \n",
    "                                  mkrf['nonrefundable_support'] == 0)].copy()\n",
    "\n",
    "\n",
    "average_rating_supported_russian = russian_supported_films['ratings'].mean()\n",
    "\n",
    "average_rating_unsupported_russian = russian_unsupported_films['ratings'].mean()\n",
    "\n",
    "total_box_office_supported_russian = russian_supported_films['box_office'].sum()\n",
    "\n",
    "total_box_office_unsupported_russian = russian_unsupported_films['box_office'].sum()\n",
    "\n",
    "print(f\"Средний рейтинг российских фильмов с гос. поддержкой: {average_rating_supported_russian}\")\n",
    "print(f\"Средний рейтинг российских фильмов без гос. поддержки: {average_rating_unsupported_russian}\")\n",
    "print(f\"Суммарные сборы российских фильмов с гос. поддержкой: {total_box_office_supported_russian}\")\n",
    "print(f\"Суммарные сборы российских фильмов без гос. поддержки: {total_box_office_unsupported_russian}\")\n",
    "\n",
    "\n",
    "top_directors_support = russian_supported_films.groupby('director')[['refundable_support', 'nonrefundable_support']].sum().sort_values(by=['refundable_support', 'nonrefundable_support'], ascending=False)\n",
    "top_genres_support = russian_supported_films.groupby('genres')[['refundable_support', 'nonrefundable_support']].sum().sort_values(by=['refundable_support', 'nonrefundable_support'], ascending=False)\n",
    "\n",
    "print(\"Топ режиссёров по объёму господдержки:\")\n",
    "display(top_directors_support.head())\n",
    "print(\"\\nТоп жанров по объёму господдержки:\")\n",
    "display(top_genres_support.head())\n",
    "\n",
    "\n",
    "russian_supported_films['total_support'] = russian_supported_films['refundable_support'] + russian_supported_films['nonrefundable_support']\n",
    "russian_supported_films['return_on_investment'] = russian_supported_films['box_office'] / russian_supported_films['total_support']\n",
    "\n",
    "print(f\"Средний коэф возврата инвестиций: {(russian_supported_films['return_on_investment']).mean()}\")\n"
   ]
  },
  {
   "cell_type": "markdown",
   "metadata": {},
   "source": [
    "<div class=\"alert-danger\" style=\"padding: 20px; border-radius: 10px\">\n",
    "<b>Комментарий ревьюера ❌</b></h5>\n",
    "\n",
    "<s>Здесь корректнее было бы сравнить фильмы, получившие господдержку не со всеми остальными фильмами, а только с российскими.\n",
    "\n",
    "Для того чтобы понять, насколько эффективна господдержка, давай попробуем выделить в два датафрейма российские фильмы с господдержкой и без нее и сравнить их по среднему рейтингу и суммарным сборам.\n",
    "\n",
    "Также, интересно было бы посмотреть, какие режиссеры, жанры получили наибольшую господдержку и насколько успешны были эти фильмы.</div>"
   ]
  },
  {
   "cell_type": "markdown",
   "metadata": {},
   "source": [
    "<div class=\"alert-info\" style=\"padding: 20px; border-radius: 10px\">\n",
    "\n",
    "v2.\n",
    "1. **Средний рейтинг**:\n",
    "    - Российские фильмы с государственной поддержкой имеют средний рейтинг **6.01**.\n",
    "    - Российские фильмы без государственной поддержки имеют несколько более высокий средний рейтинг **6.17**.\n",
    "   \n",
    "   Эти данные могут свидетельствовать о том, что государственная поддержка сама по себе не гарантирует более высокий рейтинг фильмов.\n",
    "\n",
    "2. **Суммарные сборы**:\n",
    "    - Суммарные кассовые сборы российских фильмов с господдержкой составили **40,920,116,445.27** рублей.\n",
    "    - Суммарные кассовые сборы российских фильмов без господдержки составили **8,406,239,138.06** рублей.\n",
    "    \n",
    "    Российские фильмы с господдержкой собрали значительно больше средств, по сравнению с фильмами без государственной поддержки. Это может говорить о том, что инвестирование государства играет роль в увеличении кассовых сборов.\n",
    "\n",
    "3. **Топ режиссёров и жанров**:\n",
    "    - Среди режиссёров наибольшую государственную поддержку получили Дмитрий Дьяченко, Алексей Мизгирев и Наталия Хомерики.\n",
    "    - Жанры, которые были наиболее поддержаны в финансовом плане – это комедии и драмы.\n",
    "\n",
    "4. **Коэффициент возврата инвестиций**:\n",
    "    - Средний коэффициент возврата инвестиций для российских фильмов с государственной поддержкой составляет **1.88**, что означает, что в среднем каждый рубль государственных инвестиций возвращается с небольшим профитом.\n",
    "    \n",
    "</div>"
   ]
  },
  {
   "cell_type": "markdown",
   "metadata": {},
   "source": [
    "<div class=\"alert-success\" style=\"padding: 20px; border-radius: 10px\">\n",
    "<b>Комментарий ревьюера V2 ✔️</b>\n",
    "\n",
    "Хорошее дополнение. Возможно сборы фильмов с господдержкой больше так как часть средств идет на раскрутку. И в то же время, получается что на качество фильмов господдержка не влияет, раз зрители оценивают их ниже.</div>"
   ]
  },
  {
   "cell_type": "markdown",
   "metadata": {
    "id": "V2gYwMcPgFyd"
   },
   "source": [
    "### Шаг 5. Напишите общий вывод"
   ]
  },
  {
   "cell_type": "markdown",
   "metadata": {},
   "source": [
    "Всего выделено средств госсподдержки 19 645 688 312 рублей.  \n",
    "Но, всего 30% из фильмов окупаются и приносят прибыль.\n",
    "\n",
    "Средний рейтинг фильмов с господдержкой в районе 6. Средний рейтинг фильмов без господдержки 6.5, что означает больший интерес аудитории."
   ]
  },
  {
   "cell_type": "markdown",
   "metadata": {},
   "source": [
    "<div class=\"alert-info\" style=\"padding: 20px; border-radius: 10px\">\n",
    "\n",
    "v2.\n",
    "**Краткий обзор проведённой работы:**\n",
    "\n",
    "В ходе исследования были выполнены следующие этапы предобработки и анализа данных о российских фильмах с государственной поддержкой и без неё:\n",
    "\n",
    "**Предобработка данных:** проверка данных на наличие пропусков, дубликатов, несоответствий и их обработка. Подготовка данных к аналитическому процессу.\n",
    "\n",
    "**Исследовательский анализ данных (EDA):**\n",
    "Анализ распределения числа фильмов, вышедших в прокат ежегодно.\n",
    "Вычисление доли фильмов с информацией о прокате и ее изменение по годам.\n",
    "Оценка динамики проката по годам, определение годов с минимальными и максимальными сборами.\n",
    "Создание сводных таблиц для анализа средних и медианных сборов по годам.\n",
    "Изучение влияния возрастного ограничения на финансовый успех фильмов в период с 2015 по 2019 год.\n",
    "Анализ фильмов с государственной поддержкой:\n",
    "\n",
    "**Оценка объемов государственного финансирования кино.**\n",
    "Анализ окупаемости фильмов, получивших господдержку.\n",
    "Исследование рейтингов популярности таких фильмов.\n",
    "\n",
    "**Главные выводы:**\n",
    "\n",
    "1. Господдержка оказывает заметное влияние на кассовые сборы фильмов — она помогает увеличить сборы российских фильмов.\n",
    "2. Несмотря на финансовую поддержку, средний рейтинг фильмов с господдержкой оставался ниже, чем у фильмов без господдержки.\n",
    "3. Комедии и драмы являются наиболее часто поддерживаемыми жанрами, что указывает на предпочтения политики государственного финансирования.\n",
    "4. Коэффициент возврата инвестиций показал, что государственные инвестиции, в среднем, окупаются и приносят прибыль.\n",
    "\n",
    "**Рекомендации:**\n",
    "\n",
    "1. Для повышения эффективности господдержки рекомендуется не только учитывать коммерческую успешность, но и ставить акцент на качестве контента и рейтинге, возможно, учитывая мнение зрителей при выборе проектов для финансирования.\n",
    "2. Можно расширить разнообразие поддерживаемых жанров, при этом сохраняя фокус на жанрах, которые уже показывают хорошие результаты.\n",
    "3. Анализ необходимо продолжить с учетом более детальных данных, включая данные о рынке, изменениях в предпочтениях аудитории и конъюнктуре кинопроката, чтобы разработать комплексные рекомендации.\n",
    "\n",
    "Для предотвращения дубликатов на этапе сбора данных:\n",
    "\n",
    "- Улучшить процессы ввода и курирования данных, чтобы избежать повторного включения одинаковой информации.\n",
    "- Ввести уникальные идентификаторы для каждого фильма, которые будут проверяться при добавлении новых записей.\n",
    "\n",
    "**Прогнозы на будущее:**\n",
    "\n",
    "- Если будет продолжаться текущий тренд поддержки определенных жанров и режиссеров, можно ожидать рост кассовых сборов в этих категориях, но влияние на качество и рейтинги может остаться ограниченным.\n",
    "- Разнообразие господдержки, основанное на более...(Вывод обрезан)\n",
    "\n",
    "</div>"
   ]
  },
  {
   "cell_type": "markdown",
   "metadata": {},
   "source": [
    "<div class=\"alert-success\" style=\"border-radius: 10px; padding: 20px\">\n",
    "<b>Комментарий ревьюера V2 ✔️</b>\n",
    "\n",
    "Теперь у тебя получился подробный и правильный вывод, отражающий все основные результаты исследования. 👌</div>"
   ]
  },
  {
   "cell_type": "markdown",
   "metadata": {
    "id": "AYRg3dzXgFye"
   },
   "source": [
    "<div class=\"alert-danger\" style=\"padding: 20px; border-radius: 10px\">\n",
    "<b>Комментарий ревьюера ❌</b></h5>\n",
    "\n",
    "<s>Кажется, что итоговый вывод не отражает всех результатов исследования.\n",
    "\n",
    "Материалы курса рекомендуют такую структуру итогового вывода:\n",
    "\n",
    "[![image.png](https://i.postimg.cc/yxCDwdDC/image.png)](https://postimg.cc/mzVZ9T3m)"
   ]
  },
  {
   "cell_type": "markdown",
   "metadata": {},
   "source": [
    "<div style=\"border:solid steelblue 3px; padding: 20px; border-radius: 10px\">\n",
    "\n",
    "<h5><b>🏁 Общий комментарий ревьюера:</b></h5>\n",
    "\n",
    "Ты проделал большую работу над проектом. Но нужно кое-что поправить, чтобы я его принял.\n",
    "\n",
    "Критические замечания я добавил в меню **Contents** слева.\n",
    "\n",
    "Также, постарайся отработать желтые комментарии и уделить внимание оформлению исследования.\n",
    "\n",
    "Буду ждать твой доработанный проект. ⌛️"
   ]
  },
  {
   "cell_type": "markdown",
   "metadata": {},
   "source": [
    "<div style=\"border:solid steelblue 3px; padding: 20px; border-radius: 10px\">\n",
    "\n",
    "<h5><b>🏁 Общий комментарий ревьюера V2</b></h5>\n",
    "\n",
    "Отличная работа! Ты внимательно учел мои комментарии и проделал большую работу по улучшению проекта.\n",
    "\n",
    "Успехов в дальнейшем обучении! 🏆\n",
    "\n",
    "</div>"
   ]
  },
  {
   "cell_type": "code",
   "execution_count": null,
   "metadata": {},
   "outputs": [],
   "source": []
  }
 ],
 "metadata": {
  "ExecuteTimeLog": [
   {
    "duration": 537,
    "start_time": "2021-07-07T10:12:08.634Z"
   },
   {
    "duration": 206,
    "start_time": "2021-07-07T10:12:30.191Z"
   },
   {
    "duration": 227,
    "start_time": "2021-07-07T10:12:33.078Z"
   },
   {
    "duration": 153,
    "start_time": "2021-07-07T10:13:42.146Z"
   },
   {
    "duration": 233,
    "start_time": "2021-07-07T10:30:09.252Z"
   },
   {
    "duration": 19,
    "start_time": "2021-07-07T10:30:15.577Z"
   },
   {
    "duration": 18,
    "start_time": "2021-07-07T10:30:57.348Z"
   },
   {
    "duration": 19,
    "start_time": "2021-07-07T10:31:17.452Z"
   },
   {
    "duration": 21,
    "start_time": "2021-07-07T10:31:32.227Z"
   },
   {
    "duration": 27,
    "start_time": "2021-07-07T10:32:06.588Z"
   },
   {
    "duration": 23,
    "start_time": "2021-07-07T10:32:43.645Z"
   },
   {
    "duration": 24,
    "start_time": "2021-07-07T10:33:06.948Z"
   },
   {
    "duration": 7,
    "start_time": "2021-07-07T10:33:28.558Z"
   },
   {
    "duration": 23,
    "start_time": "2021-07-07T10:33:43.761Z"
   },
   {
    "duration": 28,
    "start_time": "2021-07-07T10:34:13.466Z"
   },
   {
    "duration": 23,
    "start_time": "2021-07-07T10:35:56.187Z"
   },
   {
    "duration": 6,
    "start_time": "2021-07-07T10:36:48.182Z"
   },
   {
    "duration": 14,
    "start_time": "2021-07-07T10:37:49.641Z"
   },
   {
    "duration": 6,
    "start_time": "2021-07-07T10:38:06.694Z"
   },
   {
    "duration": 6,
    "start_time": "2021-07-07T10:38:13.493Z"
   },
   {
    "duration": 19,
    "start_time": "2021-07-07T10:38:44.056Z"
   },
   {
    "duration": 186,
    "start_time": "2021-07-07T10:48:35.618Z"
   },
   {
    "duration": 24,
    "start_time": "2021-07-07T10:48:51.498Z"
   },
   {
    "duration": 20,
    "start_time": "2021-07-07T10:48:59.415Z"
   },
   {
    "duration": 20,
    "start_time": "2021-07-07T10:53:02.195Z"
   },
   {
    "duration": 188,
    "start_time": "2021-07-07T10:54:40.486Z"
   },
   {
    "duration": 115,
    "start_time": "2021-07-07T10:54:52.552Z"
   },
   {
    "duration": 214,
    "start_time": "2021-07-07T10:54:56.354Z"
   },
   {
    "duration": 47,
    "start_time": "2021-07-07T10:54:58.282Z"
   },
   {
    "duration": 217,
    "start_time": "2021-07-07T10:59:16.075Z"
   },
   {
    "duration": 51,
    "start_time": "2021-07-07T10:59:16.243Z"
   },
   {
    "duration": 578,
    "start_time": "2021-07-07T10:59:18.774Z"
   },
   {
    "duration": 161,
    "start_time": "2021-07-07T10:59:21.238Z"
   },
   {
    "duration": 59,
    "start_time": "2021-07-07T10:59:21.453Z"
   },
   {
    "duration": 3,
    "start_time": "2021-07-07T11:02:10.786Z"
   },
   {
    "duration": 13,
    "start_time": "2021-07-07T11:07:07.722Z"
   },
   {
    "duration": 26,
    "start_time": "2021-07-07T11:07:17.958Z"
   },
   {
    "duration": 22,
    "start_time": "2021-07-07T11:08:17.939Z"
   },
   {
    "duration": 212,
    "start_time": "2021-07-07T11:08:19.665Z"
   },
   {
    "duration": 21,
    "start_time": "2021-07-07T11:08:29.945Z"
   },
   {
    "duration": 31,
    "start_time": "2021-07-07T11:08:38.899Z"
   },
   {
    "duration": 23,
    "start_time": "2021-07-07T11:08:54.527Z"
   },
   {
    "duration": 8,
    "start_time": "2021-07-07T11:18:55.974Z"
   },
   {
    "duration": 7,
    "start_time": "2021-07-07T11:19:03.639Z"
   },
   {
    "duration": 7,
    "start_time": "2021-07-07T11:19:06.444Z"
   },
   {
    "duration": 578,
    "start_time": "2021-07-07T12:09:59.576Z"
   },
   {
    "duration": 195,
    "start_time": "2021-07-07T12:10:00.156Z"
   },
   {
    "duration": 115,
    "start_time": "2021-07-07T12:10:00.353Z"
   },
   {
    "duration": 3,
    "start_time": "2021-07-07T12:10:00.470Z"
   },
   {
    "duration": 32,
    "start_time": "2021-07-07T12:10:00.474Z"
   },
   {
    "duration": 23,
    "start_time": "2021-07-07T12:10:00.508Z"
   },
   {
    "duration": 19,
    "start_time": "2021-07-07T12:10:00.533Z"
   },
   {
    "duration": 44,
    "start_time": "2021-07-07T12:10:00.553Z"
   },
   {
    "duration": 7,
    "start_time": "2021-07-07T12:10:00.600Z"
   },
   {
    "duration": 7,
    "start_time": "2021-07-07T12:19:45.761Z"
   },
   {
    "duration": 21,
    "start_time": "2021-07-07T12:21:35.482Z"
   },
   {
    "duration": 21,
    "start_time": "2021-07-07T12:29:23.569Z"
   },
   {
    "duration": 525,
    "start_time": "2021-07-07T12:29:44.542Z"
   },
   {
    "duration": 214,
    "start_time": "2021-07-07T12:29:45.069Z"
   },
   {
    "duration": 92,
    "start_time": "2021-07-07T12:29:45.285Z"
   },
   {
    "duration": 3,
    "start_time": "2021-07-07T12:29:45.379Z"
   },
   {
    "duration": 28,
    "start_time": "2021-07-07T12:29:45.384Z"
   },
   {
    "duration": 23,
    "start_time": "2021-07-07T12:29:45.413Z"
   },
   {
    "duration": 21,
    "start_time": "2021-07-07T12:29:45.437Z"
   },
   {
    "duration": 41,
    "start_time": "2021-07-07T12:29:45.460Z"
   },
   {
    "duration": 7,
    "start_time": "2021-07-07T12:29:45.502Z"
   },
   {
    "duration": 20,
    "start_time": "2021-07-07T12:29:45.511Z"
   },
   {
    "duration": 12,
    "start_time": "2021-07-07T12:34:02.800Z"
   },
   {
    "duration": 7,
    "start_time": "2021-07-07T12:35:10.479Z"
   },
   {
    "duration": 8,
    "start_time": "2021-07-07T12:35:22.440Z"
   },
   {
    "duration": 6,
    "start_time": "2021-07-07T12:35:35.649Z"
   },
   {
    "duration": 6,
    "start_time": "2021-07-07T12:35:43.107Z"
   },
   {
    "duration": 22,
    "start_time": "2021-07-07T12:38:03.029Z"
   },
   {
    "duration": 10,
    "start_time": "2021-07-07T12:38:06.592Z"
   },
   {
    "duration": 563,
    "start_time": "2021-07-07T12:38:46.493Z"
   },
   {
    "duration": 265,
    "start_time": "2021-07-07T12:38:47.058Z"
   },
   {
    "duration": 94,
    "start_time": "2021-07-07T12:38:47.325Z"
   },
   {
    "duration": 3,
    "start_time": "2021-07-07T12:38:47.422Z"
   },
   {
    "duration": 30,
    "start_time": "2021-07-07T12:38:47.427Z"
   },
   {
    "duration": 16,
    "start_time": "2021-07-07T12:38:53.305Z"
   },
   {
    "duration": 10,
    "start_time": "2021-07-07T12:38:53.499Z"
   },
   {
    "duration": 8,
    "start_time": "2021-07-07T12:39:48.161Z"
   },
   {
    "duration": 27,
    "start_time": "2021-07-07T12:41:17.629Z"
   },
   {
    "duration": 17,
    "start_time": "2021-07-07T12:41:17.867Z"
   },
   {
    "duration": 21,
    "start_time": "2021-07-07T12:41:19.310Z"
   },
   {
    "duration": 7,
    "start_time": "2021-07-07T12:41:19.544Z"
   },
   {
    "duration": 20,
    "start_time": "2021-07-07T12:41:20.504Z"
   },
   {
    "duration": 554,
    "start_time": "2021-07-07T12:56:23.696Z"
   },
   {
    "duration": 200,
    "start_time": "2021-07-07T12:56:25.234Z"
   },
   {
    "duration": 119,
    "start_time": "2021-07-07T12:56:25.480Z"
   },
   {
    "duration": 4,
    "start_time": "2021-07-07T12:56:25.762Z"
   },
   {
    "duration": 26,
    "start_time": "2021-07-07T12:56:27.172Z"
   },
   {
    "duration": 12,
    "start_time": "2021-07-07T12:56:29.051Z"
   },
   {
    "duration": 10,
    "start_time": "2021-07-07T12:56:29.291Z"
   },
   {
    "duration": 8,
    "start_time": "2021-07-07T12:56:29.623Z"
   },
   {
    "duration": 28,
    "start_time": "2021-07-07T12:56:32.137Z"
   },
   {
    "duration": 19,
    "start_time": "2021-07-07T12:56:39.785Z"
   },
   {
    "duration": 20,
    "start_time": "2021-07-07T12:56:44.297Z"
   },
   {
    "duration": 7,
    "start_time": "2021-07-07T12:56:45.392Z"
   },
   {
    "duration": 23,
    "start_time": "2021-07-07T12:56:46.615Z"
   },
   {
    "duration": 4,
    "start_time": "2021-07-07T12:57:06.625Z"
   },
   {
    "duration": 32,
    "start_time": "2021-07-07T12:57:36.690Z"
   },
   {
    "duration": 18,
    "start_time": "2021-07-07T12:58:00.149Z"
   },
   {
    "duration": 15,
    "start_time": "2021-07-07T12:59:16.793Z"
   },
   {
    "duration": 7,
    "start_time": "2021-07-07T13:19:22.624Z"
   },
   {
    "duration": 6,
    "start_time": "2021-07-07T14:17:33.527Z"
   },
   {
    "duration": 9,
    "start_time": "2021-07-07T14:17:48.409Z"
   },
   {
    "duration": 8,
    "start_time": "2021-07-07T14:20:13.060Z"
   },
   {
    "duration": 8,
    "start_time": "2021-07-07T14:20:37.957Z"
   },
   {
    "duration": 8,
    "start_time": "2021-07-07T14:20:47.470Z"
   },
   {
    "duration": 9,
    "start_time": "2021-07-07T14:20:54.503Z"
   },
   {
    "duration": 10,
    "start_time": "2021-07-07T14:28:57.763Z"
   },
   {
    "duration": 3,
    "start_time": "2021-07-07T14:30:23.377Z"
   },
   {
    "duration": 3,
    "start_time": "2021-07-07T14:30:36.489Z"
   },
   {
    "duration": 103,
    "start_time": "2021-07-07T14:30:52.351Z"
   },
   {
    "duration": 8,
    "start_time": "2021-07-07T14:30:54.763Z"
   },
   {
    "duration": 8,
    "start_time": "2021-07-07T14:31:29.301Z"
   },
   {
    "duration": 13,
    "start_time": "2021-07-07T14:31:44.516Z"
   },
   {
    "duration": 7,
    "start_time": "2021-07-07T14:33:10.972Z"
   },
   {
    "duration": 11,
    "start_time": "2021-07-07T14:33:27.780Z"
   },
   {
    "duration": 8,
    "start_time": "2021-07-07T14:34:44.588Z"
   },
   {
    "duration": 57,
    "start_time": "2021-07-07T14:35:59.042Z"
   },
   {
    "duration": 3,
    "start_time": "2021-07-07T14:36:28.168Z"
   },
   {
    "duration": 5,
    "start_time": "2021-07-07T14:36:46.254Z"
   },
   {
    "duration": 4,
    "start_time": "2021-07-07T14:36:52.714Z"
   },
   {
    "duration": 3,
    "start_time": "2021-07-07T14:36:56.612Z"
   },
   {
    "duration": 4,
    "start_time": "2021-07-07T14:36:57.049Z"
   },
   {
    "duration": 3,
    "start_time": "2021-07-07T14:39:21.214Z"
   },
   {
    "duration": 7,
    "start_time": "2021-07-07T14:39:52.406Z"
   },
   {
    "duration": 11,
    "start_time": "2021-07-07T14:39:58.576Z"
   },
   {
    "duration": 9,
    "start_time": "2021-07-07T14:40:26.301Z"
   },
   {
    "duration": 10,
    "start_time": "2021-07-07T14:40:31.704Z"
   },
   {
    "duration": 11,
    "start_time": "2021-07-07T14:40:36.249Z"
   },
   {
    "duration": 10,
    "start_time": "2021-07-07T14:40:39.783Z"
   },
   {
    "duration": 9,
    "start_time": "2021-07-07T14:40:48.558Z"
   },
   {
    "duration": 10,
    "start_time": "2021-07-07T14:40:57.143Z"
   },
   {
    "duration": 9,
    "start_time": "2021-07-07T14:41:06.074Z"
   },
   {
    "duration": 4324,
    "start_time": "2021-07-07T14:41:22.004Z"
   },
   {
    "duration": 11,
    "start_time": "2021-07-07T14:41:33.392Z"
   },
   {
    "duration": 9,
    "start_time": "2021-07-07T14:41:39.288Z"
   },
   {
    "duration": 569,
    "start_time": "2021-07-07T14:42:14.387Z"
   },
   {
    "duration": 197,
    "start_time": "2021-07-07T14:42:14.959Z"
   },
   {
    "duration": 84,
    "start_time": "2021-07-07T14:42:16.052Z"
   },
   {
    "duration": 4,
    "start_time": "2021-07-07T14:42:16.900Z"
   },
   {
    "duration": 27,
    "start_time": "2021-07-07T14:42:19.898Z"
   },
   {
    "duration": 12,
    "start_time": "2021-07-07T14:42:21.577Z"
   },
   {
    "duration": 9,
    "start_time": "2021-07-07T14:42:21.813Z"
   },
   {
    "duration": 9,
    "start_time": "2021-07-07T14:42:22.569Z"
   },
   {
    "duration": 29,
    "start_time": "2021-07-07T14:42:25.837Z"
   },
   {
    "duration": 20,
    "start_time": "2021-07-07T14:42:27.003Z"
   },
   {
    "duration": 21,
    "start_time": "2021-07-07T14:42:28.767Z"
   },
   {
    "duration": 7,
    "start_time": "2021-07-07T14:42:29.838Z"
   },
   {
    "duration": 4,
    "start_time": "2021-07-07T14:43:25.493Z"
   },
   {
    "duration": 7,
    "start_time": "2021-07-07T14:43:26.573Z"
   },
   {
    "duration": 10,
    "start_time": "2021-07-07T14:43:31.639Z"
   },
   {
    "duration": 9,
    "start_time": "2021-07-07T14:43:32.046Z"
   },
   {
    "duration": 10,
    "start_time": "2021-07-07T14:43:33.301Z"
   },
   {
    "duration": 12,
    "start_time": "2021-07-07T14:43:33.658Z"
   },
   {
    "duration": 8,
    "start_time": "2021-07-07T14:43:34.552Z"
   },
   {
    "duration": 9,
    "start_time": "2021-07-07T14:43:35.058Z"
   },
   {
    "duration": 12,
    "start_time": "2021-07-07T14:43:35.914Z"
   },
   {
    "duration": 17,
    "start_time": "2021-07-07T14:45:34.368Z"
   },
   {
    "duration": 512,
    "start_time": "2021-07-07T14:51:58.236Z"
   },
   {
    "duration": 223,
    "start_time": "2021-07-07T14:51:58.750Z"
   },
   {
    "duration": 93,
    "start_time": "2021-07-07T14:51:58.977Z"
   },
   {
    "duration": 4,
    "start_time": "2021-07-07T14:51:59.071Z"
   },
   {
    "duration": 37,
    "start_time": "2021-07-07T14:51:59.077Z"
   },
   {
    "duration": 18,
    "start_time": "2021-07-07T14:51:59.116Z"
   },
   {
    "duration": 10,
    "start_time": "2021-07-07T14:51:59.137Z"
   },
   {
    "duration": 8,
    "start_time": "2021-07-07T14:51:59.149Z"
   },
   {
    "duration": 54,
    "start_time": "2021-07-07T14:51:59.158Z"
   },
   {
    "duration": 18,
    "start_time": "2021-07-07T14:51:59.213Z"
   },
   {
    "duration": 22,
    "start_time": "2021-07-07T14:51:59.232Z"
   },
   {
    "duration": 36,
    "start_time": "2021-07-07T14:51:59.255Z"
   },
   {
    "duration": 7,
    "start_time": "2021-07-07T14:51:59.293Z"
   },
   {
    "duration": 10,
    "start_time": "2021-07-07T14:51:59.302Z"
   },
   {
    "duration": 9,
    "start_time": "2021-07-07T14:51:59.313Z"
   },
   {
    "duration": 11,
    "start_time": "2021-07-07T14:51:59.324Z"
   },
   {
    "duration": 8,
    "start_time": "2021-07-07T14:51:59.337Z"
   },
   {
    "duration": 46,
    "start_time": "2021-07-07T14:51:59.347Z"
   },
   {
    "duration": 22,
    "start_time": "2021-07-07T14:51:59.395Z"
   },
   {
    "duration": 24,
    "start_time": "2021-07-07T14:57:32.911Z"
   },
   {
    "duration": 7,
    "start_time": "2021-07-07T14:58:22.070Z"
   },
   {
    "duration": 4,
    "start_time": "2021-07-07T14:59:11.239Z"
   },
   {
    "duration": 25,
    "start_time": "2021-07-07T15:07:22.208Z"
   },
   {
    "duration": 16,
    "start_time": "2021-07-07T15:08:25.560Z"
   },
   {
    "duration": 15,
    "start_time": "2021-07-07T15:08:40.647Z"
   },
   {
    "duration": 14,
    "start_time": "2021-07-07T15:08:46.669Z"
   },
   {
    "duration": 533,
    "start_time": "2021-07-07T15:18:07.440Z"
   },
   {
    "duration": 173,
    "start_time": "2021-07-07T15:18:07.974Z"
   },
   {
    "duration": 84,
    "start_time": "2021-07-07T15:18:08.149Z"
   },
   {
    "duration": 3,
    "start_time": "2021-07-07T15:18:08.235Z"
   },
   {
    "duration": 30,
    "start_time": "2021-07-07T15:18:08.240Z"
   },
   {
    "duration": 22,
    "start_time": "2021-07-07T15:18:08.272Z"
   },
   {
    "duration": 11,
    "start_time": "2021-07-07T15:18:08.295Z"
   },
   {
    "duration": 11,
    "start_time": "2021-07-07T15:18:08.309Z"
   },
   {
    "duration": 40,
    "start_time": "2021-07-07T15:18:08.322Z"
   },
   {
    "duration": 42,
    "start_time": "2021-07-07T15:18:08.364Z"
   },
   {
    "duration": 22,
    "start_time": "2021-07-07T15:18:08.408Z"
   },
   {
    "duration": 5,
    "start_time": "2021-07-07T15:18:08.432Z"
   },
   {
    "duration": 13,
    "start_time": "2021-07-07T15:18:08.439Z"
   },
   {
    "duration": 9,
    "start_time": "2021-07-07T15:18:08.454Z"
   },
   {
    "duration": 32,
    "start_time": "2021-07-07T15:18:08.465Z"
   },
   {
    "duration": 10,
    "start_time": "2021-07-07T15:18:08.501Z"
   },
   {
    "duration": 7,
    "start_time": "2021-07-07T15:18:08.513Z"
   },
   {
    "duration": 11,
    "start_time": "2021-07-07T15:18:08.521Z"
   },
   {
    "duration": 17,
    "start_time": "2021-07-07T15:18:08.534Z"
   },
   {
    "duration": 44,
    "start_time": "2021-07-07T15:18:08.553Z"
   },
   {
    "duration": 22,
    "start_time": "2021-07-07T15:18:08.599Z"
   },
   {
    "duration": 61,
    "start_time": "2021-07-07T15:18:08.622Z"
   },
   {
    "duration": 7,
    "start_time": "2021-07-07T15:18:39.457Z"
   },
   {
    "duration": 5,
    "start_time": "2021-07-07T16:05:17.020Z"
   },
   {
    "duration": 5,
    "start_time": "2021-07-07T16:51:28.794Z"
   },
   {
    "duration": 546,
    "start_time": "2021-07-07T16:52:26.306Z"
   },
   {
    "duration": 203,
    "start_time": "2021-07-07T16:52:27.523Z"
   },
   {
    "duration": 85,
    "start_time": "2021-07-07T16:52:27.736Z"
   },
   {
    "duration": 4,
    "start_time": "2021-07-07T16:52:27.899Z"
   },
   {
    "duration": 25,
    "start_time": "2021-07-07T16:52:28.674Z"
   },
   {
    "duration": 8,
    "start_time": "2021-07-07T16:52:32.956Z"
   },
   {
    "duration": 18,
    "start_time": "2021-07-07T16:52:35.616Z"
   },
   {
    "duration": 6,
    "start_time": "2021-07-07T16:52:36.913Z"
   },
   {
    "duration": 11,
    "start_time": "2021-07-07T16:52:40.258Z"
   },
   {
    "duration": 10,
    "start_time": "2021-07-07T16:52:46.251Z"
   },
   {
    "duration": 8,
    "start_time": "2021-07-07T16:52:47.182Z"
   },
   {
    "duration": 27,
    "start_time": "2021-07-07T16:53:20.391Z"
   },
   {
    "duration": 20,
    "start_time": "2021-07-07T16:53:22.022Z"
   },
   {
    "duration": 23,
    "start_time": "2021-07-07T16:53:23.690Z"
   },
   {
    "duration": 8,
    "start_time": "2021-07-07T16:53:24.261Z"
   },
   {
    "duration": 4,
    "start_time": "2021-07-07T16:53:38.733Z"
   },
   {
    "duration": 7,
    "start_time": "2021-07-07T16:53:40.445Z"
   },
   {
    "duration": 11,
    "start_time": "2021-07-07T16:53:41.348Z"
   },
   {
    "duration": 13,
    "start_time": "2021-07-07T16:53:45.250Z"
   },
   {
    "duration": 12,
    "start_time": "2021-07-07T16:53:45.467Z"
   },
   {
    "duration": 4,
    "start_time": "2021-07-07T16:55:32.704Z"
   },
   {
    "duration": 12,
    "start_time": "2021-07-07T16:55:49.012Z"
   },
   {
    "duration": 18,
    "start_time": "2021-07-07T16:55:49.547Z"
   },
   {
    "duration": 611,
    "start_time": "2021-07-07T16:58:35.156Z"
   },
   {
    "duration": 200,
    "start_time": "2021-07-07T16:58:35.770Z"
   },
   {
    "duration": 86,
    "start_time": "2021-07-07T16:58:35.972Z"
   },
   {
    "duration": 3,
    "start_time": "2021-07-07T16:58:36.060Z"
   },
   {
    "duration": 27,
    "start_time": "2021-07-07T16:58:36.065Z"
   },
   {
    "duration": 8,
    "start_time": "2021-07-07T16:58:36.094Z"
   },
   {
    "duration": 17,
    "start_time": "2021-07-07T16:58:36.103Z"
   },
   {
    "duration": 5,
    "start_time": "2021-07-07T16:58:36.123Z"
   },
   {
    "duration": 11,
    "start_time": "2021-07-07T16:58:36.130Z"
   },
   {
    "duration": 7,
    "start_time": "2021-07-07T16:58:36.143Z"
   },
   {
    "duration": 37,
    "start_time": "2021-07-07T16:58:36.152Z"
   },
   {
    "duration": 27,
    "start_time": "2021-07-07T16:58:36.191Z"
   },
   {
    "duration": 19,
    "start_time": "2021-07-07T16:58:36.219Z"
   },
   {
    "duration": 49,
    "start_time": "2021-07-07T16:58:36.240Z"
   },
   {
    "duration": 6,
    "start_time": "2021-07-07T16:58:36.291Z"
   },
   {
    "duration": 3,
    "start_time": "2021-07-07T16:58:36.299Z"
   },
   {
    "duration": 13,
    "start_time": "2021-07-07T16:58:36.304Z"
   },
   {
    "duration": 10,
    "start_time": "2021-07-07T16:58:36.319Z"
   },
   {
    "duration": 10,
    "start_time": "2021-07-07T16:58:36.331Z"
   },
   {
    "duration": 44,
    "start_time": "2021-07-07T16:58:36.343Z"
   },
   {
    "duration": 4,
    "start_time": "2021-07-07T16:58:36.388Z"
   },
   {
    "duration": 13,
    "start_time": "2021-07-07T16:58:36.394Z"
   },
   {
    "duration": 16,
    "start_time": "2021-07-07T16:58:36.410Z"
   },
   {
    "duration": 8,
    "start_time": "2021-07-07T17:02:31.629Z"
   },
   {
    "duration": 8,
    "start_time": "2021-07-07T17:02:34.308Z"
   },
   {
    "duration": 6,
    "start_time": "2021-07-07T17:05:13.483Z"
   },
   {
    "duration": 17,
    "start_time": "2021-07-07T17:05:20.606Z"
   },
   {
    "duration": 7,
    "start_time": "2021-07-07T17:05:34.638Z"
   },
   {
    "duration": 3,
    "start_time": "2021-07-07T17:06:31.883Z"
   },
   {
    "duration": 570,
    "start_time": "2021-07-07T17:06:37.165Z"
   },
   {
    "duration": 174,
    "start_time": "2021-07-07T17:06:37.737Z"
   },
   {
    "duration": 47,
    "start_time": "2021-07-07T17:06:37.913Z"
   },
   {
    "duration": 3,
    "start_time": "2021-07-07T17:06:37.962Z"
   },
   {
    "duration": 27,
    "start_time": "2021-07-07T17:06:37.967Z"
   },
   {
    "duration": 7,
    "start_time": "2021-07-07T17:06:37.996Z"
   },
   {
    "duration": 16,
    "start_time": "2021-07-07T17:06:38.005Z"
   },
   {
    "duration": 6,
    "start_time": "2021-07-07T17:06:38.024Z"
   },
   {
    "duration": 12,
    "start_time": "2021-07-07T17:06:38.031Z"
   },
   {
    "duration": 41,
    "start_time": "2021-07-07T17:06:38.045Z"
   },
   {
    "duration": 8,
    "start_time": "2021-07-07T17:06:38.088Z"
   },
   {
    "duration": 26,
    "start_time": "2021-07-07T17:06:38.098Z"
   },
   {
    "duration": 17,
    "start_time": "2021-07-07T17:06:38.126Z"
   },
   {
    "duration": 43,
    "start_time": "2021-07-07T17:06:38.144Z"
   },
   {
    "duration": 6,
    "start_time": "2021-07-07T17:06:38.188Z"
   },
   {
    "duration": 5,
    "start_time": "2021-07-07T17:06:38.195Z"
   },
   {
    "duration": 9,
    "start_time": "2021-07-07T17:06:38.201Z"
   },
   {
    "duration": 12,
    "start_time": "2021-07-07T17:06:38.212Z"
   },
   {
    "duration": 11,
    "start_time": "2021-07-07T17:06:38.226Z"
   },
   {
    "duration": 47,
    "start_time": "2021-07-07T17:06:38.239Z"
   },
   {
    "duration": 4,
    "start_time": "2021-07-07T17:06:38.288Z"
   },
   {
    "duration": 13,
    "start_time": "2021-07-07T17:06:38.293Z"
   },
   {
    "duration": 5,
    "start_time": "2021-07-07T17:06:38.309Z"
   },
   {
    "duration": 18,
    "start_time": "2021-07-07T17:06:38.325Z"
   },
   {
    "duration": 20,
    "start_time": "2021-07-07T17:07:02.805Z"
   },
   {
    "duration": 19,
    "start_time": "2021-07-07T17:07:08.527Z"
   },
   {
    "duration": 19,
    "start_time": "2021-07-07T17:07:12.758Z"
   },
   {
    "duration": 22,
    "start_time": "2021-07-07T17:07:17.497Z"
   },
   {
    "duration": 19,
    "start_time": "2021-07-07T17:07:19.645Z"
   },
   {
    "duration": 10,
    "start_time": "2021-07-07T17:07:34.239Z"
   },
   {
    "duration": 17,
    "start_time": "2021-07-07T17:07:54.144Z"
   },
   {
    "duration": 14,
    "start_time": "2021-07-07T17:08:14.357Z"
   },
   {
    "duration": 616,
    "start_time": "2021-07-07T17:08:45.254Z"
   },
   {
    "duration": 178,
    "start_time": "2021-07-07T17:08:45.872Z"
   },
   {
    "duration": 60,
    "start_time": "2021-07-07T17:08:46.054Z"
   },
   {
    "duration": 3,
    "start_time": "2021-07-07T17:08:46.116Z"
   },
   {
    "duration": 26,
    "start_time": "2021-07-07T17:08:46.121Z"
   },
   {
    "duration": 7,
    "start_time": "2021-07-07T17:08:46.149Z"
   },
   {
    "duration": 17,
    "start_time": "2021-07-07T17:08:46.158Z"
   },
   {
    "duration": 14,
    "start_time": "2021-07-07T17:08:46.176Z"
   },
   {
    "duration": 17,
    "start_time": "2021-07-07T17:08:46.193Z"
   },
   {
    "duration": 9,
    "start_time": "2021-07-07T17:08:46.211Z"
   },
   {
    "duration": 21,
    "start_time": "2021-07-07T17:08:46.221Z"
   },
   {
    "duration": 49,
    "start_time": "2021-07-07T17:08:46.244Z"
   },
   {
    "duration": 24,
    "start_time": "2021-07-07T17:08:46.295Z"
   },
   {
    "duration": 22,
    "start_time": "2021-07-07T17:08:46.321Z"
   },
   {
    "duration": 6,
    "start_time": "2021-07-07T17:08:46.345Z"
   },
   {
    "duration": 5,
    "start_time": "2021-07-07T17:08:46.353Z"
   },
   {
    "duration": 13,
    "start_time": "2021-07-07T17:08:46.386Z"
   },
   {
    "duration": 12,
    "start_time": "2021-07-07T17:08:46.402Z"
   },
   {
    "duration": 10,
    "start_time": "2021-07-07T17:08:46.415Z"
   },
   {
    "duration": 7,
    "start_time": "2021-07-07T17:08:46.427Z"
   },
   {
    "duration": 8,
    "start_time": "2021-07-07T17:08:46.435Z"
   },
   {
    "duration": 68,
    "start_time": "2021-07-07T17:08:46.446Z"
   },
   {
    "duration": 13,
    "start_time": "2021-07-07T17:08:46.516Z"
   },
   {
    "duration": 78,
    "start_time": "2021-07-07T17:08:46.530Z"
   },
   {
    "duration": 40,
    "start_time": "2021-07-07T17:09:08.185Z"
   },
   {
    "duration": 16,
    "start_time": "2021-07-07T17:09:19.324Z"
   },
   {
    "duration": 21,
    "start_time": "2021-07-07T17:09:23.290Z"
   },
   {
    "duration": 13,
    "start_time": "2021-07-07T17:09:54.812Z"
   },
   {
    "duration": 13,
    "start_time": "2021-07-07T17:10:02.039Z"
   },
   {
    "duration": 10,
    "start_time": "2021-07-07T17:10:29.632Z"
   },
   {
    "duration": 13,
    "start_time": "2021-07-07T17:10:52.372Z"
   },
   {
    "duration": 13,
    "start_time": "2021-07-07T17:11:17.270Z"
   },
   {
    "duration": 13,
    "start_time": "2021-07-07T17:14:59.284Z"
   },
   {
    "duration": 547,
    "start_time": "2021-07-07T17:18:52.403Z"
   },
   {
    "duration": 163,
    "start_time": "2021-07-07T17:18:52.952Z"
   },
   {
    "duration": 44,
    "start_time": "2021-07-07T17:18:53.117Z"
   },
   {
    "duration": 3,
    "start_time": "2021-07-07T17:18:53.162Z"
   },
   {
    "duration": 26,
    "start_time": "2021-07-07T17:18:53.167Z"
   },
   {
    "duration": 6,
    "start_time": "2021-07-07T17:18:53.195Z"
   },
   {
    "duration": 15,
    "start_time": "2021-07-07T17:18:53.203Z"
   },
   {
    "duration": 5,
    "start_time": "2021-07-07T17:18:53.220Z"
   },
   {
    "duration": 11,
    "start_time": "2021-07-07T17:18:53.228Z"
   },
   {
    "duration": 9,
    "start_time": "2021-07-07T17:18:53.241Z"
   },
   {
    "duration": 41,
    "start_time": "2021-07-07T17:18:53.252Z"
   },
   {
    "duration": 33,
    "start_time": "2021-07-07T17:18:53.295Z"
   },
   {
    "duration": 19,
    "start_time": "2021-07-07T17:18:53.330Z"
   },
   {
    "duration": 49,
    "start_time": "2021-07-07T17:18:53.350Z"
   },
   {
    "duration": 5,
    "start_time": "2021-07-07T17:18:53.401Z"
   },
   {
    "duration": 5,
    "start_time": "2021-07-07T17:18:53.408Z"
   },
   {
    "duration": 11,
    "start_time": "2021-07-07T17:18:53.414Z"
   },
   {
    "duration": 9,
    "start_time": "2021-07-07T17:18:53.427Z"
   },
   {
    "duration": 10,
    "start_time": "2021-07-07T17:18:53.437Z"
   },
   {
    "duration": 39,
    "start_time": "2021-07-07T17:18:53.448Z"
   },
   {
    "duration": 26,
    "start_time": "2021-07-07T17:18:55.799Z"
   },
   {
    "duration": 598,
    "start_time": "2021-07-07T17:20:17.862Z"
   },
   {
    "duration": 161,
    "start_time": "2021-07-07T17:20:18.462Z"
   },
   {
    "duration": 45,
    "start_time": "2021-07-07T17:20:18.626Z"
   },
   {
    "duration": 4,
    "start_time": "2021-07-07T17:20:18.673Z"
   },
   {
    "duration": 38,
    "start_time": "2021-07-07T17:20:26.877Z"
   },
   {
    "duration": 7,
    "start_time": "2021-07-07T17:20:37.405Z"
   },
   {
    "duration": 19,
    "start_time": "2021-07-07T17:20:51.534Z"
   },
   {
    "duration": 5,
    "start_time": "2021-07-07T17:20:57.228Z"
   },
   {
    "duration": 7,
    "start_time": "2021-07-07T17:21:08.235Z"
   },
   {
    "duration": 19,
    "start_time": "2021-07-07T17:21:42.158Z"
   },
   {
    "duration": 14,
    "start_time": "2021-07-07T17:21:50.225Z"
   },
   {
    "duration": 22,
    "start_time": "2021-07-07T17:22:54.104Z"
   },
   {
    "duration": 5,
    "start_time": "2021-07-07T17:22:56.371Z"
   },
   {
    "duration": 14,
    "start_time": "2021-07-07T17:22:58.316Z"
   },
   {
    "duration": 5,
    "start_time": "2021-07-07T17:22:58.493Z"
   },
   {
    "duration": 35,
    "start_time": "2021-07-07T17:22:59.666Z"
   },
   {
    "duration": 6,
    "start_time": "2021-07-07T17:23:02.410Z"
   },
   {
    "duration": 611,
    "start_time": "2021-07-07T17:24:59.664Z"
   },
   {
    "duration": 178,
    "start_time": "2021-07-07T17:25:01.945Z"
   },
   {
    "duration": 47,
    "start_time": "2021-07-07T17:25:02.125Z"
   },
   {
    "duration": 2,
    "start_time": "2021-07-07T17:25:07.903Z"
   },
   {
    "duration": 254,
    "start_time": "2021-07-07T17:25:08.232Z"
   },
   {
    "duration": 182,
    "start_time": "2021-07-07T17:25:08.671Z"
   },
   {
    "duration": 6,
    "start_time": "2021-07-07T17:25:13.104Z"
   },
   {
    "duration": 36,
    "start_time": "2021-07-07T17:25:13.662Z"
   },
   {
    "duration": 7,
    "start_time": "2021-07-07T17:25:14.528Z"
   },
   {
    "duration": 24,
    "start_time": "2021-07-07T17:25:27.982Z"
   },
   {
    "duration": 3,
    "start_time": "2021-07-07T17:25:48.982Z"
   },
   {
    "duration": 165,
    "start_time": "2021-07-07T17:25:48.987Z"
   },
   {
    "duration": 50,
    "start_time": "2021-07-07T17:25:49.154Z"
   },
   {
    "duration": 4,
    "start_time": "2021-07-07T17:25:49.206Z"
   },
   {
    "duration": 26,
    "start_time": "2021-07-07T17:25:49.212Z"
   },
   {
    "duration": 7,
    "start_time": "2021-07-07T17:25:49.240Z"
   },
   {
    "duration": 16,
    "start_time": "2021-07-07T17:25:49.249Z"
   },
   {
    "duration": 22,
    "start_time": "2021-07-07T17:25:49.266Z"
   },
   {
    "duration": 16,
    "start_time": "2021-07-07T17:25:49.291Z"
   },
   {
    "duration": 9,
    "start_time": "2021-07-07T17:25:49.309Z"
   },
   {
    "duration": 7,
    "start_time": "2021-07-07T17:25:49.319Z"
   },
   {
    "duration": 28,
    "start_time": "2021-07-07T17:25:49.328Z"
   },
   {
    "duration": 44,
    "start_time": "2021-07-07T17:25:49.357Z"
   },
   {
    "duration": 22,
    "start_time": "2021-07-07T17:25:49.403Z"
   },
   {
    "duration": 7,
    "start_time": "2021-07-07T17:25:49.427Z"
   },
   {
    "duration": 3,
    "start_time": "2021-07-07T17:25:49.436Z"
   },
   {
    "duration": 44,
    "start_time": "2021-07-07T17:25:49.441Z"
   },
   {
    "duration": 12,
    "start_time": "2021-07-07T17:25:49.488Z"
   },
   {
    "duration": 13,
    "start_time": "2021-07-07T17:25:49.502Z"
   },
   {
    "duration": 10,
    "start_time": "2021-07-07T17:25:49.516Z"
   },
   {
    "duration": 62,
    "start_time": "2021-07-07T17:25:49.527Z"
   },
   {
    "duration": 26,
    "start_time": "2021-07-07T17:26:51.809Z"
   },
   {
    "duration": 26,
    "start_time": "2021-07-07T17:26:55.759Z"
   },
   {
    "duration": 26,
    "start_time": "2021-07-07T17:27:04.501Z"
   },
   {
    "duration": 25,
    "start_time": "2021-07-07T17:28:24.859Z"
   },
   {
    "duration": 21,
    "start_time": "2021-07-07T17:28:55.250Z"
   },
   {
    "duration": 21,
    "start_time": "2021-07-07T17:28:58.885Z"
   },
   {
    "duration": 7,
    "start_time": "2021-07-07T17:45:40.972Z"
   },
   {
    "duration": 13,
    "start_time": "2021-07-07T17:45:42.529Z"
   },
   {
    "duration": 27,
    "start_time": "2021-07-07T17:45:51.026Z"
   },
   {
    "duration": 518,
    "start_time": "2021-07-07T17:46:15.532Z"
   },
   {
    "duration": 235,
    "start_time": "2021-07-07T17:46:16.053Z"
   },
   {
    "duration": 80,
    "start_time": "2021-07-07T17:46:16.292Z"
   },
   {
    "duration": 5,
    "start_time": "2021-07-07T17:46:16.373Z"
   },
   {
    "duration": 26,
    "start_time": "2021-07-07T17:46:16.380Z"
   },
   {
    "duration": 7,
    "start_time": "2021-07-07T17:46:16.408Z"
   },
   {
    "duration": 16,
    "start_time": "2021-07-07T17:46:16.418Z"
   },
   {
    "duration": 5,
    "start_time": "2021-07-07T17:46:16.436Z"
   },
   {
    "duration": 13,
    "start_time": "2021-07-07T17:46:16.442Z"
   },
   {
    "duration": 35,
    "start_time": "2021-07-07T17:46:16.456Z"
   },
   {
    "duration": 8,
    "start_time": "2021-07-07T17:46:16.493Z"
   },
   {
    "duration": 28,
    "start_time": "2021-07-07T17:46:16.502Z"
   },
   {
    "duration": 17,
    "start_time": "2021-07-07T17:46:16.532Z"
   },
   {
    "duration": 44,
    "start_time": "2021-07-07T17:46:16.551Z"
   },
   {
    "duration": 6,
    "start_time": "2021-07-07T17:46:16.597Z"
   },
   {
    "duration": 4,
    "start_time": "2021-07-07T17:46:16.605Z"
   },
   {
    "duration": 9,
    "start_time": "2021-07-07T17:46:16.610Z"
   },
   {
    "duration": 9,
    "start_time": "2021-07-07T17:46:16.621Z"
   },
   {
    "duration": 10,
    "start_time": "2021-07-07T17:46:16.632Z"
   },
   {
    "duration": 43,
    "start_time": "2021-07-07T17:46:16.644Z"
   },
   {
    "duration": 26,
    "start_time": "2021-07-07T17:46:16.689Z"
   },
   {
    "duration": 19,
    "start_time": "2021-07-07T17:46:16.718Z"
   },
   {
    "duration": 8,
    "start_time": "2021-07-07T17:46:16.738Z"
   },
   {
    "duration": 43,
    "start_time": "2021-07-07T17:46:16.747Z"
   },
   {
    "duration": 19,
    "start_time": "2021-07-07T17:46:16.791Z"
   },
   {
    "duration": 9,
    "start_time": "2021-07-07T17:46:16.812Z"
   },
   {
    "duration": 60,
    "start_time": "2021-07-07T17:46:16.822Z"
   },
   {
    "duration": -8,
    "start_time": "2021-07-07T17:46:16.892Z"
   },
   {
    "duration": 12,
    "start_time": "2021-07-07T17:48:47.707Z"
   },
   {
    "duration": 553,
    "start_time": "2021-07-07T18:10:09.350Z"
   },
   {
    "duration": 230,
    "start_time": "2021-07-07T18:10:09.905Z"
   },
   {
    "duration": 97,
    "start_time": "2021-07-07T18:10:10.137Z"
   },
   {
    "duration": 5,
    "start_time": "2021-07-07T18:10:10.236Z"
   },
   {
    "duration": 29,
    "start_time": "2021-07-07T18:10:10.242Z"
   },
   {
    "duration": 7,
    "start_time": "2021-07-07T18:10:10.272Z"
   },
   {
    "duration": 15,
    "start_time": "2021-07-07T18:10:10.281Z"
   },
   {
    "duration": 4,
    "start_time": "2021-07-07T18:10:10.299Z"
   },
   {
    "duration": 14,
    "start_time": "2021-07-07T18:10:10.305Z"
   },
   {
    "duration": 8,
    "start_time": "2021-07-07T18:10:10.321Z"
   },
   {
    "duration": 8,
    "start_time": "2021-07-07T18:10:10.331Z"
   },
   {
    "duration": 56,
    "start_time": "2021-07-07T18:10:10.341Z"
   },
   {
    "duration": 19,
    "start_time": "2021-07-07T18:10:10.399Z"
   },
   {
    "duration": 23,
    "start_time": "2021-07-07T18:10:10.419Z"
   },
   {
    "duration": 6,
    "start_time": "2021-07-07T18:10:10.444Z"
   },
   {
    "duration": 9,
    "start_time": "2021-07-07T18:10:10.451Z"
   },
   {
    "duration": 30,
    "start_time": "2021-07-07T18:10:10.462Z"
   },
   {
    "duration": 9,
    "start_time": "2021-07-07T18:10:10.494Z"
   },
   {
    "duration": 14,
    "start_time": "2021-07-07T18:10:10.505Z"
   },
   {
    "duration": 7,
    "start_time": "2021-07-07T18:10:10.521Z"
   },
   {
    "duration": 26,
    "start_time": "2021-07-07T18:10:10.530Z"
   },
   {
    "duration": 44,
    "start_time": "2021-07-07T18:10:10.558Z"
   },
   {
    "duration": 7,
    "start_time": "2021-07-07T18:10:10.605Z"
   },
   {
    "duration": 11,
    "start_time": "2021-07-07T18:10:10.614Z"
   },
   {
    "duration": 19,
    "start_time": "2021-07-07T18:10:10.626Z"
   },
   {
    "duration": 44,
    "start_time": "2021-07-07T18:10:10.646Z"
   },
   {
    "duration": 516,
    "start_time": "2021-07-07T18:14:00.826Z"
   },
   {
    "duration": 230,
    "start_time": "2021-07-07T18:14:01.344Z"
   },
   {
    "duration": 105,
    "start_time": "2021-07-07T18:14:01.576Z"
   },
   {
    "duration": 5,
    "start_time": "2021-07-07T18:14:01.683Z"
   },
   {
    "duration": 46,
    "start_time": "2021-07-07T18:14:01.690Z"
   },
   {
    "duration": 7,
    "start_time": "2021-07-07T18:14:01.738Z"
   },
   {
    "duration": 20,
    "start_time": "2021-07-07T18:14:01.747Z"
   },
   {
    "duration": 16,
    "start_time": "2021-07-07T18:14:01.769Z"
   },
   {
    "duration": 14,
    "start_time": "2021-07-07T18:14:01.787Z"
   },
   {
    "duration": 15,
    "start_time": "2021-07-07T18:14:01.803Z"
   },
   {
    "duration": 12,
    "start_time": "2021-07-07T18:14:01.820Z"
   },
   {
    "duration": 35,
    "start_time": "2021-07-07T18:14:01.833Z"
   },
   {
    "duration": 31,
    "start_time": "2021-07-07T18:14:01.869Z"
   },
   {
    "duration": 37,
    "start_time": "2021-07-07T18:14:01.902Z"
   },
   {
    "duration": 8,
    "start_time": "2021-07-07T18:14:01.942Z"
   },
   {
    "duration": 16,
    "start_time": "2021-07-07T18:14:01.952Z"
   },
   {
    "duration": 13,
    "start_time": "2021-07-07T18:14:01.970Z"
   },
   {
    "duration": 32,
    "start_time": "2021-07-07T18:14:01.985Z"
   },
   {
    "duration": 11,
    "start_time": "2021-07-07T18:14:02.019Z"
   },
   {
    "duration": 22,
    "start_time": "2021-07-07T18:14:02.031Z"
   },
   {
    "duration": 27,
    "start_time": "2021-07-07T18:14:02.055Z"
   },
   {
    "duration": 18,
    "start_time": "2021-07-07T18:14:02.084Z"
   },
   {
    "duration": 18,
    "start_time": "2021-07-07T18:14:02.106Z"
   },
   {
    "duration": 11,
    "start_time": "2021-07-07T18:14:02.126Z"
   },
   {
    "duration": 21,
    "start_time": "2021-07-07T18:14:02.138Z"
   },
   {
    "duration": 32,
    "start_time": "2021-07-07T18:14:02.161Z"
   },
   {
    "duration": 28,
    "start_time": "2021-07-07T18:14:44.295Z"
   },
   {
    "duration": 6,
    "start_time": "2021-07-07T18:15:05.834Z"
   },
   {
    "duration": 511,
    "start_time": "2021-07-07T18:15:41.541Z"
   },
   {
    "duration": 183,
    "start_time": "2021-07-07T18:15:42.054Z"
   },
   {
    "duration": 50,
    "start_time": "2021-07-07T18:15:42.239Z"
   },
   {
    "duration": 5,
    "start_time": "2021-07-07T18:15:42.291Z"
   },
   {
    "duration": 48,
    "start_time": "2021-07-07T18:15:42.297Z"
   },
   {
    "duration": 8,
    "start_time": "2021-07-07T18:15:42.346Z"
   },
   {
    "duration": 17,
    "start_time": "2021-07-07T18:15:42.356Z"
   },
   {
    "duration": 15,
    "start_time": "2021-07-07T18:15:42.375Z"
   },
   {
    "duration": 12,
    "start_time": "2021-07-07T18:15:42.392Z"
   },
   {
    "duration": 7,
    "start_time": "2021-07-07T18:15:42.406Z"
   },
   {
    "duration": 7,
    "start_time": "2021-07-07T18:15:42.415Z"
   },
   {
    "duration": 29,
    "start_time": "2021-07-07T18:15:42.423Z"
   },
   {
    "duration": 43,
    "start_time": "2021-07-07T18:15:42.453Z"
   },
   {
    "duration": 18,
    "start_time": "2021-07-07T18:15:42.497Z"
   },
   {
    "duration": 6,
    "start_time": "2021-07-07T18:15:42.516Z"
   },
   {
    "duration": 3,
    "start_time": "2021-07-07T18:15:42.523Z"
   },
   {
    "duration": 18,
    "start_time": "2021-07-07T18:15:42.528Z"
   },
   {
    "duration": 10,
    "start_time": "2021-07-07T18:15:42.547Z"
   },
   {
    "duration": 36,
    "start_time": "2021-07-07T18:15:42.559Z"
   },
   {
    "duration": 8,
    "start_time": "2021-07-07T18:15:42.597Z"
   },
   {
    "duration": 28,
    "start_time": "2021-07-07T18:15:42.606Z"
   },
   {
    "duration": 52,
    "start_time": "2021-07-07T18:15:42.635Z"
   },
   {
    "duration": 7,
    "start_time": "2021-07-07T18:15:42.690Z"
   },
   {
    "duration": 10,
    "start_time": "2021-07-07T18:15:42.699Z"
   },
   {
    "duration": 19,
    "start_time": "2021-07-07T18:15:42.711Z"
   },
   {
    "duration": 9,
    "start_time": "2021-07-07T18:15:42.732Z"
   },
   {
    "duration": 5,
    "start_time": "2021-07-07T18:15:42.743Z"
   },
   {
    "duration": 1450,
    "start_time": "2021-07-07T18:15:51.984Z"
   },
   {
    "duration": 161,
    "start_time": "2021-07-07T18:15:53.435Z"
   },
   {
    "duration": 124,
    "start_time": "2021-07-07T18:15:53.598Z"
   },
   {
    "duration": 5,
    "start_time": "2021-07-07T18:15:53.724Z"
   },
   {
    "duration": 34,
    "start_time": "2021-07-07T18:15:53.730Z"
   },
   {
    "duration": 7,
    "start_time": "2021-07-07T18:15:53.765Z"
   },
   {
    "duration": 15,
    "start_time": "2021-07-07T18:15:53.773Z"
   },
   {
    "duration": 5,
    "start_time": "2021-07-07T18:15:53.791Z"
   },
   {
    "duration": 19,
    "start_time": "2021-07-07T18:15:53.798Z"
   },
   {
    "duration": 9,
    "start_time": "2021-07-07T18:15:53.818Z"
   },
   {
    "duration": 19,
    "start_time": "2021-07-07T18:15:53.828Z"
   },
   {
    "duration": 27,
    "start_time": "2021-07-07T18:15:53.848Z"
   },
   {
    "duration": 16,
    "start_time": "2021-07-07T18:15:53.884Z"
   },
   {
    "duration": 29,
    "start_time": "2021-07-07T18:15:53.901Z"
   },
   {
    "duration": 5,
    "start_time": "2021-07-07T18:15:53.932Z"
   },
   {
    "duration": 15,
    "start_time": "2021-07-07T18:15:53.939Z"
   },
   {
    "duration": 13,
    "start_time": "2021-07-07T18:15:53.956Z"
   },
   {
    "duration": 20,
    "start_time": "2021-07-07T18:15:53.971Z"
   },
   {
    "duration": 14,
    "start_time": "2021-07-07T18:15:53.992Z"
   },
   {
    "duration": 9,
    "start_time": "2021-07-07T18:15:54.009Z"
   },
   {
    "duration": 28,
    "start_time": "2021-07-07T18:15:54.020Z"
   },
   {
    "duration": 50,
    "start_time": "2021-07-07T18:15:54.051Z"
   },
   {
    "duration": 8,
    "start_time": "2021-07-07T18:15:54.105Z"
   },
   {
    "duration": 11,
    "start_time": "2021-07-07T18:15:54.115Z"
   },
   {
    "duration": 20,
    "start_time": "2021-07-07T18:15:54.128Z"
   },
   {
    "duration": 13,
    "start_time": "2021-07-07T18:15:54.184Z"
   },
   {
    "duration": 7,
    "start_time": "2021-07-07T18:15:54.199Z"
   },
   {
    "duration": 7,
    "start_time": "2021-07-07T18:17:08.042Z"
   },
   {
    "duration": 8,
    "start_time": "2021-07-07T18:17:21.008Z"
   },
   {
    "duration": 7,
    "start_time": "2021-07-07T18:17:29.003Z"
   },
   {
    "duration": 8,
    "start_time": "2021-07-07T18:17:32.492Z"
   },
   {
    "duration": 9,
    "start_time": "2021-07-07T18:17:41.758Z"
   },
   {
    "duration": 255,
    "start_time": "2021-07-07T18:20:20.897Z"
   },
   {
    "duration": 173,
    "start_time": "2021-07-07T18:20:26.636Z"
   },
   {
    "duration": 7,
    "start_time": "2021-07-07T18:21:47.164Z"
   },
   {
    "duration": 254,
    "start_time": "2021-07-07T18:23:08.703Z"
   },
   {
    "duration": 21,
    "start_time": "2021-07-07T18:23:22.506Z"
   },
   {
    "duration": 315,
    "start_time": "2021-07-07T18:25:54.801Z"
   },
   {
    "duration": 34,
    "start_time": "2021-07-07T18:26:51.817Z"
   },
   {
    "duration": 327,
    "start_time": "2021-07-07T18:26:56.147Z"
   },
   {
    "duration": 342,
    "start_time": "2021-07-07T18:27:15.887Z"
   },
   {
    "duration": 302,
    "start_time": "2021-07-07T18:28:18.569Z"
   },
   {
    "duration": 226,
    "start_time": "2021-07-07T18:29:20.879Z"
   },
   {
    "duration": 207,
    "start_time": "2021-07-07T18:29:58.114Z"
   },
   {
    "duration": 140,
    "start_time": "2021-07-07T18:32:04.372Z"
   },
   {
    "duration": 158,
    "start_time": "2021-07-07T18:32:32.508Z"
   },
   {
    "duration": 145,
    "start_time": "2021-07-07T18:32:41.365Z"
   },
   {
    "duration": 132,
    "start_time": "2021-07-07T18:32:45.199Z"
   },
   {
    "duration": 11,
    "start_time": "2021-07-07T18:35:24.679Z"
   },
   {
    "duration": 268,
    "start_time": "2021-07-07T18:36:16.145Z"
   },
   {
    "duration": 227,
    "start_time": "2021-07-07T18:37:04.918Z"
   },
   {
    "duration": 3,
    "start_time": "2021-07-07T18:37:33.012Z"
   },
   {
    "duration": 671,
    "start_time": "2021-07-07T18:37:38.295Z"
   },
   {
    "duration": 54,
    "start_time": "2021-07-07T18:37:53.406Z"
   },
   {
    "duration": 631,
    "start_time": "2021-07-07T18:37:56.463Z"
   },
   {
    "duration": 19,
    "start_time": "2021-07-07T18:39:40.535Z"
   },
   {
    "duration": 20,
    "start_time": "2021-07-07T18:40:12.236Z"
   },
   {
    "duration": 633,
    "start_time": "2021-07-07T18:42:00.398Z"
   },
   {
    "duration": 218,
    "start_time": "2021-07-07T18:42:01.033Z"
   },
   {
    "duration": 49,
    "start_time": "2021-07-07T18:42:01.253Z"
   },
   {
    "duration": 5,
    "start_time": "2021-07-07T18:42:01.303Z"
   },
   {
    "duration": 27,
    "start_time": "2021-07-07T18:42:01.310Z"
   },
   {
    "duration": 8,
    "start_time": "2021-07-07T18:42:01.339Z"
   },
   {
    "duration": 20,
    "start_time": "2021-07-07T18:42:01.348Z"
   },
   {
    "duration": 6,
    "start_time": "2021-07-07T18:42:01.386Z"
   },
   {
    "duration": 16,
    "start_time": "2021-07-07T18:42:01.394Z"
   },
   {
    "duration": 9,
    "start_time": "2021-07-07T18:42:01.411Z"
   },
   {
    "duration": 11,
    "start_time": "2021-07-07T18:42:01.421Z"
   },
   {
    "duration": 31,
    "start_time": "2021-07-07T18:42:01.434Z"
   },
   {
    "duration": 18,
    "start_time": "2021-07-07T18:42:01.485Z"
   },
   {
    "duration": 23,
    "start_time": "2021-07-07T18:42:01.505Z"
   },
   {
    "duration": 6,
    "start_time": "2021-07-07T18:42:01.530Z"
   },
   {
    "duration": 10,
    "start_time": "2021-07-07T18:42:01.538Z"
   },
   {
    "duration": 13,
    "start_time": "2021-07-07T18:42:01.550Z"
   },
   {
    "duration": 24,
    "start_time": "2021-07-07T18:42:01.564Z"
   },
   {
    "duration": 20,
    "start_time": "2021-07-07T18:42:01.590Z"
   },
   {
    "duration": 8,
    "start_time": "2021-07-07T18:42:01.611Z"
   },
   {
    "duration": 31,
    "start_time": "2021-07-07T18:42:01.620Z"
   },
   {
    "duration": 39,
    "start_time": "2021-07-07T18:42:01.653Z"
   },
   {
    "duration": 8,
    "start_time": "2021-07-07T18:42:01.696Z"
   },
   {
    "duration": 13,
    "start_time": "2021-07-07T18:42:01.705Z"
   },
   {
    "duration": 20,
    "start_time": "2021-07-07T18:42:01.720Z"
   },
   {
    "duration": 12,
    "start_time": "2021-07-07T18:42:01.741Z"
   },
   {
    "duration": 35,
    "start_time": "2021-07-07T18:42:01.755Z"
   },
   {
    "duration": 14,
    "start_time": "2021-07-07T18:42:01.792Z"
   },
   {
    "duration": 188,
    "start_time": "2021-07-07T18:42:01.808Z"
   },
   {
    "duration": 19,
    "start_time": "2021-07-07T18:42:01.998Z"
   },
   {
    "duration": 175,
    "start_time": "2021-07-07T18:42:02.019Z"
   },
   {
    "duration": 134,
    "start_time": "2021-07-07T18:42:02.196Z"
   },
   {
    "duration": 10,
    "start_time": "2021-07-07T18:42:02.331Z"
   },
   {
    "duration": 19,
    "start_time": "2021-07-07T18:42:02.343Z"
   },
   {
    "duration": 628,
    "start_time": "2021-07-07T18:46:30.701Z"
   },
   {
    "duration": 183,
    "start_time": "2021-07-07T18:46:31.331Z"
   },
   {
    "duration": 48,
    "start_time": "2021-07-07T18:46:31.516Z"
   },
   {
    "duration": 5,
    "start_time": "2021-07-07T18:46:31.566Z"
   },
   {
    "duration": 28,
    "start_time": "2021-07-07T18:46:31.572Z"
   },
   {
    "duration": 8,
    "start_time": "2021-07-07T18:46:31.602Z"
   },
   {
    "duration": 19,
    "start_time": "2021-07-07T18:46:31.611Z"
   },
   {
    "duration": 6,
    "start_time": "2021-07-07T18:46:31.633Z"
   },
   {
    "duration": 17,
    "start_time": "2021-07-07T18:46:31.642Z"
   },
   {
    "duration": 10,
    "start_time": "2021-07-07T18:46:31.684Z"
   },
   {
    "duration": 9,
    "start_time": "2021-07-07T18:46:31.695Z"
   },
   {
    "duration": 28,
    "start_time": "2021-07-07T18:46:31.705Z"
   },
   {
    "duration": 18,
    "start_time": "2021-07-07T18:46:31.735Z"
   },
   {
    "duration": 48,
    "start_time": "2021-07-07T18:46:31.755Z"
   },
   {
    "duration": 6,
    "start_time": "2021-07-07T18:46:31.804Z"
   },
   {
    "duration": 4,
    "start_time": "2021-07-07T18:46:31.812Z"
   },
   {
    "duration": 9,
    "start_time": "2021-07-07T18:46:31.817Z"
   },
   {
    "duration": 10,
    "start_time": "2021-07-07T18:46:31.827Z"
   },
   {
    "duration": 12,
    "start_time": "2021-07-07T18:46:31.838Z"
   },
   {
    "duration": 39,
    "start_time": "2021-07-07T18:46:31.851Z"
   },
   {
    "duration": 24,
    "start_time": "2021-07-07T18:46:31.892Z"
   },
   {
    "duration": 15,
    "start_time": "2021-07-07T18:46:31.918Z"
   },
   {
    "duration": 7,
    "start_time": "2021-07-07T18:46:31.936Z"
   },
   {
    "duration": 8,
    "start_time": "2021-07-07T18:46:31.944Z"
   },
   {
    "duration": 19,
    "start_time": "2021-07-07T18:46:31.984Z"
   },
   {
    "duration": 10,
    "start_time": "2021-07-07T18:46:32.004Z"
   },
   {
    "duration": 5,
    "start_time": "2021-07-07T18:46:32.016Z"
   },
   {
    "duration": 9,
    "start_time": "2021-07-07T18:46:32.023Z"
   },
   {
    "duration": 199,
    "start_time": "2021-07-07T18:46:32.033Z"
   },
   {
    "duration": 19,
    "start_time": "2021-07-07T18:46:32.234Z"
   },
   {
    "duration": 159,
    "start_time": "2021-07-07T18:46:32.255Z"
   },
   {
    "duration": 134,
    "start_time": "2021-07-07T18:46:32.416Z"
   },
   {
    "duration": 10,
    "start_time": "2021-07-07T18:46:32.552Z"
   },
   {
    "duration": 34,
    "start_time": "2021-07-07T18:46:32.563Z"
   },
   {
    "duration": 1039,
    "start_time": "2021-07-08T08:41:09.419Z"
   },
   {
    "duration": 333,
    "start_time": "2021-07-08T08:41:10.459Z"
   },
   {
    "duration": 173,
    "start_time": "2021-07-08T08:41:10.794Z"
   },
   {
    "duration": 5,
    "start_time": "2021-07-08T08:41:10.968Z"
   },
   {
    "duration": 25,
    "start_time": "2021-07-08T08:41:10.975Z"
   },
   {
    "duration": 9,
    "start_time": "2021-07-08T08:41:11.002Z"
   },
   {
    "duration": 18,
    "start_time": "2021-07-08T08:41:11.013Z"
   },
   {
    "duration": 6,
    "start_time": "2021-07-08T08:41:11.033Z"
   },
   {
    "duration": 44,
    "start_time": "2021-07-08T08:41:11.042Z"
   },
   {
    "duration": 10,
    "start_time": "2021-07-08T08:41:11.088Z"
   },
   {
    "duration": 9,
    "start_time": "2021-07-08T08:41:11.100Z"
   },
   {
    "duration": 27,
    "start_time": "2021-07-08T08:41:11.111Z"
   },
   {
    "duration": 46,
    "start_time": "2021-07-08T08:41:11.140Z"
   },
   {
    "duration": 17,
    "start_time": "2021-07-08T08:41:11.187Z"
   },
   {
    "duration": 6,
    "start_time": "2021-07-08T08:41:11.206Z"
   },
   {
    "duration": 5,
    "start_time": "2021-07-08T08:41:11.213Z"
   },
   {
    "duration": 10,
    "start_time": "2021-07-08T08:41:11.219Z"
   },
   {
    "duration": 9,
    "start_time": "2021-07-08T08:41:11.230Z"
   },
   {
    "duration": 45,
    "start_time": "2021-07-08T08:41:11.241Z"
   },
   {
    "duration": 7,
    "start_time": "2021-07-08T08:41:11.287Z"
   },
   {
    "duration": 24,
    "start_time": "2021-07-08T08:41:11.296Z"
   },
   {
    "duration": 16,
    "start_time": "2021-07-08T08:41:11.322Z"
   },
   {
    "duration": 7,
    "start_time": "2021-07-08T08:41:11.341Z"
   },
   {
    "duration": 41,
    "start_time": "2021-07-08T08:41:11.349Z"
   },
   {
    "duration": 17,
    "start_time": "2021-07-08T08:41:11.391Z"
   },
   {
    "duration": 9,
    "start_time": "2021-07-08T08:41:11.410Z"
   },
   {
    "duration": 5,
    "start_time": "2021-07-08T08:41:11.421Z"
   },
   {
    "duration": 6,
    "start_time": "2021-07-08T08:41:11.428Z"
   },
   {
    "duration": 198,
    "start_time": "2021-07-08T08:41:11.435Z"
   },
   {
    "duration": 18,
    "start_time": "2021-07-08T08:41:11.635Z"
   },
   {
    "duration": 155,
    "start_time": "2021-07-08T08:41:11.655Z"
   },
   {
    "duration": 138,
    "start_time": "2021-07-08T08:41:11.811Z"
   },
   {
    "duration": 10,
    "start_time": "2021-07-08T08:41:11.950Z"
   },
   {
    "duration": 29,
    "start_time": "2021-07-08T08:41:11.961Z"
   },
   {
    "duration": 171,
    "start_time": "2021-07-08T08:47:44.522Z"
   },
   {
    "duration": 124,
    "start_time": "2021-07-08T08:47:46.872Z"
   },
   {
    "duration": 191,
    "start_time": "2021-07-08T08:47:58.148Z"
   },
   {
    "duration": 191,
    "start_time": "2021-07-08T08:48:07.412Z"
   },
   {
    "duration": 261,
    "start_time": "2021-07-08T08:48:10.385Z"
   },
   {
    "duration": 255,
    "start_time": "2021-07-08T08:48:14.494Z"
   },
   {
    "duration": 219,
    "start_time": "2021-07-08T08:48:22.752Z"
   },
   {
    "duration": 173,
    "start_time": "2021-07-08T08:49:06.395Z"
   },
   {
    "duration": 180,
    "start_time": "2021-07-08T08:49:21.011Z"
   },
   {
    "duration": 6,
    "start_time": "2021-07-08T08:50:31.697Z"
   },
   {
    "duration": 10,
    "start_time": "2021-07-08T08:50:47.394Z"
   },
   {
    "duration": 11,
    "start_time": "2021-07-08T08:53:49.332Z"
   },
   {
    "duration": 171,
    "start_time": "2021-07-08T08:54:28.408Z"
   },
   {
    "duration": 636,
    "start_time": "2021-07-08T09:02:48.385Z"
   },
   {
    "duration": 227,
    "start_time": "2021-07-08T09:02:49.023Z"
   },
   {
    "duration": 104,
    "start_time": "2021-07-08T09:02:49.252Z"
   },
   {
    "duration": 5,
    "start_time": "2021-07-08T09:02:49.358Z"
   },
   {
    "duration": 27,
    "start_time": "2021-07-08T09:02:49.365Z"
   },
   {
    "duration": 8,
    "start_time": "2021-07-08T09:02:49.394Z"
   },
   {
    "duration": 18,
    "start_time": "2021-07-08T09:02:49.404Z"
   },
   {
    "duration": 6,
    "start_time": "2021-07-08T09:02:49.424Z"
   },
   {
    "duration": 11,
    "start_time": "2021-07-08T09:02:49.433Z"
   },
   {
    "duration": 13,
    "start_time": "2021-07-08T09:02:49.485Z"
   },
   {
    "duration": 9,
    "start_time": "2021-07-08T09:02:49.500Z"
   },
   {
    "duration": 38,
    "start_time": "2021-07-08T09:02:49.511Z"
   },
   {
    "duration": 42,
    "start_time": "2021-07-08T09:02:49.551Z"
   },
   {
    "duration": 21,
    "start_time": "2021-07-08T09:02:49.594Z"
   },
   {
    "duration": 6,
    "start_time": "2021-07-08T09:02:49.616Z"
   },
   {
    "duration": 3,
    "start_time": "2021-07-08T09:02:49.623Z"
   },
   {
    "duration": 9,
    "start_time": "2021-07-08T09:02:49.628Z"
   },
   {
    "duration": 52,
    "start_time": "2021-07-08T09:02:49.638Z"
   },
   {
    "duration": 11,
    "start_time": "2021-07-08T09:02:49.692Z"
   },
   {
    "duration": 8,
    "start_time": "2021-07-08T09:02:49.704Z"
   },
   {
    "duration": 27,
    "start_time": "2021-07-08T09:02:49.713Z"
   },
   {
    "duration": 59,
    "start_time": "2021-07-08T09:02:49.741Z"
   },
   {
    "duration": 8,
    "start_time": "2021-07-08T09:02:49.803Z"
   },
   {
    "duration": 14,
    "start_time": "2021-07-08T09:02:49.813Z"
   },
   {
    "duration": 20,
    "start_time": "2021-07-08T09:02:49.829Z"
   },
   {
    "duration": 44,
    "start_time": "2021-07-08T09:02:49.851Z"
   },
   {
    "duration": 14,
    "start_time": "2021-07-08T09:02:49.896Z"
   },
   {
    "duration": 221,
    "start_time": "2021-07-08T09:02:49.912Z"
   },
   {
    "duration": 6,
    "start_time": "2021-07-08T09:02:50.134Z"
   },
   {
    "duration": 206,
    "start_time": "2021-07-08T09:02:50.142Z"
   },
   {
    "duration": 19,
    "start_time": "2021-07-08T09:02:50.350Z"
   },
   {
    "duration": 21,
    "start_time": "2021-07-08T09:02:50.370Z"
   },
   {
    "duration": 20,
    "start_time": "2021-07-08T09:02:50.393Z"
   },
   {
    "duration": 5,
    "start_time": "2021-07-08T09:02:50.414Z"
   },
   {
    "duration": 5,
    "start_time": "2021-07-08T09:03:34.173Z"
   },
   {
    "duration": 6,
    "start_time": "2021-07-08T09:04:49.062Z"
   },
   {
    "duration": 9,
    "start_time": "2021-07-08T09:04:50.118Z"
   },
   {
    "duration": 14,
    "start_time": "2021-07-08T09:04:58.512Z"
   },
   {
    "duration": 9,
    "start_time": "2021-07-08T09:05:10.988Z"
   },
   {
    "duration": 11,
    "start_time": "2021-07-08T09:05:11.743Z"
   },
   {
    "duration": 7,
    "start_time": "2021-07-08T09:05:25.677Z"
   },
   {
    "duration": 13,
    "start_time": "2021-07-08T09:05:47.189Z"
   },
   {
    "duration": 13,
    "start_time": "2021-07-08T09:05:54.755Z"
   },
   {
    "duration": 4,
    "start_time": "2021-07-08T09:06:29.189Z"
   },
   {
    "duration": 244,
    "start_time": "2021-07-08T09:06:29.195Z"
   },
   {
    "duration": 91,
    "start_time": "2021-07-08T09:06:29.441Z"
   },
   {
    "duration": 4,
    "start_time": "2021-07-08T09:06:29.534Z"
   },
   {
    "duration": 28,
    "start_time": "2021-07-08T09:06:29.540Z"
   },
   {
    "duration": 6,
    "start_time": "2021-07-08T09:06:29.570Z"
   },
   {
    "duration": 18,
    "start_time": "2021-07-08T09:06:29.578Z"
   },
   {
    "duration": 5,
    "start_time": "2021-07-08T09:06:29.597Z"
   },
   {
    "duration": 13,
    "start_time": "2021-07-08T09:06:29.605Z"
   },
   {
    "duration": 8,
    "start_time": "2021-07-08T09:06:29.620Z"
   },
   {
    "duration": 7,
    "start_time": "2021-07-08T09:06:29.630Z"
   },
   {
    "duration": 63,
    "start_time": "2021-07-08T09:06:29.639Z"
   },
   {
    "duration": 17,
    "start_time": "2021-07-08T09:06:29.704Z"
   },
   {
    "duration": 20,
    "start_time": "2021-07-08T09:06:29.723Z"
   },
   {
    "duration": 6,
    "start_time": "2021-07-08T09:06:29.745Z"
   },
   {
    "duration": 3,
    "start_time": "2021-07-08T09:06:29.752Z"
   },
   {
    "duration": 7,
    "start_time": "2021-07-08T09:06:29.785Z"
   },
   {
    "duration": 11,
    "start_time": "2021-07-08T09:06:29.794Z"
   },
   {
    "duration": 15,
    "start_time": "2021-07-08T09:06:29.807Z"
   },
   {
    "duration": 8,
    "start_time": "2021-07-08T09:06:29.823Z"
   },
   {
    "duration": 70,
    "start_time": "2021-07-08T09:06:29.832Z"
   },
   {
    "duration": 17,
    "start_time": "2021-07-08T09:06:29.903Z"
   },
   {
    "duration": 9,
    "start_time": "2021-07-08T09:06:29.921Z"
   },
   {
    "duration": 9,
    "start_time": "2021-07-08T09:06:29.932Z"
   },
   {
    "duration": 57,
    "start_time": "2021-07-08T09:06:29.942Z"
   },
   {
    "duration": 11,
    "start_time": "2021-07-08T09:06:30.001Z"
   },
   {
    "duration": 19,
    "start_time": "2021-07-08T09:06:30.016Z"
   },
   {
    "duration": 217,
    "start_time": "2021-07-08T09:06:30.037Z"
   },
   {
    "duration": 6,
    "start_time": "2021-07-08T09:06:30.255Z"
   },
   {
    "duration": 205,
    "start_time": "2021-07-08T09:06:30.263Z"
   },
   {
    "duration": 27,
    "start_time": "2021-07-08T09:06:30.470Z"
   },
   {
    "duration": 11,
    "start_time": "2021-07-08T09:06:30.500Z"
   },
   {
    "duration": 31,
    "start_time": "2021-07-08T09:06:30.513Z"
   },
   {
    "duration": 18,
    "start_time": "2021-07-08T09:06:30.546Z"
   },
   {
    "duration": 11,
    "start_time": "2021-07-08T09:06:30.566Z"
   },
   {
    "duration": 19,
    "start_time": "2021-07-08T09:06:30.579Z"
   },
   {
    "duration": 20,
    "start_time": "2021-07-08T09:06:49.466Z"
   },
   {
    "duration": 9,
    "start_time": "2021-07-08T09:06:51.994Z"
   },
   {
    "duration": 20,
    "start_time": "2021-07-08T09:06:52.273Z"
   },
   {
    "duration": 246,
    "start_time": "2021-07-08T09:10:21.272Z"
   },
   {
    "duration": 84,
    "start_time": "2021-07-08T09:10:21.436Z"
   },
   {
    "duration": 7,
    "start_time": "2021-07-08T09:10:37.608Z"
   },
   {
    "duration": 189,
    "start_time": "2021-07-08T09:10:38.573Z"
   },
   {
    "duration": 185,
    "start_time": "2021-07-08T09:10:53.181Z"
   },
   {
    "duration": 11,
    "start_time": "2021-07-08T09:10:59.549Z"
   },
   {
    "duration": 42,
    "start_time": "2021-07-08T09:10:59.709Z"
   },
   {
    "duration": 12,
    "start_time": "2021-07-08T09:11:02.857Z"
   },
   {
    "duration": 28,
    "start_time": "2021-07-08T09:11:10.062Z"
   },
   {
    "duration": 249,
    "start_time": "2021-07-08T09:11:37.388Z"
   },
   {
    "duration": 232,
    "start_time": "2021-07-08T09:11:49.485Z"
   },
   {
    "duration": 453,
    "start_time": "2021-07-08T09:12:01.546Z"
   },
   {
    "duration": 440,
    "start_time": "2021-07-08T09:12:12.347Z"
   },
   {
    "duration": 213,
    "start_time": "2021-07-08T09:13:32.196Z"
   },
   {
    "duration": 172,
    "start_time": "2021-07-08T09:14:07.400Z"
   },
   {
    "duration": 185,
    "start_time": "2021-07-08T09:14:14.905Z"
   },
   {
    "duration": 209,
    "start_time": "2021-07-08T09:14:40.109Z"
   },
   {
    "duration": 201,
    "start_time": "2021-07-08T09:14:54.506Z"
   },
   {
    "duration": 622,
    "start_time": "2021-07-08T09:18:14.497Z"
   },
   {
    "duration": 220,
    "start_time": "2021-07-08T09:18:15.121Z"
   },
   {
    "duration": 79,
    "start_time": "2021-07-08T09:18:15.343Z"
   },
   {
    "duration": 4,
    "start_time": "2021-07-08T09:18:15.425Z"
   },
   {
    "duration": 24,
    "start_time": "2021-07-08T09:18:15.431Z"
   },
   {
    "duration": 8,
    "start_time": "2021-07-08T09:18:15.457Z"
   },
   {
    "duration": 16,
    "start_time": "2021-07-08T09:18:15.466Z"
   },
   {
    "duration": 5,
    "start_time": "2021-07-08T09:18:15.484Z"
   },
   {
    "duration": 10,
    "start_time": "2021-07-08T09:18:15.493Z"
   },
   {
    "duration": 8,
    "start_time": "2021-07-08T09:18:15.504Z"
   },
   {
    "duration": 7,
    "start_time": "2021-07-08T09:18:15.513Z"
   },
   {
    "duration": 26,
    "start_time": "2021-07-08T09:18:15.522Z"
   },
   {
    "duration": 49,
    "start_time": "2021-07-08T09:18:15.550Z"
   },
   {
    "duration": 21,
    "start_time": "2021-07-08T09:18:15.601Z"
   },
   {
    "duration": 8,
    "start_time": "2021-07-08T09:18:15.624Z"
   },
   {
    "duration": 3,
    "start_time": "2021-07-08T09:18:15.634Z"
   },
   {
    "duration": 8,
    "start_time": "2021-07-08T09:18:15.639Z"
   },
   {
    "duration": 45,
    "start_time": "2021-07-08T09:18:15.649Z"
   },
   {
    "duration": 13,
    "start_time": "2021-07-08T09:18:15.696Z"
   },
   {
    "duration": 10,
    "start_time": "2021-07-08T09:18:15.711Z"
   },
   {
    "duration": 64,
    "start_time": "2021-07-08T09:18:15.722Z"
   },
   {
    "duration": 19,
    "start_time": "2021-07-08T09:18:15.788Z"
   },
   {
    "duration": 9,
    "start_time": "2021-07-08T09:18:15.809Z"
   },
   {
    "duration": 9,
    "start_time": "2021-07-08T09:18:15.820Z"
   },
   {
    "duration": 18,
    "start_time": "2021-07-08T09:18:15.831Z"
   },
   {
    "duration": 43,
    "start_time": "2021-07-08T09:18:15.851Z"
   },
   {
    "duration": 12,
    "start_time": "2021-07-08T09:18:15.897Z"
   },
   {
    "duration": 219,
    "start_time": "2021-07-08T09:18:15.911Z"
   },
   {
    "duration": 8,
    "start_time": "2021-07-08T09:18:16.132Z"
   },
   {
    "duration": 199,
    "start_time": "2021-07-08T09:18:16.141Z"
   },
   {
    "duration": 18,
    "start_time": "2021-07-08T09:18:16.341Z"
   },
   {
    "duration": 24,
    "start_time": "2021-07-08T09:18:16.361Z"
   },
   {
    "duration": 24,
    "start_time": "2021-07-08T09:18:16.387Z"
   },
   {
    "duration": 211,
    "start_time": "2021-07-08T09:18:16.413Z"
   },
   {
    "duration": 18,
    "start_time": "2021-07-08T09:18:16.626Z"
   },
   {
    "duration": 596,
    "start_time": "2021-07-08T10:06:33.623Z"
   },
   {
    "duration": 181,
    "start_time": "2021-07-08T10:06:34.221Z"
   },
   {
    "duration": 176,
    "start_time": "2021-07-08T10:06:34.635Z"
   },
   {
    "duration": 239,
    "start_time": "2021-07-08T10:06:55.572Z"
   },
   {
    "duration": 6,
    "start_time": "2021-07-08T10:06:57.687Z"
   },
   {
    "duration": 4,
    "start_time": "2021-07-08T10:07:03.956Z"
   },
   {
    "duration": 4,
    "start_time": "2021-07-08T10:07:10.376Z"
   },
   {
    "duration": 4,
    "start_time": "2021-07-08T10:17:19.889Z"
   },
   {
    "duration": 3,
    "start_time": "2021-07-08T10:19:19.407Z"
   },
   {
    "duration": 197,
    "start_time": "2021-07-08T10:19:19.412Z"
   },
   {
    "duration": 127,
    "start_time": "2021-07-08T10:19:19.611Z"
   },
   {
    "duration": 4,
    "start_time": "2021-07-08T10:19:19.740Z"
   },
   {
    "duration": 27,
    "start_time": "2021-07-08T10:19:19.746Z"
   },
   {
    "duration": 7,
    "start_time": "2021-07-08T10:19:19.775Z"
   },
   {
    "duration": 30,
    "start_time": "2021-07-08T10:19:19.784Z"
   },
   {
    "duration": 7,
    "start_time": "2021-07-08T10:19:19.817Z"
   },
   {
    "duration": 26,
    "start_time": "2021-07-08T10:19:19.826Z"
   },
   {
    "duration": 18,
    "start_time": "2021-07-08T10:19:19.854Z"
   },
   {
    "duration": 14,
    "start_time": "2021-07-08T10:19:19.874Z"
   },
   {
    "duration": 48,
    "start_time": "2021-07-08T10:19:19.890Z"
   },
   {
    "duration": 17,
    "start_time": "2021-07-08T10:19:19.940Z"
   },
   {
    "duration": 38,
    "start_time": "2021-07-08T10:19:19.959Z"
   },
   {
    "duration": 8,
    "start_time": "2021-07-08T10:19:19.999Z"
   },
   {
    "duration": 15,
    "start_time": "2021-07-08T10:19:20.009Z"
   },
   {
    "duration": 22,
    "start_time": "2021-07-08T10:19:20.026Z"
   },
   {
    "duration": 10,
    "start_time": "2021-07-08T10:19:20.050Z"
   },
   {
    "duration": 10,
    "start_time": "2021-07-08T10:19:20.062Z"
   },
   {
    "duration": 20,
    "start_time": "2021-07-08T10:19:20.073Z"
   },
   {
    "duration": 29,
    "start_time": "2021-07-08T10:19:20.095Z"
   },
   {
    "duration": 17,
    "start_time": "2021-07-08T10:19:20.126Z"
   },
   {
    "duration": 40,
    "start_time": "2021-07-08T10:19:20.146Z"
   },
   {
    "duration": 15,
    "start_time": "2021-07-08T10:19:20.189Z"
   },
   {
    "duration": 19,
    "start_time": "2021-07-08T10:19:20.206Z"
   },
   {
    "duration": 10,
    "start_time": "2021-07-08T10:19:20.226Z"
   },
   {
    "duration": 11,
    "start_time": "2021-07-08T10:19:20.238Z"
   },
   {
    "duration": 297,
    "start_time": "2021-07-08T10:19:20.250Z"
   },
   {
    "duration": 6,
    "start_time": "2021-07-08T10:19:20.549Z"
   },
   {
    "duration": 191,
    "start_time": "2021-07-08T10:19:20.557Z"
   },
   {
    "duration": 19,
    "start_time": "2021-07-08T10:19:20.750Z"
   },
   {
    "duration": 20,
    "start_time": "2021-07-08T10:19:20.771Z"
   },
   {
    "duration": 15,
    "start_time": "2021-07-08T10:19:20.793Z"
   },
   {
    "duration": 222,
    "start_time": "2021-07-08T10:19:20.809Z"
   },
   {
    "duration": 20,
    "start_time": "2021-07-08T10:19:21.033Z"
   },
   {
    "duration": 27,
    "start_time": "2021-07-08T10:45:04.055Z"
   },
   {
    "duration": 8,
    "start_time": "2021-07-08T10:45:08.478Z"
   },
   {
    "duration": 8,
    "start_time": "2021-07-08T10:45:31.982Z"
   },
   {
    "duration": 10,
    "start_time": "2021-07-08T10:46:01.221Z"
   },
   {
    "duration": 17,
    "start_time": "2021-07-08T10:46:40.011Z"
   },
   {
    "duration": 193,
    "start_time": "2021-07-08T10:48:19.471Z"
   },
   {
    "duration": 225,
    "start_time": "2021-07-08T10:49:26.480Z"
   },
   {
    "duration": 204,
    "start_time": "2021-07-08T10:49:59.992Z"
   },
   {
    "duration": 435,
    "start_time": "2021-07-08T10:50:06.779Z"
   },
   {
    "duration": 199,
    "start_time": "2021-07-08T10:50:14.891Z"
   },
   {
    "duration": 204,
    "start_time": "2021-07-08T10:50:18.501Z"
   },
   {
    "duration": 244,
    "start_time": "2021-07-08T10:50:23.359Z"
   },
   {
    "duration": 192,
    "start_time": "2021-07-08T10:50:29.135Z"
   },
   {
    "duration": 218,
    "start_time": "2021-07-08T10:50:33.092Z"
   },
   {
    "duration": 207,
    "start_time": "2021-07-08T10:52:45.381Z"
   },
   {
    "duration": 5,
    "start_time": "2021-07-08T10:53:34.641Z"
   },
   {
    "duration": 196,
    "start_time": "2021-07-08T10:53:41.478Z"
   },
   {
    "duration": 43,
    "start_time": "2021-07-08T10:53:50.335Z"
   },
   {
    "duration": 32,
    "start_time": "2021-07-08T10:53:55.294Z"
   },
   {
    "duration": 55,
    "start_time": "2021-07-08T10:54:09.675Z"
   },
   {
    "duration": 16,
    "start_time": "2021-07-08T10:54:12.260Z"
   },
   {
    "duration": 15,
    "start_time": "2021-07-08T10:54:49.150Z"
   },
   {
    "duration": 20,
    "start_time": "2021-07-08T10:56:07.596Z"
   },
   {
    "duration": 16,
    "start_time": "2021-07-08T10:58:26.276Z"
   },
   {
    "duration": 22,
    "start_time": "2021-07-08T10:59:00.486Z"
   },
   {
    "duration": 18,
    "start_time": "2021-07-08T11:02:09.653Z"
   },
   {
    "duration": 10,
    "start_time": "2021-07-08T11:03:44.331Z"
   },
   {
    "duration": 10,
    "start_time": "2021-07-08T11:03:54.055Z"
   },
   {
    "duration": 12,
    "start_time": "2021-07-08T11:04:41.967Z"
   },
   {
    "duration": 24,
    "start_time": "2021-07-08T11:07:30.732Z"
   },
   {
    "duration": 6,
    "start_time": "2021-07-08T11:07:37.364Z"
   },
   {
    "duration": 16,
    "start_time": "2021-07-08T11:08:01.819Z"
   },
   {
    "duration": 17,
    "start_time": "2021-07-08T11:09:47.488Z"
   },
   {
    "duration": 246,
    "start_time": "2021-07-08T11:10:00.830Z"
   },
   {
    "duration": 18,
    "start_time": "2021-07-08T11:13:55.195Z"
   },
   {
    "duration": 204,
    "start_time": "2021-07-08T11:14:04.951Z"
   },
   {
    "duration": 19,
    "start_time": "2021-07-08T11:15:10.613Z"
   },
   {
    "duration": 680,
    "start_time": "2021-07-08T11:16:25.793Z"
   },
   {
    "duration": 451,
    "start_time": "2021-07-08T11:16:40.313Z"
   },
   {
    "duration": 469,
    "start_time": "2021-07-08T11:17:21.286Z"
   },
   {
    "duration": 20,
    "start_time": "2021-07-08T11:19:12.554Z"
   },
   {
    "duration": 35,
    "start_time": "2021-07-08T11:20:05.484Z"
   },
   {
    "duration": 53,
    "start_time": "2021-07-08T11:21:40.050Z"
   },
   {
    "duration": 13,
    "start_time": "2021-07-08T11:22:26.059Z"
   },
   {
    "duration": 19,
    "start_time": "2021-07-08T11:22:47.419Z"
   },
   {
    "duration": 25,
    "start_time": "2021-07-08T11:23:19.958Z"
   },
   {
    "duration": 29,
    "start_time": "2021-07-08T11:23:25.415Z"
   },
   {
    "duration": 10,
    "start_time": "2021-07-08T11:24:45.138Z"
   },
   {
    "duration": 19,
    "start_time": "2021-07-08T11:24:54.498Z"
   },
   {
    "duration": 12,
    "start_time": "2021-07-08T11:25:32.225Z"
   },
   {
    "duration": 19,
    "start_time": "2021-07-08T11:25:37.092Z"
   },
   {
    "duration": 17,
    "start_time": "2021-07-08T11:25:58.116Z"
   },
   {
    "duration": 15,
    "start_time": "2021-07-08T11:26:02.258Z"
   },
   {
    "duration": 8,
    "start_time": "2021-07-08T11:26:59.682Z"
   },
   {
    "duration": 184,
    "start_time": "2021-07-08T11:27:21.894Z"
   },
   {
    "duration": 8,
    "start_time": "2021-07-08T11:27:23.824Z"
   },
   {
    "duration": 202,
    "start_time": "2021-07-08T11:27:23.962Z"
   },
   {
    "duration": 360,
    "start_time": "2021-07-08T11:28:33.215Z"
   },
   {
    "duration": 231,
    "start_time": "2021-07-08T11:32:05.542Z"
   },
   {
    "duration": 607,
    "start_time": "2021-07-08T11:36:27.854Z"
   },
   {
    "duration": 241,
    "start_time": "2021-07-08T11:36:28.463Z"
   },
   {
    "duration": 67,
    "start_time": "2021-07-08T11:36:28.709Z"
   },
   {
    "duration": 5,
    "start_time": "2021-07-08T11:36:28.778Z"
   },
   {
    "duration": 32,
    "start_time": "2021-07-08T11:36:28.784Z"
   },
   {
    "duration": 11,
    "start_time": "2021-07-08T11:36:28.819Z"
   },
   {
    "duration": 20,
    "start_time": "2021-07-08T11:36:28.834Z"
   },
   {
    "duration": 36,
    "start_time": "2021-07-08T11:36:28.857Z"
   },
   {
    "duration": 16,
    "start_time": "2021-07-08T11:36:28.895Z"
   },
   {
    "duration": 14,
    "start_time": "2021-07-08T11:36:28.913Z"
   },
   {
    "duration": 9,
    "start_time": "2021-07-08T11:36:28.930Z"
   },
   {
    "duration": 55,
    "start_time": "2021-07-08T11:36:28.941Z"
   },
   {
    "duration": 27,
    "start_time": "2021-07-08T11:36:28.999Z"
   },
   {
    "duration": 30,
    "start_time": "2021-07-08T11:36:29.028Z"
   },
   {
    "duration": 31,
    "start_time": "2021-07-08T11:36:29.060Z"
   },
   {
    "duration": 3,
    "start_time": "2021-07-08T11:36:29.093Z"
   },
   {
    "duration": 12,
    "start_time": "2021-07-08T11:36:29.099Z"
   },
   {
    "duration": 11,
    "start_time": "2021-07-08T11:36:29.112Z"
   },
   {
    "duration": 12,
    "start_time": "2021-07-08T11:36:29.125Z"
   },
   {
    "duration": 9,
    "start_time": "2021-07-08T11:36:29.139Z"
   },
   {
    "duration": 31,
    "start_time": "2021-07-08T11:36:29.191Z"
   },
   {
    "duration": 17,
    "start_time": "2021-07-08T11:36:29.226Z"
   },
   {
    "duration": 7,
    "start_time": "2021-07-08T11:36:29.245Z"
   },
   {
    "duration": 10,
    "start_time": "2021-07-08T11:36:29.254Z"
   },
   {
    "duration": 30,
    "start_time": "2021-07-08T11:36:29.292Z"
   },
   {
    "duration": 11,
    "start_time": "2021-07-08T11:36:29.324Z"
   },
   {
    "duration": 11,
    "start_time": "2021-07-08T11:36:29.337Z"
   },
   {
    "duration": 230,
    "start_time": "2021-07-08T11:36:29.349Z"
   },
   {
    "duration": 13,
    "start_time": "2021-07-08T11:36:29.588Z"
   },
   {
    "duration": 205,
    "start_time": "2021-07-08T11:36:29.603Z"
   },
   {
    "duration": 20,
    "start_time": "2021-07-08T11:36:29.810Z"
   },
   {
    "duration": 9,
    "start_time": "2021-07-08T11:36:29.832Z"
   },
   {
    "duration": 16,
    "start_time": "2021-07-08T11:36:29.843Z"
   },
   {
    "duration": 283,
    "start_time": "2021-07-08T11:36:29.861Z"
   },
   {
    "duration": 50,
    "start_time": "2021-07-08T11:36:30.146Z"
   },
   {
    "duration": 14,
    "start_time": "2021-07-08T11:36:30.198Z"
   },
   {
    "duration": 11,
    "start_time": "2021-07-08T11:36:30.214Z"
   },
   {
    "duration": 245,
    "start_time": "2021-07-08T11:36:30.227Z"
   },
   {
    "duration": 439,
    "start_time": "2021-07-08T11:36:30.474Z"
   },
   {
    "duration": 210,
    "start_time": "2021-07-08T11:36:30.915Z"
   },
   {
    "duration": 15,
    "start_time": "2021-07-08T11:36:31.127Z"
   },
   {
    "duration": 17,
    "start_time": "2021-07-08T11:38:20.451Z"
   },
   {
    "duration": 642,
    "start_time": "2021-07-08T11:46:17.881Z"
   },
   {
    "duration": 210,
    "start_time": "2021-07-08T11:46:18.525Z"
   },
   {
    "duration": 104,
    "start_time": "2021-07-08T11:46:18.741Z"
   },
   {
    "duration": 8,
    "start_time": "2021-07-08T11:46:18.847Z"
   },
   {
    "duration": 25,
    "start_time": "2021-07-08T11:46:18.857Z"
   },
   {
    "duration": 14,
    "start_time": "2021-07-08T11:46:18.884Z"
   },
   {
    "duration": 22,
    "start_time": "2021-07-08T11:46:18.900Z"
   },
   {
    "duration": 5,
    "start_time": "2021-07-08T11:46:18.924Z"
   },
   {
    "duration": 13,
    "start_time": "2021-07-08T11:46:18.931Z"
   },
   {
    "duration": 45,
    "start_time": "2021-07-08T11:46:18.946Z"
   },
   {
    "duration": 12,
    "start_time": "2021-07-08T11:46:18.993Z"
   },
   {
    "duration": 38,
    "start_time": "2021-07-08T11:46:19.006Z"
   },
   {
    "duration": 50,
    "start_time": "2021-07-08T11:46:19.046Z"
   },
   {
    "duration": 29,
    "start_time": "2021-07-08T11:46:19.099Z"
   },
   {
    "duration": 7,
    "start_time": "2021-07-08T11:46:19.130Z"
   },
   {
    "duration": 3,
    "start_time": "2021-07-08T11:46:19.139Z"
   },
   {
    "duration": 11,
    "start_time": "2021-07-08T11:46:19.144Z"
   },
   {
    "duration": 40,
    "start_time": "2021-07-08T11:46:19.157Z"
   },
   {
    "duration": 15,
    "start_time": "2021-07-08T11:46:19.199Z"
   },
   {
    "duration": 10,
    "start_time": "2021-07-08T11:46:19.217Z"
   },
   {
    "duration": 68,
    "start_time": "2021-07-08T11:46:19.230Z"
   },
   {
    "duration": 17,
    "start_time": "2021-07-08T11:46:19.301Z"
   },
   {
    "duration": 7,
    "start_time": "2021-07-08T11:46:19.321Z"
   },
   {
    "duration": 11,
    "start_time": "2021-07-08T11:46:19.330Z"
   },
   {
    "duration": 59,
    "start_time": "2021-07-08T11:46:19.343Z"
   },
   {
    "duration": 17,
    "start_time": "2021-07-08T11:46:19.405Z"
   },
   {
    "duration": 16,
    "start_time": "2021-07-08T11:46:19.424Z"
   },
   {
    "duration": 252,
    "start_time": "2021-07-08T11:46:19.443Z"
   },
   {
    "duration": 9,
    "start_time": "2021-07-08T11:46:19.697Z"
   },
   {
    "duration": 224,
    "start_time": "2021-07-08T11:46:19.708Z"
   },
   {
    "duration": 21,
    "start_time": "2021-07-08T11:46:19.934Z"
   },
   {
    "duration": 9,
    "start_time": "2021-07-08T11:46:19.956Z"
   },
   {
    "duration": 32,
    "start_time": "2021-07-08T11:46:19.967Z"
   },
   {
    "duration": 288,
    "start_time": "2021-07-08T11:46:20.004Z"
   },
   {
    "duration": 23,
    "start_time": "2021-07-08T11:46:20.300Z"
   },
   {
    "duration": 11,
    "start_time": "2021-07-08T11:46:20.325Z"
   },
   {
    "duration": 11,
    "start_time": "2021-07-08T11:46:20.339Z"
   },
   {
    "duration": 259,
    "start_time": "2021-07-08T11:46:20.352Z"
   },
   {
    "duration": 438,
    "start_time": "2021-07-08T11:46:20.613Z"
   },
   {
    "duration": 207,
    "start_time": "2021-07-08T11:46:21.054Z"
   },
   {
    "duration": 27,
    "start_time": "2021-07-08T11:46:21.262Z"
   },
   {
    "duration": 19,
    "start_time": "2021-07-08T11:46:21.291Z"
   },
   {
    "duration": 820,
    "start_time": "2021-07-08T11:49:01.655Z"
   },
   {
    "duration": 372,
    "start_time": "2021-07-08T11:49:02.478Z"
   },
   {
    "duration": 98,
    "start_time": "2021-07-08T11:49:02.853Z"
   },
   {
    "duration": 6,
    "start_time": "2021-07-08T11:49:02.953Z"
   },
   {
    "duration": 39,
    "start_time": "2021-07-08T11:49:02.960Z"
   },
   {
    "duration": 9,
    "start_time": "2021-07-08T11:49:03.003Z"
   },
   {
    "duration": 23,
    "start_time": "2021-07-08T11:49:03.014Z"
   },
   {
    "duration": 6,
    "start_time": "2021-07-08T11:49:03.041Z"
   },
   {
    "duration": 20,
    "start_time": "2021-07-08T11:49:03.049Z"
   },
   {
    "duration": 18,
    "start_time": "2021-07-08T11:49:03.084Z"
   },
   {
    "duration": 14,
    "start_time": "2021-07-08T11:49:03.104Z"
   },
   {
    "duration": 39,
    "start_time": "2021-07-08T11:49:03.119Z"
   },
   {
    "duration": 38,
    "start_time": "2021-07-08T11:49:03.160Z"
   },
   {
    "duration": 26,
    "start_time": "2021-07-08T11:49:03.200Z"
   },
   {
    "duration": 7,
    "start_time": "2021-07-08T11:49:03.227Z"
   },
   {
    "duration": 4,
    "start_time": "2021-07-08T11:49:03.236Z"
   },
   {
    "duration": 15,
    "start_time": "2021-07-08T11:49:03.243Z"
   },
   {
    "duration": 21,
    "start_time": "2021-07-08T11:49:03.285Z"
   },
   {
    "duration": 17,
    "start_time": "2021-07-08T11:49:03.309Z"
   },
   {
    "duration": 10,
    "start_time": "2021-07-08T11:49:03.328Z"
   },
   {
    "duration": 65,
    "start_time": "2021-07-08T11:49:03.340Z"
   },
   {
    "duration": 18,
    "start_time": "2021-07-08T11:49:03.407Z"
   },
   {
    "duration": 8,
    "start_time": "2021-07-08T11:49:03.428Z"
   },
   {
    "duration": 15,
    "start_time": "2021-07-08T11:49:03.438Z"
   },
   {
    "duration": 40,
    "start_time": "2021-07-08T11:49:03.455Z"
   },
   {
    "duration": 12,
    "start_time": "2021-07-08T11:49:03.497Z"
   },
   {
    "duration": 29,
    "start_time": "2021-07-08T11:49:03.511Z"
   },
   {
    "duration": 285,
    "start_time": "2021-07-08T11:49:03.542Z"
   },
   {
    "duration": 8,
    "start_time": "2021-07-08T11:49:03.829Z"
   },
   {
    "duration": 227,
    "start_time": "2021-07-08T11:49:03.838Z"
   },
   {
    "duration": 40,
    "start_time": "2021-07-08T11:49:04.066Z"
   },
   {
    "duration": 10,
    "start_time": "2021-07-08T11:49:04.108Z"
   },
   {
    "duration": 26,
    "start_time": "2021-07-08T11:49:04.121Z"
   },
   {
    "duration": 290,
    "start_time": "2021-07-08T11:49:04.149Z"
   },
   {
    "duration": 26,
    "start_time": "2021-07-08T11:49:04.441Z"
   },
   {
    "duration": 31,
    "start_time": "2021-07-08T11:49:04.470Z"
   },
   {
    "duration": 14,
    "start_time": "2021-07-08T11:49:04.503Z"
   },
   {
    "duration": 259,
    "start_time": "2021-07-08T11:49:04.521Z"
   },
   {
    "duration": 480,
    "start_time": "2021-07-08T11:49:04.782Z"
   },
   {
    "duration": 225,
    "start_time": "2021-07-08T11:49:05.264Z"
   },
   {
    "duration": 22,
    "start_time": "2021-07-08T11:49:05.491Z"
   },
   {
    "duration": 24,
    "start_time": "2021-07-08T11:49:05.515Z"
   },
   {
    "duration": 634,
    "start_time": "2021-07-08T11:52:24.960Z"
   },
   {
    "duration": 199,
    "start_time": "2021-07-08T11:52:25.599Z"
   },
   {
    "duration": 106,
    "start_time": "2021-07-08T11:52:25.803Z"
   },
   {
    "duration": 7,
    "start_time": "2021-07-08T11:52:25.911Z"
   },
   {
    "duration": 29,
    "start_time": "2021-07-08T11:52:25.920Z"
   },
   {
    "duration": 7,
    "start_time": "2021-07-08T11:52:25.951Z"
   },
   {
    "duration": 26,
    "start_time": "2021-07-08T11:52:25.961Z"
   },
   {
    "duration": 11,
    "start_time": "2021-07-08T11:52:25.990Z"
   },
   {
    "duration": 29,
    "start_time": "2021-07-08T11:52:26.005Z"
   },
   {
    "duration": 9,
    "start_time": "2021-07-08T11:52:26.036Z"
   },
   {
    "duration": 8,
    "start_time": "2021-07-08T11:52:26.047Z"
   },
   {
    "duration": 63,
    "start_time": "2021-07-08T11:52:26.057Z"
   },
   {
    "duration": 17,
    "start_time": "2021-07-08T11:52:26.122Z"
   },
   {
    "duration": 43,
    "start_time": "2021-07-08T11:52:26.142Z"
   },
   {
    "duration": 17,
    "start_time": "2021-07-08T11:52:26.187Z"
   },
   {
    "duration": 5,
    "start_time": "2021-07-08T11:52:26.206Z"
   },
   {
    "duration": 12,
    "start_time": "2021-07-08T11:52:26.212Z"
   },
   {
    "duration": 11,
    "start_time": "2021-07-08T11:52:26.226Z"
   },
   {
    "duration": 12,
    "start_time": "2021-07-08T11:52:26.238Z"
   },
   {
    "duration": 38,
    "start_time": "2021-07-08T11:52:26.252Z"
   },
   {
    "duration": 40,
    "start_time": "2021-07-08T11:52:26.292Z"
   },
   {
    "duration": 17,
    "start_time": "2021-07-08T11:52:26.336Z"
   },
   {
    "duration": 39,
    "start_time": "2021-07-08T11:52:26.355Z"
   },
   {
    "duration": 11,
    "start_time": "2021-07-08T11:52:26.395Z"
   },
   {
    "duration": 23,
    "start_time": "2021-07-08T11:52:26.408Z"
   },
   {
    "duration": 12,
    "start_time": "2021-07-08T11:52:26.432Z"
   },
   {
    "duration": 41,
    "start_time": "2021-07-08T11:52:26.446Z"
   },
   {
    "duration": 215,
    "start_time": "2021-07-08T11:52:26.493Z"
   },
   {
    "duration": 8,
    "start_time": "2021-07-08T11:52:26.710Z"
   },
   {
    "duration": 228,
    "start_time": "2021-07-08T11:52:26.720Z"
   },
   {
    "duration": 18,
    "start_time": "2021-07-08T11:52:26.950Z"
   },
   {
    "duration": 35,
    "start_time": "2021-07-08T11:52:26.969Z"
   },
   {
    "duration": 23,
    "start_time": "2021-07-08T11:52:27.006Z"
   },
   {
    "duration": 258,
    "start_time": "2021-07-08T11:52:27.030Z"
   },
   {
    "duration": 24,
    "start_time": "2021-07-08T11:52:27.290Z"
   },
   {
    "duration": 12,
    "start_time": "2021-07-08T11:52:27.316Z"
   },
   {
    "duration": 10,
    "start_time": "2021-07-08T11:52:27.329Z"
   },
   {
    "duration": 298,
    "start_time": "2021-07-08T11:52:27.341Z"
   },
   {
    "duration": 436,
    "start_time": "2021-07-08T11:52:27.641Z"
   },
   {
    "duration": 216,
    "start_time": "2021-07-08T11:52:28.079Z"
   },
   {
    "duration": 20,
    "start_time": "2021-07-08T11:52:28.297Z"
   },
   {
    "duration": 17,
    "start_time": "2021-07-08T11:52:28.319Z"
   },
   {
    "duration": 1574,
    "start_time": "2023-11-26T14:20:02.729Z"
   },
   {
    "duration": 117,
    "start_time": "2023-11-26T14:20:40.636Z"
   },
   {
    "duration": 173,
    "start_time": "2023-11-26T14:20:50.458Z"
   },
   {
    "duration": 137,
    "start_time": "2023-11-26T14:21:03.754Z"
   },
   {
    "duration": 124,
    "start_time": "2023-11-26T14:25:24.321Z"
   },
   {
    "duration": 129,
    "start_time": "2023-11-26T14:25:42.037Z"
   },
   {
    "duration": 136,
    "start_time": "2023-11-26T14:26:17.465Z"
   },
   {
    "duration": 139,
    "start_time": "2023-11-26T14:30:17.709Z"
   },
   {
    "duration": 142,
    "start_time": "2023-11-26T14:30:39.298Z"
   },
   {
    "duration": 137,
    "start_time": "2023-11-26T14:30:50.510Z"
   },
   {
    "duration": 136,
    "start_time": "2023-11-26T14:31:00.550Z"
   },
   {
    "duration": 149,
    "start_time": "2023-11-26T14:32:57.709Z"
   },
   {
    "duration": 138,
    "start_time": "2023-11-26T14:33:06.016Z"
   },
   {
    "duration": 132,
    "start_time": "2023-11-26T14:33:21.946Z"
   },
   {
    "duration": 130,
    "start_time": "2023-11-26T14:34:52.313Z"
   },
   {
    "duration": 793,
    "start_time": "2023-11-26T14:35:06.321Z"
   },
   {
    "duration": 150,
    "start_time": "2023-11-26T14:35:28.156Z"
   },
   {
    "duration": 166,
    "start_time": "2023-11-26T14:35:50.232Z"
   },
   {
    "duration": 160,
    "start_time": "2023-11-26T14:36:30.300Z"
   },
   {
    "duration": 179,
    "start_time": "2023-11-26T14:38:03.591Z"
   },
   {
    "duration": 165,
    "start_time": "2023-11-26T14:38:23.290Z"
   },
   {
    "duration": 148,
    "start_time": "2023-11-26T14:39:49.377Z"
   },
   {
    "duration": 18,
    "start_time": "2023-11-26T14:41:34.062Z"
   },
   {
    "duration": 25,
    "start_time": "2023-11-26T14:43:44.893Z"
   },
   {
    "duration": 20,
    "start_time": "2023-11-26T14:44:15.125Z"
   },
   {
    "duration": 28,
    "start_time": "2023-11-26T14:44:24.175Z"
   },
   {
    "duration": 20,
    "start_time": "2023-11-26T14:45:36.124Z"
   },
   {
    "duration": 30,
    "start_time": "2023-11-26T14:45:48.877Z"
   },
   {
    "duration": 33,
    "start_time": "2023-11-26T14:46:12.834Z"
   },
   {
    "duration": 19,
    "start_time": "2023-11-26T14:46:39.538Z"
   },
   {
    "duration": 19,
    "start_time": "2023-11-26T14:46:51.489Z"
   },
   {
    "duration": 23,
    "start_time": "2023-11-26T14:46:57.302Z"
   },
   {
    "duration": 32,
    "start_time": "2023-11-26T14:48:02.340Z"
   },
   {
    "duration": 20,
    "start_time": "2023-11-26T14:48:05.061Z"
   },
   {
    "duration": 153,
    "start_time": "2023-11-26T14:48:09.350Z"
   },
   {
    "duration": 32,
    "start_time": "2023-11-26T14:48:11.862Z"
   },
   {
    "duration": 21,
    "start_time": "2023-11-26T14:49:54.724Z"
   },
   {
    "duration": 157,
    "start_time": "2023-11-26T14:50:03.010Z"
   },
   {
    "duration": 17,
    "start_time": "2023-11-26T14:50:25.778Z"
   },
   {
    "duration": 21,
    "start_time": "2023-11-26T14:51:06.598Z"
   },
   {
    "duration": 26,
    "start_time": "2023-11-26T14:51:17.959Z"
   },
   {
    "duration": 29,
    "start_time": "2023-11-26T14:53:10.323Z"
   },
   {
    "duration": 41,
    "start_time": "2023-11-26T14:53:21.830Z"
   },
   {
    "duration": 26,
    "start_time": "2023-11-26T14:53:40.782Z"
   },
   {
    "duration": 22,
    "start_time": "2023-11-26T14:54:29.384Z"
   },
   {
    "duration": 28,
    "start_time": "2023-11-26T14:54:38.769Z"
   },
   {
    "duration": 650,
    "start_time": "2023-11-26T14:57:52.091Z"
   },
   {
    "duration": 636,
    "start_time": "2023-11-26T14:59:25.315Z"
   },
   {
    "duration": 18,
    "start_time": "2023-11-26T14:59:30.148Z"
   },
   {
    "duration": 11,
    "start_time": "2023-11-26T15:00:29.068Z"
   },
   {
    "duration": 152,
    "start_time": "2023-11-26T15:04:26.403Z"
   },
   {
    "duration": 94,
    "start_time": "2023-11-26T15:06:05.856Z"
   },
   {
    "duration": 16,
    "start_time": "2023-11-26T15:06:19.002Z"
   },
   {
    "duration": 91,
    "start_time": "2023-11-26T15:06:44.507Z"
   },
   {
    "duration": 16,
    "start_time": "2023-11-26T15:07:05.668Z"
   },
   {
    "duration": 1305,
    "start_time": "2023-11-26T15:07:20.280Z"
   },
   {
    "duration": 1459,
    "start_time": "2023-11-26T15:07:36.576Z"
   },
   {
    "duration": 149,
    "start_time": "2023-11-26T15:07:44.046Z"
   },
   {
    "duration": 1293,
    "start_time": "2023-11-26T15:07:47.379Z"
   },
   {
    "duration": 18,
    "start_time": "2023-11-26T15:08:57.929Z"
   },
   {
    "duration": 1338,
    "start_time": "2023-11-26T15:10:49.538Z"
   },
   {
    "duration": 19,
    "start_time": "2023-11-26T15:14:00.398Z"
   },
   {
    "duration": 1382,
    "start_time": "2023-11-26T15:14:21.868Z"
   },
   {
    "duration": 19,
    "start_time": "2023-11-26T15:14:32.926Z"
   },
   {
    "duration": 20,
    "start_time": "2023-11-26T15:14:59.550Z"
   },
   {
    "duration": 69,
    "start_time": "2023-11-26T15:15:12.032Z"
   },
   {
    "duration": 15,
    "start_time": "2023-11-26T15:15:18.025Z"
   },
   {
    "duration": 14,
    "start_time": "2023-11-26T15:15:21.513Z"
   },
   {
    "duration": 14,
    "start_time": "2023-11-26T15:15:40.783Z"
   },
   {
    "duration": 14,
    "start_time": "2023-11-26T15:16:23.640Z"
   },
   {
    "duration": 18,
    "start_time": "2023-11-26T15:17:34.283Z"
   },
   {
    "duration": 14,
    "start_time": "2023-11-26T15:17:40.655Z"
   },
   {
    "duration": 14,
    "start_time": "2023-11-26T15:17:45.898Z"
   },
   {
    "duration": 15,
    "start_time": "2023-11-26T15:17:54.279Z"
   },
   {
    "duration": 14,
    "start_time": "2023-11-26T15:20:22.402Z"
   },
   {
    "duration": 98,
    "start_time": "2023-11-26T15:21:49.031Z"
   },
   {
    "duration": 16,
    "start_time": "2023-11-26T15:21:52.601Z"
   },
   {
    "duration": 11,
    "start_time": "2023-11-26T15:22:01.744Z"
   },
   {
    "duration": 152,
    "start_time": "2023-11-26T15:22:05.189Z"
   },
   {
    "duration": 8,
    "start_time": "2023-11-26T15:22:06.813Z"
   },
   {
    "duration": 76,
    "start_time": "2023-11-26T15:24:15.857Z"
   },
   {
    "duration": 24,
    "start_time": "2023-11-26T15:25:35.092Z"
   },
   {
    "duration": 83,
    "start_time": "2023-11-26T15:26:00.082Z"
   },
   {
    "duration": 25,
    "start_time": "2023-11-26T15:30:41.509Z"
   },
   {
    "duration": 24,
    "start_time": "2023-11-26T15:31:45.822Z"
   },
   {
    "duration": 28,
    "start_time": "2023-11-26T15:32:52.714Z"
   },
   {
    "duration": 28,
    "start_time": "2023-11-26T15:33:20.623Z"
   },
   {
    "duration": 35,
    "start_time": "2023-11-26T15:35:02.786Z"
   },
   {
    "duration": 33,
    "start_time": "2023-11-26T15:36:24.746Z"
   },
   {
    "duration": 24,
    "start_time": "2023-11-26T15:36:29.426Z"
   },
   {
    "duration": 26,
    "start_time": "2023-11-26T15:37:35.680Z"
   },
   {
    "duration": 26,
    "start_time": "2023-11-26T15:37:41.730Z"
   },
   {
    "duration": 33,
    "start_time": "2023-11-26T15:39:09.057Z"
   },
   {
    "duration": 39,
    "start_time": "2023-11-26T15:39:14.657Z"
   },
   {
    "duration": 90,
    "start_time": "2023-11-26T15:41:34.938Z"
   },
   {
    "duration": 9,
    "start_time": "2023-11-26T15:42:40.316Z"
   },
   {
    "duration": 42,
    "start_time": "2023-11-26T15:42:51.926Z"
   },
   {
    "duration": 133,
    "start_time": "2023-11-26T15:44:12.442Z"
   },
   {
    "duration": 133,
    "start_time": "2023-11-26T15:44:31.434Z"
   },
   {
    "duration": 583,
    "start_time": "2023-11-26T15:45:09.200Z"
   },
   {
    "duration": 144,
    "start_time": "2023-11-26T15:45:22.959Z"
   },
   {
    "duration": 134,
    "start_time": "2023-11-26T15:45:42.180Z"
   },
   {
    "duration": 474,
    "start_time": "2023-11-26T15:47:00.685Z"
   },
   {
    "duration": 150,
    "start_time": "2023-11-26T15:49:15.577Z"
   },
   {
    "duration": 87,
    "start_time": "2023-11-26T15:50:37.136Z"
   },
   {
    "duration": 50,
    "start_time": "2023-11-26T15:50:51.269Z"
   },
   {
    "duration": 150,
    "start_time": "2023-11-26T15:53:03.167Z"
   },
   {
    "duration": 91,
    "start_time": "2023-11-26T15:53:14.036Z"
   },
   {
    "duration": 39,
    "start_time": "2023-11-26T15:55:56.960Z"
   },
   {
    "duration": 41,
    "start_time": "2023-11-26T15:56:52.104Z"
   },
   {
    "duration": 36,
    "start_time": "2023-11-26T15:56:58.825Z"
   },
   {
    "duration": 40,
    "start_time": "2023-11-26T15:57:11.468Z"
   },
   {
    "duration": 41,
    "start_time": "2023-11-26T16:08:17.095Z"
   },
   {
    "duration": 39,
    "start_time": "2023-11-26T16:09:51.524Z"
   },
   {
    "duration": 51,
    "start_time": "2023-11-28T01:42:19.473Z"
   },
   {
    "duration": 1710,
    "start_time": "2023-11-28T01:42:37.842Z"
   },
   {
    "duration": 12,
    "start_time": "2023-11-28T01:42:42.552Z"
   },
   {
    "duration": 160,
    "start_time": "2023-11-28T01:45:20.665Z"
   },
   {
    "duration": 10,
    "start_time": "2023-11-28T01:45:23.622Z"
   },
   {
    "duration": 214,
    "start_time": "2023-11-28T01:52:35.210Z"
   },
   {
    "duration": 154,
    "start_time": "2023-11-28T01:53:33.870Z"
   },
   {
    "duration": 78,
    "start_time": "2023-11-28T01:53:48.391Z"
   },
   {
    "duration": 37,
    "start_time": "2023-11-28T01:53:51.429Z"
   },
   {
    "duration": 159,
    "start_time": "2023-11-28T01:57:03.295Z"
   },
   {
    "duration": 156,
    "start_time": "2023-11-28T01:57:13.374Z"
   },
   {
    "duration": 146,
    "start_time": "2023-11-28T01:57:52.679Z"
   },
   {
    "duration": 158,
    "start_time": "2023-11-28T01:59:01.118Z"
   },
   {
    "duration": 155,
    "start_time": "2023-11-28T02:00:26.207Z"
   },
   {
    "duration": 85,
    "start_time": "2023-11-28T02:00:59.629Z"
   },
   {
    "duration": 141,
    "start_time": "2023-11-28T02:03:27.528Z"
   },
   {
    "duration": 138,
    "start_time": "2023-11-28T02:08:59.519Z"
   },
   {
    "duration": 144,
    "start_time": "2023-11-28T02:09:02.832Z"
   },
   {
    "duration": 155,
    "start_time": "2023-11-28T02:09:08.138Z"
   },
   {
    "duration": 143,
    "start_time": "2023-11-28T02:09:33.280Z"
   },
   {
    "duration": 11,
    "start_time": "2023-11-28T02:10:34.465Z"
   },
   {
    "duration": 100,
    "start_time": "2023-11-28T02:12:59.178Z"
   },
   {
    "duration": 157,
    "start_time": "2023-11-28T02:13:04.218Z"
   },
   {
    "duration": 167,
    "start_time": "2023-11-28T02:15:01.249Z"
   },
   {
    "duration": 2,
    "start_time": "2023-11-28T02:22:09.786Z"
   },
   {
    "duration": 3,
    "start_time": "2023-11-28T02:22:38.910Z"
   },
   {
    "duration": 96,
    "start_time": "2023-11-28T02:26:29.228Z"
   },
   {
    "duration": 19,
    "start_time": "2023-11-28T02:28:52.667Z"
   },
   {
    "duration": 2,
    "start_time": "2023-11-28T02:29:43.354Z"
   },
   {
    "duration": 13,
    "start_time": "2023-11-28T02:35:42.910Z"
   },
   {
    "duration": 11,
    "start_time": "2023-11-28T02:43:21.882Z"
   },
   {
    "duration": 17,
    "start_time": "2023-11-28T02:43:29.130Z"
   },
   {
    "duration": 31,
    "start_time": "2023-11-28T02:44:09.816Z"
   },
   {
    "duration": 27,
    "start_time": "2023-11-28T02:44:35.457Z"
   },
   {
    "duration": 35,
    "start_time": "2023-11-28T02:48:19.701Z"
   },
   {
    "duration": 2,
    "start_time": "2023-11-28T02:48:25.927Z"
   },
   {
    "duration": 29,
    "start_time": "2023-11-28T02:48:27.491Z"
   },
   {
    "duration": 9,
    "start_time": "2023-11-28T02:48:49.567Z"
   },
   {
    "duration": 6,
    "start_time": "2023-11-28T02:49:14.295Z"
   },
   {
    "duration": 6,
    "start_time": "2023-11-28T02:49:27.613Z"
   },
   {
    "duration": 9,
    "start_time": "2023-11-28T02:55:14.714Z"
   },
   {
    "duration": 10,
    "start_time": "2023-11-28T02:55:28.694Z"
   },
   {
    "duration": 9,
    "start_time": "2023-11-28T02:57:24.685Z"
   },
   {
    "duration": 8,
    "start_time": "2023-11-28T02:58:39.435Z"
   },
   {
    "duration": 10,
    "start_time": "2023-11-28T02:59:05.105Z"
   },
   {
    "duration": 20,
    "start_time": "2023-11-28T03:03:53.883Z"
   },
   {
    "duration": 20,
    "start_time": "2023-11-28T03:05:29.609Z"
   },
   {
    "duration": 16,
    "start_time": "2023-11-28T03:05:35.246Z"
   },
   {
    "duration": 13,
    "start_time": "2023-11-28T03:05:40.737Z"
   },
   {
    "duration": 16,
    "start_time": "2023-11-28T03:06:03.562Z"
   },
   {
    "duration": 13,
    "start_time": "2023-11-28T03:06:14.168Z"
   },
   {
    "duration": 17,
    "start_time": "2023-11-28T03:06:22.365Z"
   },
   {
    "duration": 20,
    "start_time": "2023-11-28T03:06:38.818Z"
   },
   {
    "duration": 20,
    "start_time": "2023-11-28T03:06:50.660Z"
   },
   {
    "duration": 24,
    "start_time": "2023-11-28T03:08:57.794Z"
   },
   {
    "duration": 23,
    "start_time": "2023-11-28T03:09:24.807Z"
   },
   {
    "duration": 29,
    "start_time": "2023-11-28T03:09:39.882Z"
   },
   {
    "duration": 32,
    "start_time": "2023-11-28T03:12:44.514Z"
   },
   {
    "duration": 25,
    "start_time": "2023-11-28T03:13:03.000Z"
   },
   {
    "duration": 32,
    "start_time": "2023-11-28T03:14:26.903Z"
   },
   {
    "duration": 30,
    "start_time": "2023-11-28T03:21:51.876Z"
   },
   {
    "duration": 5,
    "start_time": "2023-11-28T03:25:43.348Z"
   },
   {
    "duration": 15,
    "start_time": "2023-11-28T03:26:59.575Z"
   },
   {
    "duration": 90,
    "start_time": "2023-11-28T03:34:42.616Z"
   },
   {
    "duration": 11,
    "start_time": "2023-11-28T03:34:46.079Z"
   },
   {
    "duration": 3,
    "start_time": "2023-11-28T03:34:51.859Z"
   },
   {
    "duration": 37,
    "start_time": "2023-11-28T03:37:18.258Z"
   },
   {
    "duration": 39,
    "start_time": "2023-11-28T03:38:04.805Z"
   },
   {
    "duration": 37,
    "start_time": "2023-11-28T03:39:17.689Z"
   },
   {
    "duration": 16,
    "start_time": "2023-11-28T03:39:46.088Z"
   },
   {
    "duration": 14,
    "start_time": "2023-11-28T03:39:59.665Z"
   },
   {
    "duration": 21,
    "start_time": "2023-11-28T03:40:09.268Z"
   },
   {
    "duration": 18,
    "start_time": "2023-11-28T03:40:14.011Z"
   },
   {
    "duration": 14,
    "start_time": "2023-11-28T03:40:15.674Z"
   },
   {
    "duration": 158,
    "start_time": "2023-11-28T03:40:21.068Z"
   },
   {
    "duration": 90,
    "start_time": "2023-11-28T03:40:27.006Z"
   },
   {
    "duration": 4,
    "start_time": "2023-11-28T03:40:29.250Z"
   },
   {
    "duration": 38,
    "start_time": "2023-11-28T03:40:30.283Z"
   },
   {
    "duration": 29,
    "start_time": "2023-11-28T03:40:31.785Z"
   },
   {
    "duration": 15,
    "start_time": "2023-11-28T03:40:33.986Z"
   },
   {
    "duration": 12,
    "start_time": "2023-11-28T03:40:36.647Z"
   },
   {
    "duration": 1460,
    "start_time": "2023-11-28T03:43:03.663Z"
   },
   {
    "duration": 7,
    "start_time": "2023-11-28T03:46:34.837Z"
   },
   {
    "duration": 6,
    "start_time": "2023-11-28T03:47:29.672Z"
   },
   {
    "duration": 10,
    "start_time": "2023-11-28T03:47:38.769Z"
   },
   {
    "duration": 5,
    "start_time": "2023-11-28T03:47:42.721Z"
   },
   {
    "duration": 1074,
    "start_time": "2023-11-28T03:51:23.567Z"
   },
   {
    "duration": 1178,
    "start_time": "2023-11-28T03:51:42.095Z"
   },
   {
    "duration": 81,
    "start_time": "2023-11-28T03:53:11.634Z"
   },
   {
    "duration": 79,
    "start_time": "2023-11-28T03:53:31.058Z"
   },
   {
    "duration": 140,
    "start_time": "2023-11-28T03:55:46.893Z"
   },
   {
    "duration": 135,
    "start_time": "2023-11-28T03:56:06.461Z"
   },
   {
    "duration": 78,
    "start_time": "2023-11-28T03:56:25.932Z"
   },
   {
    "duration": 57,
    "start_time": "2023-11-29T12:31:40.025Z"
   },
   {
    "duration": 1770,
    "start_time": "2023-11-29T12:31:47.594Z"
   },
   {
    "duration": 85,
    "start_time": "2023-11-29T12:31:50.565Z"
   },
   {
    "duration": 2,
    "start_time": "2023-11-29T12:31:51.665Z"
   },
   {
    "duration": 20,
    "start_time": "2023-11-29T12:31:52.489Z"
   },
   {
    "duration": 67,
    "start_time": "2023-11-29T15:03:20.666Z"
   },
   {
    "duration": 16,
    "start_time": "2023-11-29T15:03:30.251Z"
   },
   {
    "duration": 153,
    "start_time": "2023-11-29T15:03:38.075Z"
   },
   {
    "duration": 83,
    "start_time": "2023-11-29T15:03:41.028Z"
   },
   {
    "duration": 2,
    "start_time": "2023-11-29T15:03:42.085Z"
   },
   {
    "duration": 19,
    "start_time": "2023-11-29T15:03:42.866Z"
   },
   {
    "duration": 28,
    "start_time": "2023-11-29T15:03:43.834Z"
   },
   {
    "duration": 14,
    "start_time": "2023-11-29T15:03:45.466Z"
   },
   {
    "duration": 11,
    "start_time": "2023-11-29T15:03:47.475Z"
   },
   {
    "duration": 1346,
    "start_time": "2023-11-29T15:03:48.389Z"
   },
   {
    "duration": 88,
    "start_time": "2023-11-29T15:03:49.737Z"
   },
   {
    "duration": 9,
    "start_time": "2023-11-29T15:03:51.053Z"
   },
   {
    "duration": 19,
    "start_time": "2023-11-29T15:05:09.645Z"
   },
   {
    "duration": 10,
    "start_time": "2023-11-29T15:05:35.464Z"
   },
   {
    "duration": 11,
    "start_time": "2023-11-29T15:09:01.729Z"
   },
   {
    "duration": 12,
    "start_time": "2023-11-29T15:09:08.955Z"
   },
   {
    "duration": 17,
    "start_time": "2023-11-29T15:09:18.370Z"
   },
   {
    "duration": 18,
    "start_time": "2023-11-29T15:10:44.187Z"
   },
   {
    "duration": 175,
    "start_time": "2023-11-29T15:12:30.205Z"
   },
   {
    "duration": 4,
    "start_time": "2023-11-29T15:14:44.828Z"
   },
   {
    "duration": 94,
    "start_time": "2023-11-29T15:16:09.885Z"
   },
   {
    "duration": 88,
    "start_time": "2023-11-29T15:17:35.861Z"
   },
   {
    "duration": 14,
    "start_time": "2023-11-29T15:17:40.184Z"
   },
   {
    "duration": 13,
    "start_time": "2023-11-29T15:17:48.590Z"
   },
   {
    "duration": 1586,
    "start_time": "2023-11-29T15:17:51.021Z"
   },
   {
    "duration": 0,
    "start_time": "2023-11-29T15:17:52.608Z"
   },
   {
    "duration": 1485,
    "start_time": "2023-11-29T15:18:05.849Z"
   },
   {
    "duration": 12,
    "start_time": "2023-11-29T15:18:07.394Z"
   },
   {
    "duration": 1520,
    "start_time": "2023-11-29T15:18:18.053Z"
   },
   {
    "duration": 149,
    "start_time": "2023-11-29T15:18:37.938Z"
   },
   {
    "duration": 3,
    "start_time": "2023-11-29T15:18:46.054Z"
   },
   {
    "duration": 27,
    "start_time": "2023-11-29T15:19:35.911Z"
   },
   {
    "duration": 13,
    "start_time": "2023-11-29T15:21:25.063Z"
   },
   {
    "duration": 12,
    "start_time": "2023-11-29T15:21:28.302Z"
   },
   {
    "duration": 12,
    "start_time": "2023-11-29T15:21:30.177Z"
   },
   {
    "duration": 151,
    "start_time": "2023-11-29T15:21:37.988Z"
   },
   {
    "duration": 82,
    "start_time": "2023-11-29T15:21:38.141Z"
   },
   {
    "duration": 2,
    "start_time": "2023-11-29T15:21:38.225Z"
   },
   {
    "duration": 35,
    "start_time": "2023-11-29T15:21:38.229Z"
   },
   {
    "duration": 26,
    "start_time": "2023-11-29T15:21:38.265Z"
   },
   {
    "duration": 12,
    "start_time": "2023-11-29T15:21:38.293Z"
   },
   {
    "duration": 10,
    "start_time": "2023-11-29T15:21:38.307Z"
   },
   {
    "duration": 1367,
    "start_time": "2023-11-29T15:21:38.318Z"
   },
   {
    "duration": 73,
    "start_time": "2023-11-29T15:21:39.687Z"
   },
   {
    "duration": 149,
    "start_time": "2023-11-29T15:21:39.762Z"
   },
   {
    "duration": 4,
    "start_time": "2023-11-29T15:21:39.913Z"
   },
   {
    "duration": 14,
    "start_time": "2023-11-29T15:21:43.346Z"
   },
   {
    "duration": 2,
    "start_time": "2023-11-29T15:22:08.896Z"
   },
   {
    "duration": 14,
    "start_time": "2023-11-29T15:22:10.530Z"
   },
   {
    "duration": 12,
    "start_time": "2023-11-29T15:22:12.757Z"
   },
   {
    "duration": 146,
    "start_time": "2023-11-29T15:22:24.176Z"
   },
   {
    "duration": 3,
    "start_time": "2023-11-29T15:22:25.200Z"
   },
   {
    "duration": 14,
    "start_time": "2023-11-29T15:22:26.384Z"
   },
   {
    "duration": 12,
    "start_time": "2023-11-29T15:22:44.073Z"
   },
   {
    "duration": 149,
    "start_time": "2023-11-29T15:22:48.391Z"
   },
   {
    "duration": 78,
    "start_time": "2023-11-29T15:22:48.542Z"
   },
   {
    "duration": 3,
    "start_time": "2023-11-29T15:22:48.621Z"
   },
   {
    "duration": 29,
    "start_time": "2023-11-29T15:22:48.626Z"
   },
   {
    "duration": 26,
    "start_time": "2023-11-29T15:22:48.656Z"
   },
   {
    "duration": 12,
    "start_time": "2023-11-29T15:22:48.684Z"
   },
   {
    "duration": 15,
    "start_time": "2023-11-29T15:22:48.698Z"
   },
   {
    "duration": 1429,
    "start_time": "2023-11-29T15:22:48.715Z"
   },
   {
    "duration": 77,
    "start_time": "2023-11-29T15:22:50.145Z"
   },
   {
    "duration": 164,
    "start_time": "2023-11-29T15:22:50.224Z"
   },
   {
    "duration": 3,
    "start_time": "2023-11-29T15:22:50.389Z"
   },
   {
    "duration": 13,
    "start_time": "2023-11-29T15:22:53.477Z"
   },
   {
    "duration": 13,
    "start_time": "2023-11-29T15:23:07.421Z"
   },
   {
    "duration": 13,
    "start_time": "2023-11-29T15:23:18.236Z"
   },
   {
    "duration": 13,
    "start_time": "2023-11-29T15:23:19.898Z"
   },
   {
    "duration": 13,
    "start_time": "2023-11-29T15:23:36.623Z"
   },
   {
    "duration": 13,
    "start_time": "2023-11-29T15:23:41.404Z"
   },
   {
    "duration": 13,
    "start_time": "2023-11-29T15:23:52.106Z"
   },
   {
    "duration": 13,
    "start_time": "2023-11-29T15:24:12.224Z"
   },
   {
    "duration": 19,
    "start_time": "2023-11-29T15:25:08.697Z"
   },
   {
    "duration": 23,
    "start_time": "2023-11-29T15:25:53.708Z"
   },
   {
    "duration": 18,
    "start_time": "2023-11-29T15:26:02.410Z"
   },
   {
    "duration": 1637,
    "start_time": "2023-11-29T15:27:07.222Z"
   },
   {
    "duration": 1484,
    "start_time": "2023-11-29T15:27:09.164Z"
   },
   {
    "duration": 1324,
    "start_time": "2023-11-29T15:27:27.067Z"
   },
   {
    "duration": 10,
    "start_time": "2023-11-29T15:28:19.437Z"
   },
   {
    "duration": 20,
    "start_time": "2023-11-29T15:28:24.010Z"
   },
   {
    "duration": 21,
    "start_time": "2023-11-29T15:28:39.166Z"
   },
   {
    "duration": 13,
    "start_time": "2023-11-29T15:32:00.224Z"
   },
   {
    "duration": 22,
    "start_time": "2023-11-29T15:32:19.115Z"
   },
   {
    "duration": 6,
    "start_time": "2023-11-29T15:32:24.091Z"
   },
   {
    "duration": 13,
    "start_time": "2023-11-29T15:33:26.562Z"
   },
   {
    "duration": 15,
    "start_time": "2023-11-29T15:33:35.160Z"
   },
   {
    "duration": 13,
    "start_time": "2023-11-29T15:33:48.340Z"
   },
   {
    "duration": 10,
    "start_time": "2023-11-29T15:33:55.626Z"
   },
   {
    "duration": 29,
    "start_time": "2023-11-29T15:34:48.564Z"
   },
   {
    "duration": 14,
    "start_time": "2023-11-29T15:35:02.696Z"
   },
   {
    "duration": 282,
    "start_time": "2023-11-29T15:36:48.646Z"
   },
   {
    "duration": 315,
    "start_time": "2023-11-29T15:37:15.794Z"
   },
   {
    "duration": 367,
    "start_time": "2023-11-29T15:49:50.988Z"
   },
   {
    "duration": 343,
    "start_time": "2023-11-29T15:51:06.332Z"
   },
   {
    "duration": 12,
    "start_time": "2023-11-29T15:52:42.238Z"
   },
   {
    "duration": 387,
    "start_time": "2023-11-29T15:53:52.685Z"
   },
   {
    "duration": 358,
    "start_time": "2023-11-29T15:54:00.868Z"
   },
   {
    "duration": 21,
    "start_time": "2023-11-29T15:55:45.334Z"
   },
   {
    "duration": 7,
    "start_time": "2023-11-29T15:57:20.420Z"
   },
   {
    "duration": 1965,
    "start_time": "2023-11-29T15:59:40.616Z"
   },
   {
    "duration": 8,
    "start_time": "2023-11-29T15:59:51.720Z"
   },
   {
    "duration": 7,
    "start_time": "2023-11-29T16:00:36.956Z"
   },
   {
    "duration": 22,
    "start_time": "2023-11-29T16:03:44.090Z"
   },
   {
    "duration": 24,
    "start_time": "2023-11-29T16:05:25.246Z"
   },
   {
    "duration": 11,
    "start_time": "2023-11-29T16:07:06.950Z"
   },
   {
    "duration": 22,
    "start_time": "2023-11-29T16:07:16.899Z"
   },
   {
    "duration": 8,
    "start_time": "2023-11-29T16:08:04.531Z"
   },
   {
    "duration": 4,
    "start_time": "2023-11-29T16:08:14.111Z"
   },
   {
    "duration": 18,
    "start_time": "2023-11-29T16:08:23.135Z"
   },
   {
    "duration": 9,
    "start_time": "2023-11-29T16:08:31.065Z"
   },
   {
    "duration": 9,
    "start_time": "2023-11-29T16:08:43.846Z"
   },
   {
    "duration": 9,
    "start_time": "2023-11-29T16:10:10.768Z"
   },
   {
    "duration": 9,
    "start_time": "2023-11-29T16:10:23.654Z"
   },
   {
    "duration": 14,
    "start_time": "2023-11-29T16:11:20.126Z"
   },
   {
    "duration": 14,
    "start_time": "2023-11-29T16:11:47.441Z"
   },
   {
    "duration": 107,
    "start_time": "2023-11-29T16:12:24.273Z"
   },
   {
    "duration": 119,
    "start_time": "2023-11-29T16:12:36.046Z"
   },
   {
    "duration": 110,
    "start_time": "2023-11-29T16:12:42.696Z"
   },
   {
    "duration": 109,
    "start_time": "2023-11-29T16:12:52.969Z"
   },
   {
    "duration": 86,
    "start_time": "2023-11-29T16:23:01.275Z"
   },
   {
    "duration": 287,
    "start_time": "2023-11-29T16:23:09.773Z"
   },
   {
    "duration": 289,
    "start_time": "2023-11-29T16:23:19.710Z"
   },
   {
    "duration": 119,
    "start_time": "2023-11-29T16:23:21.733Z"
   },
   {
    "duration": 281,
    "start_time": "2023-11-29T16:24:04.309Z"
   },
   {
    "duration": 378,
    "start_time": "2023-11-29T16:28:59.234Z"
   },
   {
    "duration": 110,
    "start_time": "2023-11-29T16:29:01.025Z"
   },
   {
    "duration": 1243,
    "start_time": "2023-11-30T06:57:51.695Z"
   },
   {
    "duration": 82,
    "start_time": "2023-11-30T06:57:52.940Z"
   },
   {
    "duration": 2,
    "start_time": "2023-11-30T06:57:53.024Z"
   },
   {
    "duration": 33,
    "start_time": "2023-11-30T06:57:53.027Z"
   },
   {
    "duration": 30,
    "start_time": "2023-11-30T06:57:53.061Z"
   },
   {
    "duration": 25,
    "start_time": "2023-11-30T06:57:53.092Z"
   },
   {
    "duration": 24,
    "start_time": "2023-11-30T06:57:53.118Z"
   },
   {
    "duration": 1352,
    "start_time": "2023-11-30T06:57:53.144Z"
   },
   {
    "duration": 80,
    "start_time": "2023-11-30T06:57:54.498Z"
   },
   {
    "duration": 176,
    "start_time": "2023-11-30T06:57:54.581Z"
   },
   {
    "duration": 3,
    "start_time": "2023-11-30T06:57:54.759Z"
   },
   {
    "duration": 24,
    "start_time": "2023-11-30T06:57:54.764Z"
   },
   {
    "duration": 385,
    "start_time": "2023-11-30T06:57:54.790Z"
   },
   {
    "duration": 202,
    "start_time": "2023-11-30T06:57:55.177Z"
   },
   {
    "duration": 42,
    "start_time": "2023-11-30T07:08:06.744Z"
   },
   {
    "duration": 48,
    "start_time": "2023-11-30T07:08:27.040Z"
   },
   {
    "duration": 13,
    "start_time": "2023-11-30T07:08:55.683Z"
   },
   {
    "duration": 22,
    "start_time": "2023-11-30T07:11:06.362Z"
   },
   {
    "duration": 106,
    "start_time": "2023-11-30T07:14:35.656Z"
   },
   {
    "duration": 101,
    "start_time": "2023-11-30T07:16:57.997Z"
   },
   {
    "duration": 1652,
    "start_time": "2023-12-01T05:15:52.943Z"
   },
   {
    "duration": 2,
    "start_time": "2023-12-01T05:15:54.850Z"
   },
   {
    "duration": 36,
    "start_time": "2023-12-01T05:15:57.095Z"
   },
   {
    "duration": 49,
    "start_time": "2023-12-03T13:51:58.742Z"
   },
   {
    "duration": 1678,
    "start_time": "2023-12-03T13:52:06.973Z"
   },
   {
    "duration": 3,
    "start_time": "2023-12-03T13:52:08.653Z"
   },
   {
    "duration": 66,
    "start_time": "2023-12-03T13:52:08.657Z"
   },
   {
    "duration": 93,
    "start_time": "2023-12-03T13:52:08.724Z"
   },
   {
    "duration": 3,
    "start_time": "2023-12-03T13:52:08.819Z"
   },
   {
    "duration": 29,
    "start_time": "2023-12-03T13:52:08.824Z"
   },
   {
    "duration": 5,
    "start_time": "2023-12-03T13:52:09.823Z"
   },
   {
    "duration": 18,
    "start_time": "2023-12-03T13:52:36.551Z"
   },
   {
    "duration": 74,
    "start_time": "2023-12-03T13:56:40.019Z"
   },
   {
    "duration": 22,
    "start_time": "2023-12-03T13:56:49.425Z"
   },
   {
    "duration": 18,
    "start_time": "2023-12-03T13:56:55.909Z"
   },
   {
    "duration": 128,
    "start_time": "2023-12-03T13:57:12.242Z"
   },
   {
    "duration": 3,
    "start_time": "2023-12-03T13:57:12.373Z"
   },
   {
    "duration": 53,
    "start_time": "2023-12-03T13:57:12.378Z"
   },
   {
    "duration": 95,
    "start_time": "2023-12-03T13:57:12.432Z"
   },
   {
    "duration": 3,
    "start_time": "2023-12-03T13:57:12.528Z"
   },
   {
    "duration": 7,
    "start_time": "2023-12-03T13:57:12.532Z"
   },
   {
    "duration": 30,
    "start_time": "2023-12-03T13:57:14.447Z"
   },
   {
    "duration": 127,
    "start_time": "2023-12-03T13:58:34.527Z"
   },
   {
    "duration": 3,
    "start_time": "2023-12-03T13:58:34.656Z"
   },
   {
    "duration": 37,
    "start_time": "2023-12-03T13:58:34.660Z"
   },
   {
    "duration": 87,
    "start_time": "2023-12-03T13:58:34.699Z"
   },
   {
    "duration": 12,
    "start_time": "2023-12-03T13:58:34.788Z"
   },
   {
    "duration": 10,
    "start_time": "2023-12-03T13:58:34.802Z"
   },
   {
    "duration": 32,
    "start_time": "2023-12-03T13:58:36.280Z"
   },
   {
    "duration": 21,
    "start_time": "2023-12-03T13:59:09.668Z"
   },
   {
    "duration": 10,
    "start_time": "2023-12-03T14:59:15.714Z"
   },
   {
    "duration": 15,
    "start_time": "2023-12-03T14:59:18.761Z"
   },
   {
    "duration": 21,
    "start_time": "2023-12-03T15:00:07.195Z"
   },
   {
    "duration": 99,
    "start_time": "2023-12-03T15:00:41.584Z"
   },
   {
    "duration": 15,
    "start_time": "2023-12-03T15:02:06.953Z"
   },
   {
    "duration": 6,
    "start_time": "2023-12-03T15:12:50.853Z"
   },
   {
    "duration": 5,
    "start_time": "2023-12-03T15:12:58.943Z"
   },
   {
    "duration": 11,
    "start_time": "2023-12-03T15:13:01.055Z"
   },
   {
    "duration": 1264,
    "start_time": "2023-12-03T15:15:29.790Z"
   },
   {
    "duration": 1194,
    "start_time": "2023-12-03T15:15:42.317Z"
   },
   {
    "duration": 20,
    "start_time": "2023-12-03T15:22:13.214Z"
   },
   {
    "duration": 126,
    "start_time": "2023-12-03T15:22:34.727Z"
   },
   {
    "duration": 2,
    "start_time": "2023-12-03T15:22:34.854Z"
   },
   {
    "duration": 38,
    "start_time": "2023-12-03T15:22:34.858Z"
   },
   {
    "duration": 84,
    "start_time": "2023-12-03T15:22:34.898Z"
   },
   {
    "duration": 2,
    "start_time": "2023-12-03T15:22:34.984Z"
   },
   {
    "duration": 7,
    "start_time": "2023-12-03T15:22:34.998Z"
   },
   {
    "duration": 31,
    "start_time": "2023-12-03T15:22:35.006Z"
   },
   {
    "duration": 8,
    "start_time": "2023-12-03T15:22:35.038Z"
   },
   {
    "duration": 15,
    "start_time": "2023-12-03T15:22:35.048Z"
   },
   {
    "duration": 43,
    "start_time": "2023-12-03T15:22:35.065Z"
   },
   {
    "duration": 18,
    "start_time": "2023-12-03T15:22:35.110Z"
   },
   {
    "duration": 22,
    "start_time": "2023-12-03T15:22:35.129Z"
   },
   {
    "duration": 10,
    "start_time": "2023-12-03T15:22:35.153Z"
   },
   {
    "duration": 11,
    "start_time": "2023-12-03T15:22:35.164Z"
   },
   {
    "duration": 1283,
    "start_time": "2023-12-03T15:22:35.199Z"
   },
   {
    "duration": 94,
    "start_time": "2023-12-03T15:22:36.483Z"
   },
   {
    "duration": 171,
    "start_time": "2023-12-03T15:22:37.674Z"
   },
   {
    "duration": 158,
    "start_time": "2023-12-03T15:23:41.965Z"
   },
   {
    "duration": 135,
    "start_time": "2023-12-03T15:28:01.992Z"
   },
   {
    "duration": 159,
    "start_time": "2023-12-03T15:29:12.808Z"
   },
   {
    "duration": 12,
    "start_time": "2023-12-03T15:31:58.779Z"
   },
   {
    "duration": 144,
    "start_time": "2023-12-03T15:32:03.544Z"
   },
   {
    "duration": 361,
    "start_time": "2023-12-03T15:34:16.698Z"
   },
   {
    "duration": 27,
    "start_time": "2023-12-03T15:35:43.669Z"
   },
   {
    "duration": 10,
    "start_time": "2023-12-03T15:36:06.450Z"
   },
   {
    "duration": 144,
    "start_time": "2023-12-03T15:36:11.290Z"
   },
   {
    "duration": 181,
    "start_time": "2023-12-03T15:39:34.020Z"
   },
   {
    "duration": 145,
    "start_time": "2023-12-03T15:54:33.499Z"
   },
   {
    "duration": 122,
    "start_time": "2023-12-03T15:54:49.546Z"
   },
   {
    "duration": 126,
    "start_time": "2023-12-03T15:54:52.667Z"
   },
   {
    "duration": 20,
    "start_time": "2023-12-03T15:55:22.485Z"
   },
   {
    "duration": 21,
    "start_time": "2023-12-03T15:55:33.436Z"
   },
   {
    "duration": 22,
    "start_time": "2023-12-03T15:55:58.803Z"
   },
   {
    "duration": 7,
    "start_time": "2023-12-03T15:56:06.694Z"
   },
   {
    "duration": 7,
    "start_time": "2023-12-03T15:56:10.156Z"
   },
   {
    "duration": 12,
    "start_time": "2023-12-03T15:56:25.247Z"
   },
   {
    "duration": 168,
    "start_time": "2023-12-03T15:57:52.094Z"
   },
   {
    "duration": 167,
    "start_time": "2023-12-03T15:59:02.006Z"
   },
   {
    "duration": 155,
    "start_time": "2023-12-03T15:59:06.254Z"
   },
   {
    "duration": 153,
    "start_time": "2023-12-03T15:59:20.247Z"
   },
   {
    "duration": 168,
    "start_time": "2023-12-03T15:59:33.919Z"
   },
   {
    "duration": 15,
    "start_time": "2023-12-03T16:05:21.013Z"
   },
   {
    "duration": 10,
    "start_time": "2023-12-03T16:05:38.548Z"
   },
   {
    "duration": 24,
    "start_time": "2023-12-03T16:06:01.634Z"
   },
   {
    "duration": 23,
    "start_time": "2023-12-03T16:06:04.983Z"
   },
   {
    "duration": 229,
    "start_time": "2023-12-03T16:06:07.771Z"
   },
   {
    "duration": 22,
    "start_time": "2023-12-03T16:06:08.960Z"
   },
   {
    "duration": 199,
    "start_time": "2023-12-03T16:07:48.392Z"
   },
   {
    "duration": 12,
    "start_time": "2023-12-03T16:15:10.753Z"
   },
   {
    "duration": 129,
    "start_time": "2023-12-03T16:15:24.081Z"
   },
   {
    "duration": 2,
    "start_time": "2023-12-03T16:15:24.212Z"
   },
   {
    "duration": 36,
    "start_time": "2023-12-03T16:15:24.215Z"
   },
   {
    "duration": 86,
    "start_time": "2023-12-03T16:15:24.252Z"
   },
   {
    "duration": 2,
    "start_time": "2023-12-03T16:15:24.339Z"
   },
   {
    "duration": 6,
    "start_time": "2023-12-03T16:15:24.343Z"
   },
   {
    "duration": 21,
    "start_time": "2023-12-03T16:15:24.351Z"
   },
   {
    "duration": 26,
    "start_time": "2023-12-03T16:15:24.373Z"
   },
   {
    "duration": 16,
    "start_time": "2023-12-03T16:15:24.400Z"
   },
   {
    "duration": 26,
    "start_time": "2023-12-03T16:15:24.418Z"
   },
   {
    "duration": 17,
    "start_time": "2023-12-03T16:15:24.446Z"
   },
   {
    "duration": 13,
    "start_time": "2023-12-03T16:15:24.464Z"
   },
   {
    "duration": 11,
    "start_time": "2023-12-03T16:15:24.499Z"
   },
   {
    "duration": 10,
    "start_time": "2023-12-03T16:15:24.512Z"
   },
   {
    "duration": 1232,
    "start_time": "2023-12-03T16:15:24.524Z"
   },
   {
    "duration": 75,
    "start_time": "2023-12-03T16:15:25.758Z"
   },
   {
    "duration": 167,
    "start_time": "2023-12-03T16:15:25.834Z"
   },
   {
    "duration": 2,
    "start_time": "2023-12-03T16:15:26.003Z"
   },
   {
    "duration": 145,
    "start_time": "2023-12-03T16:15:26.007Z"
   },
   {
    "duration": 202,
    "start_time": "2023-12-03T16:15:26.154Z"
   },
   {
    "duration": 11,
    "start_time": "2023-12-03T16:15:27.203Z"
   },
   {
    "duration": 370,
    "start_time": "2023-12-03T16:16:43.474Z"
   },
   {
    "duration": 12,
    "start_time": "2023-12-03T16:22:19.863Z"
   },
   {
    "duration": 34,
    "start_time": "2023-12-03T16:22:24.839Z"
   },
   {
    "duration": 32,
    "start_time": "2023-12-03T16:24:14.521Z"
   },
   {
    "duration": 34,
    "start_time": "2023-12-03T16:26:51.121Z"
   },
   {
    "duration": 33,
    "start_time": "2023-12-03T16:27:08.065Z"
   },
   {
    "duration": 35,
    "start_time": "2023-12-03T16:28:16.134Z"
   },
   {
    "duration": 33,
    "start_time": "2023-12-03T16:28:40.240Z"
   },
   {
    "duration": 35,
    "start_time": "2023-12-03T16:29:26.479Z"
   },
   {
    "duration": 39,
    "start_time": "2023-12-03T16:39:11.755Z"
   },
   {
    "duration": 1197,
    "start_time": "2023-12-04T07:24:33.521Z"
   },
   {
    "duration": 2,
    "start_time": "2023-12-04T07:24:34.720Z"
   },
   {
    "duration": 31,
    "start_time": "2023-12-04T07:24:34.724Z"
   },
   {
    "duration": 80,
    "start_time": "2023-12-04T07:24:34.757Z"
   },
   {
    "duration": 2,
    "start_time": "2023-12-04T07:24:34.839Z"
   },
   {
    "duration": 9,
    "start_time": "2023-12-04T07:24:34.843Z"
   },
   {
    "duration": 40,
    "start_time": "2023-12-04T07:24:34.853Z"
   },
   {
    "duration": 8,
    "start_time": "2023-12-04T07:24:34.894Z"
   },
   {
    "duration": 19,
    "start_time": "2023-12-04T07:24:34.904Z"
   },
   {
    "duration": 64,
    "start_time": "2023-12-04T07:24:34.926Z"
   },
   {
    "duration": 25,
    "start_time": "2023-12-04T07:24:34.992Z"
   },
   {
    "duration": 15,
    "start_time": "2023-12-04T07:24:35.018Z"
   },
   {
    "duration": 10,
    "start_time": "2023-12-04T07:24:35.035Z"
   },
   {
    "duration": 37,
    "start_time": "2023-12-04T07:24:35.046Z"
   },
   {
    "duration": 1188,
    "start_time": "2023-12-04T07:24:35.085Z"
   },
   {
    "duration": 79,
    "start_time": "2023-12-04T07:24:36.275Z"
   },
   {
    "duration": 175,
    "start_time": "2023-12-04T07:24:36.356Z"
   },
   {
    "duration": 140,
    "start_time": "2023-12-04T07:24:36.533Z"
   },
   {
    "duration": 224,
    "start_time": "2023-12-04T07:24:36.674Z"
   },
   {
    "duration": 347,
    "start_time": "2023-12-04T07:24:36.900Z"
   },
   {
    "duration": 43,
    "start_time": "2023-12-04T07:24:37.248Z"
   },
   {
    "duration": 91,
    "start_time": "2023-12-04T07:26:13.713Z"
   },
   {
    "duration": 94,
    "start_time": "2023-12-04T07:29:53.619Z"
   }
  ],
  "colab": {
   "name": "DA+. Сборный проект 1. Шаблон (1).ipynb",
   "provenance": []
  },
  "kernelspec": {
   "display_name": "Python 3 (ipykernel)",
   "language": "python",
   "name": "python3"
  },
  "language_info": {
   "codemirror_mode": {
    "name": "ipython",
    "version": 3
   },
   "file_extension": ".py",
   "mimetype": "text/x-python",
   "name": "python",
   "nbconvert_exporter": "python",
   "pygments_lexer": "ipython3",
   "version": "3.11.5"
  },
  "toc": {
   "base_numbering": 1,
   "nav_menu": {
    "height": "12px",
    "width": "336px"
   },
   "number_sections": true,
   "sideBar": true,
   "skip_h1_title": true,
   "title_cell": "Table of Contents",
   "title_sidebar": "Contents",
   "toc_cell": false,
   "toc_position": {
    "height": "calc(100% - 180px)",
    "left": "10px",
    "top": "150px",
    "width": "375.391px"
   },
   "toc_section_display": true,
   "toc_window_display": true
  }
 },
 "nbformat": 4,
 "nbformat_minor": 1
}
