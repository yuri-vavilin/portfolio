{
 "cells": [
  {
   "cell_type": "markdown",
   "id": "c701a87f",
   "metadata": {},
   "source": [
    "# Анализ данных и проверка гипотез для сервиса аренды самокатов GoFast\n",
    "\n",
    "#### **Цель проекта:**\n",
    "Проанализировать данные о пользователях и их поездках для проверки гипотез, которые могут помочь бизнесу вырасти, и предоставить рекомендации продакт-менеджерам сервиса GoFast.\n",
    "\n",
    "#### **Описание данных:**\n",
    "Пользователи (users_go.csv):\n",
    "- `user_id`: уникальный идентификатор пользователя\n",
    "- `name`: имя пользователя\n",
    "- `age`: возраст\n",
    "- `city`: город\n",
    "- `subscription_type`: тип подписки (free, ultra)\n",
    "\n",
    "Поездки (rides_go.csv):\n",
    "- `user_id`: уникальный идентификатор пользователя\n",
    "- `distance`: расстояние, которое пользователь проехал в текущей сессии (в метрах)\n",
    "- `duration`: продолжительность сессии (в минутах)\n",
    "- `date`: дата совершения поездки\n",
    "\n",
    "Подписки (subscriptions_go.csv):\n",
    "- `subscription_type`: тип подписки\n",
    "- `minute_price`: стоимость одной минуты поездки по данной подписке\n",
    "- `start_ride_price`: стоимость начала поездки\n",
    "- `subscription_fee`: стоимость ежемесячного платежа\n",
    "\n",
    "#### План работы:\n",
    "- Шаг 1. Загрузка данных\n",
    "- Шаг 2. Предобработка данных\n",
    "- Шаг 3. Исследовательский анализ данных\n",
    "- Шаг 4. Объединение данных\n",
    "- Шаг 5. Подсчёт выручки\n",
    "- Шаг 6. Проверка гипотез"
   ]
  },
  {
   "cell_type": "code",
   "execution_count": 12,
   "id": "72576667",
   "metadata": {},
   "outputs": [],
   "source": [
    "import matplotlib.pyplot as plt\n",
    "import pandas as pd\n",
    "from scipy import stats as st\n",
    "import seaborn as sns\n",
    "import numpy as np\n",
    "\n",
    "pd.set_option('display.max_columns', None)\n",
    "pd.options.display.float_format = '{:.2f}'.format"
   ]
  },
  {
   "cell_type": "markdown",
   "id": "c42cbe00",
   "metadata": {},
   "source": [
    "## Шаг 1. Загрузка данных"
   ]
  },
  {
   "cell_type": "code",
   "execution_count": 13,
   "id": "eff9f206",
   "metadata": {
    "scrolled": true
   },
   "outputs": [
    {
     "name": "stdout",
     "output_type": "stream",
     "text": [
      "<class 'pandas.core.frame.DataFrame'>\n",
      "RangeIndex: 1565 entries, 0 to 1564\n",
      "Data columns (total 5 columns):\n",
      " #   Column             Non-Null Count  Dtype \n",
      "---  ------             --------------  ----- \n",
      " 0   user_id            1565 non-null   int64 \n",
      " 1   name               1565 non-null   object\n",
      " 2   age                1565 non-null   int64 \n",
      " 3   city               1565 non-null   object\n",
      " 4   subscription_type  1565 non-null   object\n",
      "dtypes: int64(2), object(3)\n",
      "memory usage: 61.3+ KB\n"
     ]
    },
    {
     "data": {
      "text/html": [
       "<div>\n",
       "<style scoped>\n",
       "    .dataframe tbody tr th:only-of-type {\n",
       "        vertical-align: middle;\n",
       "    }\n",
       "\n",
       "    .dataframe tbody tr th {\n",
       "        vertical-align: top;\n",
       "    }\n",
       "\n",
       "    .dataframe thead th {\n",
       "        text-align: right;\n",
       "    }\n",
       "</style>\n",
       "<table border=\"1\" class=\"dataframe\">\n",
       "  <thead>\n",
       "    <tr style=\"text-align: right;\">\n",
       "      <th></th>\n",
       "      <th>user_id</th>\n",
       "      <th>name</th>\n",
       "      <th>age</th>\n",
       "      <th>city</th>\n",
       "      <th>subscription_type</th>\n",
       "    </tr>\n",
       "  </thead>\n",
       "  <tbody>\n",
       "    <tr>\n",
       "      <th>0</th>\n",
       "      <td>1</td>\n",
       "      <td>Кира</td>\n",
       "      <td>22</td>\n",
       "      <td>Тюмень</td>\n",
       "      <td>ultra</td>\n",
       "    </tr>\n",
       "    <tr>\n",
       "      <th>1</th>\n",
       "      <td>2</td>\n",
       "      <td>Станислав</td>\n",
       "      <td>31</td>\n",
       "      <td>Омск</td>\n",
       "      <td>ultra</td>\n",
       "    </tr>\n",
       "    <tr>\n",
       "      <th>2</th>\n",
       "      <td>3</td>\n",
       "      <td>Алексей</td>\n",
       "      <td>20</td>\n",
       "      <td>Москва</td>\n",
       "      <td>ultra</td>\n",
       "    </tr>\n",
       "    <tr>\n",
       "      <th>3</th>\n",
       "      <td>4</td>\n",
       "      <td>Константин</td>\n",
       "      <td>26</td>\n",
       "      <td>Ростов-на-Дону</td>\n",
       "      <td>ultra</td>\n",
       "    </tr>\n",
       "    <tr>\n",
       "      <th>4</th>\n",
       "      <td>5</td>\n",
       "      <td>Адель</td>\n",
       "      <td>28</td>\n",
       "      <td>Омск</td>\n",
       "      <td>ultra</td>\n",
       "    </tr>\n",
       "  </tbody>\n",
       "</table>\n",
       "</div>"
      ],
      "text/plain": [
       "   user_id        name  age            city subscription_type\n",
       "0        1        Кира   22          Тюмень             ultra\n",
       "1        2   Станислав   31            Омск             ultra\n",
       "2        3     Алексей   20          Москва             ultra\n",
       "3        4  Константин   26  Ростов-на-Дону             ultra\n",
       "4        5       Адель   28            Омск             ultra"
      ]
     },
     "metadata": {},
     "output_type": "display_data"
    },
    {
     "name": "stdout",
     "output_type": "stream",
     "text": [
      "<class 'pandas.core.frame.DataFrame'>\n",
      "RangeIndex: 18068 entries, 0 to 18067\n",
      "Data columns (total 4 columns):\n",
      " #   Column    Non-Null Count  Dtype  \n",
      "---  ------    --------------  -----  \n",
      " 0   user_id   18068 non-null  int64  \n",
      " 1   distance  18068 non-null  float64\n",
      " 2   duration  18068 non-null  float64\n",
      " 3   date      18068 non-null  object \n",
      "dtypes: float64(2), int64(1), object(1)\n",
      "memory usage: 564.8+ KB\n"
     ]
    },
    {
     "data": {
      "text/html": [
       "<div>\n",
       "<style scoped>\n",
       "    .dataframe tbody tr th:only-of-type {\n",
       "        vertical-align: middle;\n",
       "    }\n",
       "\n",
       "    .dataframe tbody tr th {\n",
       "        vertical-align: top;\n",
       "    }\n",
       "\n",
       "    .dataframe thead th {\n",
       "        text-align: right;\n",
       "    }\n",
       "</style>\n",
       "<table border=\"1\" class=\"dataframe\">\n",
       "  <thead>\n",
       "    <tr style=\"text-align: right;\">\n",
       "      <th></th>\n",
       "      <th>user_id</th>\n",
       "      <th>distance</th>\n",
       "      <th>duration</th>\n",
       "      <th>date</th>\n",
       "    </tr>\n",
       "  </thead>\n",
       "  <tbody>\n",
       "    <tr>\n",
       "      <th>0</th>\n",
       "      <td>1</td>\n",
       "      <td>4409.92</td>\n",
       "      <td>25.60</td>\n",
       "      <td>2021-01-01</td>\n",
       "    </tr>\n",
       "    <tr>\n",
       "      <th>1</th>\n",
       "      <td>1</td>\n",
       "      <td>2617.59</td>\n",
       "      <td>15.82</td>\n",
       "      <td>2021-01-18</td>\n",
       "    </tr>\n",
       "    <tr>\n",
       "      <th>2</th>\n",
       "      <td>1</td>\n",
       "      <td>754.16</td>\n",
       "      <td>6.23</td>\n",
       "      <td>2021-04-20</td>\n",
       "    </tr>\n",
       "    <tr>\n",
       "      <th>3</th>\n",
       "      <td>1</td>\n",
       "      <td>2694.78</td>\n",
       "      <td>18.51</td>\n",
       "      <td>2021-08-11</td>\n",
       "    </tr>\n",
       "    <tr>\n",
       "      <th>4</th>\n",
       "      <td>1</td>\n",
       "      <td>4028.69</td>\n",
       "      <td>26.27</td>\n",
       "      <td>2021-08-28</td>\n",
       "    </tr>\n",
       "  </tbody>\n",
       "</table>\n",
       "</div>"
      ],
      "text/plain": [
       "   user_id  distance  duration        date\n",
       "0        1   4409.92     25.60  2021-01-01\n",
       "1        1   2617.59     15.82  2021-01-18\n",
       "2        1    754.16      6.23  2021-04-20\n",
       "3        1   2694.78     18.51  2021-08-11\n",
       "4        1   4028.69     26.27  2021-08-28"
      ]
     },
     "metadata": {},
     "output_type": "display_data"
    },
    {
     "name": "stdout",
     "output_type": "stream",
     "text": [
      "<class 'pandas.core.frame.DataFrame'>\n",
      "RangeIndex: 2 entries, 0 to 1\n",
      "Data columns (total 4 columns):\n",
      " #   Column             Non-Null Count  Dtype \n",
      "---  ------             --------------  ----- \n",
      " 0   subscription_type  2 non-null      object\n",
      " 1   minute_price       2 non-null      int64 \n",
      " 2   start_ride_price   2 non-null      int64 \n",
      " 3   subscription_fee   2 non-null      int64 \n",
      "dtypes: int64(3), object(1)\n",
      "memory usage: 196.0+ bytes\n"
     ]
    },
    {
     "data": {
      "text/html": [
       "<div>\n",
       "<style scoped>\n",
       "    .dataframe tbody tr th:only-of-type {\n",
       "        vertical-align: middle;\n",
       "    }\n",
       "\n",
       "    .dataframe tbody tr th {\n",
       "        vertical-align: top;\n",
       "    }\n",
       "\n",
       "    .dataframe thead th {\n",
       "        text-align: right;\n",
       "    }\n",
       "</style>\n",
       "<table border=\"1\" class=\"dataframe\">\n",
       "  <thead>\n",
       "    <tr style=\"text-align: right;\">\n",
       "      <th></th>\n",
       "      <th>subscription_type</th>\n",
       "      <th>minute_price</th>\n",
       "      <th>start_ride_price</th>\n",
       "      <th>subscription_fee</th>\n",
       "    </tr>\n",
       "  </thead>\n",
       "  <tbody>\n",
       "    <tr>\n",
       "      <th>0</th>\n",
       "      <td>free</td>\n",
       "      <td>8</td>\n",
       "      <td>50</td>\n",
       "      <td>0</td>\n",
       "    </tr>\n",
       "    <tr>\n",
       "      <th>1</th>\n",
       "      <td>ultra</td>\n",
       "      <td>6</td>\n",
       "      <td>0</td>\n",
       "      <td>199</td>\n",
       "    </tr>\n",
       "  </tbody>\n",
       "</table>\n",
       "</div>"
      ],
      "text/plain": [
       "  subscription_type  minute_price  start_ride_price  subscription_fee\n",
       "0              free             8                50                 0\n",
       "1             ultra             6                 0               199"
      ]
     },
     "metadata": {},
     "output_type": "display_data"
    }
   ],
   "source": [
    "file_path_users = 'https://code.s3.yandex.net/datasets/users_go.csv'\n",
    "file_path_rides = 'https://code.s3.yandex.net/datasets/rides_go.csv'\n",
    "file_path_subscribtions_go = 'https://code.s3.yandex.net/datasets/subscriptions_go.csv'\n",
    "\n",
    "users = pd.read_csv(file_path_users)\n",
    "rides = pd.read_csv(file_path_rides)\n",
    "subs = pd.read_csv(file_path_subscribtions_go)\n",
    "\n",
    "users.info()\n",
    "display(users.head())\n",
    "\n",
    "rides.info()\n",
    "display(rides.head())\n",
    "\n",
    "subs.info()\n",
    "display(subs.head())\n"
   ]
  },
  {
   "cell_type": "markdown",
   "id": "e95ebca7",
   "metadata": {},
   "source": [
    "## Шаг 2. Предобработка данных"
   ]
  },
  {
   "cell_type": "markdown",
   "id": "ad65e916",
   "metadata": {},
   "source": [
    "### 1. Изменить формат поля дата в дату, найти максимальную и минимальную дату."
   ]
  },
  {
   "cell_type": "code",
   "execution_count": 14,
   "id": "af6d202c",
   "metadata": {
    "scrolled": true
   },
   "outputs": [
    {
     "name": "stdout",
     "output_type": "stream",
     "text": [
      "2021-01-01 00:00:00\n",
      "2021-12-30 00:00:00\n",
      "<class 'pandas.core.frame.DataFrame'>\n",
      "RangeIndex: 18068 entries, 0 to 18067\n",
      "Data columns (total 5 columns):\n",
      " #   Column    Non-Null Count  Dtype         \n",
      "---  ------    --------------  -----         \n",
      " 0   user_id   18068 non-null  int64         \n",
      " 1   distance  18068 non-null  float64       \n",
      " 2   duration  18068 non-null  float64       \n",
      " 3   date      18068 non-null  datetime64[ns]\n",
      " 4   month     18068 non-null  int32         \n",
      "dtypes: datetime64[ns](1), float64(2), int32(1), int64(1)\n",
      "memory usage: 635.3 KB\n"
     ]
    },
    {
     "data": {
      "text/html": [
       "<div>\n",
       "<style scoped>\n",
       "    .dataframe tbody tr th:only-of-type {\n",
       "        vertical-align: middle;\n",
       "    }\n",
       "\n",
       "    .dataframe tbody tr th {\n",
       "        vertical-align: top;\n",
       "    }\n",
       "\n",
       "    .dataframe thead th {\n",
       "        text-align: right;\n",
       "    }\n",
       "</style>\n",
       "<table border=\"1\" class=\"dataframe\">\n",
       "  <thead>\n",
       "    <tr style=\"text-align: right;\">\n",
       "      <th></th>\n",
       "      <th>user_id</th>\n",
       "      <th>distance</th>\n",
       "      <th>duration</th>\n",
       "      <th>date</th>\n",
       "      <th>month</th>\n",
       "    </tr>\n",
       "  </thead>\n",
       "  <tbody>\n",
       "    <tr>\n",
       "      <th>0</th>\n",
       "      <td>1</td>\n",
       "      <td>4409.92</td>\n",
       "      <td>25.60</td>\n",
       "      <td>2021-01-01</td>\n",
       "      <td>1</td>\n",
       "    </tr>\n",
       "    <tr>\n",
       "      <th>1</th>\n",
       "      <td>1</td>\n",
       "      <td>2617.59</td>\n",
       "      <td>15.82</td>\n",
       "      <td>2021-01-18</td>\n",
       "      <td>1</td>\n",
       "    </tr>\n",
       "    <tr>\n",
       "      <th>2</th>\n",
       "      <td>1</td>\n",
       "      <td>754.16</td>\n",
       "      <td>6.23</td>\n",
       "      <td>2021-04-20</td>\n",
       "      <td>4</td>\n",
       "    </tr>\n",
       "    <tr>\n",
       "      <th>3</th>\n",
       "      <td>1</td>\n",
       "      <td>2694.78</td>\n",
       "      <td>18.51</td>\n",
       "      <td>2021-08-11</td>\n",
       "      <td>8</td>\n",
       "    </tr>\n",
       "    <tr>\n",
       "      <th>4</th>\n",
       "      <td>1</td>\n",
       "      <td>4028.69</td>\n",
       "      <td>26.27</td>\n",
       "      <td>2021-08-28</td>\n",
       "      <td>8</td>\n",
       "    </tr>\n",
       "  </tbody>\n",
       "</table>\n",
       "</div>"
      ],
      "text/plain": [
       "   user_id  distance  duration       date  month\n",
       "0        1   4409.92     25.60 2021-01-01      1\n",
       "1        1   2617.59     15.82 2021-01-18      1\n",
       "2        1    754.16      6.23 2021-04-20      4\n",
       "3        1   2694.78     18.51 2021-08-11      8\n",
       "4        1   4028.69     26.27 2021-08-28      8"
      ]
     },
     "execution_count": 14,
     "metadata": {},
     "output_type": "execute_result"
    }
   ],
   "source": [
    "rides['date']= pd.to_datetime(rides['date'])\n",
    "rides['month'] = rides['date'].dt.month\n",
    "min_date = rides['date'].min()\n",
    "max_date = rides['date'].max()\n",
    "\n",
    "print(min_date)\n",
    "print(max_date)\n",
    "\n",
    "rides.info()\n",
    "rides.head()"
   ]
  },
  {
   "cell_type": "markdown",
   "id": "5ff0e920",
   "metadata": {},
   "source": [
    "### 2. Найти пропуски"
   ]
  },
  {
   "cell_type": "code",
   "execution_count": 15,
   "id": "bfbb68c1",
   "metadata": {
    "scrolled": true
   },
   "outputs": [
    {
     "data": {
      "text/plain": [
       "user_id              0\n",
       "name                 0\n",
       "age                  0\n",
       "city                 0\n",
       "subscription_type    0\n",
       "dtype: int64"
      ]
     },
     "metadata": {},
     "output_type": "display_data"
    },
    {
     "data": {
      "text/plain": [
       "user_id     0\n",
       "distance    0\n",
       "duration    0\n",
       "date        0\n",
       "month       0\n",
       "dtype: int64"
      ]
     },
     "metadata": {},
     "output_type": "display_data"
    }
   ],
   "source": [
    "duplicates_users = users[users.duplicated(['user_id'])].sort_values(by = 'user_id')\n",
    "user_nulls = users.isnull().sum()\n",
    "rides_nulls = rides.isnull().sum()\n",
    "display(user_nulls, rides_nulls)"
   ]
  },
  {
   "cell_type": "markdown",
   "id": "75e993d1",
   "metadata": {},
   "source": [
    "<div class=\"alert alert-secondary\"> \n",
    "  <b>Вывод:</b> Пропусков нет\n",
    "</div>\n"
   ]
  },
  {
   "cell_type": "markdown",
   "id": "d070c4b6",
   "metadata": {},
   "source": [
    "### 3. Проверить дубликаты"
   ]
  },
  {
   "cell_type": "code",
   "execution_count": 16,
   "id": "57e88c14",
   "metadata": {},
   "outputs": [
    {
     "name": "stdout",
     "output_type": "stream",
     "text": [
      "Количество дубликатов в users: 31\n",
      "Количество дубликатов в rides: 0\n",
      "Количество дубликатов в subscriptions: 0\n"
     ]
    }
   ],
   "source": [
    "users_duplicates = users.duplicated().sum()\n",
    "print(f'Количество дубликатов в users: {users_duplicates}')\n",
    "\n",
    "rides_duplicates = rides.duplicated().sum()\n",
    "print(f'Количество дубликатов в rides: {rides_duplicates}')\n",
    "subscriptions_duplicates = subs.duplicated().sum()\n",
    "print(f'Количество дубликатов в subscriptions: {subscriptions_duplicates}')\n"
   ]
  },
  {
   "cell_type": "code",
   "execution_count": 17,
   "id": "3861d99b",
   "metadata": {
    "scrolled": true
   },
   "outputs": [
    {
     "data": {
      "text/html": [
       "<div>\n",
       "<style scoped>\n",
       "    .dataframe tbody tr th:only-of-type {\n",
       "        vertical-align: middle;\n",
       "    }\n",
       "\n",
       "    .dataframe tbody tr th {\n",
       "        vertical-align: top;\n",
       "    }\n",
       "\n",
       "    .dataframe thead th {\n",
       "        text-align: right;\n",
       "    }\n",
       "</style>\n",
       "<table border=\"1\" class=\"dataframe\">\n",
       "  <thead>\n",
       "    <tr style=\"text-align: right;\">\n",
       "      <th></th>\n",
       "      <th>user_id</th>\n",
       "      <th>name</th>\n",
       "      <th>age</th>\n",
       "      <th>city</th>\n",
       "      <th>subscription_type</th>\n",
       "    </tr>\n",
       "  </thead>\n",
       "  <tbody>\n",
       "    <tr>\n",
       "      <th>15</th>\n",
       "      <td>16</td>\n",
       "      <td>Амалия</td>\n",
       "      <td>27</td>\n",
       "      <td>Краснодар</td>\n",
       "      <td>ultra</td>\n",
       "    </tr>\n",
       "    <tr>\n",
       "      <th>1535</th>\n",
       "      <td>16</td>\n",
       "      <td>Амалия</td>\n",
       "      <td>27</td>\n",
       "      <td>Краснодар</td>\n",
       "      <td>ultra</td>\n",
       "    </tr>\n",
       "    <tr>\n",
       "      <th>42</th>\n",
       "      <td>43</td>\n",
       "      <td>Стефания</td>\n",
       "      <td>22</td>\n",
       "      <td>Омск</td>\n",
       "      <td>ultra</td>\n",
       "    </tr>\n",
       "    <tr>\n",
       "      <th>1539</th>\n",
       "      <td>43</td>\n",
       "      <td>Стефания</td>\n",
       "      <td>22</td>\n",
       "      <td>Омск</td>\n",
       "      <td>ultra</td>\n",
       "    </tr>\n",
       "    <tr>\n",
       "      <th>1563</th>\n",
       "      <td>47</td>\n",
       "      <td>Юрий</td>\n",
       "      <td>28</td>\n",
       "      <td>Тюмень</td>\n",
       "      <td>ultra</td>\n",
       "    </tr>\n",
       "  </tbody>\n",
       "</table>\n",
       "</div>"
      ],
      "text/plain": [
       "      user_id      name  age       city subscription_type\n",
       "15         16    Амалия   27  Краснодар             ultra\n",
       "1535       16    Амалия   27  Краснодар             ultra\n",
       "42         43  Стефания   22       Омск             ultra\n",
       "1539       43  Стефания   22       Омск             ultra\n",
       "1563       47      Юрий   28     Тюмень             ultra"
      ]
     },
     "metadata": {},
     "output_type": "display_data"
    },
    {
     "name": "stdout",
     "output_type": "stream",
     "text": [
      "Количество дубликатов в users: 0\n"
     ]
    }
   ],
   "source": [
    "#смотрим дубликаты в users\n",
    "users_duplicates = users[users.duplicated('user_id',keep=False)]\n",
    "users_duplicates = users_duplicates.sort_values(by='user_id')\n",
    "display(users_duplicates.head())\n",
    "\n",
    "users = users.drop_duplicates(subset = ['user_id'],keep='first',inplace=False)\n",
    "users_duplicates = users.duplicated().sum()\n",
    "print(f'Количество дубликатов в users: {users_duplicates}')"
   ]
  },
  {
   "cell_type": "markdown",
   "id": "ac18d099",
   "metadata": {},
   "source": [
    "<div class=\"alert alert-secondary\"> \n",
    "  <b>Вывод:</b> был найдено 31 дубликат в поле user_id. Почистили и оставили первое значение\n",
    "</div>\n"
   ]
  },
  {
   "cell_type": "markdown",
   "id": "212593c7",
   "metadata": {},
   "source": [
    "## Шаг 3. Исследовательский анализ данных"
   ]
  },
  {
   "cell_type": "markdown",
   "id": "c6bcfbc5",
   "metadata": {},
   "source": [
    "### 1. Частота встречаемости городов;"
   ]
  },
  {
   "cell_type": "code",
   "execution_count": 18,
   "id": "e3a4274c",
   "metadata": {},
   "outputs": [
    {
     "data": {
      "image/png": "[encoded data removed]",
      "text/plain": [
       "<Figure size 640x480 with 1 Axes>"
      ]
     },
     "metadata": {},
     "output_type": "display_data"
    },
    {
     "data": {
      "text/html": [
       "<div>\n",
       "<style scoped>\n",
       "    .dataframe tbody tr th:only-of-type {\n",
       "        vertical-align: middle;\n",
       "    }\n",
       "\n",
       "    .dataframe tbody tr th {\n",
       "        vertical-align: top;\n",
       "    }\n",
       "\n",
       "    .dataframe thead th {\n",
       "        text-align: right;\n",
       "    }\n",
       "</style>\n",
       "<table border=\"1\" class=\"dataframe\">\n",
       "  <thead>\n",
       "    <tr style=\"text-align: right;\">\n",
       "      <th></th>\n",
       "      <th>user_id</th>\n",
       "    </tr>\n",
       "    <tr>\n",
       "      <th>city</th>\n",
       "      <th></th>\n",
       "    </tr>\n",
       "  </thead>\n",
       "  <tbody>\n",
       "    <tr>\n",
       "      <th>Пятигорск</th>\n",
       "      <td>219</td>\n",
       "    </tr>\n",
       "    <tr>\n",
       "      <th>Екатеринбург</th>\n",
       "      <td>204</td>\n",
       "    </tr>\n",
       "    <tr>\n",
       "      <th>Ростов-на-Дону</th>\n",
       "      <td>198</td>\n",
       "    </tr>\n",
       "    <tr>\n",
       "      <th>Краснодар</th>\n",
       "      <td>193</td>\n",
       "    </tr>\n",
       "    <tr>\n",
       "      <th>Сочи</th>\n",
       "      <td>189</td>\n",
       "    </tr>\n",
       "    <tr>\n",
       "      <th>Омск</th>\n",
       "      <td>183</td>\n",
       "    </tr>\n",
       "    <tr>\n",
       "      <th>Тюмень</th>\n",
       "      <td>180</td>\n",
       "    </tr>\n",
       "    <tr>\n",
       "      <th>Москва</th>\n",
       "      <td>168</td>\n",
       "    </tr>\n",
       "  </tbody>\n",
       "</table>\n",
       "</div>"
      ],
      "text/plain": [
       "                user_id\n",
       "city                   \n",
       "Пятигорск           219\n",
       "Екатеринбург        204\n",
       "Ростов-на-Дону      198\n",
       "Краснодар           193\n",
       "Сочи                189\n",
       "Омск                183\n",
       "Тюмень              180\n",
       "Москва              168"
      ]
     },
     "metadata": {},
     "output_type": "display_data"
    }
   ],
   "source": [
    "city_counts = users['city'].value_counts().sort_values(ascending=True)\n",
    "\n",
    "plt.barh(city_counts.index, city_counts)\n",
    "plt.title('Частота встречаемости городов')\n",
    "plt.xlabel('Количество пользователей')\n",
    "\n",
    "plt.show()\n",
    "\n",
    "city_pivot = pd.pivot_table(users,index='city', values='user_id', aggfunc='count')\n",
    "city_pivot = city_pivot.sort_values(by='user_id',ascending=False)\n",
    "display(city_pivot)"
   ]
  },
  {
   "cell_type": "markdown",
   "id": "d7e47a6c",
   "metadata": {},
   "source": [
    "<div class=\"alert alert-secondary\"> \n",
    "  <b>Вывод:</b> Самые популярные города: Пятигорск, Екатеринбург, Ростов-на-Дону\n",
    "</div>"
   ]
  },
  {
   "cell_type": "markdown",
   "id": "a0418be7",
   "metadata": {},
   "source": [
    "### 2. Соотношение пользователей с подпиской и без подписки;\n"
   ]
  },
  {
   "cell_type": "code",
   "execution_count": 19,
   "id": "38c4e7bd",
   "metadata": {},
   "outputs": [
    {
     "data": {
      "image/png": "[encoded data removed]",
      "text/plain": [
       "<Figure size 300x300 with 1 Axes>"
      ]
     },
     "metadata": {},
     "output_type": "display_data"
    },
    {
     "data": {
      "text/html": [
       "<div>\n",
       "<style scoped>\n",
       "    .dataframe tbody tr th:only-of-type {\n",
       "        vertical-align: middle;\n",
       "    }\n",
       "\n",
       "    .dataframe tbody tr th {\n",
       "        vertical-align: top;\n",
       "    }\n",
       "\n",
       "    .dataframe thead th {\n",
       "        text-align: right;\n",
       "    }\n",
       "</style>\n",
       "<table border=\"1\" class=\"dataframe\">\n",
       "  <thead>\n",
       "    <tr style=\"text-align: right;\">\n",
       "      <th></th>\n",
       "      <th>user_id</th>\n",
       "      <th>share</th>\n",
       "    </tr>\n",
       "    <tr>\n",
       "      <th>subscription_type</th>\n",
       "      <th></th>\n",
       "      <th></th>\n",
       "    </tr>\n",
       "  </thead>\n",
       "  <tbody>\n",
       "    <tr>\n",
       "      <th>free</th>\n",
       "      <td>835</td>\n",
       "      <td>54.43</td>\n",
       "    </tr>\n",
       "    <tr>\n",
       "      <th>ultra</th>\n",
       "      <td>699</td>\n",
       "      <td>45.57</td>\n",
       "    </tr>\n",
       "  </tbody>\n",
       "</table>\n",
       "</div>"
      ],
      "text/plain": [
       "                   user_id  share\n",
       "subscription_type                \n",
       "free                   835  54.43\n",
       "ultra                  699  45.57"
      ]
     },
     "metadata": {},
     "output_type": "display_data"
    }
   ],
   "source": [
    "sub_type = pd.pivot_table(users, index='subscription_type',values='user_id',aggfunc = 'count',)\n",
    "total_users = sub_type['user_id'].sum()\n",
    "\n",
    "sub_type['share'] = sub_type['user_id'] / total_users *100\n",
    "\n",
    "sub_type.plot.pie(y='share',autopct='%1.1f%%',figsize=(3, 3))\n",
    "plt.show()\n",
    "\n",
    "\n",
    "display(sub_type)"
   ]
  },
  {
   "cell_type": "markdown",
   "id": "30ddb12c",
   "metadata": {},
   "source": [
    "<div class=\"alert alert-secondary\"> \n",
    "  <b>Вывод:</b> Количество пользователей с подпиской составляет 46%, без подписки — 54%\n",
    "</div>"
   ]
  },
  {
   "cell_type": "markdown",
   "id": "f0481d75",
   "metadata": {},
   "source": [
    "### 3. Возраст пользователей"
   ]
  },
  {
   "cell_type": "code",
   "execution_count": 20,
   "id": "8397193f",
   "metadata": {},
   "outputs": [
    {
     "data": {
      "image/png": "[encoded data removed]",
      "text/plain": [
       "<Figure size 640x480 with 1 Axes>"
      ]
     },
     "metadata": {},
     "output_type": "display_data"
    }
   ],
   "source": [
    "plt.hist(users['age'])\n",
    "plt.title('Распределение возрастов пользователей')\n",
    "plt.xlabel('Возраст')\n",
    "plt.ylabel('Кол-во')\n",
    "plt.show()"
   ]
  },
  {
   "cell_type": "markdown",
   "id": "deb2a4d3",
   "metadata": {},
   "source": [
    "<div class=\"alert alert-secondary\"> \n",
    "  <b>Вывод:</b> Количество пользователей с подпиской составляет 46%, без подписки — 54%\n",
    "</div>\n"
   ]
  },
  {
   "cell_type": "markdown",
   "id": "b1bc66a9",
   "metadata": {},
   "source": [
    "### 4. Расстояние, которое пользователь преодолел за одну поездку\n"
   ]
  },
  {
   "cell_type": "code",
   "execution_count": 21,
   "id": "5f3a702a",
   "metadata": {
    "scrolled": true
   },
   "outputs": [
    {
     "data": {
      "text/html": [
       "<div>\n",
       "<style scoped>\n",
       "    .dataframe tbody tr th:only-of-type {\n",
       "        vertical-align: middle;\n",
       "    }\n",
       "\n",
       "    .dataframe tbody tr th {\n",
       "        vertical-align: top;\n",
       "    }\n",
       "\n",
       "    .dataframe thead th {\n",
       "        text-align: right;\n",
       "    }\n",
       "</style>\n",
       "<table border=\"1\" class=\"dataframe\">\n",
       "  <thead>\n",
       "    <tr style=\"text-align: right;\">\n",
       "      <th></th>\n",
       "      <th>distance</th>\n",
       "    </tr>\n",
       "    <tr>\n",
       "      <th>user_id</th>\n",
       "      <th></th>\n",
       "    </tr>\n",
       "  </thead>\n",
       "  <tbody>\n",
       "    <tr>\n",
       "      <th>1</th>\n",
       "      <td>2839.18</td>\n",
       "    </tr>\n",
       "    <tr>\n",
       "      <th>2</th>\n",
       "      <td>3087.64</td>\n",
       "    </tr>\n",
       "    <tr>\n",
       "      <th>3</th>\n",
       "      <td>3075.63</td>\n",
       "    </tr>\n",
       "    <tr>\n",
       "      <th>4</th>\n",
       "      <td>3202.66</td>\n",
       "    </tr>\n",
       "    <tr>\n",
       "      <th>5</th>\n",
       "      <td>3232.45</td>\n",
       "    </tr>\n",
       "    <tr>\n",
       "      <th>...</th>\n",
       "      <td>...</td>\n",
       "    </tr>\n",
       "    <tr>\n",
       "      <th>1530</th>\n",
       "      <td>2750.50</td>\n",
       "    </tr>\n",
       "    <tr>\n",
       "      <th>1531</th>\n",
       "      <td>2915.43</td>\n",
       "    </tr>\n",
       "    <tr>\n",
       "      <th>1532</th>\n",
       "      <td>2607.86</td>\n",
       "    </tr>\n",
       "    <tr>\n",
       "      <th>1533</th>\n",
       "      <td>2837.71</td>\n",
       "    </tr>\n",
       "    <tr>\n",
       "      <th>1534</th>\n",
       "      <td>3222.96</td>\n",
       "    </tr>\n",
       "  </tbody>\n",
       "</table>\n",
       "<p>1534 rows × 1 columns</p>\n",
       "</div>"
      ],
      "text/plain": [
       "         distance\n",
       "user_id          \n",
       "1         2839.18\n",
       "2         3087.64\n",
       "3         3075.63\n",
       "4         3202.66\n",
       "5         3232.45\n",
       "...           ...\n",
       "1530      2750.50\n",
       "1531      2915.43\n",
       "1532      2607.86\n",
       "1533      2837.71\n",
       "1534      3222.96\n",
       "\n",
       "[1534 rows x 1 columns]"
      ]
     },
     "metadata": {},
     "output_type": "display_data"
    },
    {
     "data": {
      "image/png": "[encoded data removed]",
      "text/plain": [
       "<Figure size 1200x500 with 2 Axes>"
      ]
     },
     "metadata": {},
     "output_type": "display_data"
    }
   ],
   "source": [
    "dist_pivot = pd.pivot_table(rides,index='user_id',values='distance',aggfunc = 'mean')\n",
    "\n",
    "display(dist_pivot)\n",
    "\n",
    "\n",
    "fig, axes = plt.subplots(nrows=1, ncols=2, figsize=(12, 5))\n",
    "\n",
    "# Boxplot\n",
    "dist_pivot.boxplot(column='distance', ax=axes[0])\n",
    "axes[0].set_title('Boxplot: Средняя дистанция поездки')\n",
    "\n",
    "# Histogram\n",
    "axes[1].hist(dist_pivot['distance'], bins=20, color='lightblue', edgecolor='black')\n",
    "axes[1].set_title('Гистограмма: Средняя дистанция поездки')\n",
    "axes[1].set_xlabel('Distance')\n",
    "axes[1].set_ylabel('Количество пользователей')\n",
    "\n",
    "# Упорядочивание элементов\n",
    "plt.tight_layout()\n",
    "plt.show()\n"
   ]
  },
  {
   "cell_type": "markdown",
   "id": "7db7e9a5",
   "metadata": {},
   "source": [
    "<div class=\"alert alert-secondary\"> \n",
    "  <b>Вывод:</b> Медианное расстоянние на пользователя в районе 3100 метров. Межквартильный размах в районе 450 метров. При этом 25% данных находятся ниже 2900 метров и 75% данных ниже 3350 метров\". 75% всех поездок имеют длину до 3350 метров, так как значение Q3 (3350 м)\n",
    "</div>\n"
   ]
  },
  {
   "cell_type": "markdown",
   "id": "578a8dcd",
   "metadata": {},
   "source": [
    "### 5. Продолжительность поездок"
   ]
  },
  {
   "cell_type": "code",
   "execution_count": 22,
   "id": "e33f60d5",
   "metadata": {},
   "outputs": [
    {
     "data": {
      "image/png": "[encoded data removed]",
      "text/plain": [
       "<Figure size 640x480 with 1 Axes>"
      ]
     },
     "metadata": {},
     "output_type": "display_data"
    }
   ],
   "source": [
    "#распределение поездок\n",
    "\n",
    "rides['duration'].describe()\n",
    "\n",
    "rides.boxplot(column='duration')\n",
    "plt.title('Распределение длительности поездок')\n",
    "plt.ylabel('Длительность поездок, мин')\n",
    "plt.show()"
   ]
  },
  {
   "cell_type": "code",
   "execution_count": 23,
   "id": "d56dcde1",
   "metadata": {},
   "outputs": [
    {
     "data": {
      "image/png": "[encoded data removed]",
      "text/plain": [
       "<Figure size 640x480 with 1 Axes>"
      ]
     },
     "metadata": {},
     "output_type": "display_data"
    }
   ],
   "source": [
    "plt.hist(rides['duration'],bins=50)\n",
    "plt.title('Распределение длительности поездок')\n",
    "plt.ylabel('Длительность поездок, мин')\n",
    "plt.show()"
   ]
  },
  {
   "cell_type": "code",
   "execution_count": 24,
   "id": "37d48f26",
   "metadata": {},
   "outputs": [
    {
     "data": {
      "text/html": [
       "<div>\n",
       "<style scoped>\n",
       "    .dataframe tbody tr th:only-of-type {\n",
       "        vertical-align: middle;\n",
       "    }\n",
       "\n",
       "    .dataframe tbody tr th {\n",
       "        vertical-align: top;\n",
       "    }\n",
       "\n",
       "    .dataframe thead th {\n",
       "        text-align: right;\n",
       "    }\n",
       "</style>\n",
       "<table border=\"1\" class=\"dataframe\">\n",
       "  <thead>\n",
       "    <tr style=\"text-align: right;\">\n",
       "      <th></th>\n",
       "      <th>user_id</th>\n",
       "      <th>distance</th>\n",
       "      <th>duration</th>\n",
       "      <th>date</th>\n",
       "      <th>month</th>\n",
       "      <th>name</th>\n",
       "      <th>age</th>\n",
       "      <th>city</th>\n",
       "      <th>subscription_type</th>\n",
       "    </tr>\n",
       "  </thead>\n",
       "  <tbody>\n",
       "    <tr>\n",
       "      <th>0</th>\n",
       "      <td>1</td>\n",
       "      <td>4409.92</td>\n",
       "      <td>25.60</td>\n",
       "      <td>2021-01-01</td>\n",
       "      <td>1</td>\n",
       "      <td>Кира</td>\n",
       "      <td>22</td>\n",
       "      <td>Тюмень</td>\n",
       "      <td>ultra</td>\n",
       "    </tr>\n",
       "    <tr>\n",
       "      <th>1</th>\n",
       "      <td>1</td>\n",
       "      <td>2617.59</td>\n",
       "      <td>15.82</td>\n",
       "      <td>2021-01-18</td>\n",
       "      <td>1</td>\n",
       "      <td>Кира</td>\n",
       "      <td>22</td>\n",
       "      <td>Тюмень</td>\n",
       "      <td>ultra</td>\n",
       "    </tr>\n",
       "    <tr>\n",
       "      <th>2</th>\n",
       "      <td>1</td>\n",
       "      <td>754.16</td>\n",
       "      <td>6.23</td>\n",
       "      <td>2021-04-20</td>\n",
       "      <td>4</td>\n",
       "      <td>Кира</td>\n",
       "      <td>22</td>\n",
       "      <td>Тюмень</td>\n",
       "      <td>ultra</td>\n",
       "    </tr>\n",
       "    <tr>\n",
       "      <th>3</th>\n",
       "      <td>1</td>\n",
       "      <td>2694.78</td>\n",
       "      <td>18.51</td>\n",
       "      <td>2021-08-11</td>\n",
       "      <td>8</td>\n",
       "      <td>Кира</td>\n",
       "      <td>22</td>\n",
       "      <td>Тюмень</td>\n",
       "      <td>ultra</td>\n",
       "    </tr>\n",
       "    <tr>\n",
       "      <th>4</th>\n",
       "      <td>1</td>\n",
       "      <td>4028.69</td>\n",
       "      <td>26.27</td>\n",
       "      <td>2021-08-28</td>\n",
       "      <td>8</td>\n",
       "      <td>Кира</td>\n",
       "      <td>22</td>\n",
       "      <td>Тюмень</td>\n",
       "      <td>ultra</td>\n",
       "    </tr>\n",
       "  </tbody>\n",
       "</table>\n",
       "</div>"
      ],
      "text/plain": [
       "   user_id  distance  duration       date  month  name  age    city  \\\n",
       "0        1   4409.92     25.60 2021-01-01      1  Кира   22  Тюмень   \n",
       "1        1   2617.59     15.82 2021-01-18      1  Кира   22  Тюмень   \n",
       "2        1    754.16      6.23 2021-04-20      4  Кира   22  Тюмень   \n",
       "3        1   2694.78     18.51 2021-08-11      8  Кира   22  Тюмень   \n",
       "4        1   4028.69     26.27 2021-08-28      8  Кира   22  Тюмень   \n",
       "\n",
       "  subscription_type  \n",
       "0             ultra  \n",
       "1             ultra  \n",
       "2             ultra  \n",
       "3             ultra  \n",
       "4             ultra  "
      ]
     },
     "metadata": {},
     "output_type": "display_data"
    },
    {
     "data": {
      "image/png": "[encoded data removed]",
      "text/plain": [
       "<Figure size 1000x500 with 1 Axes>"
      ]
     },
     "metadata": {},
     "output_type": "display_data"
    }
   ],
   "source": [
    "#склеиваем таблицы rides и users, чтобы сделать разбивку по городам и посчитать \n",
    "#длительность поездки по городам\n",
    "rides_joined = pd.merge(rides,users, on='user_id')\n",
    "display(rides_joined.head())\n",
    "\n",
    "#выводим график boxplot\n",
    "plt.figure(figsize=(10, 5))\n",
    "sns.boxplot(x=rides_joined['city'],y=rides_joined['duration'])\n",
    "\n",
    "plt.show()"
   ]
  },
  {
   "cell_type": "markdown",
   "id": "50a9163f",
   "metadata": {},
   "source": [
    "<div class=\"alert alert-secondary\"> \n",
    "  <b>Вывод:</b> Всего было сделано 18тыс. поездок. Среднее время поездки: 17.8 минут. Минимальная поездка: 30 секунд, максмальная поездка: 40.8 минут. Стандартное отклонение 6 минут, что показывает низкий разброс данных.\n",
    "\n",
    "Длительность поездки примерно одинакова во всех городах.\n",
    "</div>"
   ]
  },
  {
   "cell_type": "markdown",
   "id": "4ef51331",
   "metadata": {},
   "source": [
    "### Шаг 4. Объединение данных"
   ]
  },
  {
   "cell_type": "code",
   "execution_count": 25,
   "id": "6bf288b5",
   "metadata": {},
   "outputs": [
    {
     "data": {
      "text/html": [
       "<div>\n",
       "<style scoped>\n",
       "    .dataframe tbody tr th:only-of-type {\n",
       "        vertical-align: middle;\n",
       "    }\n",
       "\n",
       "    .dataframe tbody tr th {\n",
       "        vertical-align: top;\n",
       "    }\n",
       "\n",
       "    .dataframe thead th {\n",
       "        text-align: right;\n",
       "    }\n",
       "</style>\n",
       "<table border=\"1\" class=\"dataframe\">\n",
       "  <thead>\n",
       "    <tr style=\"text-align: right;\">\n",
       "      <th></th>\n",
       "      <th>user_id</th>\n",
       "      <th>name</th>\n",
       "      <th>age</th>\n",
       "      <th>city</th>\n",
       "      <th>subscription_type</th>\n",
       "      <th>distance</th>\n",
       "      <th>duration</th>\n",
       "      <th>date</th>\n",
       "      <th>month</th>\n",
       "      <th>minute_price</th>\n",
       "      <th>start_ride_price</th>\n",
       "      <th>subscription_fee</th>\n",
       "      <th>ride_price</th>\n",
       "    </tr>\n",
       "  </thead>\n",
       "  <tbody>\n",
       "    <tr>\n",
       "      <th>0</th>\n",
       "      <td>1</td>\n",
       "      <td>Кира</td>\n",
       "      <td>22</td>\n",
       "      <td>Тюмень</td>\n",
       "      <td>ultra</td>\n",
       "      <td>4409.92</td>\n",
       "      <td>26.00</td>\n",
       "      <td>2021-01-01</td>\n",
       "      <td>1</td>\n",
       "      <td>6</td>\n",
       "      <td>0</td>\n",
       "      <td>199</td>\n",
       "      <td>156.00</td>\n",
       "    </tr>\n",
       "    <tr>\n",
       "      <th>1</th>\n",
       "      <td>1</td>\n",
       "      <td>Кира</td>\n",
       "      <td>22</td>\n",
       "      <td>Тюмень</td>\n",
       "      <td>ultra</td>\n",
       "      <td>2617.59</td>\n",
       "      <td>16.00</td>\n",
       "      <td>2021-01-18</td>\n",
       "      <td>1</td>\n",
       "      <td>6</td>\n",
       "      <td>0</td>\n",
       "      <td>199</td>\n",
       "      <td>96.00</td>\n",
       "    </tr>\n",
       "    <tr>\n",
       "      <th>2</th>\n",
       "      <td>1</td>\n",
       "      <td>Кира</td>\n",
       "      <td>22</td>\n",
       "      <td>Тюмень</td>\n",
       "      <td>ultra</td>\n",
       "      <td>754.16</td>\n",
       "      <td>7.00</td>\n",
       "      <td>2021-04-20</td>\n",
       "      <td>4</td>\n",
       "      <td>6</td>\n",
       "      <td>0</td>\n",
       "      <td>199</td>\n",
       "      <td>42.00</td>\n",
       "    </tr>\n",
       "    <tr>\n",
       "      <th>3</th>\n",
       "      <td>1</td>\n",
       "      <td>Кира</td>\n",
       "      <td>22</td>\n",
       "      <td>Тюмень</td>\n",
       "      <td>ultra</td>\n",
       "      <td>2694.78</td>\n",
       "      <td>19.00</td>\n",
       "      <td>2021-08-11</td>\n",
       "      <td>8</td>\n",
       "      <td>6</td>\n",
       "      <td>0</td>\n",
       "      <td>199</td>\n",
       "      <td>114.00</td>\n",
       "    </tr>\n",
       "    <tr>\n",
       "      <th>4</th>\n",
       "      <td>1</td>\n",
       "      <td>Кира</td>\n",
       "      <td>22</td>\n",
       "      <td>Тюмень</td>\n",
       "      <td>ultra</td>\n",
       "      <td>4028.69</td>\n",
       "      <td>27.00</td>\n",
       "      <td>2021-08-28</td>\n",
       "      <td>8</td>\n",
       "      <td>6</td>\n",
       "      <td>0</td>\n",
       "      <td>199</td>\n",
       "      <td>162.00</td>\n",
       "    </tr>\n",
       "  </tbody>\n",
       "</table>\n",
       "</div>"
      ],
      "text/plain": [
       "   user_id  name  age    city subscription_type  distance  duration  \\\n",
       "0        1  Кира   22  Тюмень             ultra   4409.92     26.00   \n",
       "1        1  Кира   22  Тюмень             ultra   2617.59     16.00   \n",
       "2        1  Кира   22  Тюмень             ultra    754.16      7.00   \n",
       "3        1  Кира   22  Тюмень             ultra   2694.78     19.00   \n",
       "4        1  Кира   22  Тюмень             ultra   4028.69     27.00   \n",
       "\n",
       "        date  month  minute_price  start_ride_price  subscription_fee  \\\n",
       "0 2021-01-01      1             6                 0               199   \n",
       "1 2021-01-18      1             6                 0               199   \n",
       "2 2021-04-20      4             6                 0               199   \n",
       "3 2021-08-11      8             6                 0               199   \n",
       "4 2021-08-28      8             6                 0               199   \n",
       "\n",
       "   ride_price  \n",
       "0      156.00  \n",
       "1       96.00  \n",
       "2       42.00  \n",
       "3      114.00  \n",
       "4      162.00  "
      ]
     },
     "metadata": {},
     "output_type": "display_data"
    },
    {
     "name": "stdout",
     "output_type": "stream",
     "text": [
      "<class 'pandas.core.frame.DataFrame'>\n",
      "RangeIndex: 18068 entries, 0 to 18067\n",
      "Data columns (total 13 columns):\n",
      " #   Column             Non-Null Count  Dtype         \n",
      "---  ------             --------------  -----         \n",
      " 0   user_id            18068 non-null  int64         \n",
      " 1   name               18068 non-null  object        \n",
      " 2   age                18068 non-null  int64         \n",
      " 3   city               18068 non-null  object        \n",
      " 4   subscription_type  18068 non-null  object        \n",
      " 5   distance           18068 non-null  float64       \n",
      " 6   duration           18068 non-null  float64       \n",
      " 7   date               18068 non-null  datetime64[ns]\n",
      " 8   month              18068 non-null  int32         \n",
      " 9   minute_price       18068 non-null  int64         \n",
      " 10  start_ride_price   18068 non-null  int64         \n",
      " 11  subscription_fee   18068 non-null  int64         \n",
      " 12  ride_price         18068 non-null  float64       \n",
      "dtypes: datetime64[ns](1), float64(3), int32(1), int64(5), object(3)\n",
      "memory usage: 1.7+ MB\n",
      "Размер датафрема:(18068, 13)\n",
      "Количество пропусков в объединенном датафрейме:\n",
      " user_id              0\n",
      "name                 0\n",
      "age                  0\n",
      "city                 0\n",
      "subscription_type    0\n",
      "distance             0\n",
      "duration             0\n",
      "date                 0\n",
      "month                0\n",
      "minute_price         0\n",
      "start_ride_price     0\n",
      "subscription_fee     0\n",
      "ride_price           0\n",
      "dtype: int64\n"
     ]
    }
   ],
   "source": [
    "merged = pd.merge(users, rides, on='user_id',how='left')\n",
    "merged= pd.merge(merged,subs, on = 'subscription_type', how='left')\n",
    "merged['duration'] = np.ceil(merged['duration'])\n",
    "merged['ride_price'] = merged['duration'] * merged['minute_price'] + merged['start_ride_price']\n",
    "display(merged.head(5))\n",
    "merged.info()\n",
    "\n",
    "#проверяем размерность\n",
    "print(f'Размер датафрема:{merged.shape}')\n",
    "\n",
    "#проверяю на пропуски\n",
    "miss_values=merged.isnull().sum()\n",
    "print('Количество пропусков в объединенном датафрейме:\\n',miss_values)"
   ]
  },
  {
   "cell_type": "code",
   "execution_count": 26,
   "id": "0489cc43",
   "metadata": {},
   "outputs": [
    {
     "data": {
      "image/png": "[encoded data removed]",
      "text/plain": [
       "<Figure size 640x480 with 1 Axes>"
      ]
     },
     "metadata": {},
     "output_type": "display_data"
    }
   ],
   "source": [
    "sns.boxplot(x='subscription_type',y='distance',data=merged)\n",
    "plt.show()"
   ]
  },
  {
   "cell_type": "code",
   "execution_count": 27,
   "id": "bddf0b8d",
   "metadata": {},
   "outputs": [
    {
     "data": {
      "image/png": "[encoded data removed]",
      "text/plain": [
       "<Figure size 640x480 with 1 Axes>"
      ]
     },
     "metadata": {},
     "output_type": "display_data"
    }
   ],
   "source": [
    "sns.boxplot(x='subscription_type',y='duration',data=merged)\n",
    "plt.show()"
   ]
  },
  {
   "cell_type": "code",
   "execution_count": 28,
   "id": "d4cfa328",
   "metadata": {
    "scrolled": true
   },
   "outputs": [
    {
     "data": {
      "image/png": "[encoded data removed]",
      "text/plain": [
       "<Figure size 700x300 with 1 Axes>"
      ]
     },
     "metadata": {},
     "output_type": "display_data"
    },
    {
     "data": {
      "image/png": "[encoded data removed]",
      "text/plain": [
       "<Figure size 700x300 with 1 Axes>"
      ]
     },
     "metadata": {},
     "output_type": "display_data"
    }
   ],
   "source": [
    "sub_type1 = merged[merged['subscription_type'] == 'ultra']\n",
    "sub_type2 = merged[merged['subscription_type'] == 'free']\n",
    "\n",
    "plt.figure(figsize=(7,3))\n",
    "plt.hist(\n",
    "    sub_type1['distance'],\n",
    "    bins=50,\n",
    "    alpha=0.5,\n",
    "    density=True,\n",
    "    color='skyblue',\n",
    "    label='Ultra'\n",
    ")\n",
    "plt.hist(\n",
    "    sub_type2['distance'],\n",
    "    bins=50,\n",
    "    alpha=0.4,\n",
    "    density=True,\n",
    "    color='blue',\n",
    "    label='Free'\n",
    ")\n",
    "plt.title('Гистограмма дистанций двух подписок')\n",
    "plt.xlabel('Distance')\n",
    "plt.legend()\n",
    "plt.show()\n",
    "\n",
    "plt.figure(figsize=(7,3))\n",
    "plt.hist(\n",
    "    sub_type1['duration'],\n",
    "    bins=10,\n",
    "    alpha=0.5,\n",
    "    density=True,\n",
    "    color='skyblue',\n",
    "    label='Ultra'\n",
    ")\n",
    "plt.hist(\n",
    "    sub_type2['duration'],\n",
    "    bins=20,\n",
    "    alpha=0.5,\n",
    "    density=True,\n",
    "    color='blue',\n",
    "    label='Free'\n",
    ")\n",
    "plt.title('Гистограмма длительности поездок двух подписок')\n",
    "plt.xlabel('Duration')\n",
    "plt.legend()\n",
    "plt.show()"
   ]
  },
  {
   "cell_type": "markdown",
   "id": "60c6d0d6",
   "metadata": {},
   "source": [
    "<div class=\"alert alert-secondary\"> \n",
    "  <b>Вывод:</b> Пользователи с бесплатной подпиской совершают более длинные поездки в среднем, чем пользователи с подпиской \"ultra\". Оба распределения имеют пик в районе 2000-2500 метров, но у пользователей с подпиской \"free\" присутствует более широкий диапазон значений, включая более длинные поездки.\n",
    "\n",
    "Обе подписки имеют схожие распределения с пиками в районе 15-20 минут. Однако у пользователей с бесплатной подпиской большее количество коротких поездок (до 5 минут) по сравнению с пользователями подписки \"ultra\".\n",
    "</div>"
   ]
  },
  {
   "cell_type": "markdown",
   "id": "402d620f",
   "metadata": {},
   "source": [
    "### Шаг 5. Подсчёт выручки"
   ]
  },
  {
   "cell_type": "code",
   "execution_count": 29,
   "id": "0584f4c0",
   "metadata": {},
   "outputs": [
    {
     "data": {
      "text/html": [
       "<div>\n",
       "<style scoped>\n",
       "    .dataframe tbody tr th:only-of-type {\n",
       "        vertical-align: middle;\n",
       "    }\n",
       "\n",
       "    .dataframe tbody tr th {\n",
       "        vertical-align: top;\n",
       "    }\n",
       "\n",
       "    .dataframe thead th {\n",
       "        text-align: right;\n",
       "    }\n",
       "</style>\n",
       "<table border=\"1\" class=\"dataframe\">\n",
       "  <thead>\n",
       "    <tr style=\"text-align: right;\">\n",
       "      <th></th>\n",
       "      <th>user_id</th>\n",
       "      <th>month</th>\n",
       "      <th>total_distance</th>\n",
       "      <th>num_rides</th>\n",
       "      <th>total_duration</th>\n",
       "      <th>subscription_fee</th>\n",
       "      <th>minute_price</th>\n",
       "      <th>start_ride_price</th>\n",
       "      <th>subscription_type</th>\n",
       "      <th>total_revenue</th>\n",
       "    </tr>\n",
       "  </thead>\n",
       "  <tbody>\n",
       "    <tr>\n",
       "      <th>0</th>\n",
       "      <td>1</td>\n",
       "      <td>1</td>\n",
       "      <td>7027.51</td>\n",
       "      <td>2</td>\n",
       "      <td>42.00</td>\n",
       "      <td>199</td>\n",
       "      <td>6</td>\n",
       "      <td>0</td>\n",
       "      <td>ultra</td>\n",
       "      <td>451.00</td>\n",
       "    </tr>\n",
       "    <tr>\n",
       "      <th>1</th>\n",
       "      <td>1</td>\n",
       "      <td>4</td>\n",
       "      <td>754.16</td>\n",
       "      <td>1</td>\n",
       "      <td>7.00</td>\n",
       "      <td>199</td>\n",
       "      <td>6</td>\n",
       "      <td>0</td>\n",
       "      <td>ultra</td>\n",
       "      <td>241.00</td>\n",
       "    </tr>\n",
       "    <tr>\n",
       "      <th>2</th>\n",
       "      <td>1</td>\n",
       "      <td>8</td>\n",
       "      <td>6723.47</td>\n",
       "      <td>2</td>\n",
       "      <td>46.00</td>\n",
       "      <td>199</td>\n",
       "      <td>6</td>\n",
       "      <td>0</td>\n",
       "      <td>ultra</td>\n",
       "      <td>475.00</td>\n",
       "    </tr>\n",
       "    <tr>\n",
       "      <th>3</th>\n",
       "      <td>1</td>\n",
       "      <td>10</td>\n",
       "      <td>5809.91</td>\n",
       "      <td>2</td>\n",
       "      <td>32.00</td>\n",
       "      <td>199</td>\n",
       "      <td>6</td>\n",
       "      <td>0</td>\n",
       "      <td>ultra</td>\n",
       "      <td>391.00</td>\n",
       "    </tr>\n",
       "    <tr>\n",
       "      <th>4</th>\n",
       "      <td>1</td>\n",
       "      <td>11</td>\n",
       "      <td>7003.50</td>\n",
       "      <td>3</td>\n",
       "      <td>56.00</td>\n",
       "      <td>199</td>\n",
       "      <td>6</td>\n",
       "      <td>0</td>\n",
       "      <td>ultra</td>\n",
       "      <td>535.00</td>\n",
       "    </tr>\n",
       "    <tr>\n",
       "      <th>...</th>\n",
       "      <td>...</td>\n",
       "      <td>...</td>\n",
       "      <td>...</td>\n",
       "      <td>...</td>\n",
       "      <td>...</td>\n",
       "      <td>...</td>\n",
       "      <td>...</td>\n",
       "      <td>...</td>\n",
       "      <td>...</td>\n",
       "      <td>...</td>\n",
       "    </tr>\n",
       "    <tr>\n",
       "      <th>11326</th>\n",
       "      <td>1534</td>\n",
       "      <td>6</td>\n",
       "      <td>3409.47</td>\n",
       "      <td>2</td>\n",
       "      <td>26.00</td>\n",
       "      <td>0</td>\n",
       "      <td>8</td>\n",
       "      <td>50</td>\n",
       "      <td>free</td>\n",
       "      <td>308.00</td>\n",
       "    </tr>\n",
       "    <tr>\n",
       "      <th>11327</th>\n",
       "      <td>1534</td>\n",
       "      <td>8</td>\n",
       "      <td>7622.45</td>\n",
       "      <td>2</td>\n",
       "      <td>48.00</td>\n",
       "      <td>0</td>\n",
       "      <td>8</td>\n",
       "      <td>50</td>\n",
       "      <td>free</td>\n",
       "      <td>484.00</td>\n",
       "    </tr>\n",
       "    <tr>\n",
       "      <th>11328</th>\n",
       "      <td>1534</td>\n",
       "      <td>9</td>\n",
       "      <td>4928.17</td>\n",
       "      <td>1</td>\n",
       "      <td>23.00</td>\n",
       "      <td>0</td>\n",
       "      <td>8</td>\n",
       "      <td>50</td>\n",
       "      <td>free</td>\n",
       "      <td>234.00</td>\n",
       "    </tr>\n",
       "    <tr>\n",
       "      <th>11329</th>\n",
       "      <td>1534</td>\n",
       "      <td>11</td>\n",
       "      <td>13350.02</td>\n",
       "      <td>4</td>\n",
       "      <td>78.00</td>\n",
       "      <td>0</td>\n",
       "      <td>8</td>\n",
       "      <td>50</td>\n",
       "      <td>free</td>\n",
       "      <td>824.00</td>\n",
       "    </tr>\n",
       "    <tr>\n",
       "      <th>11330</th>\n",
       "      <td>1534</td>\n",
       "      <td>12</td>\n",
       "      <td>2371.71</td>\n",
       "      <td>1</td>\n",
       "      <td>16.00</td>\n",
       "      <td>0</td>\n",
       "      <td>8</td>\n",
       "      <td>50</td>\n",
       "      <td>free</td>\n",
       "      <td>178.00</td>\n",
       "    </tr>\n",
       "  </tbody>\n",
       "</table>\n",
       "<p>11331 rows × 10 columns</p>\n",
       "</div>"
      ],
      "text/plain": [
       "       user_id  month  total_distance  num_rides  total_duration  \\\n",
       "0            1      1         7027.51          2           42.00   \n",
       "1            1      4          754.16          1            7.00   \n",
       "2            1      8         6723.47          2           46.00   \n",
       "3            1     10         5809.91          2           32.00   \n",
       "4            1     11         7003.50          3           56.00   \n",
       "...        ...    ...             ...        ...             ...   \n",
       "11326     1534      6         3409.47          2           26.00   \n",
       "11327     1534      8         7622.45          2           48.00   \n",
       "11328     1534      9         4928.17          1           23.00   \n",
       "11329     1534     11        13350.02          4           78.00   \n",
       "11330     1534     12         2371.71          1           16.00   \n",
       "\n",
       "       subscription_fee  minute_price  start_ride_price subscription_type  \\\n",
       "0                   199             6                 0             ultra   \n",
       "1                   199             6                 0             ultra   \n",
       "2                   199             6                 0             ultra   \n",
       "3                   199             6                 0             ultra   \n",
       "4                   199             6                 0             ultra   \n",
       "...                 ...           ...               ...               ...   \n",
       "11326                 0             8                50              free   \n",
       "11327                 0             8                50              free   \n",
       "11328                 0             8                50              free   \n",
       "11329                 0             8                50              free   \n",
       "11330                 0             8                50              free   \n",
       "\n",
       "       total_revenue  \n",
       "0             451.00  \n",
       "1             241.00  \n",
       "2             475.00  \n",
       "3             391.00  \n",
       "4             535.00  \n",
       "...              ...  \n",
       "11326         308.00  \n",
       "11327         484.00  \n",
       "11328         234.00  \n",
       "11329         824.00  \n",
       "11330         178.00  \n",
       "\n",
       "[11331 rows x 10 columns]"
      ]
     },
     "metadata": {},
     "output_type": "display_data"
    },
    {
     "name": "stdout",
     "output_type": "stream",
     "text": [
      "Количество пропусков в сводной таблице:\n",
      " user_id              0\n",
      "month                0\n",
      "total_distance       0\n",
      "num_rides            0\n",
      "total_duration       0\n",
      "subscription_fee     0\n",
      "minute_price         0\n",
      "start_ride_price     0\n",
      "subscription_type    0\n",
      "total_revenue        0\n",
      "dtype: int64\n"
     ]
    }
   ],
   "source": [
    "#Округляем значения в одной таблице, а считаем по другой\n",
    "merged['duration'] = np.ceil(merged['duration']) #\n",
    "\n",
    "# Агрегация данных по пользователям и месяцам\n",
    "agg_data = merged.groupby(['user_id', 'month']).agg(\n",
    "    total_distance=('distance', 'sum'),\n",
    "    num_rides=('user_id', 'count'),\n",
    "    total_duration=('duration', 'sum'),\n",
    "    subscription_fee=('subscription_fee', 'first'),\n",
    "    minute_price=('minute_price', 'first'),\n",
    "    start_ride_price=('start_ride_price', 'first'),\n",
    "    subscription_type=('subscription_type','first')\n",
    ").reset_index()\n",
    "\n",
    "# Расчёт помесячной выручки для каждого пользователя\n",
    "agg_data['total_revenue'] = (\n",
    "    agg_data['num_rides'] * agg_data['start_ride_price'] +\n",
    "    agg_data['total_duration'] * agg_data['minute_price'] +\n",
    "    agg_data['subscription_fee']\n",
    ")\n",
    "\n",
    "# Вывод таблицы\n",
    "display(agg_data)\n",
    "\n",
    "# Дополнительно: проверка на пропуски\n",
    "missing_values = agg_data.isnull().sum()\n",
    "print('Количество пропусков в сводной таблице:\\n', missing_values)"
   ]
  },
  {
   "cell_type": "markdown",
   "id": "20e5c585",
   "metadata": {},
   "source": [
    "<div class=\"alert alert-secondary\"> \n",
    "  <b>Вывод:</b> количество пользователей в каждом месяце колеблется в пределах от 883 до 990. Суммарное расстояние, пройденное пользователями, и суммарное время поездок также относительно стабильны по месяцам, с наибольшими значениями в январе и мае. Общая выручка в месяц варьируется, достигая максимума в январе (342110) и минимального значения в ноябре (309890).\n",
    "\n",
    "</div>"
   ]
  },
  {
   "cell_type": "markdown",
   "id": "41545ac0",
   "metadata": {},
   "source": [
    "### Шаг 6. Проверка гипотез"
   ]
  },
  {
   "cell_type": "markdown",
   "id": "4236ba29",
   "metadata": {},
   "source": [
    "6.1 Нулевая гипотеза (H0):\n",
    "Средняя продолжительность поездок у пользователей с подпиской **равна** средней продолжительности поездок у пользователей без подписки.\n",
    "\n",
    "Альтернативная гипотеза (H1):\n",
    "Средняя продолжительность поездок у пользователей с подпиской **больше** средней продолжительности поездок у пользователей без подписки."
   ]
  },
  {
   "cell_type": "code",
   "execution_count": 30,
   "id": "23ea867b",
   "metadata": {
    "scrolled": true
   },
   "outputs": [
    {
     "data": {
      "text/html": [
       "<div>\n",
       "<style scoped>\n",
       "    .dataframe tbody tr th:only-of-type {\n",
       "        vertical-align: middle;\n",
       "    }\n",
       "\n",
       "    .dataframe tbody tr th {\n",
       "        vertical-align: top;\n",
       "    }\n",
       "\n",
       "    .dataframe thead th {\n",
       "        text-align: right;\n",
       "    }\n",
       "</style>\n",
       "<table border=\"1\" class=\"dataframe\">\n",
       "  <thead>\n",
       "    <tr style=\"text-align: right;\">\n",
       "      <th></th>\n",
       "      <th>user_id</th>\n",
       "      <th>name</th>\n",
       "      <th>age</th>\n",
       "      <th>city</th>\n",
       "      <th>subscription_type</th>\n",
       "      <th>distance</th>\n",
       "      <th>duration</th>\n",
       "      <th>date</th>\n",
       "      <th>month</th>\n",
       "      <th>minute_price</th>\n",
       "      <th>start_ride_price</th>\n",
       "      <th>subscription_fee</th>\n",
       "      <th>ride_price</th>\n",
       "    </tr>\n",
       "  </thead>\n",
       "  <tbody>\n",
       "    <tr>\n",
       "      <th>0</th>\n",
       "      <td>1</td>\n",
       "      <td>Кира</td>\n",
       "      <td>22</td>\n",
       "      <td>Тюмень</td>\n",
       "      <td>ultra</td>\n",
       "      <td>4409.92</td>\n",
       "      <td>26.00</td>\n",
       "      <td>2021-01-01</td>\n",
       "      <td>1</td>\n",
       "      <td>6</td>\n",
       "      <td>0</td>\n",
       "      <td>199</td>\n",
       "      <td>156.00</td>\n",
       "    </tr>\n",
       "  </tbody>\n",
       "</table>\n",
       "</div>"
      ],
      "text/plain": [
       "   user_id  name  age    city subscription_type  distance  duration  \\\n",
       "0        1  Кира   22  Тюмень             ultra   4409.92     26.00   \n",
       "\n",
       "        date  month  minute_price  start_ride_price  subscription_fee  \\\n",
       "0 2021-01-01      1             6                 0               199   \n",
       "\n",
       "   ride_price  \n",
       "0      156.00  "
      ]
     },
     "metadata": {},
     "output_type": "display_data"
    },
    {
     "data": {
      "text/html": [
       "<div>\n",
       "<style scoped>\n",
       "    .dataframe tbody tr th:only-of-type {\n",
       "        vertical-align: middle;\n",
       "    }\n",
       "\n",
       "    .dataframe tbody tr th {\n",
       "        vertical-align: top;\n",
       "    }\n",
       "\n",
       "    .dataframe thead th {\n",
       "        text-align: right;\n",
       "    }\n",
       "</style>\n",
       "<table border=\"1\" class=\"dataframe\">\n",
       "  <thead>\n",
       "    <tr style=\"text-align: right;\">\n",
       "      <th></th>\n",
       "      <th>user_id</th>\n",
       "      <th>name</th>\n",
       "      <th>age</th>\n",
       "      <th>city</th>\n",
       "      <th>subscription_type</th>\n",
       "      <th>distance</th>\n",
       "      <th>duration</th>\n",
       "      <th>date</th>\n",
       "      <th>month</th>\n",
       "      <th>minute_price</th>\n",
       "      <th>start_ride_price</th>\n",
       "      <th>subscription_fee</th>\n",
       "      <th>ride_price</th>\n",
       "    </tr>\n",
       "  </thead>\n",
       "  <tbody>\n",
       "    <tr>\n",
       "      <th>6500</th>\n",
       "      <td>700</td>\n",
       "      <td>Айдар</td>\n",
       "      <td>22</td>\n",
       "      <td>Омск</td>\n",
       "      <td>free</td>\n",
       "      <td>2515.69</td>\n",
       "      <td>15.00</td>\n",
       "      <td>2021-01-02</td>\n",
       "      <td>1</td>\n",
       "      <td>8</td>\n",
       "      <td>50</td>\n",
       "      <td>0</td>\n",
       "      <td>170.00</td>\n",
       "    </tr>\n",
       "  </tbody>\n",
       "</table>\n",
       "</div>"
      ],
      "text/plain": [
       "      user_id   name  age  city subscription_type  distance  duration  \\\n",
       "6500      700  Айдар   22  Омск              free   2515.69     15.00   \n",
       "\n",
       "           date  month  minute_price  start_ride_price  subscription_fee  \\\n",
       "6500 2021-01-02      1             8                50                 0   \n",
       "\n",
       "      ride_price  \n",
       "6500      170.00  "
      ]
     },
     "metadata": {},
     "output_type": "display_data"
    },
    {
     "name": "stdout",
     "output_type": "stream",
     "text": [
      "Среднее по выборке с подпиской:19.037692307692307\n",
      "Среднее по выборке без подписки:17.890992392807746\n",
      "p-value: 1.18e-36\n",
      "Отвергаем нулевую гпиотезу\n"
     ]
    }
   ],
   "source": [
    "#тратят ли пользователи с подпиской больше времени на поездки?\n",
    "#применим Двухвыборочный t-тест для независимых выборок\n",
    "\n",
    "\n",
    "ultra = merged[(merged.subscription_type == 'ultra')]\n",
    "display(ultra.head(1))\n",
    "\n",
    "free = merged[(merged.subscription_type == 'free')]\n",
    "display(free.head(1))\n",
    "\n",
    "\n",
    "print(f'Среднее по выборке с подпиской:{np.mean(ultra[\"duration\"])}')\n",
    "print(f'Среднее по выборке без подписки:{np.mean(free[\"duration\"])}')\n",
    "\n",
    "alpha = 0.05\n",
    "\n",
    "results = st.ttest_ind(\n",
    "    ultra['duration'],\n",
    "    free['duration'],\n",
    "    alternative='greater',\n",
    "    equal_var=False\n",
    "    )\n",
    "\n",
    "print('p-value: {:.2e}'.format(results.pvalue))\n",
    "\n",
    "if results.pvalue < alpha:\n",
    "    print('Отвергаем нулевую гпиотезу')\n",
    "else:\n",
    "    print('Не получилось отвергнуть нулевую гипотезу')"
   ]
  },
  {
   "cell_type": "markdown",
   "id": "e57bf765",
   "metadata": {},
   "source": [
    "<div class=\"alert alert-secondary\"> \n",
    "p-value равен 1.18e-36, → отвергаем нулевую гипотезу, следовательно, пользователи с подпиской тратят больше времени на поездки по сравнению с пользователями без подписки.\n",
    "</div>"
   ]
  },
  {
   "cell_type": "markdown",
   "id": "20b57141",
   "metadata": {},
   "source": [
    "6.2\n",
    "\n",
    "Расстояние одной поездки в 3130 метров — оптимальное с точки зрения износа самоката. Можно ли сказать, что среднее расстояние, которое проезжают пользователи с подпиской за одну поездку, не превышает 3130 метров? \n",
    "\n",
    "Нулевая гипотеза H0: Среднее расстояние, которое проезжают пользователи с подпиской за одну поездку, **равно** 3130 метров.\n",
    "\n",
    "Альтернативная гипотеза H1: **Подписчики в среднем проезжают расстояние больше оптимального**."
   ]
  },
  {
   "cell_type": "code",
   "execution_count": 31,
   "id": "82e626b6",
   "metadata": {},
   "outputs": [
    {
     "name": "stdout",
     "output_type": "stream",
     "text": [
      "Среднее по выборке с подпиской:3115.4453880370247\n",
      "p-value: 0.9195\n",
      "Не получилось отвергнуть нулевую гипотезу\n"
     ]
    }
   ],
   "source": [
    "print(f'Среднее по выборке с подпиской:{np.mean(ultra[\"distance\"])}')\n",
    "\n",
    "value = 3130\n",
    "alpha = 0.05\n",
    "\n",
    "results= st.ttest_1samp(\n",
    "    ultra['distance'],\n",
    "    value,\n",
    "    alternative = 'greater')\n",
    "\n",
    "print('p-value: {:.4f}'.format(results.pvalue))\n",
    "\n",
    "if results.pvalue < alpha:\n",
    "    print('Отвергаем нулевую гпиотезу')\n",
    "else:\n",
    "    print('Не получилось отвергнуть нулевую гипотезу')"
   ]
  },
  {
   "cell_type": "markdown",
   "id": "fdc7d860",
   "metadata": {},
   "source": [
    "<div class=\"alert alert-secondary\">\n",
    "Нулевая гипотеза не отвергается, что означает, что среднее расстояние, которое проезжают пользователи с подпиской за одну поездку, не превышает 3130 метров.\n",
    "</div>"
   ]
  },
  {
   "cell_type": "markdown",
   "id": "301e4ac0",
   "metadata": {},
   "source": [
    "<div class=\"alert alert-secondary\">\n",
    "Вывод: Пользователи подписки оптимимальны для бизнеса с точки зрения износа самоката.\n",
    "</div>"
   ]
  },
  {
   "cell_type": "markdown",
   "id": "2258a0cf",
   "metadata": {},
   "source": [
    "6.3 Будет ли помесячная выручка от пользователей с подпиской по месяцам выше, чем выручка от пользователей без подписки?\n",
    "\n",
    "Нулевая гипотеза H0:Помесячная выручка от пользователей с подпиской **равна** выручке пользователей без подписки.\n",
    "\n",
    "Альтернативная гипотеза H1: Помесячная выручка от пользователей с подпиской **выше**, чем выручка от пользователей без подписки.\n",
    "\n",
    "\n"
   ]
  },
  {
   "cell_type": "code",
   "execution_count": 32,
   "id": "bae4ff0d",
   "metadata": {
    "scrolled": false
   },
   "outputs": [
    {
     "data": {
      "text/html": [
       "<div>\n",
       "<style scoped>\n",
       "    .dataframe tbody tr th:only-of-type {\n",
       "        vertical-align: middle;\n",
       "    }\n",
       "\n",
       "    .dataframe tbody tr th {\n",
       "        vertical-align: top;\n",
       "    }\n",
       "\n",
       "    .dataframe thead th {\n",
       "        text-align: right;\n",
       "    }\n",
       "</style>\n",
       "<table border=\"1\" class=\"dataframe\">\n",
       "  <thead>\n",
       "    <tr style=\"text-align: right;\">\n",
       "      <th></th>\n",
       "      <th>user_id</th>\n",
       "      <th>month</th>\n",
       "      <th>total_distance</th>\n",
       "      <th>num_rides</th>\n",
       "      <th>total_duration</th>\n",
       "      <th>subscription_fee</th>\n",
       "      <th>minute_price</th>\n",
       "      <th>start_ride_price</th>\n",
       "      <th>subscription_type</th>\n",
       "      <th>total_revenue</th>\n",
       "    </tr>\n",
       "  </thead>\n",
       "  <tbody>\n",
       "    <tr>\n",
       "      <th>0</th>\n",
       "      <td>1</td>\n",
       "      <td>1</td>\n",
       "      <td>7027.51</td>\n",
       "      <td>2</td>\n",
       "      <td>42.00</td>\n",
       "      <td>199</td>\n",
       "      <td>6</td>\n",
       "      <td>0</td>\n",
       "      <td>ultra</td>\n",
       "      <td>451.00</td>\n",
       "    </tr>\n",
       "  </tbody>\n",
       "</table>\n",
       "</div>"
      ],
      "text/plain": [
       "   user_id  month  total_distance  num_rides  total_duration  \\\n",
       "0        1      1         7027.51          2           42.00   \n",
       "\n",
       "   subscription_fee  minute_price  start_ride_price subscription_type  \\\n",
       "0               199             6                 0             ultra   \n",
       "\n",
       "   total_revenue  \n",
       "0         451.00  "
      ]
     },
     "metadata": {},
     "output_type": "display_data"
    },
    {
     "data": {
      "text/html": [
       "<div>\n",
       "<style scoped>\n",
       "    .dataframe tbody tr th:only-of-type {\n",
       "        vertical-align: middle;\n",
       "    }\n",
       "\n",
       "    .dataframe tbody tr th {\n",
       "        vertical-align: top;\n",
       "    }\n",
       "\n",
       "    .dataframe thead th {\n",
       "        text-align: right;\n",
       "    }\n",
       "</style>\n",
       "<table border=\"1\" class=\"dataframe\">\n",
       "  <thead>\n",
       "    <tr style=\"text-align: right;\">\n",
       "      <th></th>\n",
       "      <th>user_id</th>\n",
       "      <th>month</th>\n",
       "      <th>total_distance</th>\n",
       "      <th>num_rides</th>\n",
       "      <th>total_duration</th>\n",
       "      <th>subscription_fee</th>\n",
       "      <th>minute_price</th>\n",
       "      <th>start_ride_price</th>\n",
       "      <th>subscription_type</th>\n",
       "      <th>total_revenue</th>\n",
       "    </tr>\n",
       "  </thead>\n",
       "  <tbody>\n",
       "    <tr>\n",
       "      <th>4533</th>\n",
       "      <td>700</td>\n",
       "      <td>1</td>\n",
       "      <td>2515.69</td>\n",
       "      <td>1</td>\n",
       "      <td>15.00</td>\n",
       "      <td>0</td>\n",
       "      <td>8</td>\n",
       "      <td>50</td>\n",
       "      <td>free</td>\n",
       "      <td>170.00</td>\n",
       "    </tr>\n",
       "  </tbody>\n",
       "</table>\n",
       "</div>"
      ],
      "text/plain": [
       "      user_id  month  total_distance  num_rides  total_duration  \\\n",
       "4533      700      1         2515.69          1           15.00   \n",
       "\n",
       "      subscription_fee  minute_price  start_ride_price subscription_type  \\\n",
       "4533                 0             8                50              free   \n",
       "\n",
       "      total_revenue  \n",
       "4533         170.00  "
      ]
     },
     "metadata": {},
     "output_type": "display_data"
    },
    {
     "name": "stdout",
     "output_type": "stream",
     "text": [
      "Средняя выручка по месяцам с подпиской: 362.6696445163377\n",
      "Средняя выручка по месяцам без подписки: 328.5980672488633\n",
      "p-value: 2.0841921253203195e-12\n",
      "Отвергаем нулевую гипотезу\n"
     ]
    }
   ],
   "source": [
    "ultra_rev = agg_data[(agg_data.subscription_type == 'ultra')]\n",
    "display(ultra_rev.head(1))\n",
    "\n",
    "free_rev = agg_data[(agg_data.subscription_type == 'free')]\n",
    "display(free_rev.head(1))\n",
    "\n",
    "\n",
    "# Проверка средней выручки по месяцам\n",
    "mean_ultra_revenue = ultra_rev.groupby('month')['total_revenue'].mean()\n",
    "mean_free_revenue = free_rev.groupby('month')['total_revenue'].mean()\n",
    "\n",
    "# Двухвыборочный t-тест для независимых выборок по выручке по месяцам\n",
    "alpha = 0.05\n",
    "results = st.ttest_ind(\n",
    "    mean_ultra_revenue,\n",
    "    mean_free_revenue,\n",
    "    alternative='greater',\n",
    "    equal_var=False  \n",
    ")\n",
    "\n",
    "print('Средняя выручка по месяцам с подпиской:', mean_ultra_revenue.mean())\n",
    "print('Средняя выручка по месяцам без подписки:', mean_free_revenue.mean())\n",
    "print('p-value:', results.pvalue)\n",
    "\n",
    "if results.pvalue < alpha:\n",
    "    print('Отвергаем нулевую гипотезу')\n",
    "else:\n",
    "    print('Не получилось отвергнуть нулевую гипотезу')"
   ]
  },
  {
   "cell_type": "markdown",
   "id": "2f425fe2",
   "metadata": {},
   "source": [
    "<div class=\"alert alert-secondary\">\n",
    "Отвергаем нулевую гипотезу в пользу альтернативной. Помесячная выручка от пользователей с подпиской выше, чем выручка от пользователей без подписки.\n",
    "</div>"
   ]
  },
  {
   "cell_type": "markdown",
   "id": "61213c5e",
   "metadata": {},
   "source": [
    "### Шаг 7. Распределения"
   ]
  },
  {
   "cell_type": "markdown",
   "id": "b0a9e8e3",
   "metadata": {},
   "source": [
    "# Общий вывод по работе\n",
    "\n",
    "В рамках проекта был проведен статистический анализ данных о пользователях и поездках сервиса аренды самокатов GoFast. Основные этапы работы включали загрузку и предобработку данных, исследовательский анализ данных, объединение данных и подсчет выручки, а также проверку нескольких гипотез.\n",
    "\n",
    "## Гипотеза 6.1\n",
    "**Нулевая гипотеза (H0)**: Средняя продолжительность поездок у пользователей с подпиской равна средней продолжительности поездок у пользователей без подписки.\n",
    "\n",
    "**Альтернативная гипотеза (H1)**: Средняя продолжительность поездок у пользователей с подпиской больше средней продолжительности поездок у пользователей без подписки.\n",
    "\n",
    "### Результат теста\n",
    "- Среднее по выборке с подпиской: 19.04 минут\n",
    "- Среднее по выборке без подписки: 17.89 минут\n",
    "- p-value: 1.18e-36\n",
    "\n",
    "### Вывод\n",
    "p-value значительно меньше уровня значимости 0.05, поэтому мы отвергаем нулевую гипотезу. Это означает, что пользователи с подпиской тратят больше времени на поездки по сравнению с пользователями без подписки.\n",
    "\n",
    "## Гипотеза 6.2\n",
    "**Нулевая гипотеза (H0)**: Среднее расстояние, которое проезжают пользователи с подпиской за одну поездку, равно 3130 метров.\n",
    "\n",
    "**Альтернативная гипотеза (H1)**: Среднее расстояние, которое проезжают пользователи с подпиской за одну поездку, не превышает 3130 метров.\n",
    "\n",
    "### Результат теста\n",
    "- Среднее по выборке с подпиской: 3115.45 метров\n",
    "- p-value: 0.0805\n",
    "\n",
    "### Вывод\n",
    "p-value больше уровня значимости 0.05, поэтому мы не отвергаем нулевую гипотезу. Это означает, что среднее расстояние, которое проезжают пользователи с подпиской за одну поездку, не превышает 3130 метров. С точки зрения износа самоката, пользователи с подпиской оптимальны для бизнеса.\n",
    "\n",
    "## Гипотеза 6.3\n",
    "**Нулевая гипотеза (H0)**: Помесячная выручка от пользователей с подпиской равна выручке пользователей без подписки.\n",
    "\n",
    "**Альтернативная гипотеза (H1)**: Помесячная выручка от пользователей с подпиской выше, чем выручка от пользователей без подписки.\n",
    "\n",
    "### Результат теста\n",
    "- Средняя выручка по месяцам с подпиской: 366.88\n",
    "- Средняя выручка по месяцам без подписки: 332.85\n",
    "- p-value: 2.36e-12\n",
    "\n",
    "### Вывод\n",
    "p-value значительно меньше уровня значимости 0.05, поэтому мы отвергаем нулевую гипотезу. Это означает, что помесячная выручка от пользователей с подпиской выше, чем выручка от пользователей без подписки.\n",
    "\n",
    "\n",
    "## Общий вывод\n",
    "Результаты анализа подтверждают, что пользователи с подпиской тратят больше времени на поездки и приносят больше выручки по сравнению с пользователями без подписки. Кроме того, среднее расстояние, которое проезжают пользователи с подпиской, соответствует оптимальному уровню износа самокатов, что делает их предпочтительными с точки зрения бизнеса.\n"
   ]
  },
  {
   "cell_type": "markdown",
   "id": "cd2ca297",
   "metadata": {},
   "source": []
  }
 ],
 "metadata": {
  "ExecuteTimeLog": [
   {
    "duration": 45,
    "start_time": "2024-07-03T18:02:09.272Z"
   },
   {
    "duration": 846,
    "start_time": "2024-07-03T18:02:14.059Z"
   },
   {
    "duration": 174,
    "start_time": "2024-07-03T18:02:15.153Z"
   },
   {
    "duration": 17,
    "start_time": "2024-07-03T18:04:43.437Z"
   },
   {
    "duration": 51,
    "start_time": "2024-07-03T18:04:53.986Z"
   },
   {
    "duration": 59,
    "start_time": "2024-07-03T18:06:23.391Z"
   },
   {
    "duration": 61,
    "start_time": "2024-07-03T18:06:26.733Z"
   },
   {
    "duration": 20,
    "start_time": "2024-07-03T18:06:45.904Z"
   },
   {
    "duration": 39,
    "start_time": "2024-07-03T18:06:58.179Z"
   },
   {
    "duration": 38,
    "start_time": "2024-07-03T18:10:13.181Z"
   },
   {
    "duration": 29,
    "start_time": "2024-07-03T18:17:36.882Z"
   },
   {
    "duration": 54,
    "start_time": "2024-07-04T02:45:40.782Z"
   },
   {
    "duration": 812,
    "start_time": "2024-07-04T02:45:44.495Z"
   },
   {
    "duration": 279,
    "start_time": "2024-07-04T02:45:45.309Z"
   },
   {
    "duration": 407,
    "start_time": "2024-07-04T02:45:57.860Z"
   },
   {
    "duration": 76,
    "start_time": "2024-07-04T02:46:13.681Z"
   },
   {
    "duration": 365,
    "start_time": "2024-07-04T02:46:15.517Z"
   },
   {
    "duration": 369,
    "start_time": "2024-07-04T02:46:34.497Z"
   },
   {
    "duration": 341,
    "start_time": "2024-07-04T02:46:37.557Z"
   },
   {
    "duration": 2,
    "start_time": "2024-07-04T02:47:01.412Z"
   },
   {
    "duration": 75,
    "start_time": "2024-07-04T02:47:02.884Z"
   },
   {
    "duration": 404,
    "start_time": "2024-07-04T02:47:04.410Z"
   },
   {
    "duration": 393,
    "start_time": "2024-07-04T02:47:21.951Z"
   },
   {
    "duration": 363,
    "start_time": "2024-07-04T02:48:37.727Z"
   },
   {
    "duration": 3,
    "start_time": "2024-07-04T02:48:48.018Z"
   },
   {
    "duration": 79,
    "start_time": "2024-07-04T02:48:49.471Z"
   },
   {
    "duration": 383,
    "start_time": "2024-07-04T02:48:51.507Z"
   },
   {
    "duration": 697,
    "start_time": "2024-07-04T02:51:05.672Z"
   },
   {
    "duration": 358,
    "start_time": "2024-07-04T02:51:32.676Z"
   },
   {
    "duration": 585,
    "start_time": "2024-07-04T02:51:42.731Z"
   },
   {
    "duration": 545,
    "start_time": "2024-07-04T02:51:54.044Z"
   },
   {
    "duration": 367,
    "start_time": "2024-07-04T02:52:14.040Z"
   },
   {
    "duration": 31,
    "start_time": "2024-07-04T02:52:33.350Z"
   },
   {
    "duration": 69,
    "start_time": "2024-07-04T02:54:55.060Z"
   },
   {
    "duration": 36,
    "start_time": "2024-07-04T02:55:09.841Z"
   },
   {
    "duration": 36,
    "start_time": "2024-07-04T02:55:30.695Z"
   },
   {
    "duration": 17,
    "start_time": "2024-07-04T02:56:24.540Z"
   },
   {
    "duration": 8,
    "start_time": "2024-07-04T02:56:59.666Z"
   },
   {
    "duration": 18,
    "start_time": "2024-07-04T02:57:40.598Z"
   },
   {
    "duration": 31,
    "start_time": "2024-07-04T02:57:54.390Z"
   },
   {
    "duration": 22,
    "start_time": "2024-07-04T02:58:37.672Z"
   },
   {
    "duration": 27,
    "start_time": "2024-07-04T02:59:31.325Z"
   },
   {
    "duration": 24,
    "start_time": "2024-07-04T03:00:10.318Z"
   },
   {
    "duration": 77,
    "start_time": "2024-07-04T03:00:56.413Z"
   },
   {
    "duration": 87,
    "start_time": "2024-07-04T03:01:28.487Z"
   },
   {
    "duration": 85,
    "start_time": "2024-07-04T03:01:45.359Z"
   },
   {
    "duration": 411,
    "start_time": "2024-07-04T03:01:49.940Z"
   },
   {
    "duration": 21,
    "start_time": "2024-07-04T03:01:50.863Z"
   },
   {
    "duration": 95,
    "start_time": "2024-07-04T03:02:10.669Z"
   },
   {
    "duration": 140,
    "start_time": "2024-07-04T03:02:37.425Z"
   },
   {
    "duration": 384,
    "start_time": "2024-07-04T03:03:24.508Z"
   },
   {
    "duration": 23,
    "start_time": "2024-07-04T03:03:58.395Z"
   },
   {
    "duration": 5,
    "start_time": "2024-07-04T03:05:04.324Z"
   },
   {
    "duration": 7,
    "start_time": "2024-07-04T03:06:20.940Z"
   },
   {
    "duration": 7,
    "start_time": "2024-07-04T03:06:28.375Z"
   },
   {
    "duration": 7,
    "start_time": "2024-07-04T03:06:31.943Z"
   },
   {
    "duration": 72,
    "start_time": "2024-07-04T03:07:10.557Z"
   },
   {
    "duration": 10,
    "start_time": "2024-07-04T03:07:18.261Z"
   },
   {
    "duration": 8,
    "start_time": "2024-07-04T03:07:53.354Z"
   },
   {
    "duration": 12,
    "start_time": "2024-07-04T03:08:35.488Z"
   },
   {
    "duration": 10,
    "start_time": "2024-07-04T03:08:41.193Z"
   },
   {
    "duration": 11,
    "start_time": "2024-07-04T03:08:55.192Z"
   },
   {
    "duration": 40,
    "start_time": "2024-07-04T03:09:33.037Z"
   },
   {
    "duration": 11,
    "start_time": "2024-07-04T03:09:39.210Z"
   },
   {
    "duration": 26,
    "start_time": "2024-07-04T03:10:16.378Z"
   },
   {
    "duration": 10,
    "start_time": "2024-07-04T03:10:37.343Z"
   },
   {
    "duration": 40,
    "start_time": "2024-07-05T01:28:31.250Z"
   },
   {
    "duration": 5,
    "start_time": "2024-07-05T01:28:37.814Z"
   },
   {
    "duration": 726,
    "start_time": "2024-07-05T01:28:45.359Z"
   },
   {
    "duration": 230,
    "start_time": "2024-07-05T01:28:46.087Z"
   },
   {
    "duration": 22,
    "start_time": "2024-07-05T01:28:46.318Z"
   },
   {
    "duration": 8,
    "start_time": "2024-07-05T01:28:46.341Z"
   },
   {
    "duration": 302,
    "start_time": "2024-07-05T01:28:46.351Z"
   },
   {
    "duration": 13,
    "start_time": "2024-07-05T01:29:45.055Z"
   },
   {
    "duration": 10,
    "start_time": "2024-07-05T01:30:29.519Z"
   },
   {
    "duration": 111,
    "start_time": "2024-07-05T01:32:43.381Z"
   },
   {
    "duration": 80,
    "start_time": "2024-07-05T01:32:43.493Z"
   },
   {
    "duration": 19,
    "start_time": "2024-07-05T01:32:43.575Z"
   },
   {
    "duration": 73,
    "start_time": "2024-07-05T01:32:43.596Z"
   },
   {
    "duration": 23,
    "start_time": "2024-07-05T01:32:43.671Z"
   },
   {
    "duration": 11,
    "start_time": "2024-07-05T01:34:01.602Z"
   },
   {
    "duration": 9,
    "start_time": "2024-07-05T01:35:37.698Z"
   },
   {
    "duration": 6,
    "start_time": "2024-07-05T01:35:46.182Z"
   },
   {
    "duration": 79,
    "start_time": "2024-07-05T01:35:56.269Z"
   },
   {
    "duration": 201,
    "start_time": "2024-07-05T01:37:00.976Z"
   },
   {
    "duration": 102,
    "start_time": "2024-07-05T01:41:41.032Z"
   },
   {
    "duration": 45,
    "start_time": "2024-07-05T15:10:17.046Z"
   },
   {
    "duration": 1141,
    "start_time": "2024-07-05T15:10:21.656Z"
   },
   {
    "duration": 322,
    "start_time": "2024-07-05T15:10:22.799Z"
   },
   {
    "duration": 21,
    "start_time": "2024-07-05T15:10:23.122Z"
   },
   {
    "duration": 10,
    "start_time": "2024-07-05T15:10:23.145Z"
   },
   {
    "duration": 126,
    "start_time": "2024-07-05T15:10:23.157Z"
   },
   {
    "duration": 110,
    "start_time": "2024-07-05T15:10:38.485Z"
   },
   {
    "duration": 56,
    "start_time": "2024-07-05T15:10:55.156Z"
   },
   {
    "duration": 90,
    "start_time": "2024-07-05T15:11:04.140Z"
   },
   {
    "duration": 8,
    "start_time": "2024-07-05T15:13:02.117Z"
   },
   {
    "duration": 1650,
    "start_time": "2024-07-05T15:13:05.663Z"
   },
   {
    "duration": 1645,
    "start_time": "2024-07-05T15:13:13.588Z"
   },
   {
    "duration": 1859,
    "start_time": "2024-07-05T15:13:18.655Z"
   },
   {
    "duration": 133,
    "start_time": "2024-07-05T15:13:47.219Z"
   },
   {
    "duration": 72,
    "start_time": "2024-07-05T15:14:03.080Z"
   },
   {
    "duration": 7,
    "start_time": "2024-07-05T15:14:16.097Z"
   },
   {
    "duration": 60,
    "start_time": "2024-07-05T15:14:22.027Z"
   },
   {
    "duration": 139,
    "start_time": "2024-07-05T15:14:24.486Z"
   },
   {
    "duration": 96,
    "start_time": "2024-07-05T15:17:22.313Z"
   },
   {
    "duration": 100,
    "start_time": "2024-07-05T15:19:53.118Z"
   },
   {
    "duration": 8,
    "start_time": "2024-07-05T15:20:56.405Z"
   },
   {
    "duration": 8,
    "start_time": "2024-07-05T15:21:44.282Z"
   },
   {
    "duration": 107,
    "start_time": "2024-07-05T15:22:20.361Z"
   },
   {
    "duration": 63,
    "start_time": "2024-07-05T15:23:05.838Z"
   },
   {
    "duration": 9,
    "start_time": "2024-07-05T15:23:11.930Z"
   },
   {
    "duration": 8,
    "start_time": "2024-07-05T15:23:23.928Z"
   },
   {
    "duration": 7,
    "start_time": "2024-07-05T15:23:42.211Z"
   },
   {
    "duration": 7,
    "start_time": "2024-07-05T15:23:45.998Z"
   },
   {
    "duration": 14,
    "start_time": "2024-07-05T15:23:50.727Z"
   },
   {
    "duration": 97,
    "start_time": "2024-07-05T15:25:18.795Z"
   },
   {
    "duration": 97,
    "start_time": "2024-07-05T15:25:51.828Z"
   },
   {
    "duration": 98,
    "start_time": "2024-07-05T15:26:16.806Z"
   },
   {
    "duration": 116,
    "start_time": "2024-07-05T15:26:21.224Z"
   },
   {
    "duration": 98,
    "start_time": "2024-07-05T15:26:25.537Z"
   },
   {
    "duration": 97,
    "start_time": "2024-07-05T15:27:01.128Z"
   },
   {
    "duration": 102,
    "start_time": "2024-07-05T15:27:59.414Z"
   },
   {
    "duration": 106,
    "start_time": "2024-07-05T15:28:42.865Z"
   },
   {
    "duration": 2,
    "start_time": "2024-07-05T15:31:08.596Z"
   },
   {
    "duration": 84,
    "start_time": "2024-07-05T15:31:08.600Z"
   },
   {
    "duration": 19,
    "start_time": "2024-07-05T15:31:08.685Z"
   },
   {
    "duration": 9,
    "start_time": "2024-07-05T15:31:08.705Z"
   },
   {
    "duration": 147,
    "start_time": "2024-07-05T15:31:08.715Z"
   },
   {
    "duration": 2,
    "start_time": "2024-07-05T15:31:15.237Z"
   },
   {
    "duration": 68,
    "start_time": "2024-07-05T15:31:34.594Z"
   },
   {
    "duration": 114,
    "start_time": "2024-07-05T15:31:41.042Z"
   },
   {
    "duration": 109,
    "start_time": "2024-07-05T15:32:04.573Z"
   },
   {
    "duration": 105,
    "start_time": "2024-07-05T15:32:16.750Z"
   },
   {
    "duration": 8,
    "start_time": "2024-07-05T15:32:42.871Z"
   },
   {
    "duration": 109,
    "start_time": "2024-07-05T15:32:54.988Z"
   },
   {
    "duration": 2,
    "start_time": "2024-07-05T15:33:38.396Z"
   },
   {
    "duration": 170,
    "start_time": "2024-07-05T15:33:38.399Z"
   },
   {
    "duration": 17,
    "start_time": "2024-07-05T15:33:38.571Z"
   },
   {
    "duration": 9,
    "start_time": "2024-07-05T15:33:38.589Z"
   },
   {
    "duration": 104,
    "start_time": "2024-07-05T15:33:42.027Z"
   },
   {
    "duration": 2,
    "start_time": "2024-07-05T15:35:36.420Z"
   },
   {
    "duration": 78,
    "start_time": "2024-07-05T15:35:37.500Z"
   },
   {
    "duration": 19,
    "start_time": "2024-07-05T15:35:38.812Z"
   },
   {
    "duration": 10,
    "start_time": "2024-07-05T15:35:39.596Z"
   },
   {
    "duration": 112,
    "start_time": "2024-07-05T15:35:41.324Z"
   },
   {
    "duration": 101,
    "start_time": "2024-07-05T15:36:41.460Z"
   },
   {
    "duration": 3,
    "start_time": "2024-07-05T15:37:28.811Z"
   },
   {
    "duration": 98,
    "start_time": "2024-07-05T15:37:29.630Z"
   },
   {
    "duration": 28,
    "start_time": "2024-07-05T15:37:30.817Z"
   },
   {
    "duration": 13,
    "start_time": "2024-07-05T15:37:31.539Z"
   },
   {
    "duration": 106,
    "start_time": "2024-07-05T15:37:32.835Z"
   },
   {
    "duration": 1052,
    "start_time": "2024-07-05T15:38:07.888Z"
   },
   {
    "duration": 96,
    "start_time": "2024-07-05T15:38:08.941Z"
   },
   {
    "duration": 26,
    "start_time": "2024-07-05T15:38:09.039Z"
   },
   {
    "duration": 12,
    "start_time": "2024-07-05T15:38:09.067Z"
   },
   {
    "duration": 136,
    "start_time": "2024-07-05T15:38:09.081Z"
   },
   {
    "duration": 93,
    "start_time": "2024-07-05T15:40:11.702Z"
   },
   {
    "duration": 90,
    "start_time": "2024-07-05T15:41:40.048Z"
   },
   {
    "duration": 9,
    "start_time": "2024-07-05T15:42:12.583Z"
   },
   {
    "duration": 14,
    "start_time": "2024-07-05T15:42:25.495Z"
   },
   {
    "duration": 9,
    "start_time": "2024-07-05T15:42:42.012Z"
   },
   {
    "duration": 10,
    "start_time": "2024-07-05T15:42:52.221Z"
   },
   {
    "duration": 91,
    "start_time": "2024-07-05T15:50:15.722Z"
   },
   {
    "duration": 16,
    "start_time": "2024-07-05T15:50:25.187Z"
   },
   {
    "duration": 12,
    "start_time": "2024-07-05T15:50:50.773Z"
   },
   {
    "duration": 108,
    "start_time": "2024-07-05T15:53:10.783Z"
   },
   {
    "duration": 130,
    "start_time": "2024-07-05T15:54:53.580Z"
   },
   {
    "duration": 117,
    "start_time": "2024-07-05T15:55:00.241Z"
   },
   {
    "duration": 118,
    "start_time": "2024-07-05T15:55:15.800Z"
   },
   {
    "duration": 118,
    "start_time": "2024-07-05T15:55:27.237Z"
   },
   {
    "duration": 124,
    "start_time": "2024-07-05T15:57:08.806Z"
   },
   {
    "duration": 116,
    "start_time": "2024-07-05T15:57:19.531Z"
   },
   {
    "duration": 116,
    "start_time": "2024-07-05T15:57:56.004Z"
   },
   {
    "duration": 115,
    "start_time": "2024-07-05T15:58:02.153Z"
   },
   {
    "duration": 175,
    "start_time": "2024-07-05T16:01:50.837Z"
   },
   {
    "duration": 117,
    "start_time": "2024-07-05T16:02:02.636Z"
   },
   {
    "duration": 114,
    "start_time": "2024-07-05T16:02:36.019Z"
   },
   {
    "duration": 125,
    "start_time": "2024-07-05T16:02:46.499Z"
   },
   {
    "duration": 142,
    "start_time": "2024-07-05T16:02:51.137Z"
   },
   {
    "duration": 119,
    "start_time": "2024-07-05T16:03:26.420Z"
   },
   {
    "duration": 120,
    "start_time": "2024-07-05T16:03:46.965Z"
   },
   {
    "duration": 130,
    "start_time": "2024-07-05T16:04:04.428Z"
   },
   {
    "duration": 95,
    "start_time": "2024-07-05T16:13:48.103Z"
   },
   {
    "duration": 94,
    "start_time": "2024-07-05T16:13:51.365Z"
   },
   {
    "duration": 8,
    "start_time": "2024-07-05T16:14:59.371Z"
   },
   {
    "duration": 12,
    "start_time": "2024-07-05T16:15:11.997Z"
   },
   {
    "duration": 100,
    "start_time": "2024-07-05T16:17:34.882Z"
   },
   {
    "duration": 98,
    "start_time": "2024-07-05T16:19:53.414Z"
   },
   {
    "duration": 101,
    "start_time": "2024-07-05T16:20:03.578Z"
   },
   {
    "duration": 147,
    "start_time": "2024-07-05T16:20:07.189Z"
   },
   {
    "duration": 5,
    "start_time": "2024-07-05T16:32:03.135Z"
   },
   {
    "duration": 9,
    "start_time": "2024-07-05T16:32:06.789Z"
   },
   {
    "duration": 98,
    "start_time": "2024-07-05T16:36:36.192Z"
   },
   {
    "duration": 95,
    "start_time": "2024-07-05T16:39:34.898Z"
   },
   {
    "duration": 179,
    "start_time": "2024-07-05T16:39:46.462Z"
   },
   {
    "duration": 136,
    "start_time": "2024-07-05T16:39:52.931Z"
   },
   {
    "duration": 103,
    "start_time": "2024-07-05T16:44:40.369Z"
   },
   {
    "duration": 155,
    "start_time": "2024-07-05T16:44:45.567Z"
   },
   {
    "duration": 139,
    "start_time": "2024-07-05T17:33:54.125Z"
   },
   {
    "duration": 21,
    "start_time": "2024-07-05T17:43:40.764Z"
   },
   {
    "duration": 21,
    "start_time": "2024-07-05T17:44:26.432Z"
   },
   {
    "duration": 52,
    "start_time": "2024-07-05T17:44:54.813Z"
   },
   {
    "duration": 95,
    "start_time": "2024-07-05T17:44:54.866Z"
   },
   {
    "duration": 19,
    "start_time": "2024-07-05T17:44:54.963Z"
   },
   {
    "duration": 10,
    "start_time": "2024-07-05T17:44:54.983Z"
   },
   {
    "duration": 141,
    "start_time": "2024-07-05T17:44:54.994Z"
   },
   {
    "duration": 13,
    "start_time": "2024-07-05T17:44:55.136Z"
   },
   {
    "duration": 211,
    "start_time": "2024-07-05T17:44:55.151Z"
   },
   {
    "duration": 104,
    "start_time": "2024-07-05T17:44:55.371Z"
   },
   {
    "duration": 116,
    "start_time": "2024-07-05T17:44:55.477Z"
   },
   {
    "duration": 147,
    "start_time": "2024-07-05T17:44:55.595Z"
   },
   {
    "duration": 143,
    "start_time": "2024-07-05T17:44:57.652Z"
   },
   {
    "duration": 26,
    "start_time": "2024-07-05T17:44:58.354Z"
   },
   {
    "duration": 202,
    "start_time": "2024-07-05T17:45:53.738Z"
   },
   {
    "duration": 201,
    "start_time": "2024-07-05T17:46:12.233Z"
   },
   {
    "duration": 211,
    "start_time": "2024-07-05T17:46:27.811Z"
   },
   {
    "duration": 68,
    "start_time": "2024-07-05T17:48:29.158Z"
   },
   {
    "duration": 212,
    "start_time": "2024-07-05T17:49:49.952Z"
   },
   {
    "duration": 26,
    "start_time": "2024-07-05T17:53:03.395Z"
   },
   {
    "duration": 28,
    "start_time": "2024-07-05T17:55:09.879Z"
   },
   {
    "duration": 29,
    "start_time": "2024-07-05T17:55:18.346Z"
   },
   {
    "duration": 21,
    "start_time": "2024-07-05T17:55:34.010Z"
   },
   {
    "duration": 64,
    "start_time": "2024-07-05T17:59:08.591Z"
   },
   {
    "duration": 10,
    "start_time": "2024-07-05T17:59:14.308Z"
   },
   {
    "duration": 9,
    "start_time": "2024-07-05T17:59:19.978Z"
   },
   {
    "duration": 18,
    "start_time": "2024-07-05T17:59:31.503Z"
   },
   {
    "duration": 17,
    "start_time": "2024-07-05T17:59:35.966Z"
   },
   {
    "duration": 12,
    "start_time": "2024-07-05T17:59:41.004Z"
   },
   {
    "duration": 7,
    "start_time": "2024-07-05T17:59:55.773Z"
   },
   {
    "duration": 15,
    "start_time": "2024-07-05T18:00:03.727Z"
   },
   {
    "duration": 112,
    "start_time": "2024-07-05T18:00:12.266Z"
   },
   {
    "duration": 137,
    "start_time": "2024-07-05T18:01:51.693Z"
   },
   {
    "duration": 61,
    "start_time": "2024-07-05T18:01:56.452Z"
   },
   {
    "duration": 63,
    "start_time": "2024-07-05T18:02:02.248Z"
   },
   {
    "duration": 72,
    "start_time": "2024-07-05T18:02:14.368Z"
   },
   {
    "duration": 68,
    "start_time": "2024-07-05T18:02:26.351Z"
   },
   {
    "duration": 14,
    "start_time": "2024-07-05T18:07:29.416Z"
   },
   {
    "duration": 15,
    "start_time": "2024-07-05T18:07:39.555Z"
   },
   {
    "duration": 123,
    "start_time": "2024-07-05T18:07:47.857Z"
   },
   {
    "duration": 107,
    "start_time": "2024-07-05T18:08:54.724Z"
   },
   {
    "duration": 75,
    "start_time": "2024-07-05T18:15:29.693Z"
   },
   {
    "duration": 489,
    "start_time": "2024-07-05T18:16:17.299Z"
   },
   {
    "duration": 132,
    "start_time": "2024-07-05T18:17:08.313Z"
   },
   {
    "duration": 254,
    "start_time": "2024-07-05T18:17:25.200Z"
   },
   {
    "duration": 102,
    "start_time": "2024-07-05T18:18:13.101Z"
   },
   {
    "duration": 113,
    "start_time": "2024-07-05T18:24:56.918Z"
   },
   {
    "duration": 146,
    "start_time": "2024-07-05T18:25:05.947Z"
   },
   {
    "duration": 101,
    "start_time": "2024-07-05T18:25:44.462Z"
   },
   {
    "duration": 8,
    "start_time": "2024-07-05T18:25:55.260Z"
   },
   {
    "duration": 102,
    "start_time": "2024-07-05T18:25:57.867Z"
   },
   {
    "duration": 38,
    "start_time": "2024-07-05T18:26:13.099Z"
   },
   {
    "duration": 103,
    "start_time": "2024-07-05T18:26:15.487Z"
   },
   {
    "duration": 118,
    "start_time": "2024-07-05T18:26:17.999Z"
   },
   {
    "duration": 26,
    "start_time": "2024-07-05T18:26:36.360Z"
   },
   {
    "duration": 25,
    "start_time": "2024-07-05T18:27:00.445Z"
   },
   {
    "duration": 7,
    "start_time": "2024-07-05T18:30:34.248Z"
   },
   {
    "duration": 18,
    "start_time": "2024-07-05T18:30:38.724Z"
   },
   {
    "duration": 597,
    "start_time": "2024-07-05T18:30:52.454Z"
   },
   {
    "duration": 253,
    "start_time": "2024-07-05T18:32:07.080Z"
   },
   {
    "duration": 254,
    "start_time": "2024-07-05T18:32:18.042Z"
   },
   {
    "duration": 563,
    "start_time": "2024-07-05T18:32:32.866Z"
   },
   {
    "duration": 52,
    "start_time": "2024-07-06T12:26:13.292Z"
   },
   {
    "duration": 1215,
    "start_time": "2024-07-06T12:26:16.771Z"
   },
   {
    "duration": 233,
    "start_time": "2024-07-06T12:26:17.988Z"
   },
   {
    "duration": 19,
    "start_time": "2024-07-06T12:26:18.223Z"
   },
   {
    "duration": 9,
    "start_time": "2024-07-06T12:26:18.244Z"
   },
   {
    "duration": 165,
    "start_time": "2024-07-06T12:26:18.255Z"
   },
   {
    "duration": 12,
    "start_time": "2024-07-06T12:26:18.421Z"
   },
   {
    "duration": 139,
    "start_time": "2024-07-06T12:26:18.434Z"
   },
   {
    "duration": 107,
    "start_time": "2024-07-06T12:26:18.574Z"
   },
   {
    "duration": 115,
    "start_time": "2024-07-06T12:26:18.683Z"
   },
   {
    "duration": 153,
    "start_time": "2024-07-06T12:26:18.800Z"
   },
   {
    "duration": 218,
    "start_time": "2024-07-06T12:26:18.955Z"
   },
   {
    "duration": 47,
    "start_time": "2024-07-06T12:26:19.174Z"
   },
   {
    "duration": 130,
    "start_time": "2024-07-06T12:26:19.222Z"
   },
   {
    "duration": 162,
    "start_time": "2024-07-06T12:26:19.354Z"
   },
   {
    "duration": 526,
    "start_time": "2024-07-06T12:26:19.518Z"
   },
   {
    "duration": 70,
    "start_time": "2024-07-06T12:26:20.045Z"
   },
   {
    "duration": 36,
    "start_time": "2024-07-06T12:26:28.945Z"
   },
   {
    "duration": 32,
    "start_time": "2024-07-06T12:27:11.762Z"
   },
   {
    "duration": 74,
    "start_time": "2024-07-06T12:30:56.859Z"
   },
   {
    "duration": 8,
    "start_time": "2024-07-06T12:31:10.187Z"
   },
   {
    "duration": 14,
    "start_time": "2024-07-06T12:32:31.877Z"
   },
   {
    "duration": 39,
    "start_time": "2024-07-06T12:34:24.986Z"
   },
   {
    "duration": 3,
    "start_time": "2024-07-06T12:35:55.547Z"
   },
   {
    "duration": 114,
    "start_time": "2024-07-06T12:35:55.553Z"
   },
   {
    "duration": 19,
    "start_time": "2024-07-06T12:35:55.669Z"
   },
   {
    "duration": 24,
    "start_time": "2024-07-06T12:35:55.690Z"
   },
   {
    "duration": 135,
    "start_time": "2024-07-06T12:35:55.715Z"
   },
   {
    "duration": 11,
    "start_time": "2024-07-06T12:35:55.852Z"
   },
   {
    "duration": 138,
    "start_time": "2024-07-06T12:35:55.864Z"
   },
   {
    "duration": 109,
    "start_time": "2024-07-06T12:35:56.003Z"
   },
   {
    "duration": 107,
    "start_time": "2024-07-06T12:35:56.113Z"
   },
   {
    "duration": 149,
    "start_time": "2024-07-06T12:35:56.223Z"
   },
   {
    "duration": 215,
    "start_time": "2024-07-06T12:35:56.373Z"
   },
   {
    "duration": 44,
    "start_time": "2024-07-06T12:35:56.590Z"
   },
   {
    "duration": 189,
    "start_time": "2024-07-06T12:35:56.636Z"
   },
   {
    "duration": 120,
    "start_time": "2024-07-06T12:35:56.827Z"
   },
   {
    "duration": 512,
    "start_time": "2024-07-06T12:35:56.949Z"
   },
   {
    "duration": 51,
    "start_time": "2024-07-06T12:35:57.462Z"
   },
   {
    "duration": 13,
    "start_time": "2024-07-06T12:40:10.126Z"
   },
   {
    "duration": 11,
    "start_time": "2024-07-06T12:40:33.141Z"
   },
   {
    "duration": 19,
    "start_time": "2024-07-06T12:40:46.321Z"
   },
   {
    "duration": 3,
    "start_time": "2024-07-06T12:42:25.649Z"
   },
   {
    "duration": 3,
    "start_time": "2024-07-06T12:42:28.396Z"
   },
   {
    "duration": 105,
    "start_time": "2024-07-06T12:42:28.401Z"
   },
   {
    "duration": 18,
    "start_time": "2024-07-06T12:42:28.507Z"
   },
   {
    "duration": 9,
    "start_time": "2024-07-06T12:42:28.526Z"
   },
   {
    "duration": 136,
    "start_time": "2024-07-06T12:42:28.536Z"
   },
   {
    "duration": 11,
    "start_time": "2024-07-06T12:42:28.673Z"
   },
   {
    "duration": 144,
    "start_time": "2024-07-06T12:42:28.685Z"
   },
   {
    "duration": 113,
    "start_time": "2024-07-06T12:42:28.831Z"
   },
   {
    "duration": 109,
    "start_time": "2024-07-06T12:42:28.946Z"
   },
   {
    "duration": 155,
    "start_time": "2024-07-06T12:42:29.057Z"
   },
   {
    "duration": 290,
    "start_time": "2024-07-06T12:42:29.213Z"
   },
   {
    "duration": 49,
    "start_time": "2024-07-06T12:42:29.504Z"
   },
   {
    "duration": 120,
    "start_time": "2024-07-06T12:42:29.555Z"
   },
   {
    "duration": 119,
    "start_time": "2024-07-06T12:42:29.678Z"
   },
   {
    "duration": 522,
    "start_time": "2024-07-06T12:42:29.799Z"
   },
   {
    "duration": 37,
    "start_time": "2024-07-06T12:42:30.322Z"
   },
   {
    "duration": 51,
    "start_time": "2024-07-06T12:42:30.360Z"
   },
   {
    "duration": 105,
    "start_time": "2024-07-06T12:43:58.138Z"
   },
   {
    "duration": 740,
    "start_time": "2024-07-06T12:44:40.628Z"
   },
   {
    "duration": 7,
    "start_time": "2024-07-06T12:45:48.809Z"
   },
   {
    "duration": 3,
    "start_time": "2024-07-06T12:46:21.087Z"
   },
   {
    "duration": 96,
    "start_time": "2024-07-06T12:46:21.092Z"
   },
   {
    "duration": 18,
    "start_time": "2024-07-06T12:46:21.190Z"
   },
   {
    "duration": 10,
    "start_time": "2024-07-06T12:46:21.209Z"
   },
   {
    "duration": 134,
    "start_time": "2024-07-06T12:46:21.220Z"
   },
   {
    "duration": 11,
    "start_time": "2024-07-06T12:46:21.355Z"
   },
   {
    "duration": 142,
    "start_time": "2024-07-06T12:46:21.367Z"
   },
   {
    "duration": 170,
    "start_time": "2024-07-06T12:46:21.512Z"
   },
   {
    "duration": 113,
    "start_time": "2024-07-06T12:46:21.683Z"
   },
   {
    "duration": 152,
    "start_time": "2024-07-06T12:46:21.798Z"
   },
   {
    "duration": 231,
    "start_time": "2024-07-06T12:46:21.952Z"
   },
   {
    "duration": 40,
    "start_time": "2024-07-06T12:46:22.184Z"
   },
   {
    "duration": 110,
    "start_time": "2024-07-06T12:46:22.226Z"
   },
   {
    "duration": 111,
    "start_time": "2024-07-06T12:46:22.337Z"
   },
   {
    "duration": 514,
    "start_time": "2024-07-06T12:46:22.450Z"
   },
   {
    "duration": 36,
    "start_time": "2024-07-06T12:46:22.965Z"
   },
   {
    "duration": 19,
    "start_time": "2024-07-06T12:46:23.002Z"
   },
   {
    "duration": 17,
    "start_time": "2024-07-06T12:46:29.532Z"
   },
   {
    "duration": 40,
    "start_time": "2024-07-06T12:47:37.083Z"
   },
   {
    "duration": 21,
    "start_time": "2024-07-06T12:47:38.114Z"
   },
   {
    "duration": 29,
    "start_time": "2024-07-06T12:49:36.190Z"
   },
   {
    "duration": 29,
    "start_time": "2024-07-06T12:56:07.221Z"
   },
   {
    "duration": 79,
    "start_time": "2024-07-06T12:57:00.366Z"
   },
   {
    "duration": 103,
    "start_time": "2024-07-06T12:57:26.942Z"
   },
   {
    "duration": 19,
    "start_time": "2024-07-06T12:57:36.460Z"
   },
   {
    "duration": 18,
    "start_time": "2024-07-06T12:57:39.620Z"
   },
   {
    "duration": 27,
    "start_time": "2024-07-06T12:57:45.122Z"
   },
   {
    "duration": 3,
    "start_time": "2024-07-06T12:57:51.941Z"
   },
   {
    "duration": 121,
    "start_time": "2024-07-06T12:57:51.946Z"
   },
   {
    "duration": 19,
    "start_time": "2024-07-06T12:57:52.069Z"
   },
   {
    "duration": 36,
    "start_time": "2024-07-06T12:57:52.089Z"
   },
   {
    "duration": 129,
    "start_time": "2024-07-06T12:57:52.127Z"
   },
   {
    "duration": 11,
    "start_time": "2024-07-06T12:57:52.257Z"
   },
   {
    "duration": 136,
    "start_time": "2024-07-06T12:57:52.269Z"
   },
   {
    "duration": 102,
    "start_time": "2024-07-06T12:57:52.411Z"
   },
   {
    "duration": 111,
    "start_time": "2024-07-06T12:57:52.516Z"
   },
   {
    "duration": 147,
    "start_time": "2024-07-06T12:57:52.628Z"
   },
   {
    "duration": 207,
    "start_time": "2024-07-06T12:57:52.776Z"
   },
   {
    "duration": 33,
    "start_time": "2024-07-06T12:57:52.985Z"
   },
   {
    "duration": 112,
    "start_time": "2024-07-06T12:57:53.019Z"
   },
   {
    "duration": 118,
    "start_time": "2024-07-06T12:57:53.133Z"
   },
   {
    "duration": 585,
    "start_time": "2024-07-06T12:57:53.253Z"
   },
   {
    "duration": 19,
    "start_time": "2024-07-06T12:57:53.839Z"
   },
   {
    "duration": 14,
    "start_time": "2024-07-06T12:57:53.860Z"
   },
   {
    "duration": 20,
    "start_time": "2024-07-06T12:58:11.041Z"
   },
   {
    "duration": 22,
    "start_time": "2024-07-06T12:59:10.161Z"
   },
   {
    "duration": 26,
    "start_time": "2024-07-06T12:59:15.167Z"
   },
   {
    "duration": 45,
    "start_time": "2024-07-06T12:59:28.815Z"
   },
   {
    "duration": 36,
    "start_time": "2024-07-06T13:04:15.207Z"
   },
   {
    "duration": 26,
    "start_time": "2024-07-06T13:04:38.414Z"
   },
   {
    "duration": 45,
    "start_time": "2024-07-06T13:04:50.010Z"
   },
   {
    "duration": 23,
    "start_time": "2024-07-06T13:21:59.535Z"
   },
   {
    "duration": 24,
    "start_time": "2024-07-06T13:22:20.564Z"
   },
   {
    "duration": 1019,
    "start_time": "2024-07-06T13:25:01.789Z"
   },
   {
    "duration": 1052,
    "start_time": "2024-07-06T13:25:19.492Z"
   },
   {
    "duration": 15,
    "start_time": "2024-07-06T13:26:34.152Z"
   },
   {
    "duration": 957,
    "start_time": "2024-07-06T13:26:58.598Z"
   },
   {
    "duration": 1002,
    "start_time": "2024-07-06T13:27:07.967Z"
   },
   {
    "duration": 36,
    "start_time": "2024-07-06T13:27:30.083Z"
   },
   {
    "duration": 25,
    "start_time": "2024-07-06T13:30:11.590Z"
   },
   {
    "duration": 22,
    "start_time": "2024-07-06T13:31:15.806Z"
   },
   {
    "duration": 20,
    "start_time": "2024-07-06T13:32:37.506Z"
   },
   {
    "duration": 52,
    "start_time": "2024-07-06T13:33:03.631Z"
   },
   {
    "duration": 21,
    "start_time": "2024-07-06T13:33:07.571Z"
   },
   {
    "duration": 23,
    "start_time": "2024-07-06T13:33:17.154Z"
   },
   {
    "duration": 28,
    "start_time": "2024-07-06T13:37:20.485Z"
   },
   {
    "duration": 31,
    "start_time": "2024-07-06T13:37:30.474Z"
   },
   {
    "duration": 49,
    "start_time": "2024-07-06T13:37:50.057Z"
   },
   {
    "duration": 46,
    "start_time": "2024-07-06T13:39:24.449Z"
   },
   {
    "duration": 22,
    "start_time": "2024-07-06T13:41:28.443Z"
   },
   {
    "duration": 23,
    "start_time": "2024-07-06T13:43:52.588Z"
   },
   {
    "duration": 32,
    "start_time": "2024-07-06T13:43:59.285Z"
   },
   {
    "duration": 23,
    "start_time": "2024-07-06T13:53:10.687Z"
   },
   {
    "duration": 1014,
    "start_time": "2024-07-06T14:04:17.323Z"
   },
   {
    "duration": 23,
    "start_time": "2024-07-06T14:05:19.319Z"
   },
   {
    "duration": 960,
    "start_time": "2024-07-06T14:05:28.482Z"
   },
   {
    "duration": 1007,
    "start_time": "2024-07-06T14:06:00.861Z"
   },
   {
    "duration": 35,
    "start_time": "2024-07-06T14:06:36.569Z"
   },
   {
    "duration": 43,
    "start_time": "2024-07-06T14:06:53.590Z"
   },
   {
    "duration": 25,
    "start_time": "2024-07-06T14:09:24.454Z"
   },
   {
    "duration": 33,
    "start_time": "2024-07-06T14:09:28.793Z"
   },
   {
    "duration": 8,
    "start_time": "2024-07-06T14:12:53.383Z"
   },
   {
    "duration": 71,
    "start_time": "2024-07-06T14:13:29.616Z"
   },
   {
    "duration": 15,
    "start_time": "2024-07-06T14:13:40.221Z"
   },
   {
    "duration": 54,
    "start_time": "2024-07-06T14:17:44.019Z"
   },
   {
    "duration": 93,
    "start_time": "2024-07-06T14:19:45.731Z"
   },
   {
    "duration": 20,
    "start_time": "2024-07-06T14:21:18.179Z"
   },
   {
    "duration": 21,
    "start_time": "2024-07-06T14:21:29.844Z"
   },
   {
    "duration": 41,
    "start_time": "2024-07-06T14:39:35.092Z"
   },
   {
    "duration": 39,
    "start_time": "2024-07-06T14:42:53.431Z"
   },
   {
    "duration": 15,
    "start_time": "2024-07-06T14:43:42.214Z"
   },
   {
    "duration": 14,
    "start_time": "2024-07-06T14:43:55.038Z"
   },
   {
    "duration": 12,
    "start_time": "2024-07-06T14:44:29.390Z"
   },
   {
    "duration": 17,
    "start_time": "2024-07-06T14:44:44.897Z"
   },
   {
    "duration": 21,
    "start_time": "2024-07-06T14:46:02.317Z"
   },
   {
    "duration": 27,
    "start_time": "2024-07-06T14:46:47.631Z"
   },
   {
    "duration": 77,
    "start_time": "2024-07-06T14:47:15.210Z"
   },
   {
    "duration": 55,
    "start_time": "2024-07-06T14:47:26.848Z"
   },
   {
    "duration": 181,
    "start_time": "2024-07-06T14:47:30.653Z"
   },
   {
    "duration": 18,
    "start_time": "2024-07-06T14:47:48.809Z"
   },
   {
    "duration": 18,
    "start_time": "2024-07-06T14:49:02.600Z"
   },
   {
    "duration": 19,
    "start_time": "2024-07-06T14:49:17.288Z"
   },
   {
    "duration": 60,
    "start_time": "2024-07-06T14:51:03.570Z"
   },
   {
    "duration": 19,
    "start_time": "2024-07-06T14:51:11.749Z"
   },
   {
    "duration": 24,
    "start_time": "2024-07-06T14:51:53.103Z"
   },
   {
    "duration": 19,
    "start_time": "2024-07-06T14:53:36.263Z"
   },
   {
    "duration": 23,
    "start_time": "2024-07-06T14:54:09.977Z"
   },
   {
    "duration": 20,
    "start_time": "2024-07-06T14:54:17.566Z"
   },
   {
    "duration": 20,
    "start_time": "2024-07-06T14:54:25.314Z"
   },
   {
    "duration": 20,
    "start_time": "2024-07-06T14:54:30.976Z"
   },
   {
    "duration": 73,
    "start_time": "2024-07-06T15:00:22.766Z"
   },
   {
    "duration": 20,
    "start_time": "2024-07-06T15:00:26.254Z"
   },
   {
    "duration": 4,
    "start_time": "2024-07-06T15:11:21.135Z"
   },
   {
    "duration": 5,
    "start_time": "2024-07-06T15:12:37.426Z"
   },
   {
    "duration": 26,
    "start_time": "2024-07-06T15:14:06.025Z"
   },
   {
    "duration": 6,
    "start_time": "2024-07-06T15:14:47.640Z"
   },
   {
    "duration": 5,
    "start_time": "2024-07-06T15:14:56.135Z"
   },
   {
    "duration": 6,
    "start_time": "2024-07-06T15:14:59.398Z"
   },
   {
    "duration": 6,
    "start_time": "2024-07-06T15:15:03.244Z"
   },
   {
    "duration": 6,
    "start_time": "2024-07-06T15:15:21.006Z"
   },
   {
    "duration": 6,
    "start_time": "2024-07-06T15:15:33.589Z"
   },
   {
    "duration": 5,
    "start_time": "2024-07-06T15:21:44.858Z"
   },
   {
    "duration": 5,
    "start_time": "2024-07-06T15:25:12.893Z"
   },
   {
    "duration": 6,
    "start_time": "2024-07-06T15:26:09.766Z"
   },
   {
    "duration": 55,
    "start_time": "2024-07-06T15:34:46.554Z"
   },
   {
    "duration": 8,
    "start_time": "2024-07-06T15:34:51.183Z"
   },
   {
    "duration": 13,
    "start_time": "2024-07-06T15:35:34.710Z"
   },
   {
    "duration": 18,
    "start_time": "2024-07-06T15:36:33.693Z"
   },
   {
    "duration": 12,
    "start_time": "2024-07-06T15:36:55.029Z"
   },
   {
    "duration": 9,
    "start_time": "2024-07-06T15:38:08.760Z"
   },
   {
    "duration": 8,
    "start_time": "2024-07-06T15:38:37.161Z"
   },
   {
    "duration": 14,
    "start_time": "2024-07-06T15:38:42.461Z"
   },
   {
    "duration": 13,
    "start_time": "2024-07-06T15:39:29.398Z"
   },
   {
    "duration": 10,
    "start_time": "2024-07-06T15:39:36.418Z"
   },
   {
    "duration": 9,
    "start_time": "2024-07-06T15:39:56.905Z"
   },
   {
    "duration": 9,
    "start_time": "2024-07-06T15:40:01.280Z"
   },
   {
    "duration": 9,
    "start_time": "2024-07-06T15:40:22.663Z"
   },
   {
    "duration": 11,
    "start_time": "2024-07-06T15:41:20.084Z"
   },
   {
    "duration": 7,
    "start_time": "2024-07-06T15:41:43.354Z"
   },
   {
    "duration": 7,
    "start_time": "2024-07-06T15:42:27.858Z"
   },
   {
    "duration": 974,
    "start_time": "2024-07-06T21:45:55.462Z"
   },
   {
    "duration": 228,
    "start_time": "2024-07-06T21:45:56.437Z"
   },
   {
    "duration": 15,
    "start_time": "2024-07-06T21:45:56.666Z"
   },
   {
    "duration": 34,
    "start_time": "2024-07-06T21:45:56.683Z"
   },
   {
    "duration": 120,
    "start_time": "2024-07-06T21:45:56.718Z"
   },
   {
    "duration": 10,
    "start_time": "2024-07-06T21:45:56.839Z"
   },
   {
    "duration": 123,
    "start_time": "2024-07-06T21:45:56.850Z"
   },
   {
    "duration": 94,
    "start_time": "2024-07-06T21:45:56.974Z"
   },
   {
    "duration": 114,
    "start_time": "2024-07-06T21:45:57.069Z"
   },
   {
    "duration": 159,
    "start_time": "2024-07-06T21:45:57.185Z"
   },
   {
    "duration": 191,
    "start_time": "2024-07-06T21:45:57.345Z"
   },
   {
    "duration": 29,
    "start_time": "2024-07-06T21:45:57.537Z"
   },
   {
    "duration": 109,
    "start_time": "2024-07-06T21:45:57.567Z"
   },
   {
    "duration": 150,
    "start_time": "2024-07-06T21:45:57.678Z"
   },
   {
    "duration": 451,
    "start_time": "2024-07-06T21:45:57.829Z"
   },
   {
    "duration": 52,
    "start_time": "2024-07-06T21:45:58.282Z"
   },
   {
    "duration": 18,
    "start_time": "2024-07-06T21:45:58.335Z"
   },
   {
    "duration": 23,
    "start_time": "2024-07-06T21:45:58.354Z"
   },
   {
    "duration": 24,
    "start_time": "2024-07-06T21:45:58.378Z"
   },
   {
    "duration": 7,
    "start_time": "2024-07-06T21:45:58.403Z"
   },
   {
    "duration": 1029,
    "start_time": "2024-07-06T22:09:27.001Z"
   },
   {
    "duration": 95,
    "start_time": "2024-07-06T22:09:28.032Z"
   },
   {
    "duration": 16,
    "start_time": "2024-07-06T22:09:28.128Z"
   },
   {
    "duration": 8,
    "start_time": "2024-07-06T22:09:28.146Z"
   },
   {
    "duration": 138,
    "start_time": "2024-07-06T22:09:28.155Z"
   },
   {
    "duration": 14,
    "start_time": "2024-07-06T22:09:28.294Z"
   },
   {
    "duration": 126,
    "start_time": "2024-07-06T22:09:28.309Z"
   },
   {
    "duration": 103,
    "start_time": "2024-07-06T22:09:28.436Z"
   },
   {
    "duration": 104,
    "start_time": "2024-07-06T22:09:28.541Z"
   },
   {
    "duration": 138,
    "start_time": "2024-07-06T22:09:28.648Z"
   },
   {
    "duration": 207,
    "start_time": "2024-07-06T22:09:28.788Z"
   },
   {
    "duration": 28,
    "start_time": "2024-07-06T22:09:29.002Z"
   },
   {
    "duration": 106,
    "start_time": "2024-07-06T22:09:29.031Z"
   },
   {
    "duration": 170,
    "start_time": "2024-07-06T22:09:29.138Z"
   },
   {
    "duration": 454,
    "start_time": "2024-07-06T22:09:29.309Z"
   },
   {
    "duration": 45,
    "start_time": "2024-07-06T22:09:29.764Z"
   },
   {
    "duration": 19,
    "start_time": "2024-07-06T22:09:29.810Z"
   },
   {
    "duration": 24,
    "start_time": "2024-07-06T22:09:29.831Z"
   },
   {
    "duration": 5,
    "start_time": "2024-07-06T22:09:29.857Z"
   },
   {
    "duration": 39,
    "start_time": "2024-07-06T22:09:29.863Z"
   },
   {
    "duration": 88,
    "start_time": "2024-07-06T22:30:10.671Z"
   },
   {
    "duration": 5,
    "start_time": "2024-07-06T22:30:19.496Z"
   },
   {
    "duration": 7,
    "start_time": "2024-07-06T22:31:23.332Z"
   },
   {
    "duration": 47,
    "start_time": "2024-07-07T01:58:23.496Z"
   },
   {
    "duration": 1302,
    "start_time": "2024-07-07T01:58:42.177Z"
   },
   {
    "duration": 250,
    "start_time": "2024-07-07T01:58:43.480Z"
   },
   {
    "duration": 22,
    "start_time": "2024-07-07T01:58:43.732Z"
   },
   {
    "duration": 2,
    "start_time": "2024-07-07T01:58:43.757Z"
   },
   {
    "duration": 14,
    "start_time": "2024-07-07T01:58:43.761Z"
   },
   {
    "duration": 191,
    "start_time": "2024-07-07T01:58:43.777Z"
   },
   {
    "duration": 13,
    "start_time": "2024-07-07T01:58:43.969Z"
   },
   {
    "duration": 164,
    "start_time": "2024-07-07T01:58:43.984Z"
   },
   {
    "duration": 124,
    "start_time": "2024-07-07T01:58:44.150Z"
   },
   {
    "duration": 125,
    "start_time": "2024-07-07T01:58:44.276Z"
   },
   {
    "duration": 177,
    "start_time": "2024-07-07T01:58:44.403Z"
   },
   {
    "duration": 245,
    "start_time": "2024-07-07T01:58:44.582Z"
   },
   {
    "duration": 42,
    "start_time": "2024-07-07T01:58:44.828Z"
   },
   {
    "duration": 133,
    "start_time": "2024-07-07T01:58:44.872Z"
   },
   {
    "duration": 209,
    "start_time": "2024-07-07T01:58:45.006Z"
   },
   {
    "duration": 619,
    "start_time": "2024-07-07T01:58:45.217Z"
   },
   {
    "duration": 53,
    "start_time": "2024-07-07T01:58:45.838Z"
   },
   {
    "duration": 22,
    "start_time": "2024-07-07T01:58:45.893Z"
   },
   {
    "duration": 27,
    "start_time": "2024-07-07T01:58:45.916Z"
   },
   {
    "duration": 5,
    "start_time": "2024-07-07T01:58:45.966Z"
   },
   {
    "duration": 8,
    "start_time": "2024-07-07T01:58:45.973Z"
   },
   {
    "duration": 4,
    "start_time": "2024-07-07T01:59:01.066Z"
   },
   {
    "duration": 4,
    "start_time": "2024-07-07T01:59:19.188Z"
   },
   {
    "duration": 4,
    "start_time": "2024-07-07T01:59:42.031Z"
   },
   {
    "duration": 6,
    "start_time": "2024-07-07T02:01:01.977Z"
   },
   {
    "duration": 4,
    "start_time": "2024-07-07T02:02:37.205Z"
   },
   {
    "duration": 71,
    "start_time": "2024-07-07T02:06:17.365Z"
   },
   {
    "duration": 13,
    "start_time": "2024-07-07T02:06:31.259Z"
   },
   {
    "duration": 12,
    "start_time": "2024-07-07T02:07:01.788Z"
   },
   {
    "duration": 12,
    "start_time": "2024-07-07T02:07:21.308Z"
   },
   {
    "duration": 11,
    "start_time": "2024-07-07T02:07:43.842Z"
   },
   {
    "duration": 13,
    "start_time": "2024-07-07T02:08:45.673Z"
   },
   {
    "duration": 14,
    "start_time": "2024-07-07T02:09:01.794Z"
   },
   {
    "duration": 9,
    "start_time": "2024-07-07T02:14:26.426Z"
   },
   {
    "duration": 66,
    "start_time": "2024-07-07T02:15:32.619Z"
   },
   {
    "duration": 65,
    "start_time": "2024-07-07T02:16:01.365Z"
   },
   {
    "duration": 19,
    "start_time": "2024-07-07T02:17:59.358Z"
   },
   {
    "duration": 11,
    "start_time": "2024-07-07T02:18:13.765Z"
   },
   {
    "duration": 14,
    "start_time": "2024-07-07T02:18:26.527Z"
   },
   {
    "duration": 11,
    "start_time": "2024-07-07T02:18:41.849Z"
   },
   {
    "duration": 14,
    "start_time": "2024-07-07T02:19:15.132Z"
   },
   {
    "duration": 14,
    "start_time": "2024-07-07T02:22:20.636Z"
   },
   {
    "duration": 1042,
    "start_time": "2024-07-07T02:26:41.659Z"
   },
   {
    "duration": 1019,
    "start_time": "2024-07-07T02:26:54.985Z"
   },
   {
    "duration": 121,
    "start_time": "2024-07-07T02:27:01.422Z"
   },
   {
    "duration": 70,
    "start_time": "2024-07-07T02:29:36.592Z"
   },
   {
    "duration": 120,
    "start_time": "2024-07-07T02:29:42.775Z"
   },
   {
    "duration": 139,
    "start_time": "2024-07-07T02:30:00.291Z"
   },
   {
    "duration": 56,
    "start_time": "2024-07-07T02:30:45.649Z"
   },
   {
    "duration": 128,
    "start_time": "2024-07-07T02:31:20.730Z"
   },
   {
    "duration": 125,
    "start_time": "2024-07-07T02:31:25.769Z"
   },
   {
    "duration": 141,
    "start_time": "2024-07-07T02:33:19.805Z"
   },
   {
    "duration": 223,
    "start_time": "2024-07-07T02:34:06.017Z"
   },
   {
    "duration": 279,
    "start_time": "2024-07-07T02:34:23.005Z"
   },
   {
    "duration": 296,
    "start_time": "2024-07-07T02:34:36.052Z"
   },
   {
    "duration": 200,
    "start_time": "2024-07-07T02:34:43.960Z"
   },
   {
    "duration": 235,
    "start_time": "2024-07-07T02:37:21.125Z"
   },
   {
    "duration": 228,
    "start_time": "2024-07-07T02:37:32.709Z"
   },
   {
    "duration": 39,
    "start_time": "2024-07-07T02:42:40.012Z"
   },
   {
    "duration": 34,
    "start_time": "2024-07-07T02:42:51.051Z"
   },
   {
    "duration": 29,
    "start_time": "2024-07-07T02:43:35.910Z"
   },
   {
    "duration": 31,
    "start_time": "2024-07-07T02:44:39.434Z"
   },
   {
    "duration": 33,
    "start_time": "2024-07-07T02:44:54.583Z"
   },
   {
    "duration": 38,
    "start_time": "2024-07-07T02:44:58.515Z"
   },
   {
    "duration": 35,
    "start_time": "2024-07-07T02:45:05.573Z"
   },
   {
    "duration": 714,
    "start_time": "2024-07-07T03:06:00.552Z"
   },
   {
    "duration": 664,
    "start_time": "2024-07-07T03:07:25.764Z"
   },
   {
    "duration": 624,
    "start_time": "2024-07-07T03:10:14.840Z"
   },
   {
    "duration": 727,
    "start_time": "2024-07-07T03:10:26.595Z"
   },
   {
    "duration": 492,
    "start_time": "2024-07-07T03:11:03.885Z"
   },
   {
    "duration": 279,
    "start_time": "2024-07-07T03:15:08.586Z"
   },
   {
    "duration": 251,
    "start_time": "2024-07-07T03:15:34.448Z"
   },
   {
    "duration": 397,
    "start_time": "2024-07-07T03:16:04.379Z"
   },
   {
    "duration": 286,
    "start_time": "2024-07-07T03:16:11.140Z"
   },
   {
    "duration": 293,
    "start_time": "2024-07-07T03:16:21.090Z"
   },
   {
    "duration": 615,
    "start_time": "2024-07-07T03:19:02.545Z"
   },
   {
    "duration": 816,
    "start_time": "2024-07-07T03:19:14.537Z"
   },
   {
    "duration": 622,
    "start_time": "2024-07-07T03:19:23.258Z"
   },
   {
    "duration": 509,
    "start_time": "2024-07-07T03:20:28.456Z"
   },
   {
    "duration": 615,
    "start_time": "2024-07-07T03:20:35.962Z"
   },
   {
    "duration": 512,
    "start_time": "2024-07-07T03:22:02.442Z"
   },
   {
    "duration": 512,
    "start_time": "2024-07-07T03:22:09.116Z"
   },
   {
    "duration": 526,
    "start_time": "2024-07-07T03:27:11.820Z"
   },
   {
    "duration": 114,
    "start_time": "2024-07-07T03:27:25.085Z"
   },
   {
    "duration": 668,
    "start_time": "2024-07-07T03:27:30.521Z"
   },
   {
    "duration": 554,
    "start_time": "2024-07-07T03:28:36.817Z"
   },
   {
    "duration": 281,
    "start_time": "2024-07-07T03:29:18.000Z"
   },
   {
    "duration": 611,
    "start_time": "2024-07-07T03:29:24.259Z"
   },
   {
    "duration": 226,
    "start_time": "2024-07-07T03:32:49.623Z"
   },
   {
    "duration": 760,
    "start_time": "2024-07-07T03:32:56.532Z"
   },
   {
    "duration": 186,
    "start_time": "2024-07-07T03:34:20.777Z"
   },
   {
    "duration": 651,
    "start_time": "2024-07-07T03:36:43.860Z"
   },
   {
    "duration": 34,
    "start_time": "2024-07-07T04:21:32.935Z"
   },
   {
    "duration": 34,
    "start_time": "2024-07-07T04:21:51.608Z"
   },
   {
    "duration": 46,
    "start_time": "2024-07-07T04:22:13.068Z"
   },
   {
    "duration": 33,
    "start_time": "2024-07-07T04:23:54.411Z"
   },
   {
    "duration": 1083,
    "start_time": "2024-07-07T04:25:31.412Z"
   },
   {
    "duration": 44,
    "start_time": "2024-07-07T04:25:43.991Z"
   },
   {
    "duration": 35,
    "start_time": "2024-07-07T04:26:21.917Z"
   },
   {
    "duration": 34,
    "start_time": "2024-07-07T04:27:06.566Z"
   },
   {
    "duration": 45,
    "start_time": "2024-07-07T04:35:22.990Z"
   },
   {
    "duration": 1230,
    "start_time": "2024-07-07T04:37:59.875Z"
   },
   {
    "duration": 35,
    "start_time": "2024-07-07T04:38:25.505Z"
   },
   {
    "duration": 29,
    "start_time": "2024-07-07T04:38:33.285Z"
   },
   {
    "duration": 1089,
    "start_time": "2024-07-07T04:49:09.351Z"
   },
   {
    "duration": 986,
    "start_time": "2024-07-07T04:49:22.104Z"
   },
   {
    "duration": 20,
    "start_time": "2024-07-07T04:49:32.481Z"
   },
   {
    "duration": 6,
    "start_time": "2024-07-07T04:49:41.181Z"
   },
   {
    "duration": 7,
    "start_time": "2024-07-07T04:52:27.346Z"
   },
   {
    "duration": 31,
    "start_time": "2024-07-07T04:52:39.225Z"
   },
   {
    "duration": 40,
    "start_time": "2024-07-07T04:52:47.706Z"
   },
   {
    "duration": 37,
    "start_time": "2024-07-07T04:52:50.956Z"
   },
   {
    "duration": 37,
    "start_time": "2024-07-07T04:52:54.461Z"
   },
   {
    "duration": 26,
    "start_time": "2024-07-07T04:52:57.486Z"
   },
   {
    "duration": 1161,
    "start_time": "2024-07-07T10:10:21.718Z"
   },
   {
    "duration": 102,
    "start_time": "2024-07-07T10:10:22.880Z"
   },
   {
    "duration": 31,
    "start_time": "2024-07-07T10:10:22.984Z"
   },
   {
    "duration": 4,
    "start_time": "2024-07-07T10:10:23.018Z"
   },
   {
    "duration": 12,
    "start_time": "2024-07-07T10:10:23.024Z"
   },
   {
    "duration": 10,
    "start_time": "2024-07-07T10:10:23.038Z"
   },
   {
    "duration": 43,
    "start_time": "2024-07-07T10:10:23.050Z"
   },
   {
    "duration": 164,
    "start_time": "2024-07-07T10:10:23.094Z"
   },
   {
    "duration": 11,
    "start_time": "2024-07-07T10:10:23.260Z"
   },
   {
    "duration": 139,
    "start_time": "2024-07-07T10:10:23.273Z"
   },
   {
    "duration": 143,
    "start_time": "2024-07-07T10:10:23.413Z"
   },
   {
    "duration": 117,
    "start_time": "2024-07-07T10:10:23.558Z"
   },
   {
    "duration": 146,
    "start_time": "2024-07-07T10:10:23.676Z"
   },
   {
    "duration": 141,
    "start_time": "2024-07-07T10:10:23.823Z"
   },
   {
    "duration": 202,
    "start_time": "2024-07-07T10:10:23.966Z"
   },
   {
    "duration": 293,
    "start_time": "2024-07-07T10:10:24.170Z"
   },
   {
    "duration": 45,
    "start_time": "2024-07-07T10:10:24.465Z"
   },
   {
    "duration": 143,
    "start_time": "2024-07-07T10:10:24.512Z"
   },
   {
    "duration": 139,
    "start_time": "2024-07-07T10:10:24.657Z"
   },
   {
    "duration": 507,
    "start_time": "2024-07-07T10:10:24.797Z"
   },
   {
    "duration": 122,
    "start_time": "2024-07-07T10:10:25.306Z"
   },
   {
    "duration": 0,
    "start_time": "2024-07-07T10:10:25.430Z"
   },
   {
    "duration": 0,
    "start_time": "2024-07-07T10:10:25.432Z"
   },
   {
    "duration": 0,
    "start_time": "2024-07-07T10:10:25.433Z"
   },
   {
    "duration": 25,
    "start_time": "2024-07-07T10:10:38.559Z"
   },
   {
    "duration": 5,
    "start_time": "2024-07-07T10:10:43.762Z"
   },
   {
    "duration": 16,
    "start_time": "2024-07-07T11:40:49.546Z"
   },
   {
    "duration": 43,
    "start_time": "2024-07-08T01:07:42.209Z"
   },
   {
    "duration": 1130,
    "start_time": "2024-07-08T01:07:50.316Z"
   },
   {
    "duration": 236,
    "start_time": "2024-07-08T01:07:51.448Z"
   },
   {
    "duration": 17,
    "start_time": "2024-07-08T01:07:51.686Z"
   },
   {
    "duration": 3,
    "start_time": "2024-07-08T01:07:51.705Z"
   },
   {
    "duration": 18,
    "start_time": "2024-07-08T01:07:51.709Z"
   },
   {
    "duration": 25,
    "start_time": "2024-07-08T01:07:51.728Z"
   },
   {
    "duration": 28,
    "start_time": "2024-07-08T01:07:51.754Z"
   },
   {
    "duration": 122,
    "start_time": "2024-07-08T01:07:51.784Z"
   },
   {
    "duration": 11,
    "start_time": "2024-07-08T01:07:51.907Z"
   },
   {
    "duration": 113,
    "start_time": "2024-07-08T01:07:51.920Z"
   },
   {
    "duration": 128,
    "start_time": "2024-07-08T01:07:52.034Z"
   },
   {
    "duration": 97,
    "start_time": "2024-07-08T01:07:52.164Z"
   },
   {
    "duration": 109,
    "start_time": "2024-07-08T01:07:52.263Z"
   },
   {
    "duration": 122,
    "start_time": "2024-07-08T01:07:52.374Z"
   },
   {
    "duration": 149,
    "start_time": "2024-07-08T01:07:52.497Z"
   },
   {
    "duration": 239,
    "start_time": "2024-07-08T01:07:52.647Z"
   },
   {
    "duration": 31,
    "start_time": "2024-07-08T01:07:52.888Z"
   },
   {
    "duration": 103,
    "start_time": "2024-07-08T01:07:52.920Z"
   },
   {
    "duration": 101,
    "start_time": "2024-07-08T01:07:53.024Z"
   },
   {
    "duration": 397,
    "start_time": "2024-07-08T01:07:53.126Z"
   },
   {
    "duration": 57,
    "start_time": "2024-07-08T01:07:53.525Z"
   },
   {
    "duration": 0,
    "start_time": "2024-07-08T01:07:53.583Z"
   },
   {
    "duration": 0,
    "start_time": "2024-07-08T01:07:53.584Z"
   },
   {
    "duration": 0,
    "start_time": "2024-07-08T01:07:53.585Z"
   },
   {
    "duration": 15,
    "start_time": "2024-07-08T01:12:54.936Z"
   },
   {
    "duration": 38,
    "start_time": "2024-07-08T01:14:16.371Z"
   },
   {
    "duration": 32,
    "start_time": "2024-07-08T01:17:57.362Z"
   },
   {
    "duration": 33,
    "start_time": "2024-07-08T01:18:03.952Z"
   },
   {
    "duration": 8,
    "start_time": "2024-07-08T01:23:12.761Z"
   },
   {
    "duration": 3,
    "start_time": "2024-07-08T01:23:16.593Z"
   },
   {
    "duration": 99,
    "start_time": "2024-07-08T01:23:16.598Z"
   },
   {
    "duration": 16,
    "start_time": "2024-07-08T01:23:16.698Z"
   },
   {
    "duration": 3,
    "start_time": "2024-07-08T01:23:16.715Z"
   },
   {
    "duration": 13,
    "start_time": "2024-07-08T01:23:16.720Z"
   },
   {
    "duration": 15,
    "start_time": "2024-07-08T01:23:16.735Z"
   },
   {
    "duration": 12,
    "start_time": "2024-07-08T01:23:16.752Z"
   },
   {
    "duration": 122,
    "start_time": "2024-07-08T01:23:16.765Z"
   },
   {
    "duration": 20,
    "start_time": "2024-07-08T01:23:16.890Z"
   },
   {
    "duration": 110,
    "start_time": "2024-07-08T01:23:16.911Z"
   },
   {
    "duration": 111,
    "start_time": "2024-07-08T01:23:17.022Z"
   },
   {
    "duration": 119,
    "start_time": "2024-07-08T01:23:17.135Z"
   },
   {
    "duration": 103,
    "start_time": "2024-07-08T01:23:17.255Z"
   },
   {
    "duration": 168,
    "start_time": "2024-07-08T01:23:17.360Z"
   },
   {
    "duration": 170,
    "start_time": "2024-07-08T01:23:17.529Z"
   },
   {
    "duration": 190,
    "start_time": "2024-07-08T01:23:17.700Z"
   },
   {
    "duration": 38,
    "start_time": "2024-07-08T01:23:17.891Z"
   },
   {
    "duration": 105,
    "start_time": "2024-07-08T01:23:17.930Z"
   },
   {
    "duration": 106,
    "start_time": "2024-07-08T01:23:18.037Z"
   },
   {
    "duration": 380,
    "start_time": "2024-07-08T01:23:18.145Z"
   },
   {
    "duration": 35,
    "start_time": "2024-07-08T01:23:18.527Z"
   },
   {
    "duration": 42,
    "start_time": "2024-07-08T01:23:18.563Z"
   },
   {
    "duration": 5,
    "start_time": "2024-07-08T01:23:18.606Z"
   },
   {
    "duration": 20,
    "start_time": "2024-07-08T01:23:18.614Z"
   },
   {
    "duration": 37,
    "start_time": "2024-07-08T01:27:02.895Z"
   },
   {
    "duration": 10,
    "start_time": "2024-07-08T01:28:42.966Z"
   },
   {
    "duration": 3,
    "start_time": "2024-07-08T01:28:52.321Z"
   },
   {
    "duration": 104,
    "start_time": "2024-07-08T01:28:52.326Z"
   },
   {
    "duration": 17,
    "start_time": "2024-07-08T01:28:52.431Z"
   },
   {
    "duration": 3,
    "start_time": "2024-07-08T01:28:52.449Z"
   },
   {
    "duration": 19,
    "start_time": "2024-07-08T01:28:52.453Z"
   },
   {
    "duration": 8,
    "start_time": "2024-07-08T01:28:52.473Z"
   },
   {
    "duration": 11,
    "start_time": "2024-07-08T01:28:52.502Z"
   },
   {
    "duration": 134,
    "start_time": "2024-07-08T01:28:52.514Z"
   },
   {
    "duration": 11,
    "start_time": "2024-07-08T01:28:52.649Z"
   },
   {
    "duration": 113,
    "start_time": "2024-07-08T01:28:52.662Z"
   },
   {
    "duration": 188,
    "start_time": "2024-07-08T01:28:52.777Z"
   },
   {
    "duration": 94,
    "start_time": "2024-07-08T01:28:52.966Z"
   },
   {
    "duration": 120,
    "start_time": "2024-07-08T01:28:53.062Z"
   },
   {
    "duration": 112,
    "start_time": "2024-07-08T01:28:53.183Z"
   },
   {
    "duration": 143,
    "start_time": "2024-07-08T01:28:53.301Z"
   },
   {
    "duration": 194,
    "start_time": "2024-07-08T01:28:53.446Z"
   },
   {
    "duration": 33,
    "start_time": "2024-07-08T01:28:53.642Z"
   },
   {
    "duration": 114,
    "start_time": "2024-07-08T01:28:53.676Z"
   },
   {
    "duration": 98,
    "start_time": "2024-07-08T01:28:53.791Z"
   },
   {
    "duration": 452,
    "start_time": "2024-07-08T01:28:53.891Z"
   },
   {
    "duration": 36,
    "start_time": "2024-07-08T01:28:54.344Z"
   },
   {
    "duration": 37,
    "start_time": "2024-07-08T01:28:54.381Z"
   },
   {
    "duration": 8,
    "start_time": "2024-07-08T01:28:54.419Z"
   },
   {
    "duration": 12,
    "start_time": "2024-07-08T01:28:54.428Z"
   },
   {
    "duration": 10,
    "start_time": "2024-07-08T01:30:14.778Z"
   },
   {
    "duration": 11,
    "start_time": "2024-07-08T01:32:18.204Z"
   },
   {
    "duration": 38,
    "start_time": "2024-07-08T01:33:40.916Z"
   },
   {
    "duration": 30,
    "start_time": "2024-07-08T01:33:47.218Z"
   },
   {
    "duration": 19,
    "start_time": "2024-07-08T01:35:20.890Z"
   },
   {
    "duration": 20,
    "start_time": "2024-07-08T01:35:54.151Z"
   },
   {
    "duration": 1280,
    "start_time": "2024-07-08T10:36:40.248Z"
   },
   {
    "duration": 343,
    "start_time": "2024-07-08T10:36:41.530Z"
   },
   {
    "duration": 24,
    "start_time": "2024-07-08T10:36:41.874Z"
   },
   {
    "duration": 6,
    "start_time": "2024-07-08T10:36:41.901Z"
   },
   {
    "duration": 23,
    "start_time": "2024-07-08T10:36:41.909Z"
   },
   {
    "duration": 53,
    "start_time": "2024-07-08T10:36:41.934Z"
   },
   {
    "duration": 23,
    "start_time": "2024-07-08T10:36:41.990Z"
   },
   {
    "duration": 203,
    "start_time": "2024-07-08T10:36:42.015Z"
   },
   {
    "duration": 15,
    "start_time": "2024-07-08T10:36:42.220Z"
   },
   {
    "duration": 156,
    "start_time": "2024-07-08T10:36:42.238Z"
   },
   {
    "duration": 162,
    "start_time": "2024-07-08T10:36:42.396Z"
   },
   {
    "duration": 133,
    "start_time": "2024-07-08T10:36:42.559Z"
   },
   {
    "duration": 149,
    "start_time": "2024-07-08T10:36:42.694Z"
   },
   {
    "duration": 163,
    "start_time": "2024-07-08T10:36:42.845Z"
   },
   {
    "duration": 228,
    "start_time": "2024-07-08T10:36:43.010Z"
   },
   {
    "duration": 357,
    "start_time": "2024-07-08T10:36:43.240Z"
   },
   {
    "duration": 50,
    "start_time": "2024-07-08T10:36:43.599Z"
   },
   {
    "duration": 167,
    "start_time": "2024-07-08T10:36:43.652Z"
   },
   {
    "duration": 144,
    "start_time": "2024-07-08T10:36:43.822Z"
   },
   {
    "duration": 550,
    "start_time": "2024-07-08T10:36:43.968Z"
   },
   {
    "duration": 53,
    "start_time": "2024-07-08T10:36:44.520Z"
   },
   {
    "duration": 43,
    "start_time": "2024-07-08T10:36:44.575Z"
   },
   {
    "duration": 6,
    "start_time": "2024-07-08T10:36:44.620Z"
   },
   {
    "duration": 65,
    "start_time": "2024-07-08T10:36:44.628Z"
   },
   {
    "duration": 1923,
    "start_time": "2024-07-08T10:37:17.561Z"
   },
   {
    "duration": 117,
    "start_time": "2024-07-08T10:37:19.487Z"
   },
   {
    "duration": 27,
    "start_time": "2024-07-08T10:37:19.606Z"
   },
   {
    "duration": 5,
    "start_time": "2024-07-08T10:37:19.635Z"
   },
   {
    "duration": 19,
    "start_time": "2024-07-08T10:37:19.641Z"
   },
   {
    "duration": 37,
    "start_time": "2024-07-08T10:37:19.662Z"
   },
   {
    "duration": 16,
    "start_time": "2024-07-08T10:37:19.701Z"
   },
   {
    "duration": 213,
    "start_time": "2024-07-08T10:37:19.718Z"
   },
   {
    "duration": 14,
    "start_time": "2024-07-08T10:37:19.933Z"
   },
   {
    "duration": 203,
    "start_time": "2024-07-08T10:37:19.949Z"
   },
   {
    "duration": 203,
    "start_time": "2024-07-08T10:37:20.154Z"
   },
   {
    "duration": 141,
    "start_time": "2024-07-08T10:37:20.359Z"
   },
   {
    "duration": 158,
    "start_time": "2024-07-08T10:37:20.502Z"
   },
   {
    "duration": 171,
    "start_time": "2024-07-08T10:37:20.662Z"
   },
   {
    "duration": 217,
    "start_time": "2024-07-08T10:37:20.835Z"
   },
   {
    "duration": 362,
    "start_time": "2024-07-08T10:37:21.053Z"
   },
   {
    "duration": 47,
    "start_time": "2024-07-08T10:37:21.417Z"
   },
   {
    "duration": 151,
    "start_time": "2024-07-08T10:37:21.465Z"
   },
   {
    "duration": 152,
    "start_time": "2024-07-08T10:37:21.617Z"
   },
   {
    "duration": 621,
    "start_time": "2024-07-08T10:37:21.772Z"
   },
   {
    "duration": 63,
    "start_time": "2024-07-08T10:37:22.395Z"
   },
   {
    "duration": 55,
    "start_time": "2024-07-08T10:37:22.460Z"
   },
   {
    "duration": 8,
    "start_time": "2024-07-08T10:37:22.517Z"
   },
   {
    "duration": 46,
    "start_time": "2024-07-08T10:37:22.527Z"
   },
   {
    "duration": 6,
    "start_time": "2024-07-08T10:38:44.636Z"
   },
   {
    "duration": 10,
    "start_time": "2024-07-08T10:39:11.617Z"
   },
   {
    "duration": 11,
    "start_time": "2024-07-08T10:39:25.714Z"
   }
  ],
  "kernelspec": {
   "display_name": "base",
   "language": "python",
   "name": "python3"
  },
  "language_info": {
   "codemirror_mode": {
    "name": "ipython",
    "version": 3
   },
   "file_extension": ".py",
   "mimetype": "text/x-python",
   "name": "python",
   "nbconvert_exporter": "python",
   "pygments_lexer": "ipython3",
   "version": "3.11.5"
  },
  "toc": {
   "base_numbering": 1,
   "nav_menu": {},
   "number_sections": true,
   "sideBar": true,
   "skip_h1_title": true,
   "title_cell": "Table of Contents",
   "title_sidebar": "Contents",
   "toc_cell": false,
   "toc_position": {},
   "toc_section_display": true,
   "toc_window_display": false
  }
 },
 "nbformat": 4,
 "nbformat_minor": 5
}
